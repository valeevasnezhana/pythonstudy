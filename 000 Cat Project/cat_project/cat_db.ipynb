{
 "cells": [
  {
   "cell_type": "code",
   "execution_count": 1,
   "id": "e0f5b047",
   "metadata": {},
   "outputs": [],
   "source": [
    "import sqlite3\n"
   ]
  },
  {
   "cell_type": "code",
   "execution_count": 22,
   "id": "40e4f02c",
   "metadata": {},
   "outputs": [],
   "source": [
    "connection = sqlite3.connect('cats.db')\n",
    "cursor = connection.cursor()\n",
    "connection.execute(\"\"\"CREATE TABLE \"breeds\" (\n",
    "\t\"breedid\"\tINTEGER NOT NULL,\n",
    "\t\"name\"\tTEXT NOT NULL,\n",
    "\t\"description\"\tTEXT,\n",
    "\tPRIMARY KEY(\"breedid\" AUTOINCREMENT)\n",
    ")\n",
    "\"\"\")\n",
    "connection.execute(\"\"\"CREATE TABLE \"catperson\" (\n",
    "\t\"personid\"\tINTEGER NOT NULL,\n",
    "\t\"name\"\tTEXT NOT NULL,\n",
    "\t\"breedid\"\tINTEGER NOT NULL,\n",
    "\t\"birth\"\tTEXT,\n",
    "\t\"description\"\tTEXT,\n",
    "\t\"subbreedid\"\tINT,\n",
    "\tPRIMARY KEY(\"personid\" AUTOINCREMENT)\n",
    "\tFOREIGN KEY (breedid)  REFERENCES breeds (breedid)\n",
    "\tFOREIGN KEY (subbreedid)  REFERENCES subbreeds (subbreedid)\n",
    ")\n",
    "\"\"\")\n",
    "connection.execute(\"\"\"CREATE TABLE \"subbreeds\" (\n",
    "\t\"subbreedid\"\tINTEGER NOT NULL,\n",
    "\t\"name\"\tTEXT NOT NULL,    \n",
    "\t\"breedid\"\tINTEGER,\n",
    "\t\"description\"\tTEXT,\n",
    "\tPRIMARY KEY(\"subbreedid\" AUTOINCREMENT)\n",
    "\tFOREIGN KEY (breedid)  REFERENCES breeds (breedid)\n",
    ")\n",
    "\"\"\")\n",
    "\n",
    "connection.commit() "
   ]
  },
  {
   "cell_type": "code",
   "execution_count": 23,
   "id": "8673ebe8",
   "metadata": {},
   "outputs": [],
   "source": [
    "connection = sqlite3.connect('cats.db')\n",
    "cursor = connection.cursor()\n",
    "lulu = (1, \"Лулу\", 1, \"январь 2017\", \"Наглый пожиратель с мордой, похожей на дно пластиковой бутылки\", \"NULL\")\n",
    "cursor.execute(\"INSERT INTO catperson VALUES(?, ?, ?, ?, ?, ?)\", lulu)\n",
    "# cursor.execute(\"\"\"DELETE FROM catperson\n",
    "# WHERE personid = 2\"\"\")\n",
    "connection.commit() "
   ]
  },
  {
   "cell_type": "code",
   "execution_count": 24,
   "id": "94828555",
   "metadata": {},
   "outputs": [],
   "source": [
    "cat = (2, \"Лала\", 1, \"январь 2017\", \"Коротколапое сердитое облачко\", \"NULL\")\n",
    "cursor.execute(\"INSERT INTO catperson VALUES(?, ?, ?, ?, ?, ?)\", cat)\n",
    "connection.commit() "
   ]
  },
  {
   "cell_type": "code",
   "execution_count": 25,
   "id": "732ab4ea-5fcc-4c24-b2a9-3823ff6095b7",
   "metadata": {},
   "outputs": [],
   "source": [
    "breed = (2, \"Шотландская кошка\", \"Европейская порода домашних кошек с круглой головой\")\n",
    "cursor.execute(\"INSERT INTO breeds VALUES(?, ?, ?)\", breed)\n",
    "connection.commit() "
   ]
  },
  {
   "cell_type": "code",
   "execution_count": 26,
   "id": "f7b9346c-b496-40c9-ad19-0e9891e30215",
   "metadata": {},
   "outputs": [],
   "source": [
    "breed = (1, \"Манчкин\", \"Порода кошек с короткими лапами\")\n",
    "cursor.execute(\"INSERT INTO breeds VALUES(?, ?, ?)\", breed)\n",
    "connection.commit() "
   ]
  },
  {
   "cell_type": "code",
   "execution_count": 27,
   "id": "ff490936-e021-4fb9-baf9-1c01ed068deb",
   "metadata": {},
   "outputs": [],
   "source": [
    "sb = (1, \"Шотландская вислоухая\", 2, \"порода домашних кошек с характерными загнутыми вперёд и вниз ушами\")\n",
    "cursor.execute(\"INSERT INTO subbreeds VALUES(?, ?, ?, ?)\", sb)\n",
    "connection.commit() "
   ]
  },
  {
   "cell_type": "code",
   "execution_count": 28,
   "id": "b1ec5b5a-c5ba-49d3-bea8-c10207cb89f8",
   "metadata": {},
   "outputs": [],
   "source": [
    "sb = (2, \"Шотландская прямоухая\", 2, \"порода кошек с плюшевым мехом\")\n",
    "cursor.execute(\"INSERT INTO subbreeds VALUES(?, ?, ?, ?)\", sb)\n",
    "connection.commit() "
   ]
  },
  {
   "cell_type": "code",
   "execution_count": 30,
   "id": "9bc64232-eb10-41f5-9368-1acce0919be0",
   "metadata": {},
   "outputs": [],
   "source": [
    "sb = (4, \"Хайленд страйт\", 2, \"порода длинношерстных кошек с прямыми ушами\")\n",
    "cursor.execute(\"INSERT INTO subbreeds VALUES(?, ?, ?, ?)\", sb)\n",
    "connection.commit() "
   ]
  },
  {
   "cell_type": "code",
   "execution_count": 34,
   "id": "cf3981e5-9855-4596-bc72-d3b9fb5baa76",
   "metadata": {},
   "outputs": [],
   "source": []
  },
  {
   "cell_type": "code",
   "execution_count": 2,
   "id": "d4b350ed-4f6c-4fd5-88be-9ebab0e1b1f5",
   "metadata": {},
   "outputs": [],
   "source": [
    "connection = sqlite3.connect('cats.db')\n",
    "cursor = connection.cursor()\n",
    "cursor.execute(\"\"\"DELETE FROM catperson\n",
    "WHERE personid = 3\"\"\")\n",
    "cat = (3, \"Сури\", 2, \"сентябрь 2012\", \"Прекрасный потат, мать трех гигантских плюшевых москитов\", 2)\n",
    "cursor.execute(\"INSERT INTO catperson VALUES(?, ?, ?, ?, ?, ?)\", cat)\n",
    "connection.commit() "
   ]
  },
  {
   "cell_type": "code",
   "execution_count": null,
   "id": "41bff7d8-963d-4455-adc3-5f563846991b",
   "metadata": {},
   "outputs": [],
   "source": []
  }
 ],
 "metadata": {
  "kernelspec": {
   "display_name": "Python 3 (ipykernel)",
   "language": "python",
   "name": "python3"
  },
  "language_info": {
   "codemirror_mode": {
    "name": "ipython",
    "version": 3
   },
   "file_extension": ".py",
   "mimetype": "text/x-python",
   "name": "python",
   "nbconvert_exporter": "python",
   "pygments_lexer": "ipython3",
   "version": "3.9.12"
  }
 },
 "nbformat": 4,
 "nbformat_minor": 5
}
