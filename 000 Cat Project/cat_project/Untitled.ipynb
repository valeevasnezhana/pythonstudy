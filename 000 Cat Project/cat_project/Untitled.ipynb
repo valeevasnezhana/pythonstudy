{
 "cells": [
  {
   "cell_type": "code",
   "execution_count": 6,
   "id": "6ab993d2-3b09-4755-9504-ced1fd72f91d",
   "metadata": {},
   "outputs": [
    {
     "name": "stdout",
     "output_type": "stream",
     "text": [
      "имя: Сури\n",
      "описание: Прекрасный потат, мать трех гигантских плюшевых москитов\n",
      "порода: Шотландская кошка\n",
      "    \n"
     ]
    }
   ],
   "source": [
    "from cat_request import get_cat_info\n",
    "print(get_cat_info(\"Сури\"))"
   ]
  }
 ],
 "metadata": {
  "kernelspec": {
   "display_name": "Python 3 (ipykernel)",
   "language": "python",
   "name": "python3"
  },
  "language_info": {
   "codemirror_mode": {
    "name": "ipython",
    "version": 3
   },
   "file_extension": ".py",
   "mimetype": "text/x-python",
   "name": "python",
   "nbconvert_exporter": "python",
   "pygments_lexer": "ipython3",
   "version": "3.9.12"
  }
 },
 "nbformat": 4,
 "nbformat_minor": 5
}
