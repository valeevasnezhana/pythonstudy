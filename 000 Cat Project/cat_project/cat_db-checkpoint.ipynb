{
 "cells": [
  {
   "cell_type": "code",
   "execution_count": 1,
   "id": "e0f5b047",
   "metadata": {},
   "outputs": [],
   "source": [
    "import sqlite3\n"
   ]
  },
  {
   "cell_type": "code",
   "execution_count": 18,
   "id": "40e4f02c",
   "metadata": {},
   "outputs": [
    {
     "ename": "OperationalError",
     "evalue": "duplicate column name: description",
     "output_type": "error",
     "traceback": [
      "\u001b[1;31m---------------------------------------------------------------------------\u001b[0m",
      "\u001b[1;31mOperationalError\u001b[0m                          Traceback (most recent call last)",
      "\u001b[1;32m~\\AppData\\Local\\Temp\\ipykernel_12988\\3006976402.py\u001b[0m in \u001b[0;36m<module>\u001b[1;34m\u001b[0m\n\u001b[0;32m      7\u001b[0m    birth TEXT);\n\u001b[0;32m      8\u001b[0m \"\"\")\n\u001b[1;32m----> 9\u001b[1;33m cursor.execute(\"\"\"ALTER TABLE catperson\n\u001b[0m\u001b[0;32m     10\u001b[0m \u001b[0mADD\u001b[0m \u001b[0mCOLUMN\u001b[0m \u001b[0mdescription\u001b[0m \u001b[0mTEXT\u001b[0m \u001b[0mNOT\u001b[0m \u001b[0mNULL\u001b[0m\u001b[1;33m;\u001b[0m\u001b[1;33m\u001b[0m\u001b[1;33m\u001b[0m\u001b[0m\n\u001b[0;32m     11\u001b[0m \"\"\")\n",
      "\u001b[1;31mOperationalError\u001b[0m: duplicate column name: description"
     ]
    }
   ],
   "source": [
    "connection = sqlite3.connect('cats.db')\n",
    "cursor = connection.cursor()\n",
    "cursor.execute(\"\"\"CREATE TABLE IF NOT EXISTS catperson(\n",
    "   personid INT PRIMARY KEY,\n",
    "   name TEXT,\n",
    "   breedid INT,\n",
    "   birth TEXT);\n",
    "\"\"\")\n",
    "cursor.execute(\"\"\"ALTER TABLE catperson\n",
    "ADD COLUMN description TEXT NOT NULL;\n",
    "\"\"\")\n",
    "cursor.execute(\"\"\"ALTER TABLE catperson\n",
    "ADD COLUMN subbreed INT;\n",
    "\"\"\")\n",
    "connection.commit()"
   ]
  },
  {
   "cell_type": "code",
   "execution_count": 15,
   "id": "df2930ec",
   "metadata": {},
   "outputs": [],
   "source": [
    "cursor.execute(\"\"\"CREATE TABLE IF NOT EXISTS breeds(\n",
    "   breedid INT PRIMARY KEY,\n",
    "   name TEXT,\n",
    "   description TEXT);\n",
    "\"\"\")\n",
    "connection.commit()"
   ]
  },
  {
   "cell_type": "code",
   "execution_count": 6,
   "id": "ba558536",
   "metadata": {},
   "outputs": [],
   "source": [
    "cursor.execute(\"\"\"CREATE TABLE IF NOT EXISTS subbreeds(\n",
    "   subbreedid INT PRIMARY KEY,\n",
    "   breedid INT\n",
    "   name TEXT,\n",
    "   description TEXT);\n",
    "\"\"\")\n",
    "connection.commit()"
   ]
  },
  {
   "cell_type": "code",
   "execution_count": 28,
   "id": "8673ebe8",
   "metadata": {},
   "outputs": [],
   "source": [
    "lulu = (2, \"Лулу\", 1, \"январь 2017\", \"Наглый пожиратель с мордой, похожей на дно пластиковой бутылки\", \"NULL\")\n",
    "cursor.execute(\"INSERT INTO catperson VALUES(?, ?, ?, ?, ?, ?);\", lulu)\n",
    "# cursor.execute(\"\"\"DELETE FROM catperson\n",
    "# WHERE personid = 2\"\"\")\n",
    "connection.commit()"
   ]
  },
  {
   "cell_type": "code",
   "execution_count": 32,
   "id": "94828555",
   "metadata": {},
   "outputs": [],
   "source": [
    "breed = (2, \"Шотландская\", \"Порода домашних кошек среднего размера с круглой головой\")\n",
    "cursor.execute(\"INSERT INTO breeds VALUES(?, ?, ?);\", breed)\n",
    "connection.commit()\n"
   ]
  }
 ],
 "metadata": {
  "kernelspec": {
   "display_name": "Python 3 (ipykernel)",
   "language": "python",
   "name": "python3"
  },
  "language_info": {
   "codemirror_mode": {
    "name": "ipython",
    "version": 3
   },
   "file_extension": ".py",
   "mimetype": "text/x-python",
   "name": "python",
   "nbconvert_exporter": "python",
   "pygments_lexer": "ipython3",
   "version": "3.9.13"
  }
 },
 "nbformat": 4,
 "nbformat_minor": 5
}
