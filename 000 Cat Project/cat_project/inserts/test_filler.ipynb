{
 "cells": [
  {
   "cell_type": "code",
   "execution_count": 3,
   "id": "63d5483b-679b-4065-bb7b-22bca6356756",
   "metadata": {},
   "outputs": [
    {
     "name": "stdout",
     "output_type": "stream",
     "text": [
      "[('breedid', 'INTEGER'), ('name', 'TEXT'), ('description', 'TEXT')]\n"
     ]
    }
   ],
   "source": [
    "from filler import get_column_info\n",
    "print(get_column_info('breeds'))"
   ]
  },
  {
   "cell_type": "code",
   "execution_count": 4,
   "id": "0ee3ad99-1b88-4dfe-8601-3589615025a5",
   "metadata": {},
   "outputs": [
    {
     "ename": "OperationalError",
     "evalue": "database is locked",
     "output_type": "error",
     "traceback": [
      "\u001b[1;31m---------------------------------------------------------------------------\u001b[0m",
      "\u001b[1;31mOperationalError\u001b[0m                          Traceback (most recent call last)",
      "Input \u001b[1;32mIn [4]\u001b[0m, in \u001b[0;36m<cell line: 3>\u001b[1;34m()\u001b[0m\n\u001b[0;32m      1\u001b[0m \u001b[38;5;28;01mfrom\u001b[39;00m \u001b[38;5;21;01mfiller\u001b[39;00m \u001b[38;5;28;01mimport\u001b[39;00m fill_one_row\n\u001b[0;32m      2\u001b[0m breed \u001b[38;5;241m=\u001b[39m (\u001b[38;5;241m3\u001b[39m, \u001b[38;5;124m\"\u001b[39m\u001b[38;5;124mРэгдолл\u001b[39m\u001b[38;5;124m\"\u001b[39m, \u001b[38;5;124m\"\u001b[39m\u001b[38;5;124mПорода крупных полудлинношерстных домашник кошек с голубыми глазами\u001b[39m\u001b[38;5;124m\"\u001b[39m)\n\u001b[1;32m----> 3\u001b[0m \u001b[43mfill_one_row\u001b[49m\u001b[43m(\u001b[49m\u001b[38;5;124;43m'\u001b[39;49m\u001b[38;5;124;43mbreeds\u001b[39;49m\u001b[38;5;124;43m'\u001b[39;49m\u001b[43m,\u001b[49m\u001b[43m \u001b[49m\u001b[43mbreed\u001b[49m\u001b[43m)\u001b[49m\n",
      "File \u001b[1;32m~\\anaconda3\\envs\\public-2021-fall-master\\000 Cat Project\\cat_project\\inserts\\filler.py:64\u001b[0m, in \u001b[0;36mfill_one_row\u001b[1;34m(table_name, info)\u001b[0m\n\u001b[0;32m     62\u001b[0m \u001b[38;5;28;01mdef\u001b[39;00m \u001b[38;5;21mfill_one_row\u001b[39m(table_name, info: \u001b[38;5;28mtuple\u001b[39m):\n\u001b[0;32m     63\u001b[0m     handler \u001b[38;5;241m=\u001b[39m DataBaseFiller(\u001b[38;5;28mstr\u001b[39m(Path(\u001b[38;5;18m__file__\u001b[39m)\u001b[38;5;241m.\u001b[39mparent \u001b[38;5;241m/\u001b[39m \u001b[38;5;124m'\u001b[39m\u001b[38;5;124mcats.db\u001b[39m\u001b[38;5;124m'\u001b[39m))\n\u001b[1;32m---> 64\u001b[0m     \u001b[43mhandler\u001b[49m\u001b[38;5;241;43m.\u001b[39;49m\u001b[43mfill_one_row\u001b[49m\u001b[43m(\u001b[49m\u001b[43mtable_name\u001b[49m\u001b[43m,\u001b[49m\u001b[43m \u001b[49m\u001b[43minfo\u001b[49m\u001b[43m)\u001b[49m\n\u001b[0;32m     65\u001b[0m     handler\u001b[38;5;241m.\u001b[39mteardown()\n",
      "File \u001b[1;32m~\\anaconda3\\envs\\public-2021-fall-master\\000 Cat Project\\cat_project\\inserts\\filler.py:51\u001b[0m, in \u001b[0;36mDataBaseFiller.fill_one_row\u001b[1;34m(self, table_name, info)\u001b[0m\n\u001b[0;32m     49\u001b[0m \u001b[38;5;28;01mdef\u001b[39;00m \u001b[38;5;21mfill_one_row\u001b[39m(\u001b[38;5;28mself\u001b[39m, table_name, info: \u001b[38;5;28mtuple\u001b[39m):\n\u001b[0;32m     50\u001b[0m     _str \u001b[38;5;241m=\u001b[39m \u001b[38;5;124m\"\u001b[39m\u001b[38;5;124m?, \u001b[39m\u001b[38;5;124m\"\u001b[39m \u001b[38;5;241m*\u001b[39m (\u001b[38;5;28mlen\u001b[39m(info) \u001b[38;5;241m-\u001b[39m \u001b[38;5;241m1\u001b[39m) \u001b[38;5;241m+\u001b[39m \u001b[38;5;124m\"\u001b[39m\u001b[38;5;124m?\u001b[39m\u001b[38;5;124m\"\u001b[39m\n\u001b[1;32m---> 51\u001b[0m     \u001b[38;5;28;43msuper\u001b[39;49m\u001b[43m(\u001b[49m\u001b[43m)\u001b[49m\u001b[38;5;241;43m.\u001b[39;49m\u001b[43m_execute_str_tuple\u001b[49m\u001b[43m(\u001b[49m\u001b[38;5;124;43mf\u001b[39;49m\u001b[38;5;124;43m\"\u001b[39;49m\u001b[38;5;124;43mINSERT INTO \u001b[39;49m\u001b[38;5;132;43;01m{\u001b[39;49;00m\u001b[43mtable_name\u001b[49m\u001b[38;5;132;43;01m}\u001b[39;49;00m\u001b[38;5;124;43m VALUES(\u001b[39;49m\u001b[38;5;132;43;01m{\u001b[39;49;00m\u001b[43m_str\u001b[49m\u001b[38;5;132;43;01m}\u001b[39;49;00m\u001b[38;5;124;43m)\u001b[39;49m\u001b[38;5;124;43m\"\u001b[39;49m\u001b[43m,\u001b[49m\u001b[43m \u001b[49m\u001b[43minfo\u001b[49m\u001b[43m)\u001b[49m\n\u001b[0;32m     52\u001b[0m     \u001b[38;5;28msuper\u001b[39m()\u001b[38;5;241m.\u001b[39m_commit()\n",
      "File \u001b[1;32m~\\anaconda3\\envs\\public-2021-fall-master\\000 Cat Project\\cat_project\\inserts\\filler.py:26\u001b[0m, in \u001b[0;36mDataBaseHandler._execute_str_tuple\u001b[1;34m(self, query, tpl)\u001b[0m\n\u001b[0;32m     24\u001b[0m \u001b[38;5;28;01mdef\u001b[39;00m \u001b[38;5;21m_execute_str_tuple\u001b[39m(\u001b[38;5;28mself\u001b[39m, query: \u001b[38;5;28mstr\u001b[39m, tpl: \u001b[38;5;28mtuple\u001b[39m):\n\u001b[0;32m     25\u001b[0m     cursor \u001b[38;5;241m=\u001b[39m \u001b[38;5;28mself\u001b[39m\u001b[38;5;241m.\u001b[39mconnection\u001b[38;5;241m.\u001b[39mcursor()\n\u001b[1;32m---> 26\u001b[0m     \u001b[43mcursor\u001b[49m\u001b[38;5;241;43m.\u001b[39;49m\u001b[43mexecute\u001b[49m\u001b[43m(\u001b[49m\u001b[43mquery\u001b[49m\u001b[43m,\u001b[49m\u001b[43m \u001b[49m\u001b[43mtpl\u001b[49m\u001b[43m)\u001b[49m\n\u001b[0;32m     27\u001b[0m     \u001b[38;5;28;01mreturn\u001b[39;00m cursor\u001b[38;5;241m.\u001b[39mfetchall()\n",
      "\u001b[1;31mOperationalError\u001b[0m: database is locked"
     ]
    }
   ],
   "source": [
    "from filler import fill_one_row\n",
    "breed = (3, \"Рэгдолл\", \"Порода крупных полудлинношерстных домашник кошек с голубыми глазами\")\n",
    "fill_one_row('breeds', breed)"
   ]
  },
  {
   "cell_type": "code",
   "execution_count": 7,
   "id": "bd850298-fe9f-4e4c-8214-991a1a227368",
   "metadata": {},
   "outputs": [
    {
     "data": {
      "text/html": [
       "<div>\n",
       "<style scoped>\n",
       "    .dataframe tbody tr th:only-of-type {\n",
       "        vertical-align: middle;\n",
       "    }\n",
       "\n",
       "    .dataframe tbody tr th {\n",
       "        vertical-align: top;\n",
       "    }\n",
       "\n",
       "    .dataframe thead th {\n",
       "        text-align: right;\n",
       "    }\n",
       "</style>\n",
       "<table border=\"1\" class=\"dataframe\">\n",
       "  <thead>\n",
       "    <tr style=\"text-align: right;\">\n",
       "      <th></th>\n",
       "      <th>id</th>\n",
       "      <th>name</th>\n",
       "      <th>description</th>\n",
       "    </tr>\n",
       "  </thead>\n",
       "  <tbody>\n",
       "    <tr>\n",
       "      <th>0</th>\n",
       "      <td>1</td>\n",
       "      <td>Абиссинская</td>\n",
       "      <td>NaN</td>\n",
       "    </tr>\n",
       "    <tr>\n",
       "      <th>1</th>\n",
       "      <td>2</td>\n",
       "      <td>Австралийский мист</td>\n",
       "      <td>NaN</td>\n",
       "    </tr>\n",
       "    <tr>\n",
       "      <th>2</th>\n",
       "      <td>3</td>\n",
       "      <td>Азиатская табби</td>\n",
       "      <td>NaN</td>\n",
       "    </tr>\n",
       "    <tr>\n",
       "      <th>3</th>\n",
       "      <td>4</td>\n",
       "      <td>Американская жесткошёрстная</td>\n",
       "      <td>NaN</td>\n",
       "    </tr>\n",
       "    <tr>\n",
       "      <th>4</th>\n",
       "      <td>5</td>\n",
       "      <td>Американская короткошерстная</td>\n",
       "      <td>Кошки, выведенные для борьбы с грызунами. Имею...</td>\n",
       "    </tr>\n",
       "    <tr>\n",
       "      <th>...</th>\n",
       "      <td>...</td>\n",
       "      <td>...</td>\n",
       "      <td>...</td>\n",
       "    </tr>\n",
       "    <tr>\n",
       "      <th>87</th>\n",
       "      <td>88</td>\n",
       "      <td>Эгейская</td>\n",
       "      <td>NaN</td>\n",
       "    </tr>\n",
       "    <tr>\n",
       "      <th>88</th>\n",
       "      <td>89</td>\n",
       "      <td>Экзотическая</td>\n",
       "      <td>Порода выведена как короткошерстный аналог пер...</td>\n",
       "    </tr>\n",
       "    <tr>\n",
       "      <th>89</th>\n",
       "      <td>90</td>\n",
       "      <td>Яванез (Яванская кошка)</td>\n",
       "      <td>NaN</td>\n",
       "    </tr>\n",
       "    <tr>\n",
       "      <th>90</th>\n",
       "      <td>91</td>\n",
       "      <td>Японский бобтейл длинношёрстный</td>\n",
       "      <td>NaN</td>\n",
       "    </tr>\n",
       "    <tr>\n",
       "      <th>91</th>\n",
       "      <td>92</td>\n",
       "      <td>Японский бобтейл короткошёрстный</td>\n",
       "      <td>NaN</td>\n",
       "    </tr>\n",
       "  </tbody>\n",
       "</table>\n",
       "<p>92 rows × 3 columns</p>\n",
       "</div>"
      ],
      "text/plain": [
       "    id                              name  \\\n",
       "0    1                       Абиссинская   \n",
       "1    2                Австралийский мист   \n",
       "2    3                   Азиатская табби   \n",
       "3    4       Американская жесткошёрстная   \n",
       "4    5      Американская короткошерстная   \n",
       "..  ..                               ...   \n",
       "87  88                          Эгейская   \n",
       "88  89                      Экзотическая   \n",
       "89  90           Яванез (Яванская кошка)   \n",
       "90  91   Японский бобтейл длинношёрстный   \n",
       "91  92  Японский бобтейл короткошёрстный   \n",
       "\n",
       "                                          description  \n",
       "0                                                 NaN  \n",
       "1                                                 NaN  \n",
       "2                                                 NaN  \n",
       "3                                                 NaN  \n",
       "4   Кошки, выведенные для борьбы с грызунами. Имею...  \n",
       "..                                                ...  \n",
       "87                                                NaN  \n",
       "88  Порода выведена как короткошерстный аналог пер...  \n",
       "89                                                NaN  \n",
       "90                                                NaN  \n",
       "91                                                NaN  \n",
       "\n",
       "[92 rows x 3 columns]"
      ]
     },
     "execution_count": 7,
     "metadata": {},
     "output_type": "execute_result"
    }
   ],
   "source": [
    "import pandas as pd\n",
    "import\n",
    "from excel_reader import _df\n",
    "_df().to_sql(“user”, con=con, if_exists=”append”, index=False)\n",
    "\n"
   ]
  },
  {
   "cell_type": "code",
   "execution_count": null,
   "id": "62a61e00-492a-4d2c-af14-d56dfbfa5922",
   "metadata": {},
   "outputs": [],
   "source": []
  }
 ],
 "metadata": {
  "kernelspec": {
   "display_name": "Python 3 (ipykernel)",
   "language": "python",
   "name": "python3"
  },
  "language_info": {
   "codemirror_mode": {
    "name": "ipython",
    "version": 3
   },
   "file_extension": ".py",
   "mimetype": "text/x-python",
   "name": "python",
   "nbconvert_exporter": "python",
   "pygments_lexer": "ipython3",
   "version": "3.9.12"
  }
 },
 "nbformat": 4,
 "nbformat_minor": 5
}
