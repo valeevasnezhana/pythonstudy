{
 "cells": [
  {
   "cell_type": "code",
   "execution_count": 21,
   "metadata": {
    "collapsed": true,
    "pycharm": {
     "name": "#%%\n"
    }
   },
   "outputs": [
    {
     "ename": "TypeError",
     "evalue": "unhashable type: 'numpy.ndarray'",
     "output_type": "error",
     "traceback": [
      "\u001B[1;31m---------------------------------------------------------------------------\u001B[0m",
      "\u001B[1;31mTypeError\u001B[0m                                 Traceback (most recent call last)",
      "Input \u001B[1;32mIn [21]\u001B[0m, in \u001B[0;36m<cell line: 18>\u001B[1;34m()\u001B[0m\n\u001B[0;32m     15\u001B[0m     result \u001B[38;5;241m=\u001B[39m my_func_list(input_list)\n\u001B[0;32m     16\u001B[0m     \u001B[38;5;28mprint\u001B[39m(result)\n\u001B[1;32m---> 18\u001B[0m \u001B[43mtest_azanov_2\u001B[49m\u001B[43m(\u001B[49m\u001B[43m)\u001B[49m\n",
      "Input \u001B[1;32mIn [21]\u001B[0m, in \u001B[0;36mtest_azanov_2\u001B[1;34m()\u001B[0m\n\u001B[0;32m     13\u001B[0m \u001B[38;5;28;01mglobal\u001B[39;00m counter\n\u001B[0;32m     14\u001B[0m input_list \u001B[38;5;241m=\u001B[39m np\u001B[38;5;241m.\u001B[39marray([\u001B[38;5;241m1\u001B[39m,\u001B[38;5;241m2\u001B[39m,\u001B[38;5;241m3\u001B[39m])\n\u001B[1;32m---> 15\u001B[0m result \u001B[38;5;241m=\u001B[39m \u001B[43mmy_func_list\u001B[49m\u001B[43m(\u001B[49m\u001B[43minput_list\u001B[49m\u001B[43m)\u001B[49m\n\u001B[0;32m     16\u001B[0m \u001B[38;5;28mprint\u001B[39m(result)\n",
      "\u001B[1;31mTypeError\u001B[0m: unhashable type: 'numpy.ndarray'"
     ]
    }
   ],
   "source": [
    "from functools import lru_cache\n",
    "import numpy as np\n",
    "counter = 0\n",
    "\n",
    "\n",
    "@lru_cache(10)\n",
    "def my_func_list(arr: np.array) -> str:\n",
    "    global counter\n",
    "    counter += 1\n",
    "    return f\"my_string{arr}\"\n",
    "\n",
    "def test_azanov_2():\n",
    "    global counter\n",
    "    input_list = np.array([1,2,3])\n",
    "    result = my_func_list(input_list)\n",
    "    print(result)\n",
    "\n",
    "test_azanov_2()"
   ]
  }
 ],
 "metadata": {
  "kernelspec": {
   "display_name": "Python 3",
   "language": "python",
   "name": "python3"
  },
  "language_info": {
   "codemirror_mode": {
    "name": "ipython",
    "version": 2
   },
   "file_extension": ".py",
   "mimetype": "text/x-python",
   "name": "python",
   "nbconvert_exporter": "python",
   "pygments_lexer": "ipython2",
   "version": "2.7.6"
  }
 },
 "nbformat": 4,
 "nbformat_minor": 0
}