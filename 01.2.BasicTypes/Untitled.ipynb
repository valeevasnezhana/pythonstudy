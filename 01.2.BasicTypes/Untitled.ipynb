{
 "cells": [
  {
   "cell_type": "code",
   "execution_count": 69,
   "id": "74e3ae32-b975-47bd-9914-77a5b7ee66a2",
   "metadata": {},
   "outputs": [
    {
     "name": "stdout",
     "output_type": "stream",
     "text": [
      "0 0\n",
      "6 4\n",
      "3 2\n",
      "  \n",
      "4 0\n",
      "6 2\n",
      "3 2\n",
      "___\n",
      "4 0\n",
      "6 2\n",
      "5 1\n",
      "  \n",
      "4 2\n",
      "5 2\n",
      "5 1\n",
      "___\n"
     ]
    }
   ],
   "source": [
    "\n",
    "\n",
    "\n",
    "    nums1 = [1, 2, 3, 4, 6, 7]\n",
    "    nums2 = [1, 5, 7, 8]\n",
    "    if nums1 and not nums2:\n",
    "        print ((nums1[len(nums1) // 2] + nums1[(len(nums1) - 1) // 2]) / 2)\n",
    "    if nums2 and not nums1:\n",
    "        print ((nums2[len(nums2) // 2] + nums2[(len(nums2) - 1) // 2]) / 2)\n",
    "    left1, left2 = 0, 0\n",
    "    right1, right2 = len(nums1), len(nums2)\n",
    "    counter = 0\n",
    "    median = 0.0\n",
    "    while left1 < right1 and left2 < right2:\n",
    "        mid1 = (left1 + right1) // 2\n",
    "        mid2 = (left2 + right2) // 2\n",
    "        print(left1, left2)\n",
    "        print(right1, right2)\n",
    "        print(mid1, mid2)\n",
    "        print(\"  \")\n",
    "        if nums1[mid1] == nums2[mid2]:\n",
    "            if mid1 * mid2 == 0:\n",
    "                print(float(nums1[mid1]))\n",
    "            elif nums1[mid1 - 1] < nums2[mid2 - 1]:\n",
    "                print((nums2[mid2 - 1] + nums1[mid1]) / 2)\n",
    "            else:\n",
    "                print((nums2[mid2] + nums1[mid1 - 1]) / 2)\n",
    "        elif nums1[mid1] < nums2[mid2]:\n",
    "            left1 = mid1 + 1\n",
    "            right2 = mid2\n",
    "        else:\n",
    "            left2 = mid2 + 1\n",
    "            right1 = mid1\n",
    "        print(left1, left2)\n",
    "        print(right1, right2)\n",
    "        print(mid1, mid2)\n",
    "        print(\"___\")\n",
    "        if left1 + left2 == ((len(nums1) + len(nums2) + 1) // 2):\n",
    "            print(\"kotiki\")\n",
    "        if left1 + left2 == ((len(nums1) + len(nums2)) // 2):\n",
    "            print(\"четн\")"
   ]
  },
  {
   "cell_type": "code",
   "execution_count": null,
   "id": "f5145d77-9f98-4586-bbf2-765d38f3f064",
   "metadata": {},
   "outputs": [],
   "source": [
    "    left1 = 0\n",
    "    right1 = len(nums1)\n",
    "    median = 0.0\n",
    " \n",
    "    while (left1 <= right1):\n",
    "        i = int((left1 + right1) / 2)\n",
    "        j = int(((len(nums1) + len(nums2) + 1) / 2) - i)\n",
    "        if (i < len(nums1) and j > 0 and nums2[j - 1] > nums1[i]):\n",
    "            left1 = i + 1\n",
    "        elif (i > 0 and j < len(nums2) and nums2[j] < nums1[i - 1]):\n",
    "            max_index = i - 1\n",
    "        else:\n",
    "            if (i == 0):\n",
    "                median = nums2[j - 1]\n",
    "            elif (j == 0):\n",
    "                median = nums1[i - 1]\n",
    "            else:\n",
    "                median = maximum(a[i - 1], b[j - 1])\n",
    "            break \n",
    "    if (((len(nums1) + len(nums2)) % 2 == 1):\n",
    "        return median\n",
    "\n",
    "    if (i == len(nums1)):\n",
    "        return ((median + nums2[j]) / 2.0)\n",
    "\n",
    "    if (j == len(nums2)):\n",
    "        return ((median + nums1[i]) / 2.0)\n",
    " \n",
    "    return ((median + minimum(nums1[i], nums2[j])) / 2.0)"
   ]
  }
 ],
 "metadata": {
  "kernelspec": {
   "display_name": "Python 3 (ipykernel)",
   "language": "python",
   "name": "python3"
  },
  "language_info": {
   "codemirror_mode": {
    "name": "ipython",
    "version": 3
   },
   "file_extension": ".py",
   "mimetype": "text/x-python",
   "name": "python",
   "nbconvert_exporter": "python",
   "pygments_lexer": "ipython3",
   "version": "3.9.7"
  }
 },
 "nbformat": 4,
 "nbformat_minor": 5
}
