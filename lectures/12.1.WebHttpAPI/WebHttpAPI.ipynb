{
 "cells": [
  {
   "cell_type": "markdown",
   "metadata": {
    "slideshow": {
     "slide_type": "slide"
    }
   },
   "source": [
    "<center>\n",
    "<img src=\"https://upload.wikimedia.org/wikipedia/commons/a/a8/%D0%9B%D0%9E%D0%93%D0%9E_%D0%A8%D0%90%D0%94.png\" width=400/>\n",
    "    <b style=\"font-size: 30px\">Python. Web, HTTP, API</b>\n",
    "    <br/>\n",
    "    <br/>\n",
    "<b style=\"font-size: 20px\">Комендантян Андрей</b>\n",
    "</center>"
   ]
  },
  {
   "cell_type": "markdown",
   "metadata": {
    "slideshow": {
     "slide_type": "slide"
    }
   },
   "source": [
    "# Устройство компьютерных сетей"
   ]
  },
  {
   "cell_type": "markdown",
   "metadata": {
    "slideshow": {
     "slide_type": "fragment"
    }
   },
   "source": [
    "- Обмен данными по сети устроен многоуровнево – от тока в проводах до картинки в браузере\n",
    "- Для того что бы использовать сеть, как правило, не требуется хорошо разбираться во всех уровнях"
   ]
  },
  {
   "cell_type": "markdown",
   "metadata": {
    "slideshow": {
     "slide_type": "slide"
    }
   },
   "source": [
    "# Сетевые модели: OSI vs TCP/IP"
   ]
  },
  {
   "cell_type": "markdown",
   "metadata": {
    "slideshow": {
     "slide_type": "-"
    }
   },
   "source": [
    "1. OSI эталонная модель\n",
    "2. TCP/IP более практическая\n",
    "\n",
    "![osivstcpip](https://zametkinapolyah.ru/wp-content/uploads/2018/05/03-%D0%A1%D1%80%D0%B0%D0%B2%D0%BD%D0%B5%D0%BD%D0%B8%D0%B5-%D0%BC%D0%BE%D0%B4%D0%B5%D0%BB%D0%B5%D0%B9-OSI-7-%D0%B8-TCP-IP.png)"
   ]
  },
  {
   "cell_type": "markdown",
   "metadata": {
    "slideshow": {
     "slide_type": "slide"
    }
   },
   "source": [
    "# Сеть на низком уровне"
   ]
  },
  {
   "cell_type": "markdown",
   "metadata": {
    "slideshow": {
     "slide_type": "-"
    }
   },
   "source": [
    "<div align=\"center\"><img src=\"https://www.cisco.com/c/dam/en/us/support/docs/switches/catalyst-3750-series-switches/91672-catl3-wol-vlans1.gif\" width=\"350px\" /></div>"
   ]
  },
  {
   "cell_type": "markdown",
   "metadata": {
    "slideshow": {
     "slide_type": "fragment"
    }
   },
   "source": [
    "Если хочется разобраться, то [\"Сети для самых маленьких\"](https://linkmeup.gitbook.io/sdsm/) | [[оно же на habr]](https://habr.com/ru/post/134892/)"
   ]
  },
  {
   "cell_type": "markdown",
   "metadata": {},
   "source": [
    "## Ethernet, IP, TCP и все-все-все"
   ]
  },
  {
   "cell_type": "markdown",
   "metadata": {
    "slideshow": {
     "slide_type": "slide"
    }
   },
   "source": [
    "![tt](./TCP_IP.svg)"
   ]
  },
  {
   "cell_type": "markdown",
   "metadata": {
    "slideshow": {
     "slide_type": "slide"
    }
   },
   "source": [
    "## IPv4 vs IPv6"
   ]
  },
  {
   "cell_type": "markdown",
   "metadata": {
    "slideshow": {
     "slide_type": "-"
    }
   },
   "source": [
    "![ip](https://i.ytimg.com/vi/D1avGPpSJHs/maxresdefault.jpg)"
   ]
  },
  {
   "cell_type": "markdown",
   "metadata": {
    "slideshow": {
     "slide_type": "slide"
    }
   },
   "source": [
    "# TCP vs UDP\n",
    "- UDP просто посылает сообщения и не заботится о надёжности доставки или порядке прихода сообщений\n",
    "- TCP выполняет \"рукопожатие\" между клиентами и может гарантировать надёжность доставки и порядок прихода сообщений"
   ]
  },
  {
   "cell_type": "markdown",
   "metadata": {
    "slideshow": {
     "slide_type": "-"
    }
   },
   "source": [
    "![TCPvsUDP](https://wiki.merionet.ru/images/tcp-i-udp-v-chem-raznica/1.png)"
   ]
  },
  {
   "cell_type": "markdown",
   "metadata": {
    "slideshow": {
     "slide_type": "slide"
    }
   },
   "source": [
    "## Порты\n",
    "- 16-битное число, позволяющее идентифицировать конкретный процесс на машине с одним и тем же IP-адресом"
   ]
  },
  {
   "cell_type": "markdown",
   "metadata": {
    "slideshow": {
     "slide_type": "-"
    }
   },
   "source": [
    "<div align=\"center\"><img src=\"TCP.png\" width=\"450px\" /></div>"
   ]
  },
  {
   "cell_type": "markdown",
   "metadata": {
    "slideshow": {
     "slide_type": "slide"
    }
   },
   "source": [
    "# DNS"
   ]
  },
  {
   "cell_type": "markdown",
   "metadata": {
    "slideshow": {
     "slide_type": "-"
    }
   },
   "source": [
    "![](basics-of-dns-resolving-with-cache.jpg)"
   ]
  },
  {
   "cell_type": "code",
   "execution_count": 285,
   "metadata": {
    "slideshow": {
     "slide_type": "slide"
    }
   },
   "outputs": [],
   "source": [
    "import socket"
   ]
  },
  {
   "cell_type": "code",
   "execution_count": 286,
   "metadata": {
    "slideshow": {
     "slide_type": "fragment"
    }
   },
   "outputs": [
    {
     "data": {
      "text/plain": [
       "'87.250.250.242'"
      ]
     },
     "execution_count": 286,
     "metadata": {},
     "output_type": "execute_result"
    }
   ],
   "source": [
    "socket.gethostbyname('ya.ru')"
   ]
  },
  {
   "cell_type": "markdown",
   "metadata": {
    "slideshow": {
     "slide_type": "slide"
    }
   },
   "source": [
    "# URL: Uniform Resource Locator"
   ]
  },
  {
   "cell_type": "markdown",
   "metadata": {
    "slideshow": {
     "slide_type": "-"
    }
   },
   "source": [
    "![url](http1-url-structure.png)"
   ]
  },
  {
   "cell_type": "markdown",
   "metadata": {
    "slideshow": {
     "slide_type": "slide"
    }
   },
   "source": [
    "# HTTP: HyperText Transfer Protocol \n",
    "- протокол прикладного уровня (поверх TCP) на базе которого работают многие приложения"
   ]
  },
  {
   "cell_type": "markdown",
   "metadata": {
    "slideshow": {
     "slide_type": "slide"
    }
   },
   "source": [
    "## HTTP-request"
   ]
  },
  {
   "cell_type": "markdown",
   "metadata": {
    "slideshow": {
     "slide_type": "-"
    }
   },
   "source": [
    "![request](HTTP_Request.png)"
   ]
  },
  {
   "cell_type": "markdown",
   "metadata": {
    "slideshow": {
     "slide_type": "slide"
    }
   },
   "source": [
    "## HTTP methods"
   ]
  },
  {
   "cell_type": "markdown",
   "metadata": {
    "slideshow": {
     "slide_type": "-"
    }
   },
   "source": [
    "![http-methods](HTTP_methods.jpg)"
   ]
  },
  {
   "cell_type": "markdown",
   "metadata": {
    "slideshow": {
     "slide_type": "slide"
    }
   },
   "source": [
    "## HTTP Headers"
   ]
  },
  {
   "cell_type": "markdown",
   "metadata": {
    "slideshow": {
     "slide_type": "-"
    }
   },
   "source": [
    "![request-headers](HTTP_Request_Headers2.png)"
   ]
  },
  {
   "cell_type": "markdown",
   "metadata": {
    "slideshow": {
     "slide_type": "fragment"
    }
   },
   "source": [
    "[Mozilla docs: list of HTTP headers](https://developer.mozilla.org/en-US/docs/Web/HTTP/Headers)"
   ]
  },
  {
   "cell_type": "markdown",
   "metadata": {
    "slideshow": {
     "slide_type": "slide"
    }
   },
   "source": [
    "## HTTP-response"
   ]
  },
  {
   "cell_type": "markdown",
   "metadata": {
    "slideshow": {
     "slide_type": "fragment"
    }
   },
   "source": [
    "![response](HTTP_Response.png)"
   ]
  },
  {
   "cell_type": "markdown",
   "metadata": {
    "slideshow": {
     "slide_type": "slide"
    }
   },
   "source": [
    "<div align=\"center\"><img src=\"HTTP_statuses.jpeg\" width=\"700px\" /></div>"
   ]
  },
  {
   "cell_type": "markdown",
   "metadata": {
    "slideshow": {
     "slide_type": "fragment"
    }
   },
   "source": [
    "[Mozilla docs: list of HTTP statuses](https://developer.mozilla.org/en-US/docs/Web/HTTP/Status)"
   ]
  },
  {
   "cell_type": "markdown",
   "metadata": {
    "slideshow": {
     "slide_type": "slide"
    }
   },
   "source": [
    "## HTTP response"
   ]
  },
  {
   "cell_type": "markdown",
   "metadata": {
    "slideshow": {
     "slide_type": "-"
    }
   },
   "source": [
    "![response-headers](HTTP_Response_Headers2.png)"
   ]
  },
  {
   "cell_type": "markdown",
   "metadata": {
    "slideshow": {
     "slide_type": "slide"
    }
   },
   "source": [
    "## send via UDP "
   ]
  },
  {
   "cell_type": "code",
   "execution_count": 289,
   "metadata": {},
   "outputs": [],
   "source": [
    "addr = '127.0.0.1', 6001  # host, port"
   ]
  },
  {
   "cell_type": "code",
   "execution_count": 288,
   "metadata": {
    "slideshow": {
     "slide_type": "fragment"
    }
   },
   "outputs": [
    {
     "name": "stdout",
     "output_type": "stream",
     "text": [
      "b'Hello,' ('127.0.0.1', 38717)\n",
      "b'world!' ('127.0.0.1', 38717)\n",
      "b'How' ('127.0.0.1', 58153)\n",
      "b'are' ('127.0.0.1', 58153)\n",
      "b'you?' ('127.0.0.1', 58153)\n"
     ]
    }
   ],
   "source": [
    "sock_one = socket.socket(\n",
    "    socket.AF_INET,  # Address Family _ INET\n",
    "    socket.SOCK_DGRAM  # ≈ \"use UDP\"\n",
    ")\n",
    "sock_one.bind(addr)\n",
    "\n",
    "with socket.socket(socket.AF_INET, socket.SOCK_DGRAM) as sock_two:\n",
    "    sock_two.sendto(b'Hello,', addr)\n",
    "    sock_two.sendto(b'world!', addr)\n",
    "    \n",
    "with socket.socket(socket.AF_INET, socket.SOCK_DGRAM) as sock_three:\n",
    "    sock_three.sendto(b'How', addr)\n",
    "    sock_three.sendto(b'are', addr)\n",
    "    sock_three.sendto(b'you?', addr)\n",
    "\n",
    "for _ in range(5):\n",
    "    data, addr = sock_one.recvfrom(1024)\n",
    "    print(data, addr)\n",
    "\n",
    "sock_one.close()"
   ]
  },
  {
   "cell_type": "markdown",
   "metadata": {
    "slideshow": {
     "slide_type": "slide"
    }
   },
   "source": [
    "## send via TCP"
   ]
  },
  {
   "cell_type": "code",
   "execution_count": 297,
   "metadata": {
    "slideshow": {
     "slide_type": "-"
    }
   },
   "outputs": [],
   "source": [
    "addr = '87.250.250.242', 80  # host, port (standart port for HTTP)"
   ]
  },
  {
   "cell_type": "code",
   "execution_count": 298,
   "metadata": {
    "slideshow": {
     "slide_type": "fragment"
    }
   },
   "outputs": [],
   "source": [
    "request = b'\\r\\n'.join([\n",
    "    b'GET / HTTP/1.1',\n",
    "    # b'Host: ya.ru',\n",
    "]) + b'\\r\\n\\r\\n'\n",
    "\n",
    "with socket.socket(\n",
    "    family=socket.AF_INET,  # Adress Family _ INET\n",
    "    type=socket.SOCK_STREAM  # ≈ \"use TCP\"\n",
    ") as sock:\n",
    "    sock.connect(addr)\n",
    "    sock.sendall(request)\n",
    "    response = sock.recv(1024)"
   ]
  },
  {
   "cell_type": "code",
   "execution_count": 299,
   "metadata": {
    "scrolled": true,
    "slideshow": {
     "slide_type": "fragment"
    }
   },
   "outputs": [
    {
     "name": "stdout",
     "output_type": "stream",
     "text": [
      "HTTP/1.1 406 Not acceptable\r\n",
      "Connection: Close\r\n",
      "Content-Length: 0\r\n",
      "\r\n",
      "\n"
     ]
    }
   ],
   "source": [
    "print(response.decode('latin1'))"
   ]
  },
  {
   "cell_type": "markdown",
   "metadata": {
    "slideshow": {
     "slide_type": "slide"
    }
   },
   "source": [
    "# SSL / TLS"
   ]
  },
  {
   "cell_type": "markdown",
   "metadata": {
    "slideshow": {
     "slide_type": "-"
    }
   },
   "source": [
    "<div align=\"center\"><img src=\"what-is-ssl-handshake.svg\" width=\"700px\" /></div>"
   ]
  },
  {
   "cell_type": "code",
   "execution_count": 117,
   "metadata": {
    "slideshow": {
     "slide_type": "slide"
    }
   },
   "outputs": [],
   "source": [
    "import ssl\n",
    "from functools import partial"
   ]
  },
  {
   "cell_type": "code",
   "execution_count": 118,
   "metadata": {
    "slideshow": {
     "slide_type": "fragment"
    }
   },
   "outputs": [],
   "source": [
    "context = ssl.create_default_context()\n",
    "saddr = addr[0], 443  # HTTPS standart port"
   ]
  },
  {
   "cell_type": "code",
   "execution_count": 119,
   "metadata": {
    "slideshow": {
     "slide_type": "fragment"
    }
   },
   "outputs": [],
   "source": [
    "chunks = []\n",
    "\n",
    "with socket.create_connection(saddr) as sock:\n",
    "    with context.wrap_socket(sock, server_hostname='ya.ru') as ssock:\n",
    "        ssock.sendall(request)\n",
    "        for chunk in iter(partial(ssock.recv, 2048), b''):\n",
    "            chunks.append(chunk)\n",
    "\n",
    "response = b''.join(chunks)"
   ]
  },
  {
   "cell_type": "code",
   "execution_count": 120,
   "metadata": {
    "slideshow": {
     "slide_type": "fragment"
    }
   },
   "outputs": [],
   "source": [
    "headers, data = response.split(b'\\r\\n\\r\\n')"
   ]
  },
  {
   "cell_type": "markdown",
   "metadata": {
    "slideshow": {
     "slide_type": "fragment"
    }
   },
   "source": [
    "[Больше о работе с сокетами в питоне](https://docs.python.org/3/howto/sockets.html)"
   ]
  },
  {
   "cell_type": "code",
   "execution_count": 81,
   "metadata": {
    "slideshow": {
     "slide_type": "slide"
    }
   },
   "outputs": [
    {
     "name": "stdout",
     "output_type": "stream",
     "text": [
      "HTTP/1.1 200 Ok\r\n",
      "Accept-CH: Viewport-Width, DPR, Device-Memory, RTT, Downlink, ECT\r\n",
      "Accept-CH-Lifetime: 31536000\r\n",
      "Cache-Control: no-cache,no-store,max-age=0,must-revalidate\r\n",
      "Connection: Close\r\n",
      "Content-Length: 60503\r\n",
      "Content-Security-Policy: connect-src https://*.mc.yandex.ru https://adstat.yandex.ru https://mc.admetrica.ru https://mc.yandex.ru https://yandex.ru;default-src 'none';frame-src 'self' https://mc.yandex.md https://mc.yandex.ru;img-src 'self' data: https://*.mc.yandex.ru https://*.verify.yandex.ru https://adstat.yandex.ru https://avatars.mds.yandex.net https://favicon.yandex.net https://mc.admetrica.ru https://mc.yandex.com https://mc.yandex.ru https://yandex.ru https://yastatic.net;report-uri https://csp.yandex.net/csp?project=morda&from=morda.yaru.ru&showid=1637625094.66897.99897.105126&h=stable-morda-yaru-man-yp-9&yandexuid=4033075521637625094;script-src 'unsafe-inline' https://*.mc.yandex.ru https://adstat.yandex.ru https://mc.yandex.ru https://yandex.ru https://yastatic.net;style-src 'unsafe-inline'\r\n",
      "Content-Type: text/html; charset=UTF-8\r\n",
      "Date: Mon, 22 Nov 2021 23:51:34 GMT\r\n",
      "Expires: Mon, 22 Nov 2021 23:51:35 GMT\r\n",
      "Last-Modified: Mon, 22 Nov 2021 23:51:35 GMT\r\n",
      "P3P: policyref=\"/w3c/p3p.xml\", CP=\"NON DSP ADM DEV PSD IVDo OUR IND STP PHY PRE NAV UNI\"\r\n",
      "Set-Cookie: yp=1640217095.ygu.1; Expires=Thu, 20-Nov-2031 23:51:34 GMT; Domain=.ya.ru; Path=/\r\n",
      "Set-Cookie: mda=0; Expires=Tue, 22-Mar-2022 23:51:34 GMT; Domain=.ya.ru; Path=/\r\n",
      "Set-Cookie: yandex_gid=213; Expires=Wed, 22-Dec-2021 23:51:34 GMT; Domain=.ya.ru; Path=/\r\n",
      "Set-Cookie: yandexuid=4033075521637625094; Expires=Thu, 20-Nov-2031 23:51:34 GMT; Domain=.ya.ru; Path=/\r\n",
      "Set-Cookie: is_gdpr=0; Path=/; Domain=.ya.ru; Expires=Wed, 22 Nov 2023 23:51:34 GMT\r\n",
      "Set-Cookie: is_gdpr_b=COC+ehDCUigC; Path=/; Domain=.ya.ru; Expires=Wed, 22 Nov 2023 23:51:34 GMT\r\n",
      "Set-Cookie: _yasc=x+wwkdey2zfp3Yn1JxfVipdxEfIT+mV9JS6475s2eKB57g==; domain=.ya.ru; path=/; expires=Wed, 22-Dec-2021 23:51:34 GMT; secure\r\n",
      "Set-Cookie: i=93hX5GC7V/JvlRoi/uHdLkMPtAn92qOwmqc+0IIpR0+xe/hJdvqCyuOLYH3L7ko5XIP+ehST0brsnLXbCtr5H8M5smA=; Expires=Wed, 22-Nov-2023 23:51:34 GMT; Domain=.ya.ru; Path=/; Secure; HttpOnly\r\n",
      "X-Content-Type-Options: nosniff\r\n",
      "X-Frame-Options: DENY\n"
     ]
    }
   ],
   "source": [
    "print(headers.decode('latin1'))"
   ]
  },
  {
   "cell_type": "code",
   "execution_count": 82,
   "metadata": {
    "slideshow": {
     "slide_type": "slide"
    }
   },
   "outputs": [],
   "source": [
    "html = data.decode('utf-8')"
   ]
  },
  {
   "cell_type": "code",
   "execution_count": 83,
   "metadata": {
    "slideshow": {
     "slide_type": "slide"
    }
   },
   "outputs": [
    {
     "data": {
      "text/plain": [
       "'<!DOCTYPE html><html   class=\"i-ua_js_no i-ua_css_standart i-ua_browser_ i-ua_browser-engine_ i-ua_browser_desktop i-ua_platform_other\"  lang=\"ru\"><head  xmlns:og=\"http://ogp.me/ns#\"><meta http-equiv=\\'Content-Type\\' content=\\'text/html;charset=UTF-8\\'><title>Яндекс</title><link rel=\"preload\" href=\"//yastatic.net/jquery/1.8.3/jquery.min.js\" as=\"script\" crossorigin=\"anonymous\"><link rel=\"preload\" href=\"//yastatic.net/s3/home-static/_/K/k/uSVxlDs06YE3bN4Vn8mwL3WHk.js\" as=\"script\" crossorigin=\"anonymous\"><link rel'"
      ]
     },
     "execution_count": 83,
     "metadata": {},
     "output_type": "execute_result"
    }
   ],
   "source": [
    "html[:512]"
   ]
  },
  {
   "cell_type": "markdown",
   "metadata": {
    "slideshow": {
     "slide_type": "slide"
    }
   },
   "source": [
    "# Requests: HTTP for Humans\n",
    "- удобная библиотека для работы с HTTP в python"
   ]
  },
  {
   "cell_type": "code",
   "execution_count": 124,
   "metadata": {
    "slideshow": {
     "slide_type": "slide"
    }
   },
   "outputs": [],
   "source": [
    "import requests"
   ]
  },
  {
   "cell_type": "code",
   "execution_count": 125,
   "metadata": {
    "slideshow": {
     "slide_type": "fragment"
    }
   },
   "outputs": [],
   "source": [
    "response = requests.get('http://ya.ru')"
   ]
  },
  {
   "cell_type": "code",
   "execution_count": 126,
   "metadata": {
    "slideshow": {
     "slide_type": "fragment"
    }
   },
   "outputs": [
    {
     "data": {
      "text/plain": [
       "200"
      ]
     },
     "execution_count": 126,
     "metadata": {},
     "output_type": "execute_result"
    }
   ],
   "source": [
    "response.status_code"
   ]
  },
  {
   "cell_type": "code",
   "execution_count": 127,
   "metadata": {
    "slideshow": {
     "slide_type": "fragment"
    }
   },
   "outputs": [
    {
     "data": {
      "text/plain": [
       "'<!DOCTYPE html><html   class=\"i-ua_js_no i-ua_css_standart i-ua_browser_unknown i-ua_browser-engine_unknown i-ua_browser_desktop i-ua_platform_other\"  lang=\"ru\"><head  xmlns:og=\"http://ogp.me/ns#\"><meta http-equiv=\\'Content-Type\\' content=\\'text/html;charset=UTF-8\\'><title>Яндекс</title><link rel=\"preload\" href=\"//yastatic.net/jquery/1.8.3/jquery.min.js\" as=\"script\" crossorigin=\"anonymous\"><link rel=\"preload\" href=\"//yastatic.net/s3/home-static/_/K/k/uSVxlDs06YE3bN4Vn8mwL3WHk.js\" as=\"script\" crossorigin=\"anonym'"
      ]
     },
     "execution_count": 127,
     "metadata": {},
     "output_type": "execute_result"
    }
   ],
   "source": [
    "response.text[:512]"
   ]
  },
  {
   "cell_type": "code",
   "execution_count": 128,
   "metadata": {
    "slideshow": {
     "slide_type": "fragment"
    }
   },
   "outputs": [],
   "source": [
    "html = response.text"
   ]
  },
  {
   "cell_type": "markdown",
   "metadata": {
    "slideshow": {
     "slide_type": "slide"
    }
   },
   "source": [
    "# HTML: HyperText Markup Language"
   ]
  },
  {
   "cell_type": "markdown",
   "metadata": {
    "slideshow": {
     "slide_type": "-"
    }
   },
   "source": [
    "![html](https://blogwork.ru/wp-content/uploads/2016/08/blogwork-HTML-tag-p-for-Beginner.png)"
   ]
  },
  {
   "cell_type": "markdown",
   "metadata": {
    "slideshow": {
     "slide_type": "slide"
    }
   },
   "source": [
    "![html+css+js](https://miro.medium.com/max/3328/1*l4xICbIIYlz1OTymWCoUTw.jpeg)"
   ]
  },
  {
   "cell_type": "code",
   "execution_count": 129,
   "metadata": {
    "slideshow": {
     "slide_type": "slide"
    }
   },
   "outputs": [],
   "source": [
    "from bs4 import BeautifulSoup"
   ]
  },
  {
   "cell_type": "code",
   "execution_count": 149,
   "metadata": {
    "slideshow": {
     "slide_type": "fragment"
    }
   },
   "outputs": [],
   "source": [
    "html = requests.get('http://example.com').text"
   ]
  },
  {
   "cell_type": "code",
   "execution_count": 174,
   "metadata": {
    "slideshow": {
     "slide_type": "fragment"
    }
   },
   "outputs": [],
   "source": [
    "soup = BeautifulSoup(html)"
   ]
  },
  {
   "cell_type": "code",
   "execution_count": 175,
   "metadata": {
    "slideshow": {
     "slide_type": "fragment"
    }
   },
   "outputs": [
    {
     "name": "stdout",
     "output_type": "stream",
     "text": [
      "<style type=\"text/css\">\n",
      "    body {\n",
      "        background-color: #f0f0f2;\n",
      "        margin: 0;\n",
      "        padding: 0;\n",
      "        font-family: -apple-system, system-ui, BlinkMacSystemFont, \"Segoe UI\", \"Open Sans\", \"Helvetica Neue\", Helvetica, Arial, sans-serif;\n",
      "        \n",
      "    }\n",
      "    div {\n",
      "        width: 600px;\n",
      "        margin: 5em auto;\n",
      "        padding: 2em;\n",
      "        background-color: #fdfdff;\n",
      "        border-radius: 0.5em;\n",
      "        box-shadow: 2px 3px 7px 2px rgba(0,0,0,0.02);\n",
      "    }\n",
      "    a:link, a:visited {\n",
      "        color: #38488f;\n",
      "        text-decoration: none;\n",
      "    }\n",
      "    @media (max-width: 700px) {\n",
      "        div {\n",
      "            margin: 0 auto;\n",
      "            width: auto;\n",
      "        }\n",
      "    }\n",
      "    </style>\n"
     ]
    }
   ],
   "source": [
    "css_element = soup.html.head.style\n",
    "print(css_element)\n",
    "css_element.clear()"
   ]
  },
  {
   "cell_type": "code",
   "execution_count": 176,
   "metadata": {
    "slideshow": {
     "slide_type": "slide"
    }
   },
   "outputs": [
    {
     "name": "stdout",
     "output_type": "stream",
     "text": [
      "<!DOCTYPE html>\n",
      "<html>\n",
      " <head>\n",
      "  <title>\n",
      "   Example Domain\n",
      "  </title>\n",
      "  <meta charset=\"utf-8\"/>\n",
      "  <meta content=\"text/html; charset=utf-8\" http-equiv=\"Content-type\"/>\n",
      "  <meta content=\"width=device-width, initial-scale=1\" name=\"viewport\"/>\n",
      "  <style type=\"text/css\">\n",
      "  </style>\n",
      " </head>\n",
      " <body>\n",
      "  <div>\n",
      "   <h1>\n",
      "    Example Domain\n",
      "   </h1>\n",
      "   <p>\n",
      "    This domain is for use in illustrative examples in documents. You may use this\n",
      "    domain in literature without prior coordination or asking for permission.\n",
      "   </p>\n",
      "   <p>\n",
      "    <a href=\"https://www.iana.org/domains/example\">\n",
      "     More information...\n",
      "    </a>\n",
      "   </p>\n",
      "  </div>\n",
      " </body>\n",
      "</html>\n",
      "\n"
     ]
    }
   ],
   "source": [
    "print(soup.prettify())"
   ]
  },
  {
   "cell_type": "code",
   "execution_count": 177,
   "metadata": {
    "slideshow": {
     "slide_type": "slide"
    }
   },
   "outputs": [],
   "source": [
    "html = soup.html"
   ]
  },
  {
   "cell_type": "code",
   "execution_count": 178,
   "metadata": {
    "slideshow": {
     "slide_type": "fragment"
    }
   },
   "outputs": [
    {
     "data": {
      "text/plain": [
       "<title>Example Domain</title>"
      ]
     },
     "execution_count": 178,
     "metadata": {},
     "output_type": "execute_result"
    }
   ],
   "source": [
    "html.head.title"
   ]
  },
  {
   "cell_type": "code",
   "execution_count": 179,
   "metadata": {
    "slideshow": {
     "slide_type": "fragment"
    }
   },
   "outputs": [
    {
     "data": {
      "text/plain": [
       "[<meta charset=\"utf-8\"/>,\n",
       " <meta content=\"text/html; charset=utf-8\" http-equiv=\"Content-type\"/>,\n",
       " <meta content=\"width=device-width, initial-scale=1\" name=\"viewport\"/>]"
      ]
     },
     "execution_count": 179,
     "metadata": {},
     "output_type": "execute_result"
    }
   ],
   "source": [
    "html.head.findAll('meta')"
   ]
  },
  {
   "cell_type": "code",
   "execution_count": 180,
   "metadata": {
    "slideshow": {
     "slide_type": "fragment"
    }
   },
   "outputs": [
    {
     "data": {
      "text/plain": [
       "[<p>This domain is for use in illustrative examples in documents. You may use this\n",
       "     domain in literature without prior coordination or asking for permission.</p>,\n",
       " <p><a href=\"https://www.iana.org/domains/example\">More information...</a></p>]"
      ]
     },
     "execution_count": 180,
     "metadata": {},
     "output_type": "execute_result"
    }
   ],
   "source": [
    "paragraphs = html.findAll('p')\n",
    "paragraphs"
   ]
  },
  {
   "cell_type": "code",
   "execution_count": 181,
   "metadata": {
    "slideshow": {
     "slide_type": "slide"
    }
   },
   "outputs": [
    {
     "data": {
      "text/plain": [
       "[<a href=\"https://www.iana.org/domains/example\">More information...</a>]"
      ]
     },
     "execution_count": 181,
     "metadata": {},
     "output_type": "execute_result"
    }
   ],
   "source": [
    "links = html.findAll('a')\n",
    "links"
   ]
  },
  {
   "cell_type": "code",
   "execution_count": 182,
   "metadata": {
    "slideshow": {
     "slide_type": "fragment"
    }
   },
   "outputs": [
    {
     "name": "stdout",
     "output_type": "stream",
     "text": [
      "More information... https://www.iana.org/domains/example\n"
     ]
    }
   ],
   "source": [
    "for link in links:\n",
    "    print(link.text, link['href'])"
   ]
  },
  {
   "cell_type": "code",
   "execution_count": 302,
   "metadata": {
    "slideshow": {
     "slide_type": "slide"
    }
   },
   "outputs": [],
   "source": [
    "#  https://www.google.ru/search?q=test\n",
    "SEARCH_URL = 'https://www.google.ru/search'\n",
    "response = requests.get(SEARCH_URL, params={'q': 'test'})\n",
    "response.raise_for_status()  # requests умеет сам обрабатывать HTTP-ошибки и бросасть исключения, если всё плохо"
   ]
  },
  {
   "cell_type": "code",
   "execution_count": 303,
   "metadata": {
    "slideshow": {
     "slide_type": "fragment"
    }
   },
   "outputs": [],
   "source": [
    "soup = BeautifulSoup(response.text)  "
   ]
  },
  {
   "cell_type": "code",
   "execution_count": 304,
   "metadata": {
    "slideshow": {
     "slide_type": "fragment"
    }
   },
   "outputs": [
    {
     "name": "stdout",
     "output_type": "stream",
     "text": [
      "Speedtest от Ookla - Глобальный тест скорости ... https://www.idrlabs.com/tests.php\n",
      "Test IT https://www.idrlabs.com/tests.php\n",
      "Тесты на коронавирус и иммунитет бесплатно в Москве https://www.idrlabs.com/tests.php\n",
      "Тест - Википедия https://www.idrlabs.com/tests.php\n",
      "test - Википедия https://www.idrlabs.com/tests.php\n",
      "Test My Site - Think with Google https://www.idrlabs.com/tests.php\n",
      "Let's test: Онлайн система тестирования и конструктор тестов https://www.idrlabs.com/tests.php\n",
      "Speedtest - тест скорости интернета https://www.idrlabs.com/tests.php\n",
      "Fast.com: Internet Speed Test https://www.idrlabs.com/tests.php\n",
      "Тест скорости печати онлайн - Ratatype https://www.idrlabs.com/tests.php\n",
      "Похожие запросы https://www.idrlabs.com/tests.php\n"
     ]
    }
   ],
   "source": [
    "for elem in soup.find_all('div', attrs={'class': 'ZINbbc'}):\n",
    "    descr = elem.find('div', attrs={'class': 'BNeawe'})\n",
    "    if not descr:\n",
    "        continue\n",
    "    print(descr.text, link['href'])"
   ]
  },
  {
   "cell_type": "code",
   "execution_count": 305,
   "metadata": {
    "slideshow": {
     "slide_type": "slide"
    }
   },
   "outputs": [],
   "source": [
    "SEARCH_URL = 'https://duckduckgo.com/html'  # версия сайта без /html работает только с JavaScript\n",
    "                                            # распарсить google.com не получилось...\n",
    "response = requests.get(\n",
    "    \"https://duckduckgo.com/html\", params={'q': 'test'},\n",
    "    headers={'user-agent': 'Mozilla/5.0 (X11; Linux x86_64) '\n",
    "                           'AppleWebKit/537.36 (KHTML, like Gecko) '\n",
    "                           'Chrome/77.0.3865.121 '\n",
    "                           'Safari/537.36'}\n",
    ")\n",
    "response.raise_for_status()"
   ]
  },
  {
   "cell_type": "code",
   "execution_count": 227,
   "metadata": {
    "slideshow": {
     "slide_type": "fragment"
    }
   },
   "outputs": [],
   "source": [
    "soup = BeautifulSoup(response.text)"
   ]
  },
  {
   "cell_type": "code",
   "execution_count": 306,
   "metadata": {
    "slideshow": {
     "slide_type": "fragment"
    }
   },
   "outputs": [],
   "source": [
    "from IPython.display import display, HTML"
   ]
  },
  {
   "cell_type": "code",
   "execution_count": 238,
   "metadata": {
    "scrolled": false,
    "slideshow": {
     "slide_type": "slide"
    }
   },
   "outputs": [
    {
     "data": {
      "text/html": [
       "<a class=\"result__a\" href=\"https://www.speedtest.net/\" rel=\"nofollow\">Remove ads on Speedtest.net for life</a>"
      ],
      "text/plain": [
       "<IPython.core.display.HTML object>"
      ]
     },
     "metadata": {},
     "output_type": "display_data"
    },
    {
     "data": {
      "text/html": [
       "<a class=\"result__a\" href=\"https://en.wikipedia.org/wiki/Test\" rel=\"nofollow\">Test - Wikipedia</a>"
      ],
      "text/plain": [
       "<IPython.core.display.HTML object>"
      ]
     },
     "metadata": {},
     "output_type": "display_data"
    },
    {
     "data": {
      "text/html": [
       "<a class=\"result__a\" href=\"https://onlinetestpad.com/ru/tests\" rel=\"nofollow\">Тесты онлайн | Online Test Pad</a>"
      ],
      "text/plain": [
       "<IPython.core.display.HTML object>"
      ]
     },
     "metadata": {},
     "output_type": "display_data"
    },
    {
     "data": {
      "text/html": [
       "<a class=\"result__a\" href=\"https://www.123test.com/all-tests/\" rel=\"nofollow\">All online tests available at 123test.com</a>"
      ],
      "text/plain": [
       "<IPython.core.display.HTML object>"
      ]
     },
     "metadata": {},
     "output_type": "display_data"
    },
    {
     "data": {
      "text/html": [
       "<a class=\"result__a\" href=\"https://TestEdu.ru/test/\" rel=\"nofollow\">Предметы | Образовательные тесты</a>"
      ],
      "text/plain": [
       "<IPython.core.display.HTML object>"
      ]
     },
     "metadata": {},
     "output_type": "display_data"
    },
    {
     "data": {
      "text/html": [
       "<a class=\"result__a\" href=\"https://tests.com/\" rel=\"nofollow\">Tests.com Practice Tests</a>"
      ],
      "text/plain": [
       "<IPython.core.display.HTML object>"
      ]
     },
     "metadata": {},
     "output_type": "display_data"
    },
    {
     "data": {
      "text/html": [
       "<a class=\"result__a\" href=\"https://www.allthetests.com/\" rel=\"nofollow\">AllTheTests: Fun Quizzes, Personality Tests, Love, IQ and much more</a>"
      ],
      "text/plain": [
       "<IPython.core.display.HTML object>"
      ]
     },
     "metadata": {},
     "output_type": "display_data"
    },
    {
     "data": {
      "text/html": [
       "<a class=\"result__a\" href=\"https://speedtestt.ru/\" rel=\"nofollow\">Speedtest - Проверить Скорость Интернета Онлайн - Тест...</a>"
      ],
      "text/plain": [
       "<IPython.core.display.HTML object>"
      ]
     },
     "metadata": {},
     "output_type": "display_data"
    },
    {
     "data": {
      "text/html": [
       "<a class=\"result__a\" href=\"https://test.tankionline.com/\" rel=\"nofollow\">Tanki Online Test Server</a>"
      ],
      "text/plain": [
       "<IPython.core.display.HTML object>"
      ]
     },
     "metadata": {},
     "output_type": "display_data"
    },
    {
     "data": {
      "text/html": [
       "<a class=\"result__a\" href=\"https://test-english.com/\" rel=\"nofollow\">Test English - Prepare for your English exam</a>"
      ],
      "text/plain": [
       "<IPython.core.display.HTML object>"
      ]
     },
     "metadata": {},
     "output_type": "display_data"
    },
    {
     "data": {
      "text/html": [
       "<a class=\"result__a\" href=\"https://onedio.com/testler\" rel=\"nofollow\">Test | Onedio - Sosyal İçerik Platformu</a>"
      ],
      "text/plain": [
       "<IPython.core.display.HTML object>"
      ]
     },
     "metadata": {},
     "output_type": "display_data"
    },
    {
     "data": {
      "text/html": [
       "<a class=\"result__a\" href=\"https://WooordHunt.ru/word/test\" rel=\"nofollow\">Test: перевод, произношение, транскрипция, примеры...</a>"
      ],
      "text/plain": [
       "<IPython.core.display.HTML object>"
      ]
     },
     "metadata": {},
     "output_type": "display_data"
    },
    {
     "data": {
      "text/html": [
       "<a class=\"result__a\" href=\"https://testserver.pro/index\" rel=\"nofollow\">Тесты и тестирования онлайн - TestServer.PRO</a>"
      ],
      "text/plain": [
       "<IPython.core.display.HTML object>"
      ]
     },
     "metadata": {},
     "output_type": "display_data"
    },
    {
     "data": {
      "text/html": [
       "<a class=\"result__a\" href=\"https://speedtest.su/\" rel=\"nofollow\">Speedtest Проверка Скорости Интернета... | Speedtest</a>"
      ],
      "text/plain": [
       "<IPython.core.display.HTML object>"
      ]
     },
     "metadata": {},
     "output_type": "display_data"
    },
    {
     "data": {
      "text/html": [
       "<a class=\"result__a\" href=\"https://iq2u.ru/tests\" rel=\"nofollow\">Бесплатные онлайн тесты. Проверь свою эрудированность!</a>"
      ],
      "text/plain": [
       "<IPython.core.display.HTML object>"
      ]
     },
     "metadata": {},
     "output_type": "display_data"
    },
    {
     "data": {
      "text/html": [
       "<a class=\"result__a\" href=\"https://netspeed.speedtestcustom.com/\" rel=\"nofollow\">Speedtest Custom - Test your internet speeds</a>"
      ],
      "text/plain": [
       "<IPython.core.display.HTML object>"
      ]
     },
     "metadata": {},
     "output_type": "display_data"
    },
    {
     "data": {
      "text/html": [
       "<a class=\"result__a\" href=\"https://speedtest.net.ru/run-speedtest.html\" rel=\"nofollow\">Запустить тест скорости интернета. Speedtest.net.ru - Русский...</a>"
      ],
      "text/plain": [
       "<IPython.core.display.HTML object>"
      ]
     },
     "metadata": {},
     "output_type": "display_data"
    },
    {
     "data": {
      "text/html": [
       "<a class=\"result__a\" href=\"https://www.idrlabs.com/tests.php\" rel=\"nofollow\">Tests</a>"
      ],
      "text/plain": [
       "<IPython.core.display.HTML object>"
      ]
     },
     "metadata": {},
     "output_type": "display_data"
    }
   ],
   "source": [
    "for link in soup.find_all('a', attrs={\"class\": \"result__a\"}):\n",
    "    display(HTML(str(link)))"
   ]
  },
  {
   "cell_type": "code",
   "execution_count": 236,
   "metadata": {
    "scrolled": true,
    "slideshow": {
     "slide_type": "slide"
    }
   },
   "outputs": [
    {
     "data": {
      "text/html": [
       "<div class=\"result results_links results_links_deep web-result\">\n",
       "<div class=\"links_main links_deep result__body\"> <!-- This is the visible part -->\n",
       "<h2 class=\"result__title\">\n",
       "<a class=\"result__a\" href=\"https://www.speedtest.net/\" rel=\"nofollow\">Remove ads on Speedtest.net for life</a>\n",
       "</h2>\n",
       "<div class=\"result__extras\">\n",
       "<div class=\"result__extras__url\">\n",
       "<span class=\"result__icon\">\n",
       "<a href=\"https://www.speedtest.net/\" rel=\"nofollow\">\n",
       "<img alt=\"\" class=\"result__icon__img\" height=\"16\" name=\"i15\" src=\"//external-content.duckduckgo.com/ip3/www.speedtest.net.ico\" width=\"16\"/>\n",
       "</a>\n",
       "</span>\n",
       "<a class=\"result__url\" href=\"https://www.speedtest.net/\">\n",
       "                  www.speedtest.net\n",
       "                  </a>\n",
       "</div>\n",
       "</div>\n",
       "<a class=\"result__snippet\" href=\"https://www.speedtest.net/\">Testing Ping. Back to <b>test</b> results. Remove ads on Speedtest.net for life. $5.00 for ad-free internet testing.</a>\n",
       "<div class=\"clear\"></div>\n",
       "</div>\n",
       "</div>"
      ],
      "text/plain": [
       "<IPython.core.display.HTML object>"
      ]
     },
     "metadata": {},
     "output_type": "display_data"
    },
    {
     "data": {
      "text/html": [
       "<div class=\"result results_links results_links_deep web-result\">\n",
       "<div class=\"links_main links_deep result__body\"> <!-- This is the visible part -->\n",
       "<h2 class=\"result__title\">\n",
       "<a class=\"result__a\" href=\"https://en.wikipedia.org/wiki/Test\" rel=\"nofollow\">Test - Wikipedia</a>\n",
       "</h2>\n",
       "<div class=\"result__extras\">\n",
       "<div class=\"result__extras__url\">\n",
       "<span class=\"result__icon\">\n",
       "<a href=\"https://en.wikipedia.org/wiki/Test\" rel=\"nofollow\">\n",
       "<img alt=\"\" class=\"result__icon__img\" height=\"16\" name=\"i15\" src=\"//external-content.duckduckgo.com/ip3/en.wikipedia.org.ico\" width=\"16\"/>\n",
       "</a>\n",
       "</span>\n",
       "<a class=\"result__url\" href=\"https://en.wikipedia.org/wiki/Test\">\n",
       "                  en.wikipedia.org/wiki/Test\n",
       "                  </a>\n",
       "</div>\n",
       "</div>\n",
       "<a class=\"result__snippet\" href=\"https://en.wikipedia.org/wiki/Test\"><b>Test</b>(s), testing, or <b>TEST</b> may refer to: <b>Test</b> (assessment), an educational assessment intended to measure the respondents' knowledge or other abilities. <b>Test</b> (2013 film), an American film. <b>Test</b> (2014 film), a Russian film. <b>Test</b> (group), a jazz collective.</a>\n",
       "<div class=\"clear\"></div>\n",
       "</div>\n",
       "</div>"
      ],
      "text/plain": [
       "<IPython.core.display.HTML object>"
      ]
     },
     "metadata": {},
     "output_type": "display_data"
    },
    {
     "data": {
      "text/html": [
       "<div class=\"result results_links results_links_deep web-result\">\n",
       "<div class=\"links_main links_deep result__body\"> <!-- This is the visible part -->\n",
       "<h2 class=\"result__title\">\n",
       "<a class=\"result__a\" href=\"https://onlinetestpad.com/ru/tests\" rel=\"nofollow\">Тесты онлайн | Online Test Pad</a>\n",
       "</h2>\n",
       "<div class=\"result__extras\">\n",
       "<div class=\"result__extras__url\">\n",
       "<span class=\"result__icon\">\n",
       "<a href=\"https://onlinetestpad.com/ru/tests\" rel=\"nofollow\">\n",
       "<img alt=\"\" class=\"result__icon__img\" height=\"16\" name=\"i15\" src=\"//external-content.duckduckgo.com/ip3/onlinetestpad.com.ico\" width=\"16\"/>\n",
       "</a>\n",
       "</span>\n",
       "<a class=\"result__url\" href=\"https://onlinetestpad.com/ru/tests\">\n",
       "                  onlinetestpad.com/ru/tests\n",
       "                  </a>\n",
       "</div>\n",
       "</div>\n",
       "<a class=\"result__snippet\" href=\"https://onlinetestpad.com/ru/tests\">Вход. Тесты Опросы Кроссворды Диалоги Уроки. Online <b>Test</b> Pad. Listening Training <b>Test</b> 2_NOVEMBER.</a>\n",
       "<div class=\"clear\"></div>\n",
       "</div>\n",
       "</div>"
      ],
      "text/plain": [
       "<IPython.core.display.HTML object>"
      ]
     },
     "metadata": {},
     "output_type": "display_data"
    },
    {
     "data": {
      "text/html": [
       "<div class=\"result results_links results_links_deep web-result\">\n",
       "<div class=\"links_main links_deep result__body\"> <!-- This is the visible part -->\n",
       "<h2 class=\"result__title\">\n",
       "<a class=\"result__a\" href=\"https://www.123test.com/all-tests/\" rel=\"nofollow\">All online tests available at 123test.com</a>\n",
       "</h2>\n",
       "<div class=\"result__extras\">\n",
       "<div class=\"result__extras__url\">\n",
       "<span class=\"result__icon\">\n",
       "<a href=\"https://www.123test.com/all-tests/\" rel=\"nofollow\">\n",
       "<img alt=\"\" class=\"result__icon__img\" height=\"16\" name=\"i15\" src=\"//external-content.duckduckgo.com/ip3/www.123test.com.ico\" width=\"16\"/>\n",
       "</a>\n",
       "</span>\n",
       "<a class=\"result__url\" href=\"https://www.123test.com/all-tests/\">\n",
       "                  www.123test.com/all-tests/\n",
       "                  </a>\n",
       "</div>\n",
       "</div>\n",
       "<a class=\"result__snippet\" href=\"https://www.123test.com/all-tests/\">Take an IQ <b>test</b>, career choice <b>test</b> or personality <b>test</b> online. Find serious answers for career assessment and personal development.</a>\n",
       "<div class=\"clear\"></div>\n",
       "</div>\n",
       "</div>"
      ],
      "text/plain": [
       "<IPython.core.display.HTML object>"
      ]
     },
     "metadata": {},
     "output_type": "display_data"
    },
    {
     "data": {
      "text/html": [
       "<div class=\"result results_links results_links_deep web-result\">\n",
       "<div class=\"links_main links_deep result__body\"> <!-- This is the visible part -->\n",
       "<h2 class=\"result__title\">\n",
       "<a class=\"result__a\" href=\"https://TestEdu.ru/test/\" rel=\"nofollow\">Предметы | Образовательные тесты</a>\n",
       "</h2>\n",
       "<div class=\"result__extras\">\n",
       "<div class=\"result__extras__url\">\n",
       "<span class=\"result__icon\">\n",
       "<a href=\"https://TestEdu.ru/test/\" rel=\"nofollow\">\n",
       "<img alt=\"\" class=\"result__icon__img\" height=\"16\" name=\"i15\" src=\"//external-content.duckduckgo.com/ip3/TestEdu.ru.ico\" width=\"16\"/>\n",
       "</a>\n",
       "</span>\n",
       "<a class=\"result__url\" href=\"https://TestEdu.ru/test/\">\n",
       "                  TestEdu.ru/test/\n",
       "                  </a>\n",
       "</div>\n",
       "</div>\n",
       "<a class=\"result__snippet\" href=\"https://TestEdu.ru/test/\">Дошкольникам. Развитие.</a>\n",
       "<div class=\"clear\"></div>\n",
       "</div>\n",
       "</div>"
      ],
      "text/plain": [
       "<IPython.core.display.HTML object>"
      ]
     },
     "metadata": {},
     "output_type": "display_data"
    },
    {
     "data": {
      "text/html": [
       "<div class=\"result results_links results_links_deep web-result\">\n",
       "<div class=\"links_main links_deep result__body\"> <!-- This is the visible part -->\n",
       "<h2 class=\"result__title\">\n",
       "<a class=\"result__a\" href=\"https://tests.com/\" rel=\"nofollow\">Tests.com Practice Tests</a>\n",
       "</h2>\n",
       "<div class=\"result__extras\">\n",
       "<div class=\"result__extras__url\">\n",
       "<span class=\"result__icon\">\n",
       "<a href=\"https://tests.com/\" rel=\"nofollow\">\n",
       "<img alt=\"\" class=\"result__icon__img\" height=\"16\" name=\"i15\" src=\"//external-content.duckduckgo.com/ip3/tests.com.ico\" width=\"16\"/>\n",
       "</a>\n",
       "</span>\n",
       "<a class=\"result__url\" href=\"https://tests.com/\">\n",
       "                  tests.com\n",
       "                  </a>\n",
       "</div>\n",
       "</div>\n",
       "<a class=\"result__snippet\" href=\"https://tests.com/\">Free practice <b>tests</b> and other <b>test</b> resources organized in 300 categories including: academic, career, personality, intelligence, and more.</a>\n",
       "<div class=\"clear\"></div>\n",
       "</div>\n",
       "</div>"
      ],
      "text/plain": [
       "<IPython.core.display.HTML object>"
      ]
     },
     "metadata": {},
     "output_type": "display_data"
    },
    {
     "data": {
      "text/html": [
       "<div class=\"result results_links results_links_deep web-result\">\n",
       "<div class=\"links_main links_deep result__body\"> <!-- This is the visible part -->\n",
       "<h2 class=\"result__title\">\n",
       "<a class=\"result__a\" href=\"https://www.allthetests.com/\" rel=\"nofollow\">AllTheTests: Fun Quizzes, Personality Tests, Love, IQ and much more</a>\n",
       "</h2>\n",
       "<div class=\"result__extras\">\n",
       "<div class=\"result__extras__url\">\n",
       "<span class=\"result__icon\">\n",
       "<a href=\"https://www.allthetests.com/\" rel=\"nofollow\">\n",
       "<img alt=\"\" class=\"result__icon__img\" height=\"16\" name=\"i15\" src=\"//external-content.duckduckgo.com/ip3/www.allthetests.com.ico\" width=\"16\"/>\n",
       "</a>\n",
       "</span>\n",
       "<a class=\"result__url\" href=\"https://www.allthetests.com/\">\n",
       "                  www.allthetests.com\n",
       "                  </a>\n",
       "</div>\n",
       "</div>\n",
       "<a class=\"result__snippet\" href=\"https://www.allthetests.com/\">Fun, personality, IQ <b>tests</b>, love and relationship, quizzes, fan <b>tests</b> - everything is possible on AllTheTests.com. Want to check your knowledge in particular disciplines - here you are, anxious...</a>\n",
       "<div class=\"clear\"></div>\n",
       "</div>\n",
       "</div>"
      ],
      "text/plain": [
       "<IPython.core.display.HTML object>"
      ]
     },
     "metadata": {},
     "output_type": "display_data"
    },
    {
     "data": {
      "text/html": [
       "<div class=\"result results_links results_links_deep web-result\">\n",
       "<div class=\"links_main links_deep result__body\"> <!-- This is the visible part -->\n",
       "<h2 class=\"result__title\">\n",
       "<a class=\"result__a\" href=\"https://speedtestt.ru/\" rel=\"nofollow\">Speedtest - Проверить Скорость Интернета Онлайн - Тест...</a>\n",
       "</h2>\n",
       "<div class=\"result__extras\">\n",
       "<div class=\"result__extras__url\">\n",
       "<span class=\"result__icon\">\n",
       "<a href=\"https://speedtestt.ru/\" rel=\"nofollow\">\n",
       "<img alt=\"\" class=\"result__icon__img\" height=\"16\" name=\"i15\" src=\"//external-content.duckduckgo.com/ip3/speedtestt.ru.ico\" width=\"16\"/>\n",
       "</a>\n",
       "</span>\n",
       "<a class=\"result__url\" href=\"https://speedtestt.ru/\">\n",
       "                  speedtestt.ru\n",
       "                  </a>\n",
       "</div>\n",
       "</div>\n",
       "<a class=\"result__snippet\" href=\"https://speedtestt.ru/\">How to optimize your <b>tests</b>? Repeat the <b>test</b> several times to check the stability of the results obtained.</a>\n",
       "<div class=\"clear\"></div>\n",
       "</div>\n",
       "</div>"
      ],
      "text/plain": [
       "<IPython.core.display.HTML object>"
      ]
     },
     "metadata": {},
     "output_type": "display_data"
    },
    {
     "data": {
      "text/html": [
       "<div class=\"result results_links results_links_deep web-result\">\n",
       "<div class=\"links_main links_deep result__body\"> <!-- This is the visible part -->\n",
       "<h2 class=\"result__title\">\n",
       "<a class=\"result__a\" href=\"https://test.tankionline.com/\" rel=\"nofollow\">Tanki Online Test Server</a>\n",
       "</h2>\n",
       "<div class=\"result__extras\">\n",
       "<div class=\"result__extras__url\">\n",
       "<span class=\"result__icon\">\n",
       "<a href=\"https://test.tankionline.com/\" rel=\"nofollow\">\n",
       "<img alt=\"\" class=\"result__icon__img\" height=\"16\" name=\"i15\" src=\"//external-content.duckduckgo.com/ip3/test.tankionline.com.ico\" width=\"16\"/>\n",
       "</a>\n",
       "</span>\n",
       "<a class=\"result__url\" href=\"https://test.tankionline.com/\">\n",
       "                  test.tankionline.com\n",
       "                  </a>\n",
       "</div>\n",
       "</div>\n",
       "<a class=\"result__snippet\" href=\"https://test.tankionline.com/\">Entering a closed <b>test</b> server is only possible with an invite code. Sometimes, when there is need for a mass <b>test</b>, servers are opened up to all players.</a>\n",
       "<div class=\"clear\"></div>\n",
       "</div>\n",
       "</div>"
      ],
      "text/plain": [
       "<IPython.core.display.HTML object>"
      ]
     },
     "metadata": {},
     "output_type": "display_data"
    },
    {
     "data": {
      "text/html": [
       "<div class=\"result results_links results_links_deep web-result\">\n",
       "<div class=\"links_main links_deep result__body\"> <!-- This is the visible part -->\n",
       "<h2 class=\"result__title\">\n",
       "<a class=\"result__a\" href=\"https://test-english.com/\" rel=\"nofollow\">Test English - Prepare for your English exam</a>\n",
       "</h2>\n",
       "<div class=\"result__extras\">\n",
       "<div class=\"result__extras__url\">\n",
       "<span class=\"result__icon\">\n",
       "<a href=\"https://test-english.com/\" rel=\"nofollow\">\n",
       "<img alt=\"\" class=\"result__icon__img\" height=\"16\" name=\"i15\" src=\"//external-content.duckduckgo.com/ip3/test-english.com.ico\" width=\"16\"/>\n",
       "</a>\n",
       "</span>\n",
       "<a class=\"result__url\" href=\"https://test-english.com/\">\n",
       "                  test-english.com\n",
       "                  </a>\n",
       "</div>\n",
       "</div>\n",
       "<a class=\"result__snippet\" href=\"https://test-english.com/\">On <b>test</b>-english.com you will find lots of free practice <b>tests</b> and materials to help you improve your English skills and be more prepared for your English exam: KEY (KET), PET, FCE, IELTS, TOEIC®...</a>\n",
       "<div class=\"clear\"></div>\n",
       "</div>\n",
       "</div>"
      ],
      "text/plain": [
       "<IPython.core.display.HTML object>"
      ]
     },
     "metadata": {},
     "output_type": "display_data"
    },
    {
     "data": {
      "text/html": [
       "<div class=\"result results_links results_links_deep web-result\">\n",
       "<div class=\"links_main links_deep result__body\"> <!-- This is the visible part -->\n",
       "<h2 class=\"result__title\">\n",
       "<a class=\"result__a\" href=\"https://onedio.com/testler\" rel=\"nofollow\">Test | Onedio - Sosyal İçerik Platformu</a>\n",
       "</h2>\n",
       "<div class=\"result__extras\">\n",
       "<div class=\"result__extras__url\">\n",
       "<span class=\"result__icon\">\n",
       "<a href=\"https://onedio.com/testler\" rel=\"nofollow\">\n",
       "<img alt=\"\" class=\"result__icon__img\" height=\"16\" name=\"i15\" src=\"//external-content.duckduckgo.com/ip3/onedio.com.ico\" width=\"16\"/>\n",
       "</a>\n",
       "</span>\n",
       "<a class=\"result__url\" href=\"https://onedio.com/testler\">\n",
       "                  onedio.com/testler\n",
       "                  </a>\n",
       "</div>\n",
       "</div>\n",
       "<a class=\"result__snippet\" href=\"https://onedio.com/testler\">Seni tam 12'den vuracak karakter testleri, ağzı açıkta bırakan psikoloji testleri, genel kültür testleri, zeka testleri, IQ testleri ve daha fazlası Onedio Test'te!</a>\n",
       "<div class=\"clear\"></div>\n",
       "</div>\n",
       "</div>"
      ],
      "text/plain": [
       "<IPython.core.display.HTML object>"
      ]
     },
     "metadata": {},
     "output_type": "display_data"
    },
    {
     "data": {
      "text/html": [
       "<div class=\"result results_links results_links_deep web-result\">\n",
       "<div class=\"links_main links_deep result__body\"> <!-- This is the visible part -->\n",
       "<h2 class=\"result__title\">\n",
       "<a class=\"result__a\" href=\"https://WooordHunt.ru/word/test\" rel=\"nofollow\">Test: перевод, произношение, транскрипция, примеры...</a>\n",
       "</h2>\n",
       "<div class=\"result__extras\">\n",
       "<div class=\"result__extras__url\">\n",
       "<span class=\"result__icon\">\n",
       "<a href=\"https://WooordHunt.ru/word/test\" rel=\"nofollow\">\n",
       "<img alt=\"\" class=\"result__icon__img\" height=\"16\" name=\"i15\" src=\"//external-content.duckduckgo.com/ip3/WooordHunt.ru.ico\" width=\"16\"/>\n",
       "</a>\n",
       "</span>\n",
       "<a class=\"result__url\" href=\"https://WooordHunt.ru/word/test\">\n",
       "                  WooordHunt.ru/word/test\n",
       "                  </a>\n",
       "</div>\n",
       "</div>\n",
       "<a class=\"result__snippet\" href=\"https://WooordHunt.ru/word/test\">Перевод слова <b>test</b>, американское и британское произношение, транскрипция, словосочетания, однокоренные слова, примеры использования.</a>\n",
       "<div class=\"clear\"></div>\n",
       "</div>\n",
       "</div>"
      ],
      "text/plain": [
       "<IPython.core.display.HTML object>"
      ]
     },
     "metadata": {},
     "output_type": "display_data"
    },
    {
     "data": {
      "text/html": [
       "<div class=\"result results_links results_links_deep web-result\">\n",
       "<div class=\"links_main links_deep result__body\"> <!-- This is the visible part -->\n",
       "<h2 class=\"result__title\">\n",
       "<a class=\"result__a\" href=\"https://testserver.pro/index\" rel=\"nofollow\">Тесты и тестирования онлайн - TestServer.PRO</a>\n",
       "</h2>\n",
       "<div class=\"result__extras\">\n",
       "<div class=\"result__extras__url\">\n",
       "<span class=\"result__icon\">\n",
       "<a href=\"https://testserver.pro/index\" rel=\"nofollow\">\n",
       "<img alt=\"\" class=\"result__icon__img\" height=\"16\" name=\"i15\" src=\"//external-content.duckduckgo.com/ip3/testserver.pro.ico\" width=\"16\"/>\n",
       "</a>\n",
       "</span>\n",
       "<a class=\"result__url\" href=\"https://testserver.pro/index\">\n",
       "                  testserver.pro/index\n",
       "                  </a>\n",
       "</div>\n",
       "</div>\n",
       "<a class=\"result__snippet\" href=\"https://testserver.pro/index\">qazaq tilinde <b>test</b> (7 тестов). қазақ тілінде тест (7 тестов).</a>\n",
       "<div class=\"clear\"></div>\n",
       "</div>\n",
       "</div>"
      ],
      "text/plain": [
       "<IPython.core.display.HTML object>"
      ]
     },
     "metadata": {},
     "output_type": "display_data"
    },
    {
     "data": {
      "text/html": [
       "<div class=\"result results_links results_links_deep web-result\">\n",
       "<div class=\"links_main links_deep result__body\"> <!-- This is the visible part -->\n",
       "<h2 class=\"result__title\">\n",
       "<a class=\"result__a\" href=\"https://speedtest.su/\" rel=\"nofollow\">Speedtest Проверка Скорости Интернета... | Speedtest</a>\n",
       "</h2>\n",
       "<div class=\"result__extras\">\n",
       "<div class=\"result__extras__url\">\n",
       "<span class=\"result__icon\">\n",
       "<a href=\"https://speedtest.su/\" rel=\"nofollow\">\n",
       "<img alt=\"\" class=\"result__icon__img\" height=\"16\" name=\"i15\" src=\"//external-content.duckduckgo.com/ip3/speedtest.su.ico\" width=\"16\"/>\n",
       "</a>\n",
       "</span>\n",
       "<a class=\"result__url\" href=\"https://speedtest.su/\">\n",
       "                  speedtest.su\n",
       "                  </a>\n",
       "</div>\n",
       "</div>\n",
       "<a class=\"result__snippet\" href=\"https://speedtest.su/\">How to optimize your <b>tests</b>? Repeat the <b>test</b> several times to check the stability of the results obtained.</a>\n",
       "<div class=\"clear\"></div>\n",
       "</div>\n",
       "</div>"
      ],
      "text/plain": [
       "<IPython.core.display.HTML object>"
      ]
     },
     "metadata": {},
     "output_type": "display_data"
    },
    {
     "data": {
      "text/html": [
       "<div class=\"result results_links results_links_deep web-result\">\n",
       "<div class=\"links_main links_deep result__body\"> <!-- This is the visible part -->\n",
       "<h2 class=\"result__title\">\n",
       "<a class=\"result__a\" href=\"https://iq2u.ru/tests\" rel=\"nofollow\">Бесплатные онлайн тесты. Проверь свою эрудированность!</a>\n",
       "</h2>\n",
       "<div class=\"result__extras\">\n",
       "<div class=\"result__extras__url\">\n",
       "<span class=\"result__icon\">\n",
       "<a href=\"https://iq2u.ru/tests\" rel=\"nofollow\">\n",
       "<img alt=\"\" class=\"result__icon__img\" height=\"16\" name=\"i15\" src=\"//external-content.duckduckgo.com/ip3/iq2u.ru.ico\" width=\"16\"/>\n",
       "</a>\n",
       "</span>\n",
       "<a class=\"result__url\" href=\"https://iq2u.ru/tests\">\n",
       "                  iq2u.ru/tests\n",
       "                  </a>\n",
       "</div>\n",
       "</div>\n",
       "<a class=\"result__snippet\" href=\"https://iq2u.ru/tests\"><b>Test</b> 1. The World Teenagers' Competition.</a>\n",
       "<div class=\"clear\"></div>\n",
       "</div>\n",
       "</div>"
      ],
      "text/plain": [
       "<IPython.core.display.HTML object>"
      ]
     },
     "metadata": {},
     "output_type": "display_data"
    },
    {
     "data": {
      "text/html": [
       "<div class=\"result results_links results_links_deep web-result\">\n",
       "<div class=\"links_main links_deep result__body\"> <!-- This is the visible part -->\n",
       "<h2 class=\"result__title\">\n",
       "<a class=\"result__a\" href=\"https://netspeed.speedtestcustom.com/\" rel=\"nofollow\">Speedtest Custom - Test your internet speeds</a>\n",
       "</h2>\n",
       "<div class=\"result__extras\">\n",
       "<div class=\"result__extras__url\">\n",
       "<span class=\"result__icon\">\n",
       "<a href=\"https://netspeed.speedtestcustom.com/\" rel=\"nofollow\">\n",
       "<img alt=\"\" class=\"result__icon__img\" height=\"16\" name=\"i15\" src=\"//external-content.duckduckgo.com/ip3/netspeed.speedtestcustom.com.ico\" width=\"16\"/>\n",
       "</a>\n",
       "</span>\n",
       "<a class=\"result__url\" href=\"https://netspeed.speedtestcustom.com/\">\n",
       "                  netspeed.speedtestcustom.com\n",
       "                  </a>\n",
       "</div>\n",
       "</div>\n",
       "<div class=\"clear\"></div>\n",
       "</div>\n",
       "</div>"
      ],
      "text/plain": [
       "<IPython.core.display.HTML object>"
      ]
     },
     "metadata": {},
     "output_type": "display_data"
    },
    {
     "data": {
      "text/html": [
       "<div class=\"result results_links results_links_deep web-result\">\n",
       "<div class=\"links_main links_deep result__body\"> <!-- This is the visible part -->\n",
       "<h2 class=\"result__title\">\n",
       "<a class=\"result__a\" href=\"https://speedtest.net.ru/run-speedtest.html\" rel=\"nofollow\">Запустить тест скорости интернета. Speedtest.net.ru - Русский...</a>\n",
       "</h2>\n",
       "<div class=\"result__extras\">\n",
       "<div class=\"result__extras__url\">\n",
       "<span class=\"result__icon\">\n",
       "<a href=\"https://speedtest.net.ru/run-speedtest.html\" rel=\"nofollow\">\n",
       "<img alt=\"\" class=\"result__icon__img\" height=\"16\" name=\"i15\" src=\"//external-content.duckduckgo.com/ip3/speedtest.net.ru.ico\" width=\"16\"/>\n",
       "</a>\n",
       "</span>\n",
       "<a class=\"result__url\" href=\"https://speedtest.net.ru/run-speedtest.html\">\n",
       "                  speedtest.net.ru/run-speedtest.html\n",
       "                  </a>\n",
       "</div>\n",
       "</div>\n",
       "<a class=\"result__snippet\" href=\"https://speedtest.net.ru/run-speedtest.html\">Speedtest.net.ru - Русский... <b>Test</b> your internet speed. GO.</a>\n",
       "<div class=\"clear\"></div>\n",
       "</div>\n",
       "</div>"
      ],
      "text/plain": [
       "<IPython.core.display.HTML object>"
      ]
     },
     "metadata": {},
     "output_type": "display_data"
    },
    {
     "data": {
      "text/html": [
       "<div class=\"result results_links results_links_deep web-result\">\n",
       "<div class=\"links_main links_deep result__body\"> <!-- This is the visible part -->\n",
       "<h2 class=\"result__title\">\n",
       "<a class=\"result__a\" href=\"https://www.idrlabs.com/tests.php\" rel=\"nofollow\">Tests</a>\n",
       "</h2>\n",
       "<div class=\"result__extras\">\n",
       "<div class=\"result__extras__url\">\n",
       "<span class=\"result__icon\">\n",
       "<a href=\"https://www.idrlabs.com/tests.php\" rel=\"nofollow\">\n",
       "<img alt=\"\" class=\"result__icon__img\" height=\"16\" name=\"i15\" src=\"//external-content.duckduckgo.com/ip3/www.idrlabs.com.ico\" width=\"16\"/>\n",
       "</a>\n",
       "</span>\n",
       "<a class=\"result__url\" href=\"https://www.idrlabs.com/tests.php\">\n",
       "                  www.idrlabs.com/tests.php\n",
       "                  </a>\n",
       "</div>\n",
       "</div>\n",
       "<a class=\"result__snippet\" href=\"https://www.idrlabs.com/tests.php\">Masochism <b>Test</b> The Masochistic Personality Spectrum <b>Test</b> combines several other measures into a single instrument intended to analyze masochistic symptoms across 8 different domains.</a>\n",
       "<div class=\"clear\"></div>\n",
       "</div>\n",
       "</div>"
      ],
      "text/plain": [
       "<IPython.core.display.HTML object>"
      ]
     },
     "metadata": {},
     "output_type": "display_data"
    }
   ],
   "source": [
    "for div in soup.find_all('div', attrs={\"class\": \"results_links\"}):\n",
    "    display(HTML(str(div)))"
   ]
  },
  {
   "cell_type": "markdown",
   "metadata": {
    "slideshow": {
     "slide_type": "slide"
    }
   },
   "source": [
    "# API: Application Programming Interface"
   ]
  },
  {
   "cell_type": "markdown",
   "metadata": {
    "slideshow": {
     "slide_type": "-"
    }
   },
   "source": [
    "![api](http://blog.restcase.com/content/images/2016/11/api-collaboration.png)"
   ]
  },
  {
   "cell_type": "markdown",
   "metadata": {
    "slideshow": {
     "slide_type": "slide"
    }
   },
   "source": [
    "## Публичное API"
   ]
  },
  {
   "cell_type": "code",
   "execution_count": 307,
   "metadata": {
    "slideshow": {
     "slide_type": "fragment"
    }
   },
   "outputs": [],
   "source": [
    "DICTIONARY_API = 'https://dictionary.yandex.net/api/v1/dicservice.json/lookup'\n",
    "TEMP_KEY = 'dict.1.1.20191119T132629Z.f06d32fa3b4c5e18.922a67da8890eb40fb4a680a7d5d10347f8139b7'"
   ]
  },
  {
   "cell_type": "code",
   "execution_count": 308,
   "metadata": {
    "slideshow": {
     "slide_type": "fragment"
    }
   },
   "outputs": [],
   "source": [
    "params = {'key': TEMP_KEY, 'lang': 'en-ru', 'text': 'hello'}\n",
    "response = requests.get(DICTIONARY_API, params=params)\n",
    "response.raise_for_status()\n",
    "body = response.text"
   ]
  },
  {
   "cell_type": "code",
   "execution_count": 309,
   "metadata": {
    "slideshow": {
     "slide_type": "fragment"
    }
   },
   "outputs": [
    {
     "data": {
      "text/plain": [
       "'{\"head\":{},\"def\":[{\"text\":\"hello\",\"pos\":\"noun\",\"ts\":\"həˈləʊ\",\"tr\":[{\"text\":\"привет\",\"pos\":\"noun\",\"gen\":\"м\",\"fr\":10,\"syn\":[{\"text\":\"добрый день\",\"pos\":\"noun\",\"fr\":5},{\"text\":\"Здравствуй\",\"pos\":\"noun\",\"gen\":\"м\",\"fr\":1}],\"mean\":[{\"text\":\"hi\"},{\"text\":\"good afternoon\"}],\"ex\":[{\"text\":\"big hello\",\"tr\":[{\"text\":\"большой привет\"}]}]},{\"text\":\"приветствие\",\"pos\":\"noun\",\"gen\":\"ср\",\"fr\":5}]},{\"text\":\"hello\",\"pos\":\"verb\",\"ts\":\"həˈləʊ\",\"tr\":[{\"text\":\"здравствуйте\",\"pos\":\"verb\",\"asp\":\"несов\",\"fr\":1,\"mean\":[{\"text\":\"hi\"}]},{\"text\":\"поздороваться\",\"pos\":\"verb\",\"asp\":\"сов\",\"fr\":5,\"mean\":[{\"text\":\"greet\"}]},{\"text\":\"приветствовать\",\"pos\":\"verb\",\"asp\":\"несов\",\"fr\":5}]},{\"text\":\"hello\",\"pos\":\"interjection\",\"ts\":\"həˈləʊ\",\"tr\":[{\"text\":\"АЛЛО\",\"pos\":\"interjection\",\"fr\":10},{\"text\":\"ау\",\"pos\":\"interjection\",\"fr\":1}]},{\"text\":\"hello\",\"pos\":\"adverb\",\"ts\":\"həˈləʊ\",\"tr\":[{\"text\":\"здорово\",\"pos\":\"adverb\",\"fr\":1,\"mean\":[{\"text\":\"hey\"}]}]}]}'"
      ]
     },
     "execution_count": 309,
     "metadata": {},
     "output_type": "execute_result"
    }
   ],
   "source": [
    "body"
   ]
  },
  {
   "cell_type": "code",
   "execution_count": 310,
   "metadata": {
    "slideshow": {
     "slide_type": "fragment"
    }
   },
   "outputs": [
    {
     "data": {
      "text/plain": [
       "'application/json; charset=utf-8'"
      ]
     },
     "execution_count": 310,
     "metadata": {},
     "output_type": "execute_result"
    }
   ],
   "source": [
    "response.headers['content-type']"
   ]
  },
  {
   "cell_type": "markdown",
   "metadata": {
    "slideshow": {
     "slide_type": "slide"
    }
   },
   "source": [
    "# JSON: JavaScript Object Notation"
   ]
  },
  {
   "cell_type": "markdown",
   "metadata": {
    "slideshow": {
     "slide_type": "fragment"
    }
   },
   "source": [
    "![json](https://www.w3resource.com/w3r_images/json-introduction.png)"
   ]
  },
  {
   "cell_type": "code",
   "execution_count": 311,
   "metadata": {
    "slideshow": {
     "slide_type": "slide"
    }
   },
   "outputs": [],
   "source": [
    "import json"
   ]
  },
  {
   "cell_type": "code",
   "execution_count": 312,
   "metadata": {
    "slideshow": {
     "slide_type": "fragment"
    }
   },
   "outputs": [],
   "source": [
    "definition = json.loads(body)['def']  # or response.json()['def']"
   ]
  },
  {
   "cell_type": "code",
   "execution_count": 313,
   "metadata": {
    "slideshow": {
     "slide_type": "fragment"
    }
   },
   "outputs": [
    {
     "data": {
      "text/plain": [
       "[{'text': 'hello',\n",
       "  'pos': 'noun',\n",
       "  'ts': 'həˈləʊ',\n",
       "  'tr': [{'text': 'привет',\n",
       "    'pos': 'noun',\n",
       "    'gen': 'м',\n",
       "    'fr': 10,\n",
       "    'syn': [{'text': 'добрый день', 'pos': 'noun', 'fr': 5},\n",
       "     {'text': 'Здравствуй', 'pos': 'noun', 'gen': 'м', 'fr': 1}],\n",
       "    'mean': [{'text': 'hi'}, {'text': 'good afternoon'}],\n",
       "    'ex': [{'text': 'big hello', 'tr': [{'text': 'большой привет'}]}]},\n",
       "   {'text': 'приветствие', 'pos': 'noun', 'gen': 'ср', 'fr': 5}]},\n",
       " {'text': 'hello',\n",
       "  'pos': 'verb',\n",
       "  'ts': 'həˈləʊ',\n",
       "  'tr': [{'text': 'здравствуйте',\n",
       "    'pos': 'verb',\n",
       "    'asp': 'несов',\n",
       "    'fr': 1,\n",
       "    'mean': [{'text': 'hi'}]},\n",
       "   {'text': 'поздороваться',\n",
       "    'pos': 'verb',\n",
       "    'asp': 'сов',\n",
       "    'fr': 5,\n",
       "    'mean': [{'text': 'greet'}]},\n",
       "   {'text': 'приветствовать', 'pos': 'verb', 'asp': 'несов', 'fr': 5}]}]"
      ]
     },
     "execution_count": 313,
     "metadata": {},
     "output_type": "execute_result"
    }
   ],
   "source": [
    "definition[:2]"
   ]
  },
  {
   "cell_type": "markdown",
   "metadata": {
    "slideshow": {
     "slide_type": "slide"
    }
   },
   "source": [
    "## API с OAuth авторизацией и python-клиент"
   ]
  },
  {
   "cell_type": "code",
   "execution_count": 314,
   "metadata": {},
   "outputs": [],
   "source": [
    "class YandexLoginClient:\n",
    "    \"\"\"Клиент для доступа к общей информации о профиле в Яндексе\"\"\"\n",
    "    \n",
    "    def __init__(self, *, base_url=\"https://login.yandex.ru\", token):\n",
    "        self._base_url = base_url\n",
    "        self._session = requests.Session()\n",
    "        self._session.headers['Authorization'] = f'OAuth {token}'\n",
    "    \n",
    "    def info(self):\n",
    "        response = self._session.get(self._base_url + '/info')\n",
    "        response.raise_for_status()\n",
    "        return response.json()\n",
    "    \n",
    "    def censored_email(self):\n",
    "        email = self.info()['default_email']\n",
    "        name, host = email.split('@')\n",
    "        return name[0] + '*' * (len(name) - 1) + '@' + host"
   ]
  },
  {
   "cell_type": "code",
   "execution_count": 315,
   "metadata": {
    "slideshow": {
     "slide_type": "slide"
    }
   },
   "outputs": [],
   "source": [
    "from pathlib import Path\n",
    "token = (Path.home() / '.PythonWebHTTPApiLecture/token').read_text().strip()\n",
    "client = YandexLoginClient(token=token)"
   ]
  },
  {
   "cell_type": "code",
   "execution_count": 316,
   "metadata": {},
   "outputs": [
    {
     "data": {
      "text/plain": [
       "'k******@yandex.ru'"
      ]
     },
     "execution_count": 316,
     "metadata": {},
     "output_type": "execute_result"
    }
   ],
   "source": [
    "client.censored_email()"
   ]
  },
  {
   "cell_type": "markdown",
   "metadata": {},
   "source": [
    "<small>OAuth токен можно полуить тут\n",
    "\n",
    "https://oauth.yandex.ru/authorize?response_type=token&client_id=4bc448e01f46442883dce6dc3254e44c&device_id=my_device\n",
    "\n",
    "и положить в ~/.PythonWebHTTPApiLecture/token</small>"
   ]
  },
  {
   "cell_type": "markdown",
   "metadata": {
    "slideshow": {
     "slide_type": "slide"
    }
   },
   "source": [
    "# Непубличное API"
   ]
  },
  {
   "cell_type": "markdown",
   "metadata": {
    "slideshow": {
     "slide_type": "fragment"
    }
   },
   "source": [
    "Любые WEB-приложения для обновления данных внутри себя ходят в какие-то внутренние API своей платформы. При некотором старании можно научиться пользоваться этими API в вашем коде. Впрочем, для непубличного API гарантий никаких – сломаться может в любой момент."
   ]
  },
  {
   "cell_type": "markdown",
   "metadata": {
    "slideshow": {
     "slide_type": "slide"
    }
   },
   "source": [
    "# Спасибо за внимание!"
   ]
  }
 ],
 "metadata": {
  "celltoolbar": "Slideshow",
  "kernelspec": {
   "display_name": "Python 3 (ipykernel)",
   "language": "python",
   "name": "python3"
  },
  "language_info": {
   "codemirror_mode": {
    "name": "ipython",
    "version": 3
   },
   "file_extension": ".py",
   "mimetype": "text/x-python",
   "name": "python",
   "nbconvert_exporter": "python",
   "pygments_lexer": "ipython3",
   "version": "3.9.6"
  },
  "livereveal": {
   "theme": "Serif",
   "transition": "fade"
  }
 },
 "nbformat": 4,
 "nbformat_minor": 4
}
