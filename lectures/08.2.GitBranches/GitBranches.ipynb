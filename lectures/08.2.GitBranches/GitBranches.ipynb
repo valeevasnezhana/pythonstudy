{
 "cells": [
  {
   "cell_type": "markdown",
   "metadata": {
    "slideshow": {
     "slide_type": "slide"
    },
    "pycharm": {
     "name": "#%% md\n"
    }
   },
   "source": [
    "<div align=\"center\">\n",
    "<img src=\"https://upload.wikimedia.org/wikipedia/commons/a/a8/%D0%9B%D0%9E%D0%93%D0%9E_%D0%A8%D0%90%D0%94.png\" width=400px/>\n",
    "<br /><br />\n",
    "<b><font size=7 face=\"Arial\">Git. История, ветки, мердж реквесты</font></b>\n",
    "<br />\n",
    "<h4>2021</h4>\n",
    "</div>"
   ]
  },
  {
   "cell_type": "markdown",
   "metadata": {
    "slideshow": {
     "slide_type": "slide"
    },
    "pycharm": {
     "name": "#%% md\n"
    }
   },
   "source": [
    "<div align=\"center\"><img src=\"https://imgs.xkcd.com/comics/git.png\" width=\"400px\"/></div>"
   ]
  },
  {
   "cell_type": "markdown",
   "metadata": {
    "slideshow": {
     "slide_type": "slide"
    },
    "pycharm": {
     "name": "#%% md\n"
    }
   },
   "source": [
    "<div align=\"center\"><b><font size=6>В предыдущих сериях...</font></b></div>"
   ]
  },
  {
   "cell_type": "markdown",
   "metadata": {
    "slideshow": {
     "slide_type": "-"
    },
    "pycharm": {
     "name": "#%% md\n"
    }
   },
   "source": [
    "<div align=\"center\"><b><font size=6>Базовый рабочий процесс</font></b></div>"
   ]
  },
  {
   "cell_type": "markdown",
   "metadata": {
    "slideshow": {
     "slide_type": "slide"
    },
    "pycharm": {
     "name": "#%% md\n"
    }
   },
   "source": [
    "<b><font size=6>Изменяем<span style=\"float:right\"><font color=\"#0000FF\">Sublime / PyCharm / vim</font></span></font></b>\n",
    "\n",
    "</br></br>\n",
    "<div align=\"center\">\n",
    "    <div style=\"border: 3px solid red; width: 280px; height:100px;position:relative;left:-30px;top:220px;\"></div>\n",
    "    <img src=\"https://avatars.mds.yandex.net/get-pdb/2984945/95dc5634-f547-4a90-8994-4cdd24251736/s1200\" width=\"800px\" />\n",
    "</div>"
   ]
  },
  {
   "cell_type": "markdown",
   "metadata": {
    "slideshow": {
     "slide_type": "slide"
    },
    "pycharm": {
     "name": "#%% md\n"
    }
   },
   "source": [
    "<b><font size=6>Сохраняем в Stage<span style=\"float:right\"><font color=\"#0000FF\">git add (file)</font></span></font></b>\n",
    "<div align=\"center\">\n",
    "    <div style=\"border: 3px solid red; width: 680px; height:80px;position:relative;left:-10px;top:240px;\"></div>\n",
    "    <div style=\"border: 3px solid red; width: 280px; height:80px;position:relative;left:200px;top:260px;\"></div><img src=\"https://avatars.mds.yandex.net/get-pdb/2984945/95dc5634-f547-4a90-8994-4cdd24251736/s1200\" width=\"800px\" /></div>"
   ]
  },
  {
   "cell_type": "markdown",
   "metadata": {
    "slideshow": {
     "slide_type": "slide"
    },
    "pycharm": {
     "name": "#%% md\n"
    }
   },
   "source": [
    "<b><font size=6>Смотрим что ничего не забыли добавить в Stage<span style=\"float:right\"><font color=\"#0000FF\">git status</font></span></font></b>\n",
    "\n",
    "\n",
    "<div align=\"center\"><img src=\"https://i.stack.imgur.com/j7sZ2.png\" width=\"800px\" /></div>"
   ]
  },
  {
   "cell_type": "markdown",
   "metadata": {
    "slideshow": {
     "slide_type": "slide"
    },
    "pycharm": {
     "name": "#%% md\n"
    }
   },
   "source": [
    "<b><font size=6>Коммитим (высекаем в камне)<span style=\"float:right\"><font color=\"#0000FF\">git commit -m</font></span></font></b>\n",
    "\n",
    "<br/><br/>\n",
    "\n",
    "<div align=\"center\">\n",
    "    <div style=\"border: 3px solid red; width: 450px; height:100px;position:relative;left: 100px;top:350px;\"></div>\n",
    "    <img src=\"https://avatars.mds.yandex.net/get-pdb/2984945/95dc5634-f547-4a90-8994-4cdd24251736/s1200\" width=\"800px\" />\n",
    "</div>"
   ]
  },
  {
   "cell_type": "markdown",
   "metadata": {
    "slideshow": {
     "slide_type": "slide"
    },
    "pycharm": {
     "name": "#%% md\n"
    }
   },
   "source": [
    "<div align=\"center\"><b><font size=7>Все вместе</font></b></div></div>"
   ]
  },
  {
   "cell_type": "markdown",
   "metadata": {
    "slideshow": {
     "slide_type": "fragment"
    },
    "pycharm": {
     "name": "#%% md\n"
    }
   },
   "source": [
    "<div align=\"center\"><b><font size=7>Состояния файла и переходы между ними</font></b></div>\n",
    "</br></br>\n",
    "<div align=\"center\"><img src=\"https://avatars.mds.yandex.net/get-pdb/2984945/95dc5634-f547-4a90-8994-4cdd24251736/s1200\" width=\"800px\" /></div>"
   ]
  },
  {
   "cell_type": "code",
   "execution_count": 29,
   "metadata": {
    "slideshow": {
     "slide_type": "skip"
    },
    "pycharm": {
     "name": "#%%\n"
    }
   },
   "outputs": [],
   "source": [
    "import os\n",
    "import tempfile\n",
    "tempdir = tempfile.TemporaryDirectory()\n",
    "os.chdir(tempdir.name)"
   ]
  },
  {
   "cell_type": "code",
   "execution_count": 30,
   "metadata": {
    "slideshow": {
     "slide_type": "skip"
    },
    "pycharm": {
     "name": "#%%\n"
    }
   },
   "outputs": [
    {
     "name": "stdout",
     "output_type": "stream",
     "text": [
      "Initialized empty Git repository in /tmp/tmphfyh8du2/.git/\n",
      "[master (root-commit) a77a087] Initial commit. Added readme\n",
      " 1 file changed, 1 insertion(+)\n",
      " create mode 100644 README.md\n",
      "[master 0a27781] Added hello_world.py\n",
      " 1 file changed, 1 insertion(+)\n",
      " create mode 100644 hello_world.py\n"
     ]
    }
   ],
   "source": [
    "!git init\n",
    "!echo \"# Hello\" >> README.md\n",
    "!git add README.md && git commit -m \"Initial commit. Added readme\"\n",
    "!echo \"print('hello, world')\" >> hello_world.py && git add hello_world.py && git commit -m \"Added hello_world.py\""
   ]
  },
  {
   "cell_type": "markdown",
   "metadata": {
    "slideshow": {
     "slide_type": "slide"
    },
    "pycharm": {
     "name": "#%% md\n"
    }
   },
   "source": [
    "## beyound git status"
   ]
  },
  {
   "cell_type": "markdown",
   "metadata": {
    "slideshow": {
     "slide_type": "fragment"
    },
    "pycharm": {
     "name": "#%% md\n"
    }
   },
   "source": [
    "<div align=\"center\"><b><font size=5>Unstaged изменения</font></b></div>"
   ]
  },
  {
   "cell_type": "code",
   "execution_count": 19,
   "metadata": {
    "slideshow": {
     "slide_type": "-"
    },
    "pycharm": {
     "name": "#%%\n"
    }
   },
   "outputs": [
    {
     "name": "stdout",
     "output_type": "stream",
     "text": [
      "On branch master\r\n",
      "Changes not staged for commit:\r\n",
      "  (use \"git add <file>...\" to update what will be committed)\r\n",
      "  (use \"git checkout -- <file>...\" to discard changes in working directory)\r\n",
      "\r\n",
      "\t\u001B[31mmodified:   README.md\u001B[m\r\n",
      "\r\n",
      "no changes added to commit (use \"git add\" and/or \"git commit -a\")\r\n"
     ]
    }
   ],
   "source": [
    "echo \"new line\" >> README.md\n",
    "git status"
   ]
  },
  {
   "cell_type": "code",
   "execution_count": 20,
   "metadata": {
    "slideshow": {
     "slide_type": "-"
    },
    "pycharm": {
     "name": "#%%\n"
    }
   },
   "outputs": [
    {
     "name": "stdout",
     "output_type": "stream",
     "text": [
      "\u001B[1mdiff --git a/README.md b/README.md\u001B[m\r\n",
      "\u001B[1mindex 217eb2d..5c17b82 100644\u001B[m\r\n",
      "\u001B[1m--- a/README.md\u001B[m\r\n",
      "\u001B[1m+++ b/README.md\u001B[m\r\n",
      "\u001B[36m@@ -1 +1,2 @@\u001B[m\r\n",
      " Hello\\n\u001B[m\r\n",
      "\u001B[32m+\u001B[m\u001B[32mnew line\u001B[m\r\n"
     ]
    }
   ],
   "source": [
    "git diff  # for changes in unstaged and tracked files only"
   ]
  },
  {
   "cell_type": "markdown",
   "metadata": {
    "slideshow": {
     "slide_type": "slide"
    },
    "pycharm": {
     "name": "#%% md\n"
    }
   },
   "source": [
    "<div align=\"center\"><b><font size=5>Staged изменения</font></b></div>"
   ]
  },
  {
   "cell_type": "code",
   "execution_count": 21,
   "metadata": {
    "slideshow": {
     "slide_type": "-"
    },
    "pycharm": {
     "name": "#%%\n"
    }
   },
   "outputs": [
    {
     "name": "stdout",
     "output_type": "stream",
     "text": [
      "On branch master\r\n",
      "Changes to be committed:\r\n",
      "  (use \"git reset HEAD <file>...\" to unstage)\r\n",
      "\r\n",
      "\t\u001B[32mnew file:   .gitignore\u001B[m\r\n",
      "\r\n",
      "Changes not staged for commit:\r\n",
      "  (use \"git add <file>...\" to update what will be committed)\r\n",
      "  (use \"git checkout -- <file>...\" to discard changes in working directory)\r\n",
      "\r\n",
      "\t\u001B[31mmodified:   README.md\u001B[m\r\n",
      "\r\n"
     ]
    }
   ],
   "source": [
    "echo \".ipynb_checkpoints/\" > .gitignore\n",
    "git add .gitignore\n",
    "git status"
   ]
  },
  {
   "cell_type": "code",
   "execution_count": 22,
   "metadata": {
    "scrolled": true,
    "slideshow": {
     "slide_type": "-"
    },
    "pycharm": {
     "name": "#%%\n"
    }
   },
   "outputs": [
    {
     "name": "stdout",
     "output_type": "stream",
     "text": [
      "\u001B[1mdiff --git a/.gitignore b/.gitignore\u001B[m\r\n",
      "\u001B[1mnew file mode 100644\u001B[m\r\n",
      "\u001B[1mindex 0000000..87620ac\u001B[m\r\n",
      "\u001B[1m--- /dev/null\u001B[m\r\n",
      "\u001B[1m+++ b/.gitignore\u001B[m\r\n",
      "\u001B[36m@@ -0,0 +1 @@\u001B[m\r\n",
      "\u001B[32m+\u001B[m\u001B[32m.ipynb_checkpoints/\u001B[m\r\n"
     ]
    }
   ],
   "source": [
    "git diff --staged  # for changes in staged files only"
   ]
  },
  {
   "cell_type": "markdown",
   "metadata": {
    "slideshow": {
     "slide_type": "slide"
    },
    "pycharm": {
     "name": "#%% md\n"
    }
   },
   "source": [
    "<div align=\"center\"><b><font size=5>Все изменения</font></b></div>"
   ]
  },
  {
   "cell_type": "code",
   "execution_count": 23,
   "metadata": {
    "slideshow": {
     "slide_type": "-"
    },
    "pycharm": {
     "name": "#%%\n"
    }
   },
   "outputs": [
    {
     "name": "stdout",
     "output_type": "stream",
     "text": [
      "\u001B[1mdiff --git a/.gitignore b/.gitignore\u001B[m\r\n",
      "\u001B[1mnew file mode 100644\u001B[m\r\n",
      "\u001B[1mindex 0000000..87620ac\u001B[m\r\n",
      "\u001B[1m--- /dev/null\u001B[m\r\n",
      "\u001B[1m+++ b/.gitignore\u001B[m\r\n",
      "\u001B[36m@@ -0,0 +1 @@\u001B[m\r\n",
      "\u001B[32m+\u001B[m\u001B[32m.ipynb_checkpoints/\u001B[m\r\n",
      "\u001B[1mdiff --git a/README.md b/README.md\u001B[m\r\n",
      "\u001B[1mindex 217eb2d..5c17b82 100644\u001B[m\r\n",
      "\u001B[1m--- a/README.md\u001B[m\r\n",
      "\u001B[1m+++ b/README.md\u001B[m\r\n",
      "\u001B[36m@@ -1 +1,2 @@\u001B[m\r\n",
      " Hello\\n\u001B[m\r\n",
      "\u001B[32m+\u001B[m\u001B[32mnew line\u001B[m\r\n"
     ]
    }
   ],
   "source": [
    "git diff HEAD  # unstaged + staged files"
   ]
  },
  {
   "cell_type": "markdown",
   "metadata": {
    "slideshow": {
     "slide_type": "slide"
    },
    "pycharm": {
     "name": "#%% md\n"
    }
   },
   "source": [
    "<div align=\"center\"><b><font size=7>Ветки</font></b></div>"
   ]
  },
  {
   "cell_type": "markdown",
   "metadata": {
    "slideshow": {
     "slide_type": "-"
    },
    "pycharm": {
     "name": "#%% md\n"
    }
   },
   "source": [
    "**Ветка** - указатель на коммит в истории. Перемещается при коммите, если HEAD находится на этой ветке. (HEAD будет чуть дальше раскрыт)"
   ]
  },
  {
   "cell_type": "code",
   "execution_count": 77,
   "metadata": {
    "slideshow": {
     "slide_type": "-"
    },
    "pycharm": {
     "name": "#%%\n"
    }
   },
   "outputs": [
    {
     "name": "stdout",
     "output_type": "stream",
     "text": [
      "On branch master\r\n",
      "nothing to commit, working tree clean\r\n"
     ]
    }
   ],
   "source": [
    "git status"
   ]
  },
  {
   "cell_type": "code",
   "execution_count": 61,
   "metadata": {
    "slideshow": {
     "slide_type": "-"
    },
    "pycharm": {
     "name": "#%%\n"
    }
   },
   "outputs": [
    {
     "name": "stdout",
     "output_type": "stream",
     "text": [
      "* \u001B[32mmaster\u001B[m\r\n"
     ]
    }
   ],
   "source": [
    "git branch"
   ]
  },
  {
   "cell_type": "markdown",
   "metadata": {
    "slideshow": {
     "slide_type": "slide"
    },
    "pycharm": {
     "name": "#%% md\n"
    }
   },
   "source": [
    "## Создание ветки"
   ]
  },
  {
   "cell_type": "code",
   "execution_count": 86,
   "metadata": {
    "slideshow": {
     "slide_type": "-"
    },
    "pycharm": {
     "name": "#%%\n"
    }
   },
   "outputs": [
    {
     "name": "stdout",
     "output_type": "stream",
     "text": [
      "Switched to a new branch 'new_branch'\r\n"
     ]
    }
   ],
   "source": [
    "git checkout -b new_branch"
   ]
  },
  {
   "cell_type": "code",
   "execution_count": 63,
   "metadata": {
    "slideshow": {
     "slide_type": "-"
    },
    "pycharm": {
     "name": "#%%\n"
    }
   },
   "outputs": [
    {
     "name": "stdout",
     "output_type": "stream",
     "text": [
      "  master\u001B[m\r\n",
      "* \u001B[32mnew_branch\u001B[m\r\n"
     ]
    }
   ],
   "source": [
    "git branch"
   ]
  },
  {
   "cell_type": "markdown",
   "metadata": {
    "slideshow": {
     "slide_type": "slide"
    },
    "pycharm": {
     "name": "#%% md\n"
    }
   },
   "source": [
    "## Смена ветки"
   ]
  },
  {
   "cell_type": "code",
   "execution_count": 88,
   "metadata": {
    "slideshow": {
     "slide_type": "-"
    },
    "pycharm": {
     "name": "#%%\n"
    }
   },
   "outputs": [
    {
     "name": "stdout",
     "output_type": "stream",
     "text": [
      "Switched to branch 'master'\r\n"
     ]
    }
   ],
   "source": [
    "git checkout master"
   ]
  },
  {
   "cell_type": "code",
   "execution_count": 89,
   "metadata": {
    "slideshow": {
     "slide_type": "-"
    },
    "pycharm": {
     "name": "#%%\n"
    }
   },
   "outputs": [
    {
     "name": "stdout",
     "output_type": "stream",
     "text": [
      "* \u001B[32mmaster\u001B[m\r\n",
      "  new_branch\u001B[m\r\n"
     ]
    }
   ],
   "source": [
    "git branch"
   ]
  },
  {
   "cell_type": "markdown",
   "metadata": {
    "slideshow": {
     "slide_type": "slide"
    },
    "pycharm": {
     "name": "#%% md\n"
    }
   },
   "source": [
    "## Удаление ветки"
   ]
  },
  {
   "cell_type": "code",
   "execution_count": 85,
   "metadata": {
    "slideshow": {
     "slide_type": "-"
    },
    "pycharm": {
     "name": "#%%\n"
    }
   },
   "outputs": [
    {
     "name": "stdout",
     "output_type": "stream",
     "text": [
      "Deleted branch new_branch (was 0a27781).\r\n"
     ]
    }
   ],
   "source": [
    "git branch -d new_branch"
   ]
  },
  {
   "cell_type": "code",
   "execution_count": 92,
   "metadata": {
    "slideshow": {
     "slide_type": "-"
    },
    "pycharm": {
     "name": "#%%\n"
    }
   },
   "outputs": [
    {
     "name": "stdout",
     "output_type": "stream",
     "text": [
      "* \u001B[32mmaster\u001B[m\r\n"
     ]
    }
   ],
   "source": [
    "git branch"
   ]
  },
  {
   "cell_type": "markdown",
   "metadata": {
    "slideshow": {
     "slide_type": "-"
    },
    "pycharm": {
     "name": "#%% md\n"
    }
   },
   "source": [
    "Удаление ветки - относительно безопасная операция, удаляется только указатель, не более того. Но нужно подумать о том, чтобы к состоянию, куда указывала ветка, можно было вернуться другим способом."
   ]
  },
  {
   "cell_type": "markdown",
   "metadata": {
    "slideshow": {
     "slide_type": "slide"
    },
    "pycharm": {
     "name": "#%% md\n"
    }
   },
   "source": [
    "<div align=\"center\"><b><font size=7>Просмотр истории</font></b></div>"
   ]
  },
  {
   "cell_type": "code",
   "execution_count": 93,
   "metadata": {
    "slideshow": {
     "slide_type": "-"
    },
    "pycharm": {
     "name": "#%%\n"
    }
   },
   "outputs": [
    {
     "name": "stdout",
     "output_type": "stream",
     "text": [
      "\u001B[33mcommit 0a277819da6d8478223d8e97f96680909a01cc4b\u001B[m\u001B[33m (\u001B[m\u001B[1;36mHEAD -> \u001B[m\u001B[1;32mmaster\u001B[m\u001B[33m)\u001B[m\r\n",
      "Author: Nikita Bondartsev <bondartsev.nikita@gmail.com>\r\n",
      "Date:   Sun Oct 25 12:18:08 2020 +0300\r\n",
      "\r\n",
      "    Added hello_world.py\r\n",
      "\r\n",
      "\u001B[33mcommit a77a087dc1bea3dda74111560d7c7ddefdb0c9b1\u001B[m\r\n",
      "Author: Nikita Bondartsev <bondartsev.nikita@gmail.com>\r\n",
      "Date:   Sun Oct 25 12:18:08 2020 +0300\r\n",
      "\r\n",
      "    Initial commit. Added readme\r\n"
     ]
    }
   ],
   "source": [
    "git log"
   ]
  },
  {
   "cell_type": "code",
   "execution_count": 94,
   "metadata": {
    "slideshow": {
     "slide_type": "-"
    },
    "pycharm": {
     "name": "#%%\n"
    }
   },
   "outputs": [
    {
     "name": "stdout",
     "output_type": "stream",
     "text": [
      "* 0a27781 2020-10-25 | Added hello_world.py (HEAD -> master) [Nikita Bondartsev]\r\n",
      "* a77a087 2020-10-25 | Initial commit. Added readme [Nikita Bondartsev]"
     ]
    }
   ],
   "source": [
    "git log --pretty=format:'%h %ad | %s%d [%an]' --graph --date=short"
   ]
  },
  {
   "cell_type": "code",
   "execution_count": 95,
   "metadata": {
    "slideshow": {
     "slide_type": "slide"
    },
    "pycharm": {
     "name": "#%%\n"
    }
   },
   "outputs": [
    {
     "name": "stdout",
     "output_type": "stream",
     "text": [
      "* 0a27781 2020-10-25 | Added hello_world.py (HEAD -> master) [Nikita Bondartsev]\r\n",
      "* a77a087 2020-10-25 | Initial commit. Added readme [Nikita Bondartsev]"
     ]
    }
   ],
   "source": [
    "git config --global alias.hist \"log --pretty=format:'%h %ad | %s%d [%an]' --graph --date=short\"\n",
    "git hist"
   ]
  },
  {
   "cell_type": "markdown",
   "metadata": {
    "slideshow": {
     "slide_type": "-"
    },
    "pycharm": {
     "name": "#%% md\n"
    }
   },
   "source": [
    "**HEAD** - указатель на текущий коммит/ветку. Перемещается при checkout'е. Следующий коммит будет указывать на текущее  положение HEAD как на родителя. При коммите HEAD сдвигается на новый коммит."
   ]
  },
  {
   "cell_type": "markdown",
   "metadata": {
    "slideshow": {
     "slide_type": "-"
    },
    "pycharm": {
     "name": "#%% md\n"
    }
   },
   "source": [
    "<div align=\"center\"><img src=\"https://avatars.mds.yandex.net/get-pdb/2464019/fb034973-8e02-4052-87dc-f7a663149b04/s1200\" width=\"800px\"/></div>"
   ]
  },
  {
   "cell_type": "markdown",
   "metadata": {
    "slideshow": {
     "slide_type": "slide"
    },
    "pycharm": {
     "name": "#%% md\n"
    }
   },
   "source": [
    "<div align=\"center\"><b><font size=7>Перемещение по истории/веткам</font></b></div>"
   ]
  },
  {
   "cell_type": "markdown",
   "metadata": {
    "slideshow": {
     "slide_type": "-"
    },
    "pycharm": {
     "name": "#%% md\n"
    }
   },
   "source": [
    "`git checkout <хеш коммита>/<имя ветки>`\n",
    "переводит HEAD в состояние, соответствующее выбранному коммиту.\n",
    "\n",
    "Изменения в файлах при этом переносятся или кидается предупреждение о том, что перемещение не выполнено.\n",
    "\n",
    "Не путать с `git checkout <filename>`, который сбросит modified изменения в файле."
   ]
  },
  {
   "cell_type": "code",
   "execution_count": 97,
   "metadata": {
    "slideshow": {
     "slide_type": "-"
    },
    "pycharm": {
     "name": "#%%\n"
    }
   },
   "outputs": [
    {
     "name": "stdout",
     "output_type": "stream",
     "text": [
      "On branch master\r\n",
      "nothing to commit, working tree clean\r\n"
     ]
    }
   ],
   "source": [
    "git status"
   ]
  },
  {
   "cell_type": "code",
   "execution_count": 99,
   "metadata": {
    "slideshow": {
     "slide_type": "-"
    },
    "pycharm": {
     "name": "#%%\n"
    }
   },
   "outputs": [
    {
     "name": "stdout",
     "output_type": "stream",
     "text": [
      "hello_world.py\tREADME.md\r\n"
     ]
    }
   ],
   "source": [
    "echo \"Another line\" >> README.md\n",
    "ls"
   ]
  },
  {
   "cell_type": "code",
   "execution_count": 119,
   "metadata": {
    "slideshow": {
     "slide_type": "slide"
    },
    "pycharm": {
     "name": "#%%\n"
    }
   },
   "outputs": [
    {
     "name": "stdout",
     "output_type": "stream",
     "text": [
      "M\tREADME.md\r\n",
      "Note: checking out 'a77a087'.\r\n",
      "\r\n",
      "You are in 'detached HEAD' state. You can look around, make experimental\r\n",
      "changes and commit them, and you can discard any commits you make in this\r\n",
      "state without impacting any branches by performing another checkout.\r\n",
      "\r\n",
      "If you want to create a new branch to retain commits you create, you may\r\n",
      "do so (now or later) by using -b with the checkout command again. Example:\r\n",
      "\r\n",
      "  git checkout -b <new-branch-name>\r\n",
      "\r\n",
      "HEAD is now at a77a087 Initial commit. Added readme\r\n"
     ]
    }
   ],
   "source": [
    "git checkout a77a087"
   ]
  },
  {
   "cell_type": "code",
   "execution_count": 108,
   "metadata": {
    "slideshow": {
     "slide_type": "-"
    },
    "pycharm": {
     "name": "#%%\n"
    }
   },
   "outputs": [
    {
     "name": "stdout",
     "output_type": "stream",
     "text": [
      "README.md\r\n"
     ]
    }
   ],
   "source": [
    "ls"
   ]
  },
  {
   "cell_type": "markdown",
   "metadata": {
    "slideshow": {
     "slide_type": "-"
    },
    "pycharm": {
     "name": "#%% md\n"
    }
   },
   "source": [
    "Файл hello_world.py пропал, изменения в README.md остались."
   ]
  },
  {
   "cell_type": "markdown",
   "metadata": {
    "slideshow": {
     "slide_type": "slide"
    },
    "pycharm": {
     "name": "#%% md\n"
    }
   },
   "source": [
    "История обычно рисуется до HEAD, поэтому если HEAD перемещен, то и в истории будет видно не все."
   ]
  },
  {
   "cell_type": "code",
   "execution_count": 109,
   "metadata": {
    "slideshow": {
     "slide_type": "-"
    },
    "pycharm": {
     "name": "#%%\n"
    }
   },
   "outputs": [
    {
     "name": "stdout",
     "output_type": "stream",
     "text": [
      "* a77a087 2020-10-25 | Initial commit. Added readme (HEAD) [Nikita Bondartsev]"
     ]
    }
   ],
   "source": [
    "git hist"
   ]
  },
  {
   "cell_type": "code",
   "execution_count": 110,
   "metadata": {
    "slideshow": {
     "slide_type": "-"
    },
    "pycharm": {
     "name": "#%%\n"
    }
   },
   "outputs": [
    {
     "name": "stdout",
     "output_type": "stream",
     "text": [
      "* 0a27781 2020-10-25 | Added hello_world.py (master) [Nikita Bondartsev]\r\n",
      "* a77a087 2020-10-25 | Initial commit. Added readme (HEAD) [Nikita Bondartsev]"
     ]
    }
   ],
   "source": [
    "git hist --all"
   ]
  },
  {
   "cell_type": "code",
   "execution_count": 111,
   "metadata": {
    "slideshow": {
     "slide_type": "slide"
    },
    "pycharm": {
     "name": "#%%\n"
    }
   },
   "outputs": [
    {
     "name": "stdout",
     "output_type": "stream",
     "text": [
      "\u001B[31mHEAD detached at \u001B[ma77a087\r\n",
      "Changes not staged for commit:\r\n",
      "  (use \"git add <file>...\" to update what will be committed)\r\n",
      "  (use \"git checkout -- <file>...\" to discard changes in working directory)\r\n",
      "\r\n",
      "\t\u001B[31mmodified:   README.md\u001B[m\r\n",
      "\r\n",
      "no changes added to commit (use \"git add\" and/or \"git commit -a\")\r\n"
     ]
    }
   ],
   "source": [
    "git status"
   ]
  },
  {
   "cell_type": "markdown",
   "metadata": {
    "slideshow": {
     "slide_type": "-"
    },
    "pycharm": {
     "name": "#%% md\n"
    }
   },
   "source": [
    "`HEAD detached at` означает, что текущий HEAD указывает не на ветку, а на какой-то коммит. Это \"опасная\" ситуация. Можно \"потерять\" изменения."
   ]
  },
  {
   "cell_type": "code",
   "execution_count": 122,
   "metadata": {
    "slideshow": {
     "slide_type": "-"
    },
    "pycharm": {
     "name": "#%%\n"
    }
   },
   "outputs": [
    {
     "name": "stdout",
     "output_type": "stream",
     "text": [
      "[detached HEAD 2d35f25] Commit with another line\r\n",
      " 1 file changed, 1 insertion(+)\r\n"
     ]
    }
   ],
   "source": [
    "git commit -a -m \"Commit with another line\""
   ]
  },
  {
   "cell_type": "code",
   "execution_count": 124,
   "metadata": {
    "slideshow": {
     "slide_type": "-"
    },
    "pycharm": {
     "name": "#%%\n"
    }
   },
   "outputs": [
    {
     "name": "stdout",
     "output_type": "stream",
     "text": [
      "* 2d35f25 2020-10-25 | Commit with another line (HEAD) [Nikita Bondartsev]\r\n",
      "\u001B[31m|\u001B[m * 0a27781 2020-10-25 | Added hello_world.py (master) [Nikita Bondartsev]\r\n",
      "\u001B[31m|\u001B[m\u001B[31m/\u001B[m  \r\n",
      "* a77a087 2020-10-25 | Initial commit. Added readme [Nikita Bondartsev]"
     ]
    }
   ],
   "source": [
    "git hist --all"
   ]
  },
  {
   "cell_type": "markdown",
   "metadata": {
    "slideshow": {
     "slide_type": "slide"
    },
    "pycharm": {
     "name": "#%% md\n"
    }
   },
   "source": [
    "## commit из detached HEAD - опасно\n",
    "Если после коммита из detached HEAD перейти в другую точку истории - коммит пропадает!"
   ]
  },
  {
   "cell_type": "code",
   "execution_count": 126,
   "metadata": {
    "slideshow": {
     "slide_type": "-"
    },
    "pycharm": {
     "name": "#%%\n"
    }
   },
   "outputs": [
    {
     "name": "stdout",
     "output_type": "stream",
     "text": [
      "Warning: you are leaving 1 commit behind, not connected to\r\n",
      "any of your branches:\r\n",
      "\r\n",
      "  2d35f25 Commit with another line\r\n",
      "\r\n",
      "If you want to keep it by creating a new branch, this may be a good time\r\n",
      "to do so with:\r\n",
      "\r\n",
      " git branch <new-branch-name> 2d35f25\r\n",
      "\r\n",
      "Switched to branch 'master'\r\n"
     ]
    }
   ],
   "source": [
    "git checkout master"
   ]
  },
  {
   "cell_type": "code",
   "execution_count": 127,
   "metadata": {
    "slideshow": {
     "slide_type": "-"
    },
    "pycharm": {
     "name": "#%%\n"
    }
   },
   "outputs": [
    {
     "name": "stdout",
     "output_type": "stream",
     "text": [
      "* 0a27781 2020-10-25 | Added hello_world.py (HEAD -> master) [Nikita Bondartsev]\r\n",
      "* a77a087 2020-10-25 | Initial commit. Added readme [Nikita Bondartsev]"
     ]
    }
   ],
   "source": [
    "git hist --all"
   ]
  },
  {
   "cell_type": "code",
   "execution_count": 129,
   "metadata": {
    "slideshow": {
     "slide_type": "slide"
    },
    "pycharm": {
     "name": "#%%\n"
    }
   },
   "outputs": [
    {
     "name": "stdout",
     "output_type": "stream",
     "text": [
      "On branch master\n",
      "nothing to commit, working tree clean\n",
      "# Hello\n"
     ]
    }
   ],
   "source": [
    "git status\n",
    "cat README.md"
   ]
  },
  {
   "cell_type": "markdown",
   "metadata": {
    "slideshow": {
     "slide_type": "-"
    },
    "pycharm": {
     "name": "#%% md\n"
    }
   },
   "source": [
    "Коммита в истории нет, изменения из файла пропали. Как будто домашка и не была никогда сделана - очень стремное состояние :)\n",
    "\n",
    "Чтобы такого не было, нужно было создать ветку и коммитить в нее!"
   ]
  },
  {
   "cell_type": "code",
   "execution_count": 130,
   "metadata": {
    "slideshow": {
     "slide_type": "-"
    },
    "pycharm": {
     "name": "#%%\n"
    }
   },
   "outputs": [
    {
     "name": "stdout",
     "output_type": "stream",
     "text": [
      "M\tREADME.md\n",
      "Note: checking out 'a77a087'.\n",
      "\n",
      "You are in 'detached HEAD' state. You can look around, make experimental\n",
      "changes and commit them, and you can discard any commits you make in this\n",
      "state without impacting any branches by performing another checkout.\n",
      "\n",
      "If you want to create a new branch to retain commits you create, you may\n",
      "do so (now or later) by using -b with the checkout command again. Example:\n",
      "\n",
      "  git checkout -b <new-branch-name>\n",
      "\n",
      "HEAD is now at a77a087 Initial commit. Added readme\n",
      "M\tREADME.md\n",
      "Switched to a new branch 'branch_with_newline'\n"
     ]
    }
   ],
   "source": [
    "echo \"Line after the last one has been lost\" >> README.md\n",
    "git checkout a77a087\n",
    "git checkout -b branch_with_newline"
   ]
  },
  {
   "cell_type": "code",
   "execution_count": 131,
   "metadata": {
    "slideshow": {
     "slide_type": "slide"
    },
    "pycharm": {
     "name": "#%%\n"
    }
   },
   "outputs": [
    {
     "name": "stdout",
     "output_type": "stream",
     "text": [
      "* 0a27781 2020-10-25 | Added hello_world.py (master) [Nikita Bondartsev]\r\n",
      "* a77a087 2020-10-25 | Initial commit. Added readme (HEAD -> branch_with_newline) [Nikita Bondartsev]"
     ]
    }
   ],
   "source": [
    "git hist --all"
   ]
  },
  {
   "cell_type": "code",
   "execution_count": 134,
   "metadata": {
    "slideshow": {
     "slide_type": "-"
    },
    "pycharm": {
     "name": "#%%\n"
    }
   },
   "outputs": [
    {
     "name": "stdout",
     "output_type": "stream",
     "text": [
      "[branch_with_newline f5a1562] I am going to save this line indeed\r\n",
      " 1 file changed, 1 insertion(+)\r\n"
     ]
    }
   ],
   "source": [
    "git add README.md\n",
    "git commit -m \"I am going to save this line indeed\""
   ]
  },
  {
   "cell_type": "code",
   "execution_count": 136,
   "metadata": {
    "slideshow": {
     "slide_type": "-"
    },
    "pycharm": {
     "name": "#%%\n"
    }
   },
   "outputs": [
    {
     "name": "stdout",
     "output_type": "stream",
     "text": [
      "* f5a1562 2020-10-25 | I am going to save this line indeed (HEAD -> branch_with_newline) [Nikita Bondartsev]\r\n",
      "\u001B[31m|\u001B[m * 0a27781 2020-10-25 | Added hello_world.py (master) [Nikita Bondartsev]\r\n",
      "\u001B[31m|\u001B[m\u001B[31m/\u001B[m  \r\n",
      "* a77a087 2020-10-25 | Initial commit. Added readme [Nikita Bondartsev]"
     ]
    }
   ],
   "source": [
    "git hist --all"
   ]
  },
  {
   "cell_type": "markdown",
   "metadata": {
    "slideshow": {
     "slide_type": "-"
    },
    "pycharm": {
     "name": "#%% md\n"
    }
   },
   "source": [
    "Что произошло:\n",
    "* HEAD сдвинулся с a77a087 до f5a1562\n",
    "* Аналогично сдвинулась ветка `branch_with_newline`\n",
    "* Произошло разветвление истории"
   ]
  },
  {
   "cell_type": "markdown",
   "metadata": {
    "slideshow": {
     "slide_type": "slide"
    },
    "pycharm": {
     "name": "#%% md\n"
    }
   },
   "source": [
    "Теперь можно спокойно перемещаться между ветками - ничего не пропадет."
   ]
  },
  {
   "cell_type": "code",
   "execution_count": 142,
   "metadata": {
    "slideshow": {
     "slide_type": "-"
    },
    "pycharm": {
     "name": "#%%\n"
    }
   },
   "outputs": [
    {
     "name": "stdout",
     "output_type": "stream",
     "text": [
      "README.md\n",
      "# Hello\n",
      "Line after the last one has been lost\n"
     ]
    }
   ],
   "source": [
    "ls\n",
    "cat README.md"
   ]
  },
  {
   "cell_type": "code",
   "execution_count": 143,
   "metadata": {
    "slideshow": {
     "slide_type": "-"
    },
    "pycharm": {
     "name": "#%%\n"
    }
   },
   "outputs": [
    {
     "name": "stdout",
     "output_type": "stream",
     "text": [
      "Switched to branch 'master'\r\n"
     ]
    }
   ],
   "source": [
    "git checkout master"
   ]
  },
  {
   "cell_type": "code",
   "execution_count": 144,
   "metadata": {
    "slideshow": {
     "slide_type": "-"
    },
    "pycharm": {
     "name": "#%%\n"
    }
   },
   "outputs": [
    {
     "name": "stdout",
     "output_type": "stream",
     "text": [
      "hello_world.py\tREADME.md\n",
      "# Hello\n"
     ]
    }
   ],
   "source": [
    "ls\n",
    "cat README.md"
   ]
  },
  {
   "cell_type": "code",
   "execution_count": 146,
   "metadata": {
    "slideshow": {
     "slide_type": "-"
    },
    "pycharm": {
     "name": "#%%\n"
    }
   },
   "outputs": [
    {
     "name": "stdout",
     "output_type": "stream",
     "text": [
      "* f5a1562 2020-10-25 | I am going to save this line indeed (branch_with_newline) [Nikita Bondartsev]\r\n",
      "\u001B[31m|\u001B[m * 0a27781 2020-10-25 | Added hello_world.py (HEAD -> master) [Nikita Bondartsev]\r\n",
      "\u001B[31m|\u001B[m\u001B[31m/\u001B[m  \r\n",
      "* a77a087 2020-10-25 | Initial commit. Added readme [Nikita Bondartsev]"
     ]
    }
   ],
   "source": [
    "git hist --all"
   ]
  },
  {
   "cell_type": "markdown",
   "metadata": {
    "slideshow": {
     "slide_type": "slide"
    },
    "pycharm": {
     "name": "#%% md\n"
    }
   },
   "source": [
    "Изменения переносятся. Но что если они конфликтуют?"
   ]
  },
  {
   "cell_type": "code",
   "execution_count": 148,
   "metadata": {
    "slideshow": {
     "slide_type": "-"
    },
    "pycharm": {
     "name": "#%%\n"
    }
   },
   "outputs": [],
   "source": [
    "echo \"Line from master\" >> README.md"
   ]
  },
  {
   "cell_type": "code",
   "execution_count": 149,
   "metadata": {
    "slideshow": {
     "slide_type": "-"
    },
    "pycharm": {
     "name": "#%%\n"
    }
   },
   "outputs": [
    {
     "name": "stdout",
     "output_type": "stream",
     "text": [
      "error: Your local changes to the following files would be overwritten by checkout:\r\n",
      "\tREADME.md\r\n",
      "Please commit your changes or stash them before you switch branches.\r\n",
      "Aborting\r\n"
     ]
    }
   ],
   "source": [
    "git checkout branch_with_newline"
   ]
  },
  {
   "cell_type": "code",
   "execution_count": 150,
   "metadata": {
    "slideshow": {
     "slide_type": "-"
    },
    "pycharm": {
     "name": "#%%\n"
    }
   },
   "outputs": [],
   "source": [
    "git checkout README.md"
   ]
  },
  {
   "cell_type": "code",
   "execution_count": 151,
   "metadata": {
    "slideshow": {
     "slide_type": "-"
    },
    "pycharm": {
     "name": "#%%\n"
    }
   },
   "outputs": [
    {
     "name": "stdout",
     "output_type": "stream",
     "text": [
      "Switched to branch 'branch_with_newline'\r\n"
     ]
    }
   ],
   "source": [
    "git checkout branch_with_newline"
   ]
  },
  {
   "cell_type": "markdown",
   "metadata": {
    "slideshow": {
     "slide_type": "slide"
    },
    "pycharm": {
     "name": "#%% md\n"
    }
   },
   "source": [
    "# Слияние веток"
   ]
  },
  {
   "cell_type": "code",
   "execution_count": 152,
   "metadata": {
    "slideshow": {
     "slide_type": "-"
    },
    "pycharm": {
     "name": "#%%\n"
    }
   },
   "outputs": [
    {
     "name": "stdout",
     "output_type": "stream",
     "text": [
      "* f5a1562 2020-10-25 | I am going to save this line indeed (HEAD -> branch_with_newline) [Nikita Bondartsev]\r\n",
      "\u001B[31m|\u001B[m * 0a27781 2020-10-25 | Added hello_world.py (master) [Nikita Bondartsev]\r\n",
      "\u001B[31m|\u001B[m\u001B[31m/\u001B[m  \r\n",
      "* a77a087 2020-10-25 | Initial commit. Added readme [Nikita Bondartsev]"
     ]
    }
   ],
   "source": [
    "git hist --all"
   ]
  },
  {
   "cell_type": "code",
   "execution_count": 154,
   "metadata": {
    "slideshow": {
     "slide_type": "-"
    },
    "pycharm": {
     "name": "#%%\n"
    }
   },
   "outputs": [
    {
     "name": "stdout",
     "output_type": "stream",
     "text": [
      "fatal: You have not concluded your merge (MERGE_HEAD exists).\r\n",
      "Please, commit your changes before you merge.\r\n"
     ]
    }
   ],
   "source": [
    "git merge master"
   ]
  },
  {
   "cell_type": "code",
   "execution_count": 156,
   "metadata": {
    "slideshow": {
     "slide_type": "-"
    },
    "pycharm": {
     "name": "#%%\n"
    }
   },
   "outputs": [
    {
     "name": "stdout",
     "output_type": "stream",
     "text": [
      "On branch branch_with_newline\r\n",
      "All conflicts fixed but you are still merging.\r\n",
      "  (use \"git commit\" to conclude merge)\r\n",
      "\r\n",
      "Changes to be committed:\r\n",
      "\r\n",
      "\t\u001B[32mnew file:   hello_world.py\u001B[m\r\n",
      "\r\n"
     ]
    }
   ],
   "source": [
    "git status"
   ]
  },
  {
   "cell_type": "code",
   "execution_count": 157,
   "metadata": {
    "slideshow": {
     "slide_type": "slide"
    },
    "pycharm": {
     "name": "#%%\n"
    }
   },
   "outputs": [
    {
     "name": "stdout",
     "output_type": "stream",
     "text": [
      "[branch_with_newline 254be4f] Merged master into branch_with_newline.\r\n"
     ]
    }
   ],
   "source": [
    "git commit -m \"Merged master into branch_with_newline.\""
   ]
  },
  {
   "cell_type": "code",
   "execution_count": 158,
   "metadata": {
    "slideshow": {
     "slide_type": "-"
    },
    "pycharm": {
     "name": "#%%\n"
    }
   },
   "outputs": [
    {
     "name": "stdout",
     "output_type": "stream",
     "text": [
      "*   254be4f 2020-10-25 | Merged master into branch_with_newline. (HEAD -> branch_with_newline) [Nikita Bondartsev]\r\n",
      "\u001B[31m|\u001B[m\u001B[32m\\\u001B[m  \r\n",
      "\u001B[31m|\u001B[m * 0a27781 2020-10-25 | Added hello_world.py (master) [Nikita Bondartsev]\r\n",
      "* \u001B[32m|\u001B[m f5a1562 2020-10-25 | I am going to save this line indeed [Nikita Bondartsev]\r\n",
      "\u001B[32m|\u001B[m\u001B[32m/\u001B[m  \r\n",
      "* a77a087 2020-10-25 | Initial commit. Added readme [Nikita Bondartsev]"
     ]
    }
   ],
   "source": [
    "git hist --all"
   ]
  },
  {
   "cell_type": "markdown",
   "metadata": {
    "slideshow": {
     "slide_type": "-"
    },
    "pycharm": {
     "name": "#%% md\n"
    }
   },
   "source": [
    "Что произошло:\n",
    "* Добавился новый коммит в ветку, на которой мы были при вызове `git merge`.\n",
    "* HEAD сдвинулся на новый коммит.\n",
    "* История `master`'а теперь вложена в историю `branch_with_newline`.\n",
    "* `master` остался там же, где и был раньше.\n",
    "* Рабочая директория содержит оба набора изменений."
   ]
  },
  {
   "cell_type": "markdown",
   "metadata": {
    "slideshow": {
     "slide_type": "slide"
    },
    "pycharm": {
     "name": "#%% md\n"
    }
   },
   "source": [
    "## Самый приятный merge - это fast-forward"
   ]
  },
  {
   "cell_type": "code",
   "execution_count": 159,
   "metadata": {
    "slideshow": {
     "slide_type": "-"
    },
    "pycharm": {
     "name": "#%%\n"
    }
   },
   "outputs": [
    {
     "name": "stdout",
     "output_type": "stream",
     "text": [
      "Switched to branch 'master'\r\n"
     ]
    }
   ],
   "source": [
    "git checkout master"
   ]
  },
  {
   "cell_type": "code",
   "execution_count": 160,
   "metadata": {
    "slideshow": {
     "slide_type": "-"
    },
    "pycharm": {
     "name": "#%%\n"
    }
   },
   "outputs": [
    {
     "name": "stdout",
     "output_type": "stream",
     "text": [
      "On branch master\r\n",
      "nothing to commit, working tree clean\r\n"
     ]
    }
   ],
   "source": [
    "git status"
   ]
  },
  {
   "cell_type": "code",
   "execution_count": 161,
   "metadata": {
    "slideshow": {
     "slide_type": "-"
    },
    "pycharm": {
     "name": "#%%\n"
    }
   },
   "outputs": [
    {
     "name": "stdout",
     "output_type": "stream",
     "text": [
      "Updating 0a27781..254be4f\r\n",
      "Fast-forward\r\n",
      " README.md | 1 \u001B[32m+\u001B[m\r\n",
      " 1 file changed, 1 insertion(+)\r\n"
     ]
    }
   ],
   "source": [
    "git merge branch_with_newline"
   ]
  },
  {
   "cell_type": "markdown",
   "metadata": {
    "slideshow": {
     "slide_type": "slide"
    },
    "pycharm": {
     "name": "#%% md\n"
    }
   },
   "source": [
    "Fast-froward возможен, когда история одной ветки вложена в историю другой ветки."
   ]
  },
  {
   "cell_type": "code",
   "execution_count": 163,
   "metadata": {
    "slideshow": {
     "slide_type": "-"
    },
    "pycharm": {
     "name": "#%%\n"
    }
   },
   "outputs": [
    {
     "name": "stdout",
     "output_type": "stream",
     "text": [
      "*   254be4f 2020-10-25 | Merged master into branch_with_newline. (HEAD -> master, branch_with_newline) [Nikita Bondartsev]\r\n",
      "\u001B[31m|\u001B[m\u001B[32m\\\u001B[m  \r\n",
      "\u001B[31m|\u001B[m * 0a27781 2020-10-25 | Added hello_world.py [Nikita Bondartsev]\r\n",
      "* \u001B[32m|\u001B[m f5a1562 2020-10-25 | I am going to save this line indeed [Nikita Bondartsev]\r\n",
      "\u001B[32m|\u001B[m\u001B[32m/\u001B[m  \r\n",
      "* a77a087 2020-10-25 | Initial commit. Added readme [Nikita Bondartsev]"
     ]
    }
   ],
   "source": [
    "git hist --all"
   ]
  },
  {
   "cell_type": "markdown",
   "metadata": {
    "slideshow": {
     "slide_type": "-"
    },
    "pycharm": {
     "name": "#%% md\n"
    }
   },
   "source": [
    "Что произошло:\n",
    "* ветка `master` просто переехала туда же, где находилась ветка `branch_with_newline`.\n",
    "* новый коммит **не был** создан!"
   ]
  },
  {
   "cell_type": "markdown",
   "metadata": {
    "slideshow": {
     "slide_type": "slide"
    },
    "pycharm": {
     "name": "#%% md\n"
    }
   },
   "source": [
    "После вливания в master, вторая ветка нам больше не нужна - можно удалить."
   ]
  },
  {
   "cell_type": "code",
   "execution_count": 164,
   "metadata": {
    "slideshow": {
     "slide_type": "-"
    },
    "pycharm": {
     "name": "#%%\n"
    }
   },
   "outputs": [
    {
     "name": "stdout",
     "output_type": "stream",
     "text": [
      "*   254be4f 2020-10-25 | Merged master into branch_with_newline. (HEAD -> master, branch_with_newline) [Nikita Bondartsev]\r\n",
      "\u001B[31m|\u001B[m\u001B[32m\\\u001B[m  \r\n",
      "\u001B[31m|\u001B[m * 0a27781 2020-10-25 | Added hello_world.py [Nikita Bondartsev]\r\n",
      "* \u001B[32m|\u001B[m f5a1562 2020-10-25 | I am going to save this line indeed [Nikita Bondartsev]\r\n",
      "\u001B[32m|\u001B[m\u001B[32m/\u001B[m  \r\n",
      "* a77a087 2020-10-25 | Initial commit. Added readme [Nikita Bondartsev]"
     ]
    }
   ],
   "source": [
    "git hist"
   ]
  },
  {
   "cell_type": "code",
   "execution_count": 165,
   "metadata": {
    "slideshow": {
     "slide_type": "-"
    },
    "pycharm": {
     "name": "#%%\n"
    }
   },
   "outputs": [
    {
     "name": "stdout",
     "output_type": "stream",
     "text": [
      "Deleted branch branch_with_newline (was 254be4f).\r\n"
     ]
    }
   ],
   "source": [
    "git branch -d branch_with_newline"
   ]
  },
  {
   "cell_type": "code",
   "execution_count": 166,
   "metadata": {
    "slideshow": {
     "slide_type": "-"
    },
    "pycharm": {
     "name": "#%%\n"
    }
   },
   "outputs": [
    {
     "name": "stdout",
     "output_type": "stream",
     "text": [
      "*   254be4f 2020-10-25 | Merged master into branch_with_newline. (HEAD -> master) [Nikita Bondartsev]\r\n",
      "\u001B[31m|\u001B[m\u001B[32m\\\u001B[m  \r\n",
      "\u001B[31m|\u001B[m * 0a27781 2020-10-25 | Added hello_world.py [Nikita Bondartsev]\r\n",
      "* \u001B[32m|\u001B[m f5a1562 2020-10-25 | I am going to save this line indeed [Nikita Bondartsev]\r\n",
      "\u001B[32m|\u001B[m\u001B[32m/\u001B[m  \r\n",
      "* a77a087 2020-10-25 | Initial commit. Added readme [Nikita Bondartsev]"
     ]
    }
   ],
   "source": [
    "git hist"
   ]
  },
  {
   "cell_type": "markdown",
   "metadata": {
    "slideshow": {
     "slide_type": "slide"
    },
    "pycharm": {
     "name": "#%% md\n"
    }
   },
   "source": [
    "## Возможные сценарии слияния:\n",
    "\n",
    "Все сценарии вызываются командой `git merge <branch to be merged into current branch>`, выбор сценария определяется соотношением между историями сливаемых веток:\n",
    "* **fast-forward**, когда история текущей ветки включена в историю вливаемой. Никаких дополнительных действий не требуется, коммит не создается.\n",
    "* **automatic merge**, когда истории расходятся, НО изменения согласованы. Точно пройдет без проблем, если изменения внесены в разные файлы. Требуется дополнительно ввести сообщение для объединяющего коммита.\n",
    "* **merge conflict**, когда истории расходятся И изменения НЕ согласованы, например, изменена одна и та же строчка. Требуется открыть конфликтые файлы (см. `git status`) и руками выбрать те изменения, которые нужно оставить, удалить ненужные автоматически сгенерированные строки из конфликтных файлов и не забыть закомитить изменения."
   ]
  },
  {
   "cell_type": "markdown",
   "metadata": {
    "slideshow": {
     "slide_type": "slide"
    },
    "pycharm": {
     "name": "#%% md\n"
    }
   },
   "source": [
    "Сейчас умеем:\n",
    "* Менять файлы и комитить изменения: `add`, `commit`.\n",
    "* Смотреть историю: `log`, удобный alias `hist`.\n",
    "* Перемещать HEAD (получать версию файлов на какой-то момент в истории): `checkout <commit hash>/<branch>`.\n",
    "* Работать с ветками `branch`, `checkout -b`, `branch -d`.\n",
    "* Сливать изменения из разных веток `merge`: с merge коммитом (после расхождения истории) и без (при fast-forward).\n",
    "* Не коммитить в detached HEAD.\n",
    "* Двигать ветки вперед в истории с помощью новых коммитов или fast-forward."
   ]
  },
  {
   "cell_type": "markdown",
   "metadata": {
    "slideshow": {
     "slide_type": "slide"
    },
    "pycharm": {
     "name": "#%% md\n"
    }
   },
   "source": [
    "<div align=\"center\"><b><font size=6>Но почему нельзя двигать ветку назад? - можно!</font></b></div>\n",
    "\n",
    "<!-- <div align=\"center\"><img style=\"height:750px\" src=\"https://avatars.mds.yandex.net/get-pdb/2886607/35f9f799-93f6-4908-ac62-24b12f267193/s1200\"/></div> -->\n",
    "<div align=\"center\"><img class=\"lecture-image\" src=\"https://cs9.pikabu.ru/post_img/big/2020/09/07/8/1599486967146486383.jpg\" style=\"height: 500px;\"/></div>\n"
   ]
  },
  {
   "cell_type": "code",
   "execution_count": 168,
   "metadata": {
    "slideshow": {
     "slide_type": "slide"
    },
    "pycharm": {
     "name": "#%%\n"
    }
   },
   "outputs": [
    {
     "name": "stdout",
     "output_type": "stream",
     "text": [
      "Switched to a new branch 'moved'\r\n"
     ]
    }
   ],
   "source": [
    "git checkout -b moved"
   ]
  },
  {
   "cell_type": "code",
   "execution_count": 169,
   "metadata": {
    "slideshow": {
     "slide_type": "-"
    },
    "pycharm": {
     "name": "#%%\n"
    }
   },
   "outputs": [
    {
     "name": "stdout",
     "output_type": "stream",
     "text": [
      "*   254be4f 2020-10-25 | Merged master into branch_with_newline. (HEAD -> moved, master) [Nikita Bondartsev]\r\n",
      "\u001B[31m|\u001B[m\u001B[32m\\\u001B[m  \r\n",
      "\u001B[31m|\u001B[m * 0a27781 2020-10-25 | Added hello_world.py [Nikita Bondartsev]\r\n",
      "* \u001B[32m|\u001B[m f5a1562 2020-10-25 | I am going to save this line indeed [Nikita Bondartsev]\r\n",
      "\u001B[32m|\u001B[m\u001B[32m/\u001B[m  \r\n",
      "* a77a087 2020-10-25 | Initial commit. Added readme [Nikita Bondartsev]"
     ]
    }
   ],
   "source": [
    "git hist"
   ]
  },
  {
   "cell_type": "code",
   "execution_count": 170,
   "metadata": {
    "slideshow": {
     "slide_type": "-"
    },
    "pycharm": {
     "name": "#%%\n"
    }
   },
   "outputs": [
    {
     "name": "stdout",
     "output_type": "stream",
     "text": [
      "Unstaged changes after reset:\r\n",
      "M\tREADME.md\r\n"
     ]
    }
   ],
   "source": [
    "git reset 0a27781"
   ]
  },
  {
   "cell_type": "code",
   "execution_count": 172,
   "metadata": {
    "slideshow": {
     "slide_type": "-"
    },
    "pycharm": {
     "name": "#%%\n"
    }
   },
   "outputs": [
    {
     "name": "stdout",
     "output_type": "stream",
     "text": [
      "*   254be4f 2020-10-25 | Merged master into branch_with_newline. (master) [Nikita Bondartsev]\r\n",
      "\u001B[31m|\u001B[m\u001B[32m\\\u001B[m  \r\n",
      "\u001B[31m|\u001B[m * 0a27781 2020-10-25 | Added hello_world.py (HEAD -> moved) [Nikita Bondartsev]\r\n",
      "* \u001B[32m|\u001B[m f5a1562 2020-10-25 | I am going to save this line indeed [Nikita Bondartsev]\r\n",
      "\u001B[32m|\u001B[m\u001B[32m/\u001B[m  \r\n",
      "* a77a087 2020-10-25 | Initial commit. Added readme [Nikita Bondartsev]"
     ]
    }
   ],
   "source": [
    "git hist --all"
   ]
  },
  {
   "cell_type": "markdown",
   "metadata": {
    "slideshow": {
     "slide_type": "slide"
    },
    "pycharm": {
     "name": "#%% md\n"
    }
   },
   "source": [
    "HEAD и ветка moved переехали на указанный коммит. Файлы, измененные между коммитами, перешли из состояния unmodified в modified и теперь видны в `status`, теперь их можно заново коммитить."
   ]
  },
  {
   "cell_type": "code",
   "execution_count": 173,
   "metadata": {
    "slideshow": {
     "slide_type": "-"
    },
    "pycharm": {
     "name": "#%%\n"
    }
   },
   "outputs": [
    {
     "name": "stdout",
     "output_type": "stream",
     "text": [
      "On branch moved\r\n",
      "Changes not staged for commit:\r\n",
      "  (use \"git add <file>...\" to update what will be committed)\r\n",
      "  (use \"git checkout -- <file>...\" to discard changes in working directory)\r\n",
      "\r\n",
      "\t\u001B[31mmodified:   README.md\u001B[m\r\n",
      "\r\n",
      "no changes added to commit (use \"git add\" and/or \"git commit -a\")\r\n"
     ]
    }
   ],
   "source": [
    "git status"
   ]
  },
  {
   "cell_type": "code",
   "execution_count": 174,
   "metadata": {
    "slideshow": {
     "slide_type": "-"
    },
    "pycharm": {
     "name": "#%%\n"
    }
   },
   "outputs": [
    {
     "name": "stdout",
     "output_type": "stream",
     "text": [
      "[moved b79310d] New commmit with the same content\r\n",
      " 1 file changed, 1 insertion(+)\r\n"
     ]
    }
   ],
   "source": [
    "git add README.md && git commit -m \"New commmit with the same content\""
   ]
  },
  {
   "cell_type": "code",
   "execution_count": 176,
   "metadata": {
    "slideshow": {
     "slide_type": "-"
    },
    "pycharm": {
     "name": "#%%\n"
    }
   },
   "outputs": [
    {
     "name": "stdout",
     "output_type": "stream",
     "text": [
      "* b79310d 2020-10-25 | New commmit with the same content (HEAD -> moved) [Nikita Bondartsev]\r\n",
      "\u001B[31m|\u001B[m *   254be4f 2020-10-25 | Merged master into branch_with_newline. (master) [Nikita Bondartsev]\r\n",
      "\u001B[31m|\u001B[m \u001B[32m|\u001B[m\u001B[31m\\\u001B[m  \r\n",
      "\u001B[31m|\u001B[m \u001B[32m|\u001B[m\u001B[31m/\u001B[m  \r\n",
      "\u001B[31m|\u001B[m\u001B[31m/\u001B[m\u001B[32m|\u001B[m   \r\n",
      "* \u001B[32m|\u001B[m 0a27781 2020-10-25 | Added hello_world.py [Nikita Bondartsev]\r\n",
      "\u001B[33m|\u001B[m * f5a1562 2020-10-25 | I am going to save this line indeed [Nikita Bondartsev]\r\n",
      "\u001B[33m|\u001B[m\u001B[33m/\u001B[m  \r\n",
      "* a77a087 2020-10-25 | Initial commit. Added readme [Nikita Bondartsev]"
     ]
    }
   ],
   "source": [
    "git hist --all"
   ]
  },
  {
   "cell_type": "markdown",
   "metadata": {
    "slideshow": {
     "slide_type": "slide"
    },
    "pycharm": {
     "name": "#%% md\n"
    }
   },
   "source": [
    "## Еще один способ потерять работу"
   ]
  },
  {
   "cell_type": "markdown",
   "metadata": {
    "slideshow": {
     "slide_type": "-"
    },
    "pycharm": {
     "name": "#%% md\n"
    }
   },
   "source": [
    "`reset --hard` помимо перемещения ветки также приводит рабочую директорию к соответствующему состоянию."
   ]
  },
  {
   "cell_type": "code",
   "execution_count": 177,
   "metadata": {
    "slideshow": {
     "slide_type": "-"
    },
    "pycharm": {
     "name": "#%%\n"
    }
   },
   "outputs": [
    {
     "name": "stdout",
     "output_type": "stream",
     "text": [
      "HEAD is now at 254be4f Merged master into branch_with_newline.\r\n"
     ]
    }
   ],
   "source": [
    "git reset --hard master"
   ]
  },
  {
   "cell_type": "code",
   "execution_count": 178,
   "metadata": {
    "slideshow": {
     "slide_type": "-"
    },
    "pycharm": {
     "name": "#%%\n"
    }
   },
   "outputs": [
    {
     "name": "stdout",
     "output_type": "stream",
     "text": [
      "*   254be4f 2020-10-25 | Merged master into branch_with_newline. (HEAD -> moved, master) [Nikita Bondartsev]\r\n",
      "\u001B[31m|\u001B[m\u001B[32m\\\u001B[m  \r\n",
      "\u001B[31m|\u001B[m * 0a27781 2020-10-25 | Added hello_world.py [Nikita Bondartsev]\r\n",
      "* \u001B[32m|\u001B[m f5a1562 2020-10-25 | I am going to save this line indeed [Nikita Bondartsev]\r\n",
      "\u001B[32m|\u001B[m\u001B[32m/\u001B[m  \r\n",
      "* a77a087 2020-10-25 | Initial commit. Added readme [Nikita Bondartsev]"
     ]
    }
   ],
   "source": [
    "git hist --all"
   ]
  },
  {
   "cell_type": "markdown",
   "metadata": {
    "slideshow": {
     "slide_type": "slide"
    },
    "pycharm": {
     "name": "#%% md\n"
    }
   },
   "source": [
    "## А что если я хочу потерять работу?"
   ]
  },
  {
   "cell_type": "code",
   "execution_count": 188,
   "metadata": {
    "slideshow": {
     "slide_type": "-"
    },
    "pycharm": {
     "name": "#%%\n"
    }
   },
   "outputs": [],
   "source": [
    "echo \"pirnt('bye!')\" >> hello_world.py"
   ]
  },
  {
   "cell_type": "code",
   "execution_count": 190,
   "metadata": {
    "slideshow": {
     "slide_type": "-"
    },
    "pycharm": {
     "name": "#%%\n"
    }
   },
   "outputs": [
    {
     "name": "stdout",
     "output_type": "stream",
     "text": [
      "[moved 996a629] Added erroneous line\r\n",
      " 1 file changed, 1 insertion(+)\r\n"
     ]
    }
   ],
   "source": [
    "git commit -a -m \"Added erroneous line\""
   ]
  },
  {
   "cell_type": "code",
   "execution_count": 191,
   "metadata": {
    "slideshow": {
     "slide_type": "-"
    },
    "pycharm": {
     "name": "#%%\n"
    }
   },
   "outputs": [
    {
     "name": "stdout",
     "output_type": "stream",
     "text": [
      "* 996a629 2020-10-25 | Added erroneous line (HEAD -> moved) [Nikita Bondartsev]\r\n",
      "*   254be4f 2020-10-25 | Merged master into branch_with_newline. (master) [Nikita Bondartsev]\r\n",
      "\u001B[32m|\u001B[m\u001B[33m\\\u001B[m  \r\n",
      "\u001B[32m|\u001B[m * 0a27781 2020-10-25 | Added hello_world.py [Nikita Bondartsev]\r\n",
      "* \u001B[33m|\u001B[m f5a1562 2020-10-25 | I am going to save this line indeed [Nikita Bondartsev]\r\n",
      "\u001B[33m|\u001B[m\u001B[33m/\u001B[m  \r\n",
      "* a77a087 2020-10-25 | Initial commit. Added readme [Nikita Bondartsev]"
     ]
    }
   ],
   "source": [
    "git hist --all"
   ]
  },
  {
   "cell_type": "code",
   "execution_count": null,
   "metadata": {
    "slideshow": {
     "slide_type": "slide"
    },
    "pycharm": {
     "name": "#%%\n"
    }
   },
   "outputs": [],
   "source": [
    "echo \"print('hello, world')\" > hello_world.py\n",
    "echo \"print('bye!')\" >> hello_world.py"
   ]
  },
  {
   "cell_type": "code",
   "execution_count": 194,
   "metadata": {
    "slideshow": {
     "slide_type": "-"
    },
    "pycharm": {
     "name": "#%%\n"
    }
   },
   "outputs": [
    {
     "name": "stdout",
     "output_type": "stream",
     "text": [
      "[moved b0f8b88] The line now contains no errors\r\n",
      " Date: Sun Oct 25 17:33:24 2020 +0300\r\n",
      " 1 file changed, 1 insertion(+)\r\n"
     ]
    }
   ],
   "source": [
    "git commit --amend -m \"The line now contains no errors\""
   ]
  },
  {
   "cell_type": "code",
   "execution_count": 195,
   "metadata": {
    "slideshow": {
     "slide_type": "-"
    },
    "pycharm": {
     "name": "#%%\n"
    }
   },
   "outputs": [
    {
     "name": "stdout",
     "output_type": "stream",
     "text": [
      "* b0f8b88 2020-10-25 | The line now contains no errors (HEAD -> moved) [Nikita Bondartsev]\r\n",
      "*   254be4f 2020-10-25 | Merged master into branch_with_newline. (master) [Nikita Bondartsev]\r\n",
      "\u001B[32m|\u001B[m\u001B[33m\\\u001B[m  \r\n",
      "\u001B[32m|\u001B[m * 0a27781 2020-10-25 | Added hello_world.py [Nikita Bondartsev]\r\n",
      "* \u001B[33m|\u001B[m f5a1562 2020-10-25 | I am going to save this line indeed [Nikita Bondartsev]\r\n",
      "\u001B[33m|\u001B[m\u001B[33m/\u001B[m  \r\n",
      "* a77a087 2020-10-25 | Initial commit. Added readme [Nikita Bondartsev]"
     ]
    }
   ],
   "source": [
    "git hist --all"
   ]
  },
  {
   "cell_type": "markdown",
   "metadata": {
    "slideshow": {
     "slide_type": "-"
    },
    "pycharm": {
     "name": "#%% md\n"
    }
   },
   "source": [
    "Что произошло:\n",
    "* Был закомичен файл с ошибкой в коммит с хешем `996a629`.\n",
    "* Затем ошибка была исправлена.\n",
    "* С помощью `commit --amend` ошибочный коммит был заменен на правильный, история чистая. Последний коммит имеет новый хеш `b0f8b88`."
   ]
  },
  {
   "cell_type": "markdown",
   "metadata": {
    "slideshow": {
     "slide_type": "slide"
    },
    "pycharm": {
     "name": "#%% md\n"
    }
   },
   "source": [
    "Использовать `--amend` имеет смысл только пока изменения не были отправлены в удаленный репозиторий, иначе потом будет весело разбираться, тк истории начнут расходиться.\n",
    "\n",
    "## А что если я уже запушил?"
   ]
  },
  {
   "cell_type": "code",
   "execution_count": 197,
   "metadata": {
    "slideshow": {
     "slide_type": "-"
    },
    "pycharm": {
     "name": "#%%\n"
    }
   },
   "outputs": [
    {
     "name": "stdout",
     "output_type": "stream",
     "text": [
      "HEAD is now at 254be4f Merged master into branch_with_newline.\r\n"
     ]
    }
   ],
   "source": [
    "git reset --hard master"
   ]
  },
  {
   "cell_type": "code",
   "execution_count": 198,
   "metadata": {
    "slideshow": {
     "slide_type": "-"
    },
    "pycharm": {
     "name": "#%%\n"
    }
   },
   "outputs": [
    {
     "name": "stdout",
     "output_type": "stream",
     "text": [
      "*   254be4f 2020-10-25 | Merged master into branch_with_newline. (HEAD -> moved, master) [Nikita Bondartsev]\r\n",
      "\u001B[31m|\u001B[m\u001B[32m\\\u001B[m  \r\n",
      "\u001B[31m|\u001B[m * 0a27781 2020-10-25 | Added hello_world.py [Nikita Bondartsev]\r\n",
      "* \u001B[32m|\u001B[m f5a1562 2020-10-25 | I am going to save this line indeed [Nikita Bondartsev]\r\n",
      "\u001B[32m|\u001B[m\u001B[32m/\u001B[m  \r\n",
      "* a77a087 2020-10-25 | Initial commit. Added readme [Nikita Bondartsev]"
     ]
    }
   ],
   "source": [
    "git hist --all"
   ]
  },
  {
   "cell_type": "markdown",
   "metadata": {
    "slideshow": {
     "slide_type": "-"
    },
    "pycharm": {
     "name": "#%% md\n"
    }
   },
   "source": [
    "День неудачный, снова ошиблись."
   ]
  },
  {
   "cell_type": "code",
   "execution_count": 199,
   "metadata": {
    "slideshow": {
     "slide_type": "-"
    },
    "pycharm": {
     "name": "#%%\n"
    }
   },
   "outputs": [
    {
     "name": "stdout",
     "output_type": "stream",
     "text": [
      "[moved cd4ccb8] Added erroneous line\r\n",
      " 1 file changed, 1 insertion(+)\r\n"
     ]
    }
   ],
   "source": [
    "echo \"pirnt('bye!')\" >> hello_world.py\n",
    "git commit -a -m \"Added erroneous line\""
   ]
  },
  {
   "cell_type": "code",
   "execution_count": 200,
   "metadata": {
    "slideshow": {
     "slide_type": "slide"
    },
    "pycharm": {
     "name": "#%%\n"
    }
   },
   "outputs": [
    {
     "name": "stdout",
     "output_type": "stream",
     "text": [
      "* cd4ccb8 2020-10-25 | Added erroneous line (HEAD -> moved) [Nikita Bondartsev]\r\n",
      "*   254be4f 2020-10-25 | Merged master into branch_with_newline. (master) [Nikita Bondartsev]\r\n",
      "\u001B[32m|\u001B[m\u001B[33m\\\u001B[m  \r\n",
      "\u001B[32m|\u001B[m * 0a27781 2020-10-25 | Added hello_world.py [Nikita Bondartsev]\r\n",
      "* \u001B[33m|\u001B[m f5a1562 2020-10-25 | I am going to save this line indeed [Nikita Bondartsev]\r\n",
      "\u001B[33m|\u001B[m\u001B[33m/\u001B[m  \r\n",
      "* a77a087 2020-10-25 | Initial commit. Added readme [Nikita Bondartsev]"
     ]
    }
   ],
   "source": [
    "git hist"
   ]
  },
  {
   "cell_type": "code",
   "execution_count": 207,
   "metadata": {
    "slideshow": {
     "slide_type": "-"
    },
    "pycharm": {
     "name": "#%%\n"
    }
   },
   "outputs": [
    {
     "name": "stdout",
     "output_type": "stream",
     "text": [
      "\u001B[18A[22;16H              \u001B[7m[ Can now UnJustify! ]\u001B[m\u001B[K, char 0/307 (0%) ]\u001B[m\u001B[1;71H\u001B[7mModified\u001B[m\u001B[24;45Hjustify Line[7m[ Reading File ]\u001B[m\u001B[22;32H\u001B[7m[ Read 11 lines ]\u001B[m\u001B[H\u001B[7m  GNU nano 2.9.3         /tmp/tmphfyh8du2/.git/COMMIT_EDITMSG                   \u001B[1;79H\u001B[m"
     ]
    }
   ],
   "source": [
    "git revert cd4ccb8"
   ]
  },
  {
   "cell_type": "code",
   "execution_count": 212,
   "metadata": {
    "slideshow": {
     "slide_type": "-"
    },
    "pycharm": {
     "name": "#%%\n"
    }
   },
   "outputs": [
    {
     "name": "stdout",
     "output_type": "stream",
     "text": [
      "[moved e548002] Removed erroneous line\r\n",
      " 1 file changed, 1 deletion(-)\r\n"
     ]
    }
   ],
   "source": [
    "git commit -m \"Removed erroneous line\""
   ]
  },
  {
   "cell_type": "code",
   "execution_count": 213,
   "metadata": {
    "slideshow": {
     "slide_type": "slide"
    },
    "pycharm": {
     "name": "#%%\n"
    }
   },
   "outputs": [
    {
     "name": "stdout",
     "output_type": "stream",
     "text": [
      "* e548002 2020-10-25 | Removed erroneous line (HEAD -> moved) [Nikita Bondartsev]\r\n",
      "* cd4ccb8 2020-10-25 | Added erroneous line [Nikita Bondartsev]\r\n",
      "*   254be4f 2020-10-25 | Merged master into branch_with_newline. (master) [Nikita Bondartsev]\r\n",
      "\u001B[32m|\u001B[m\u001B[33m\\\u001B[m  \r\n",
      "\u001B[32m|\u001B[m * 0a27781 2020-10-25 | Added hello_world.py [Nikita Bondartsev]\r\n",
      "* \u001B[33m|\u001B[m f5a1562 2020-10-25 | I am going to save this line indeed [Nikita Bondartsev]\r\n",
      "\u001B[33m|\u001B[m\u001B[33m/\u001B[m  \r\n",
      "* a77a087 2020-10-25 | Initial commit. Added readme [Nikita Bondartsev]"
     ]
    }
   ],
   "source": [
    "git hist"
   ]
  },
  {
   "cell_type": "code",
   "execution_count": 214,
   "metadata": {
    "slideshow": {
     "slide_type": "-"
    },
    "pycharm": {
     "name": "#%%\n"
    }
   },
   "outputs": [
    {
     "name": "stdout",
     "output_type": "stream",
     "text": [
      "print('hello, world')\r\n"
     ]
    }
   ],
   "source": [
    "cat hello_world.py"
   ]
  },
  {
   "cell_type": "markdown",
   "metadata": {
    "slideshow": {
     "slide_type": "-"
    },
    "pycharm": {
     "name": "#%% md\n"
    }
   },
   "source": [
    "Что произошло:\n",
    "* Файл hello_world.py вернулся к исходному состоянию.\n",
    "* В истории появился новый коммит, зеркалящий изменения, привнесенные отменяемым.\n",
    "* История по-прежнему, содежит неверный коммит, значит может быть без конфликтов запушена на сервер."
   ]
  },
  {
   "cell_type": "markdown",
   "metadata": {
    "slideshow": {
     "slide_type": "slide"
    },
    "pycharm": {
     "name": "#%% md\n"
    }
   },
   "source": [
    "## В итоге, три способа как отменить закомиченные изменения\n",
    "\n",
    "* `revert` переводит текущую ветку на произвольный момент в истории. В каком-то смысле отменяет изменения. Не надо использовать, если изменения уже запушены. Лучше всего для создания новой ветки из момента в прошлом.\n",
    "* `commit --amend` перезаписывает последний коммит. Не надо использовать, если изменения уже запушены.\n",
    "* `revert <хеш коммита>` создает изменения, зеркалящие выбранный коммит. Подходит, если изменения уже запушены."
   ]
  },
  {
   "cell_type": "code",
   "execution_count": 220,
   "metadata": {
    "slideshow": {
     "slide_type": "-"
    },
    "pycharm": {
     "name": "#%%\n"
    }
   },
   "outputs": [
    {
     "name": "stdout",
     "output_type": "stream",
     "text": [
      "HEAD is now at 254be4f Merged master into branch_with_newline.\n",
      "Switched to branch 'master'\n",
      "Deleted branch moved (was 254be4f).\n"
     ]
    }
   ],
   "source": [
    "git reset --hard master\n",
    "git checkout master\n",
    "git branch -d moved"
   ]
  },
  {
   "cell_type": "markdown",
   "metadata": {
    "slideshow": {
     "slide_type": "slide"
    },
    "pycharm": {
     "name": "#%% md\n"
    }
   },
   "source": [
    "# Работа с удаленным репозиторием"
   ]
  },
  {
   "cell_type": "code",
   "execution_count": 222,
   "metadata": {
    "slideshow": {
     "slide_type": "-"
    },
    "pycharm": {
     "name": "#%%\n"
    }
   },
   "outputs": [
    {
     "name": "stdout",
     "output_type": "stream",
     "text": [
      "*   254be4f 2020-10-25 | Merged master into branch_with_newline. (HEAD -> master) [Nikita Bondartsev]\r\n",
      "\u001B[31m|\u001B[m\u001B[32m\\\u001B[m  \r\n",
      "\u001B[31m|\u001B[m * 0a27781 2020-10-25 | Added hello_world.py [Nikita Bondartsev]\r\n",
      "* \u001B[32m|\u001B[m f5a1562 2020-10-25 | I am going to save this line indeed [Nikita Bondartsev]\r\n",
      "\u001B[32m|\u001B[m\u001B[32m/\u001B[m  \r\n",
      "* a77a087 2020-10-25 | Initial commit. Added readme [Nikita Bondartsev]"
     ]
    }
   ],
   "source": [
    "git hist"
   ]
  },
  {
   "cell_type": "code",
   "execution_count": 225,
   "metadata": {
    "slideshow": {
     "slide_type": "-"
    },
    "pycharm": {
     "name": "#%%\n"
    }
   },
   "outputs": [],
   "source": [
    "git remote add origin git@gitlab.manytask.org:py-tasks/sample-remote-repo-2.git"
   ]
  },
  {
   "cell_type": "code",
   "execution_count": 226,
   "metadata": {
    "slideshow": {
     "slide_type": "-"
    },
    "pycharm": {
     "name": "#%%\n"
    }
   },
   "outputs": [
    {
     "name": "stdout",
     "output_type": "stream",
     "text": [
      "origin\tgit@gitlab.manytask.org:py-tasks/sample-remote-repo-2.git (fetch)\r\n",
      "origin\tgit@gitlab.manytask.org:py-tasks/sample-remote-repo-2.git (push)\r\n"
     ]
    }
   ],
   "source": [
    "git remote -v"
   ]
  },
  {
   "cell_type": "code",
   "execution_count": 239,
   "metadata": {
    "slideshow": {
     "slide_type": "-"
    },
    "pycharm": {
     "name": "#%%\n"
    }
   },
   "outputs": [
    {
     "name": "stdout",
     "output_type": "stream",
     "text": [
      "* \u001B[32mmaster\u001B[m\r\n"
     ]
    }
   ],
   "source": [
    "git branch --all"
   ]
  },
  {
   "cell_type": "code",
   "execution_count": 243,
   "metadata": {
    "slideshow": {
     "slide_type": "slide"
    },
    "pycharm": {
     "name": "#%%\n"
    }
   },
   "outputs": [
    {
     "name": "stdout",
     "output_type": "stream",
     "text": [
      "Counting objects: 11, done.\n",
      "Delta compression using up to 8 threads.\n",
      "Compressing objects: 100% (6/6), done.\n",
      "Writing objects: 100% (11/11), 993 bytes | 496.00 KiB/s, done.\n",
      "Total 11 (delta 2), reused 0 (delta 0)\n",
      "To gitlab.manytask.org:py-tasks/sample-remote-repo-2.git\n",
      " * [new branch]      master -> master\n"
     ]
    }
   ],
   "source": [
    "git push origin master"
   ]
  },
  {
   "cell_type": "code",
   "execution_count": 241,
   "metadata": {
    "slideshow": {
     "slide_type": "-"
    },
    "pycharm": {
     "name": "#%%\n"
    }
   },
   "outputs": [
    {
     "name": "stdout",
     "output_type": "stream",
     "text": [
      "* \u001B[32mmaster\u001B[m\r\n",
      "  \u001B[31mremotes/origin/master\u001B[m\r\n"
     ]
    }
   ],
   "source": [
    "git branch --all"
   ]
  },
  {
   "cell_type": "code",
   "execution_count": 242,
   "metadata": {
    "slideshow": {
     "slide_type": "-"
    },
    "pycharm": {
     "name": "#%%\n"
    }
   },
   "outputs": [
    {
     "name": "stdout",
     "output_type": "stream",
     "text": [
      "*   254be4f 2020-10-25 | Merged master into branch_with_newline. (HEAD -> master, origin/master) [Nikita Bondartsev]\r\n",
      "\u001B[31m|\u001B[m\u001B[32m\\\u001B[m  \r\n",
      "\u001B[31m|\u001B[m * 0a27781 2020-10-25 | Added hello_world.py [Nikita Bondartsev]\r\n",
      "* \u001B[32m|\u001B[m f5a1562 2020-10-25 | I am going to save this line indeed [Nikita Bondartsev]\r\n",
      "\u001B[32m|\u001B[m\u001B[32m/\u001B[m  \r\n",
      "* a77a087 2020-10-25 | Initial commit. Added readme [Nikita Bondartsev]"
     ]
    }
   ],
   "source": [
    "git hist"
   ]
  },
  {
   "cell_type": "markdown",
   "metadata": {
    "slideshow": {
     "slide_type": "-"
    },
    "pycharm": {
     "name": "#%% md\n"
    }
   },
   "source": [
    "Что произошло:\n",
    "* Все локальные изменения были загружены в удаленный репозиторий и теперь доступны коллегам/преподавателям.\n",
    "* Была под капотом создана новая, трекинговая, ветка origin/master, видна в `hist`.\n",
    "* Не стоит играть с локальной историей, иначе потом будет сложно запушить."
   ]
  },
  {
   "cell_type": "markdown",
   "metadata": {
    "slideshow": {
     "slide_type": "slide"
    },
    "pycharm": {
     "name": "#%% md\n"
    }
   },
   "source": [
    "## git - распределенная система контроля версий, но..\n",
    "\n",
    "Только две операции происходят не локально: git push, git fetch (pull) - остальное локально."
   ]
  },
  {
   "cell_type": "markdown",
   "metadata": {
    "slideshow": {
     "slide_type": "-"
    },
    "pycharm": {
     "name": "#%% md\n"
    }
   },
   "source": [
    "fetch забирает изменения из удаленного репозитория и кладет их в локальные трекинговые ветки."
   ]
  },
  {
   "cell_type": "code",
   "execution_count": 246,
   "metadata": {
    "slideshow": {
     "slide_type": "-"
    },
    "pycharm": {
     "name": "#%%\n"
    }
   },
   "outputs": [
    {
     "name": "stdout",
     "output_type": "stream",
     "text": [
      "From gitlab.manytask.org:py-tasks/sample-remote-repo-2\r\n",
      " * [new branch]      created_on_remote -> origin/created_on_remote\r\n"
     ]
    }
   ],
   "source": [
    "git fetch"
   ]
  },
  {
   "cell_type": "code",
   "execution_count": 247,
   "metadata": {
    "slideshow": {
     "slide_type": "-"
    },
    "pycharm": {
     "name": "#%%\n"
    }
   },
   "outputs": [
    {
     "name": "stdout",
     "output_type": "stream",
     "text": [
      "* \u001B[32mmaster\u001B[m\r\n",
      "  \u001B[31mremotes/origin/created_on_remote\u001B[m\r\n",
      "  \u001B[31mremotes/origin/master\u001B[m\r\n"
     ]
    }
   ],
   "source": [
    "git branch --all"
   ]
  },
  {
   "cell_type": "markdown",
   "metadata": {
    "slideshow": {
     "slide_type": "slide"
    },
    "pycharm": {
     "name": "#%% md\n"
    }
   },
   "source": [
    "## Что же такое git pull?"
   ]
  },
  {
   "cell_type": "markdown",
   "metadata": {
    "slideshow": {
     "slide_type": "-"
    },
    "pycharm": {
     "name": "#%% md\n"
    }
   },
   "source": [
    "<div align=\"center\"><img src=\"https://i.stack.imgur.com/2EO7f.png\" width=\"600px\"/></div>"
   ]
  },
  {
   "cell_type": "markdown",
   "metadata": {
    "slideshow": {
     "slide_type": "slide"
    },
    "pycharm": {
     "name": "#%% md\n"
    }
   },
   "source": [
    "## merge request\n",
    "\n",
    "Трактовать стоит буквально :)"
   ]
  },
  {
   "cell_type": "code",
   "execution_count": 248,
   "metadata": {
    "slideshow": {
     "slide_type": "-"
    },
    "pycharm": {
     "name": "#%%\n"
    }
   },
   "outputs": [
    {
     "name": "stdout",
     "output_type": "stream",
     "text": [
      "Switched to a new branch 'local_feature_branch'\n",
      "[local_feature_branch d1e3506] Added yet another line\n",
      " 1 file changed, 1 insertion(+)\n"
     ]
    }
   ],
   "source": [
    "git checkout -b local_feature_branch\n",
    "echo \"Yet another new line\" >> README.md\n",
    "git commit -a -m \"Added yet another line\""
   ]
  },
  {
   "cell_type": "code",
   "execution_count": 249,
   "metadata": {
    "slideshow": {
     "slide_type": "-"
    },
    "pycharm": {
     "name": "#%%\n"
    }
   },
   "outputs": [
    {
     "name": "stdout",
     "output_type": "stream",
     "text": [
      "Counting objects: 3, done.\n",
      "Delta compression using up to 8 threads.\n",
      "Compressing objects: 100% (3/3), done.\n",
      "Writing objects: 100% (3/3), 362 bytes | 362.00 KiB/s, done.\n",
      "Total 3 (delta 0), reused 0 (delta 0)\n",
      "remote: \n",
      "remote: To create a merge request for local_feature_branch, visit:\u001B[K\n",
      "remote:   https://gitlab.manytask.org/py-tasks/sample-remote-repo-2/-/merge_requests/new?merge_request%5Bsource_branch%5D=local_feature_branch\u001B[K\n",
      "remote: \n",
      "To gitlab.manytask.org:py-tasks/sample-remote-repo-2.git\n",
      " * [new branch]      local_feature_branch -> local_feature_branch\n"
     ]
    }
   ],
   "source": [
    "git push origin local_feature_branch"
   ]
  },
  {
   "cell_type": "markdown",
   "metadata": {
    "slideshow": {
     "slide_type": "slide"
    },
    "pycharm": {
     "name": "#%% md\n"
    }
   },
   "source": [
    "<img src=\"https://avatars.mds.yandex.net/get-pdb/2883552/b24e37b7-bac7-4290-a641-0d710332c175/s1200\" height=\"1000px\"/>"
   ]
  },
  {
   "cell_type": "markdown",
   "metadata": {
    "slideshow": {
     "slide_type": "slide"
    },
    "pycharm": {
     "name": "#%% md\n"
    }
   },
   "source": [
    "* Merge request показывает все изменения, которые отделяют ветку, **откуда** он создается от ветки **куда** он создается. Это удобно для ревью изменений.\n",
    "* Когда merge request будет принят, изменения вольются в ветку, куда происходит merge request.\n",
    "* Лучше всего делать отдельную ветку на фичу, чтобы потом при вливании через MR видеть весь код, затрагиваемый этой фичей, и только его.\n",
    "* Перед началом compgraph лучше создать соответствующую ветку и в ней делать только compgraph. Тогда потом можно будет легко создать merge request."
   ]
  },
  {
   "cell_type": "markdown",
   "metadata": {
    "slideshow": {
     "slide_type": "fragment"
    },
    "pycharm": {
     "name": "#%% md\n"
    }
   },
   "source": [
    "## Вместе подумаем что делать, если изменения уже разложены по комитам и запушены\n",
    "\n",
    "Предложения?"
   ]
  },
  {
   "cell_type": "markdown",
   "metadata": {
    "slideshow": {
     "slide_type": "slide"
    },
    "pycharm": {
     "name": "#%% md\n"
    }
   },
   "source": [
    "Чтобы создать нормальный merge request для compgraph, если все изменения случайно уже разложены по коммитам в `master`:\n",
    "* Смотрим на историю `git hist` и вспоминаем какой же коммит месадж ознаменовал начало выполнения компграфа (но при этом уже содержит преподавательский шаблон, это важно!).\n",
    "* Создаем ветку, куда будем мерджить компграф `git checkout -b before_compgraph`.\n",
    "* Откатываемся к состоянию до компграфа `git reset <the first compgraph commit>`.\n",
    "* Пушим состояние до компграфа в ремоут репо `git push origin before_compgraph`.\n",
    "* А теперь создаем ветку, которая будет содержать изменения компграфа `git checkout -b compgraph`.\n",
    "* `git add compgraph && git commit -m \"Added complete compgraph code\"`\n",
    "* `git reset --hard compgraph` для обнуления всех других изменений, которые не закомичены (значит не связаны с компграфом или лежат не там).\n",
    "* `git push origin compgraph` и переходим по ссылке для создания MR."
   ]
  },
  {
   "cell_type": "markdown",
   "metadata": {
    "slideshow": {
     "slide_type": "slide"
    },
    "pycharm": {
     "name": "#%% md\n"
    }
   },
   "source": [
    "## А что если в мердж реквесте не то в changes?\n",
    "\n",
    "* Вспомним, что **MR** сравнивает между собой состояния, на которые указывают ветки откуда и куда делается **MR**\n",
    "* Поэтому, чтобы **MR** показывал правильный дифф, необходимо сделать две ветки, состояние которых отличается только на необходимый дифф\n",
    "* Чаще всего при сдаче второй домашки, **MR** содержит лишние \"удаления\", если сделан из какой-то отдельной ветки, которая давно была отведена от `master`'a\n",
    "* Чтобы это пофиксить, достаточно вмерджить `master` в ту ветку, откуда делается **MR**\n"
   ]
  },
  {
   "cell_type": "markdown",
   "metadata": {
    "slideshow": {
     "slide_type": "slide"
    },
    "pycharm": {
     "name": "#%% md\n"
    }
   },
   "source": [
    "<div align=\"center\"><b><font size=7>Итог</font></b></div>"
   ]
  },
  {
   "cell_type": "markdown",
   "metadata": {
    "slideshow": {
     "slide_type": "fragment"
    },
    "pycharm": {
     "name": "#%% md\n"
    }
   },
   "source": [
    "<b><font size=6>git init<br/><span style=\"float:right\">git clone</span></font></b>\n",
    "<br/>\n",
    "<b><font size=6>git add<br/><span style=\"float:right\">git commit</span></font></b>\n",
    "<br/>\n",
    "<b><font size=6>git status<br/><span style=\"float:right\">git log</span></font></b>\n",
    "<br/>\n",
    "<b><font size=6>git checkout<br/><span style=\"float:right\">git branch</span></font></b>\n",
    "<br/>\n",
    "<b><font size=6>git revert<br/><span style=\"float:right\">git merge</span></font></b>\n",
    "<br/>\n",
    "<b><font size=6>git pull<br/><span style=\"float:right\">git push</span></font></b>\n",
    "<br/>\n",
    "<b><font size=6>git diff<br/><span style=\"float:right\">git reset</span></font></b>"
   ]
  },
  {
   "cell_type": "markdown",
   "metadata": {
    "slideshow": {
     "slide_type": "fragment"
    },
    "pycharm": {
     "name": "#%% md\n"
    }
   },
   "source": [
    "<div align=\"center\"><b><font size=5><font color=\"#FF0000\">14 комманд</font> для комфортной работы с гитом</font></b></div>"
   ]
  },
  {
   "cell_type": "markdown",
   "metadata": {
    "slideshow": {
     "slide_type": "skip"
    },
    "pycharm": {
     "name": "#%% md\n"
    }
   },
   "source": [
    "<div align=\"center\"><img src=\"https://patrickzahnd.ch/uploads/git-transport-v1-1024x723.png\" width=\"800px\"/></div>"
   ]
  },
  {
   "cell_type": "markdown",
   "metadata": {
    "slideshow": {
     "slide_type": "slide"
    },
    "pycharm": {
     "name": "#%% md\n"
    }
   },
   "source": [
    "# Спасибо за внимание"
   ]
  }
 ],
 "metadata": {
  "celltoolbar": "Slideshow",
  "kernelspec": {
   "display_name": "Python 3 (ipykernel)",
   "language": "python",
   "name": "python3"
  },
  "language_info": {
   "codemirror_mode": {
    "name": "ipython",
    "version": 3
   },
   "file_extension": ".py",
   "mimetype": "text/x-python",
   "name": "python",
   "nbconvert_exporter": "python",
   "pygments_lexer": "ipython3",
   "version": "3.9.7"
  }
 },
 "nbformat": 4,
 "nbformat_minor": 2
}