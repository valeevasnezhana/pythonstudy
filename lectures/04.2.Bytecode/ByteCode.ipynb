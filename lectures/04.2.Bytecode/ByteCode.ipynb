{
 "cells": [
  {
   "cell_type": "markdown",
   "metadata": {
    "slideshow": {
     "slide_type": "slide"
    }
   },
   "source": [
    "<center>\n",
    "<img src=\"https://upload.wikimedia.org/wikipedia/commons/a/a8/%D0%9B%D0%9E%D0%93%D0%9E_%D0%A8%D0%90%D0%94.png\" width=400/>\n",
    "        <br/>\n",
    "    <b style=\"font-size: 30px\">Python byte code</b>\n",
    "    <br/>\n",
    "    <br/>\n",
    "    <br/>\n",
    "<b style=\"font-size: 20px\">Алексей Стыценко</b>\n",
    "</center>"
   ]
  },
  {
   "cell_type": "markdown",
   "metadata": {
    "slideshow": {
     "slide_type": "slide"
    }
   },
   "source": [
    "Возьмём простую программу"
   ]
  },
  {
   "cell_type": "code",
   "execution_count": 15,
   "metadata": {},
   "outputs": [],
   "source": [
    "program = \"\"\"\\\n",
    "x = 1\n",
    "y = 2\n",
    "print(3*(x+y))\n",
    "\"\"\""
   ]
  },
  {
   "cell_type": "code",
   "execution_count": 16,
   "metadata": {},
   "outputs": [
    {
     "name": "stdout",
     "output_type": "stream",
     "text": [
      "9\n"
     ]
    }
   ],
   "source": [
    "exec(program)"
   ]
  },
  {
   "cell_type": "markdown",
   "metadata": {},
   "source": [
    "Как интерпретатор её выполняет?"
   ]
  },
  {
   "cell_type": "markdown",
   "metadata": {
    "slideshow": {
     "slide_type": "slide"
    }
   },
   "source": [
    "Шаг 1: Токенизация"
   ]
  },
  {
   "cell_type": "code",
   "execution_count": 17,
   "metadata": {},
   "outputs": [
    {
     "data": {
      "text/plain": [
       "[TokenInfo(type=1 (NAME), string='x', start=(1, 0), end=(1, 1), line='x = 1\\n'),\n",
       " TokenInfo(type=54 (OP), string='=', start=(1, 2), end=(1, 3), line='x = 1\\n'),\n",
       " TokenInfo(type=2 (NUMBER), string='1', start=(1, 4), end=(1, 5), line='x = 1\\n'),\n",
       " TokenInfo(type=4 (NEWLINE), string='\\n', start=(1, 5), end=(1, 6), line='x = 1\\n'),\n",
       " TokenInfo(type=1 (NAME), string='y', start=(2, 0), end=(2, 1), line='y = 2\\n'),\n",
       " TokenInfo(type=54 (OP), string='=', start=(2, 2), end=(2, 3), line='y = 2\\n'),\n",
       " TokenInfo(type=2 (NUMBER), string='2', start=(2, 4), end=(2, 5), line='y = 2\\n'),\n",
       " TokenInfo(type=4 (NEWLINE), string='\\n', start=(2, 5), end=(2, 6), line='y = 2\\n'),\n",
       " TokenInfo(type=1 (NAME), string='print', start=(3, 0), end=(3, 5), line='print(3*(x+y))\\n'),\n",
       " TokenInfo(type=54 (OP), string='(', start=(3, 5), end=(3, 6), line='print(3*(x+y))\\n'),\n",
       " TokenInfo(type=2 (NUMBER), string='3', start=(3, 6), end=(3, 7), line='print(3*(x+y))\\n'),\n",
       " TokenInfo(type=54 (OP), string='*', start=(3, 7), end=(3, 8), line='print(3*(x+y))\\n'),\n",
       " TokenInfo(type=54 (OP), string='(', start=(3, 8), end=(3, 9), line='print(3*(x+y))\\n'),\n",
       " TokenInfo(type=1 (NAME), string='x', start=(3, 9), end=(3, 10), line='print(3*(x+y))\\n'),\n",
       " TokenInfo(type=54 (OP), string='+', start=(3, 10), end=(3, 11), line='print(3*(x+y))\\n'),\n",
       " TokenInfo(type=1 (NAME), string='y', start=(3, 11), end=(3, 12), line='print(3*(x+y))\\n'),\n",
       " TokenInfo(type=54 (OP), string=')', start=(3, 12), end=(3, 13), line='print(3*(x+y))\\n'),\n",
       " TokenInfo(type=54 (OP), string=')', start=(3, 13), end=(3, 14), line='print(3*(x+y))\\n'),\n",
       " TokenInfo(type=4 (NEWLINE), string='\\n', start=(3, 14), end=(3, 15), line='print(3*(x+y))\\n'),\n",
       " TokenInfo(type=0 (ENDMARKER), string='', start=(4, 0), end=(4, 0), line='')]"
      ]
     },
     "execution_count": 17,
     "metadata": {},
     "output_type": "execute_result"
    }
   ],
   "source": [
    "import io\n",
    "import tokenize\n",
    "\n",
    "list(tokenize.generate_tokens(io.StringIO(program).readline))"
   ]
  },
  {
   "cell_type": "markdown",
   "metadata": {
    "slideshow": {
     "slide_type": "slide"
    }
   },
   "source": [
    "Шаг 2: Построение дерева разбора"
   ]
  },
  {
   "cell_type": "markdown",
   "metadata": {},
   "source": [
    "https://docs.python.org/3/reference/grammar.html"
   ]
  },
  {
   "cell_type": "markdown",
   "metadata": {
    "slideshow": {
     "slide_type": "slide"
    }
   },
   "source": [
    "Шаг 2: Построение дерева разбора"
   ]
  },
  {
   "cell_type": "code",
   "execution_count": 18,
   "metadata": {},
   "outputs": [],
   "source": [
    "import symbol\n",
    "import token\n",
    "import parser\n",
    "\n",
    "# хелпер для вывода дерева разбора в читаемом виде\n",
    "# https://realpython.com/cpython-source-code-guide/#lexing-and-parsing\n",
    "def lex(expression):\n",
    "    symbols = {v: k for k, v in symbol.__dict__.items() if isinstance(v, int)}\n",
    "    tokens = {v: k for k, v in token.__dict__.items() if isinstance(v, int)}\n",
    "    lexicon = {**symbols, **tokens}\n",
    "    st = parser.expr(expression)\n",
    "    st_list = parser.st2list(st)\n",
    "\n",
    "    def replace(l: list):\n",
    "        r = []\n",
    "        for i in l:\n",
    "            if isinstance(i, list):\n",
    "                r.append(replace(i))\n",
    "            else:\n",
    "                if i in lexicon:\n",
    "                    r.append(lexicon[i])\n",
    "                else:\n",
    "                    r.append(i)\n",
    "        return r\n",
    "\n",
    "    return replace(st_list)"
   ]
  },
  {
   "cell_type": "markdown",
   "metadata": {
    "slideshow": {
     "slide_type": "slide"
    }
   },
   "source": [
    "Шаг 2: Построение дерева разбора"
   ]
  },
  {
   "cell_type": "code",
   "execution_count": 19,
   "metadata": {},
   "outputs": [
    {
     "data": {
      "text/plain": [
       "['eval_input',\n",
       " ['testlist',\n",
       "  ['test',\n",
       "   ['or_test',\n",
       "    ['and_test',\n",
       "     ['not_test',\n",
       "      ['comparison',\n",
       "       ['expr',\n",
       "        ['xor_expr',\n",
       "         ['and_expr',\n",
       "          ['shift_expr',\n",
       "           ['arith_expr',\n",
       "            ['term',\n",
       "             ['factor', ['power', ['atom_expr', ['atom', ['NUMBER', '3']]]]],\n",
       "             ['STAR', '*'],\n",
       "             ['factor',\n",
       "              ['power',\n",
       "               ['atom_expr',\n",
       "                ['atom',\n",
       "                 ['LPAR', '('],\n",
       "                 ['testlist_comp',\n",
       "                  ['namedexpr_test',\n",
       "                   ['test',\n",
       "                    ['or_test',\n",
       "                     ['and_test',\n",
       "                      ['not_test',\n",
       "                       ['comparison',\n",
       "                        ['expr',\n",
       "                         ['xor_expr',\n",
       "                          ['and_expr',\n",
       "                           ['shift_expr',\n",
       "                            ['arith_expr',\n",
       "                             ['term',\n",
       "                              ['factor',\n",
       "                               ['power',\n",
       "                                ['atom_expr', ['atom', ['NAME', 'x']]]]]],\n",
       "                             ['PLUS', '+'],\n",
       "                             ['term',\n",
       "                              ['factor',\n",
       "                               ['power',\n",
       "                                ['atom_expr',\n",
       "                                 ['atom', ['NAME', 'y']]]]]]]]]]]]]]]]]],\n",
       "                 ['RPAR', ')']]]]]]]]]]]]]]]]],\n",
       " ['NEWLINE', ''],\n",
       " ['ENDMARKER', '']]"
      ]
     },
     "execution_count": 19,
     "metadata": {},
     "output_type": "execute_result"
    }
   ],
   "source": [
    "lex('3*(x+y)')"
   ]
  },
  {
   "cell_type": "markdown",
   "metadata": {
    "slideshow": {
     "slide_type": "slide"
    }
   },
   "source": [
    "Шаг 3: Абстрактное синтаксическое дерево (AST)"
   ]
  },
  {
   "cell_type": "code",
   "execution_count": 20,
   "metadata": {},
   "outputs": [
    {
     "name": "stdout",
     "output_type": "stream",
     "text": [
      "Module(\n",
      "    body=[\n",
      "        Assign(\n",
      "            targets=[\n",
      "                Name(id='x', ctx=Store())],\n",
      "            value=Constant(value=1)),\n",
      "        Assign(\n",
      "            targets=[\n",
      "                Name(id='y', ctx=Store())],\n",
      "            value=Constant(value=2)),\n",
      "        Expr(\n",
      "            value=Call(\n",
      "                func=Name(id='print', ctx=Load()),\n",
      "                args=[\n",
      "                    BinOp(\n",
      "                        left=Constant(value=3),\n",
      "                        op=Mult(),\n",
      "                        right=BinOp(\n",
      "                            left=Name(id='x', ctx=Load()),\n",
      "                            op=Add(),\n",
      "                            right=Name(id='y', ctx=Load())))],\n",
      "                keywords=[]))],\n",
      "    type_ignores=[])\n"
     ]
    }
   ],
   "source": [
    "import ast\n",
    "print(ast.dump(ast.parse(program), indent=4))"
   ]
  },
  {
   "cell_type": "markdown",
   "metadata": {
    "slideshow": {
     "slide_type": "slide"
    }
   },
   "source": [
    "Шаг 4: Компиляция в байткод"
   ]
  },
  {
   "cell_type": "code",
   "execution_count": 21,
   "metadata": {},
   "outputs": [],
   "source": [
    "code = compile(program, '<string>', 'exec')"
   ]
  },
  {
   "cell_type": "code",
   "execution_count": 22,
   "metadata": {},
   "outputs": [
    {
     "data": {
      "text/plain": [
       "b'd\\x00Z\\x00d\\x01Z\\x01e\\x02d\\x02e\\x00e\\x01\\x17\\x00\\x14\\x00\\x83\\x01\\x01\\x00d\\x03S\\x00'"
      ]
     },
     "execution_count": 22,
     "metadata": {},
     "output_type": "execute_result"
    }
   ],
   "source": [
    "code.co_code"
   ]
  },
  {
   "cell_type": "code",
   "execution_count": 23,
   "metadata": {},
   "outputs": [
    {
     "data": {
      "text/plain": [
       "28"
      ]
     },
     "execution_count": 23,
     "metadata": {},
     "output_type": "execute_result"
    }
   ],
   "source": [
    "len(code.co_code)"
   ]
  },
  {
   "cell_type": "code",
   "execution_count": 24,
   "metadata": {},
   "outputs": [
    {
     "name": "stdout",
     "output_type": "stream",
     "text": [
      "[100, 0, 90, 0, 100, 1, 90, 1, 101, 2, 100, 2, 101, 0, 101, 1, 23, 0, 20, 0, 131, 1, 1, 0, 100, 3, 83, 0]\n"
     ]
    }
   ],
   "source": [
    "print(list(code.co_code))"
   ]
  },
  {
   "cell_type": "code",
   "execution_count": 25,
   "metadata": {},
   "outputs": [
    {
     "data": {
      "text/plain": [
       "('LOAD_CONST', 'STORE_NAME', 'LOAD_NAME', 'CALL_FUNCTION')"
      ]
     },
     "execution_count": 25,
     "metadata": {},
     "output_type": "execute_result"
    }
   ],
   "source": [
    "import dis\n",
    "dis.opname[100], dis.opname[90], dis.opname[101], dis.opname[131]"
   ]
  },
  {
   "cell_type": "markdown",
   "metadata": {
    "slideshow": {
     "slide_type": "slide"
    }
   },
   "source": [
    "Байткод"
   ]
  },
  {
   "cell_type": "code",
   "execution_count": 26,
   "metadata": {},
   "outputs": [
    {
     "name": "stdout",
     "output_type": "stream",
     "text": [
      "  1           0 LOAD_CONST               0 (1)\n",
      "              2 STORE_NAME               0 (x)\n",
      "\n",
      "  2           4 LOAD_CONST               1 (2)\n",
      "              6 STORE_NAME               1 (y)\n",
      "\n",
      "  3           8 LOAD_NAME                2 (print)\n",
      "             10 LOAD_CONST               2 (3)\n",
      "             12 LOAD_NAME                0 (x)\n",
      "             14 LOAD_NAME                1 (y)\n",
      "             16 BINARY_ADD\n",
      "             18 BINARY_MULTIPLY\n",
      "             20 CALL_FUNCTION            1\n",
      "             22 POP_TOP\n",
      "             24 LOAD_CONST               3 (None)\n",
      "             26 RETURN_VALUE\n"
     ]
    }
   ],
   "source": [
    "dis.dis(program)"
   ]
  },
  {
   "cell_type": "markdown",
   "metadata": {},
   "source": [
    "Как читать вывод dis: https://stackoverflow.com/a/47529318\n",
    "\n",
    "Что делают инструкции: https://docs.python.org/3.9/library/dis.html#python-bytecode-instructions"
   ]
  },
  {
   "cell_type": "markdown",
   "metadata": {
    "slideshow": {
     "slide_type": "slide"
    }
   },
   "source": [
    "Байткод"
   ]
  },
  {
   "cell_type": "code",
   "execution_count": 33,
   "metadata": {},
   "outputs": [
    {
     "name": "stdout",
     "output_type": "stream",
     "text": [
      "  1           0 LOAD_CONST               0 (<code object foo at 0x10e28ab30, file \"<dis>\", line 1>)\n",
      "              2 LOAD_CONST               1 ('foo')\n",
      "              4 MAKE_FUNCTION            0\n",
      "              6 STORE_NAME               0 (foo)\n",
      "\n",
      "  3           8 LOAD_NAME                0 (foo)\n",
      "             10 LOAD_CONST               2 (1)\n",
      "             12 LOAD_CONST               3 (2)\n",
      "             14 CALL_FUNCTION            2\n",
      "             16 POP_TOP\n",
      "             18 LOAD_CONST               4 (None)\n",
      "             20 RETURN_VALUE\n",
      "\n",
      "Disassembly of <code object foo at 0x10e28ab30, file \"<dis>\", line 1>:\n",
      "  2           0 LOAD_CONST               1 (3)\n",
      "              2 LOAD_FAST                0 (x)\n",
      "              4 LOAD_FAST                1 (y)\n",
      "              6 BINARY_ADD\n",
      "              8 BINARY_MULTIPLY\n",
      "             10 RETURN_VALUE\n"
     ]
    }
   ],
   "source": [
    "program = '''\\\n",
    "def foo(x, y):\n",
    "    return 3*(x + y)\n",
    "foo(1, 2)\n",
    "'''\n",
    "dis.dis(program)"
   ]
  },
  {
   "cell_type": "markdown",
   "metadata": {
    "slideshow": {
     "slide_type": "slide"
    }
   },
   "source": [
    "Байткод"
   ]
  },
  {
   "cell_type": "code",
   "execution_count": 28,
   "metadata": {},
   "outputs": [
    {
     "data": {
      "text/plain": [
       "[Instruction(opname='LOAD_CONST', opcode=100, arg=0, argval=1, argrepr='1', offset=0, starts_line=1, is_jump_target=False),\n",
       " Instruction(opname='STORE_NAME', opcode=90, arg=0, argval='x', argrepr='x', offset=2, starts_line=None, is_jump_target=False),\n",
       " Instruction(opname='LOAD_CONST', opcode=100, arg=1, argval=2, argrepr='2', offset=4, starts_line=2, is_jump_target=False),\n",
       " Instruction(opname='STORE_NAME', opcode=90, arg=1, argval='y', argrepr='y', offset=6, starts_line=None, is_jump_target=False),\n",
       " Instruction(opname='LOAD_NAME', opcode=101, arg=2, argval='print', argrepr='print', offset=8, starts_line=3, is_jump_target=False),\n",
       " Instruction(opname='LOAD_CONST', opcode=100, arg=2, argval=3, argrepr='3', offset=10, starts_line=None, is_jump_target=False),\n",
       " Instruction(opname='LOAD_NAME', opcode=101, arg=0, argval='x', argrepr='x', offset=12, starts_line=None, is_jump_target=False),\n",
       " Instruction(opname='LOAD_NAME', opcode=101, arg=1, argval='y', argrepr='y', offset=14, starts_line=None, is_jump_target=False),\n",
       " Instruction(opname='BINARY_ADD', opcode=23, arg=None, argval=None, argrepr='', offset=16, starts_line=None, is_jump_target=False),\n",
       " Instruction(opname='BINARY_MULTIPLY', opcode=20, arg=None, argval=None, argrepr='', offset=18, starts_line=None, is_jump_target=False),\n",
       " Instruction(opname='CALL_FUNCTION', opcode=131, arg=1, argval=1, argrepr='', offset=20, starts_line=None, is_jump_target=False),\n",
       " Instruction(opname='POP_TOP', opcode=1, arg=None, argval=None, argrepr='', offset=22, starts_line=None, is_jump_target=False),\n",
       " Instruction(opname='LOAD_CONST', opcode=100, arg=3, argval=None, argrepr='None', offset=24, starts_line=None, is_jump_target=False),\n",
       " Instruction(opname='RETURN_VALUE', opcode=83, arg=None, argval=None, argrepr='', offset=26, starts_line=None, is_jump_target=False)]"
      ]
     },
     "execution_count": 28,
     "metadata": {},
     "output_type": "execute_result"
    }
   ],
   "source": [
    "list(dis.get_instructions(program))"
   ]
  },
  {
   "cell_type": "markdown",
   "metadata": {
    "slideshow": {
     "slide_type": "slide"
    }
   },
   "source": [
    "Ссылки"
   ]
  },
  {
   "cell_type": "markdown",
   "metadata": {},
   "source": [
    "- https://leanpub.com/insidethepythonvirtualmachine/read\n",
    "- https://realpython.com/cpython-source-code-guide/"
   ]
  }
 ],
 "metadata": {
  "celltoolbar": "Slideshow",
  "kernelspec": {
   "display_name": "Python 3 (ipykernel)",
   "language": "python",
   "name": "python3"
  },
  "language_info": {
   "codemirror_mode": {
    "name": "ipython",
    "version": 3
   },
   "file_extension": ".py",
   "mimetype": "text/x-python",
   "name": "python",
   "nbconvert_exporter": "python",
   "pygments_lexer": "ipython3",
   "version": "3.9.7"
  }
 },
 "nbformat": 4,
 "nbformat_minor": 2
}
