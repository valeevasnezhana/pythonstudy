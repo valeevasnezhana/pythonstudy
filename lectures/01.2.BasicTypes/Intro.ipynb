{
 "cells": [
  {
   "cell_type": "markdown",
   "metadata": {},
   "source": [
    "<center>\n",
    "<img src=\"./images/Logo.png\" width=400/>\n",
    "        <br/>\n",
    "    <b style=\"font-size: 30px\">Python. Введение в курс.</b>\n",
    "    <br/>\n",
    "    <br/>\n",
    "    <br/>\n",
    "<b style=\"font-size: 20px\">Константин Чернышев</b>\n",
    "</center>"
   ]
  },
  {
   "cell_type": "markdown",
   "metadata": {},
   "source": [
    "### О курсе → Цели\n",
    "* Как писать хороший код на Python?\n",
    "* Где нужно применять Python?\n",
    "* Как пройти собеседование на Python"
   ]
  },
  {
   "cell_type": "markdown",
   "metadata": {},
   "source": [
    "### О курсе → Структура курса\n",
    "* 12-14 недель с лекциями, видео и разборами задач\n",
    "* Автоматически проверяемые задачи с открытыми тестами\n",
    "* Еженедельные наборы маленьких заадчек\n",
    "* 3 больших домашних задания"
   ]
  },
  {
   "cell_type": "markdown",
   "metadata": {},
   "source": [
    "### О курсе → Домашка #1 VM\n",
    "\n",
    "<img src=\"./images/DZ1.jpg\">"
   ]
  },
  {
   "cell_type": "markdown",
   "metadata": {},
   "source": [
    "### О курсе → Домашка #2 Mapreduce-граф\n",
    "\n",
    "<img src=\"./images/DZ2.jpg\">"
   ]
  },
  {
   "cell_type": "markdown",
   "metadata": {},
   "source": [
    "### О курсе → Домашка #3 (асинхронный ТГ-бот) (но не факт)\n",
    "\n",
    "<img src=\"images/DZ3.jpg\" width=1100>"
   ]
  },
  {
   "cell_type": "markdown",
   "metadata": {},
   "source": [
    "### О курсе → FAQ\n",
    "\n",
    "* Почему курс не ориентирован сугубо на ML?\n",
    "* Почему нас заставляю писать типы? Я никогда так не делал\n",
    "* Почему в курсе встречаются задачи с алгоритмами, если курс не про алгоритмы?\n",
    "* Зачем открытые тесты? Я не хочу их читать\n",
    "* Зачем в курсе по Python я мучаюсь с git?\n",
    "* А точно жесткие дедлайны?\n",
    "* А можно зачесть другие курсы? Я вот в школе его сдавал на ЕГЭ."
   ]
  },
  {
   "cell_type": "markdown",
   "metadata": {},
   "source": [
    "### О курсе → Система оценивания\n",
    "\n",
    "* Проходной балл по большим задачкам (3, 2, 1 соотвественно)\n",
    "* Процент от баллов (65%, 50%, 40% соотвественно)"
   ]
  },
  {
   "cell_type": "markdown",
   "metadata": {},
   "source": [
    "### О курсе → Рекомендации\n",
    "\n",
    "* Читайте тесты и тестируйте локально\n",
    "* НЕ сдавать в последнюю минуту - не работает.\n",
    "* Присылайте правки к нашим Readme, задачам, тестам\n",
    "* **Задавайте вопросы \"Зачем я это делаю? Где это используется?\"**"
   ]
  },
  {
   "cell_type": "markdown",
   "metadata": {
    "pycharm": {
     "name": "#%% md\n"
    }
   },
   "source": [
    "### О курсе → Преподаватели и эксперты\n",
    "\n",
    "9 постоянных преподавателей + n приглашённых лекторов.\n",
    "<img src=\"images/team.jpg\">"
   ]
  }
 ],
 "metadata": {
  "celltoolbar": "Slideshow",
  "rise": {
   "transition": "none"
  },
  "kernelspec": {
   "display_name": "Python 3 (ipykernel)",
   "language": "python",
   "name": "python3"
  },
  "language_info": {
   "codemirror_mode": {
    "name": "ipython",
    "version": 3
   },
   "file_extension": ".py",
   "mimetype": "text/x-python",
   "name": "python",
   "nbconvert_exporter": "python",
   "pygments_lexer": "ipython3",
   "version": "3.9.6"
  },
  "livereveal": {
   "theme": "serif",
   "transition": "zoom"
  }
 },
 "nbformat": 4,
 "nbformat_minor": 2
}
