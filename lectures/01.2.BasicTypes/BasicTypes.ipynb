{
 "cells": [
  {
   "cell_type": "markdown",
   "id": "1d237f11",
   "metadata": {
    "slideshow": {
     "slide_type": "slide"
    }
   },
   "source": [
    "<center>\n",
    "<img src=\"./images/Logo.png\" width=400/>\n",
    "        <br/>\n",
    "    <b style=\"font-size: 30px\">Python. Простые типы. Управляющие конструкции</b>\n",
    "    <br/>\n",
    "    <br/>\n",
    "    <br/>\n",
    "<b style=\"font-size: 20px\">Андрей Комендантян</b>\n",
    "</center>"
   ]
  },
  {
   "cell_type": "markdown",
   "id": "6cc26226",
   "metadata": {
    "slideshow": {
     "slide_type": "slide"
    }
   },
   "source": [
    "### Про себя\n",
    "\n",
    "- Разработчик в Службе подготовки и анализа больших данных (в Яндексе с 2015 года)\n",
    "- Подготовка данных для нужд аналитики\n",
    "- Инфраструктура регулярных расчётов"
   ]
  },
  {
   "cell_type": "markdown",
   "id": "57b52d1f",
   "metadata": {
    "slideshow": {
     "slide_type": "slide"
    }
   },
   "source": [
    "### Python 2 vs Python 3\n",
    "\n",
    "<center><img src=\"./images/Py2vsPy3.jpg\" width=200px/></center>\n",
    "\n",
    "- Существовало две официальных, несовместимых версии Python - 2.x и 3.x\n",
    "- Мы будем говорить про Python 3.9\n",
    "- Python 2.x не поддерживается с 1-го января 2020"
   ]
  },
  {
   "cell_type": "markdown",
   "id": "3756f3a2",
   "metadata": {
    "slideshow": {
     "slide_type": "slide"
    }
   },
   "source": [
    "### Python\n",
    "\n",
    "- интерпретируемый (код исполняется интепретатором, а не компилируется в самостоятельную программу)\n",
    "- строгая типизация (разные типы приводятся друг к другу в ограниченном числе случаев)\n",
    "- динамическая типизация (любая переменая может связываться с объектами любых типов)\n",
    "\n",
    "[подробнее ↪](https://wiki.python.org/moin/Ten%20things%20people%20want%20to%20know%20about%20Python)"
   ]
  },
  {
   "cell_type": "markdown",
   "id": "39aa2456",
   "metadata": {
    "slideshow": {
     "slide_type": "slide"
    }
   },
   "source": [
    "<center><h1>Базовые типы</h1></center>"
   ]
  },
  {
   "cell_type": "markdown",
   "id": "1f3fa1d4",
   "metadata": {
    "slideshow": {
     "slide_type": "slide"
    }
   },
   "source": [
    "### Числовые типы: int, float, complex"
   ]
  },
  {
   "cell_type": "code",
   "execution_count": null,
   "id": "471d672d",
   "metadata": {
    "slideshow": {
     "slide_type": "-"
    }
   },
   "outputs": [],
   "source": [
    "# int, float, complex\n",
    "1, 1.0, 1j"
   ]
  },
  {
   "cell_type": "markdown",
   "id": "2bd3e39a",
   "metadata": {
    "slideshow": {
     "slide_type": "slide"
    }
   },
   "source": [
    "### Переменные"
   ]
  },
  {
   "cell_type": "code",
   "execution_count": 1,
   "id": "bf77f9e3",
   "metadata": {},
   "outputs": [
    {
     "data": {
      "text/plain": [
       "int"
      ]
     },
     "execution_count": 1,
     "metadata": {},
     "output_type": "execute_result"
    }
   ],
   "source": [
    "clicks = 2\n",
    "type(clicks)"
   ]
  },
  {
   "cell_type": "code",
   "execution_count": 2,
   "id": "e86b0f60",
   "metadata": {},
   "outputs": [],
   "source": [
    "# type(объект) == класс объекта"
   ]
  },
  {
   "cell_type": "code",
   "execution_count": 3,
   "id": "762a2fdd",
   "metadata": {},
   "outputs": [
    {
     "data": {
      "text/plain": [
       "3"
      ]
     },
     "execution_count": 3,
     "metadata": {},
     "output_type": "execute_result"
    }
   ],
   "source": [
    "1\n",
    "2\n",
    "3  # результат работы ячейки в jupyter notebook (в котором сделана эта презентация)\n",
    "   # – значение последнего выражения"
   ]
  },
  {
   "cell_type": "code",
   "execution_count": null,
   "id": "3939612c",
   "metadata": {
    "slideshow": {
     "slide_type": "slide"
    }
   },
   "outputs": [],
   "source": [
    "# связывание нового объекта с переменной\n",
    "\n",
    "temperature = 10\n",
    "temperature = 20\n",
    "temperature = 36.6  # динамическая типизация!"
   ]
  },
  {
   "cell_type": "code",
   "execution_count": 4,
   "id": "b1b5e2af",
   "metadata": {
    "slideshow": {
     "slide_type": "slide"
    }
   },
   "outputs": [],
   "source": [
    "shows = 50"
   ]
  },
  {
   "cell_type": "code",
   "execution_count": 5,
   "id": "1e3f8642",
   "metadata": {},
   "outputs": [
    {
     "ename": "NameError",
     "evalue": "name 's4ows' is not defined",
     "output_type": "error",
     "traceback": [
      "\u001b[0;31m---------------------------------------------------------------------------\u001b[0m",
      "\u001b[0;31mNameError\u001b[0m                                 Traceback (most recent call last)",
      "\u001b[0;32m/tmp/ipykernel_6632/2691677965.py\u001b[0m in \u001b[0;36m<module>\u001b[0;34m\u001b[0m\n\u001b[0;32m----> 1\u001b[0;31m \u001b[0ms4ows\u001b[0m\u001b[0;34m\u001b[0m\u001b[0;34m\u001b[0m\u001b[0m\n\u001b[0m",
      "\u001b[0;31mNameError\u001b[0m: name 's4ows' is not defined"
     ]
    }
   ],
   "source": [
    "s4ows"
   ]
  },
  {
   "cell_type": "markdown",
   "id": "afbbe021",
   "metadata": {
    "slideshow": {
     "slide_type": "slide"
    }
   },
   "source": [
    "<div class=\"alert alert-danger\">\n",
    "<b>Антипаттерн:</b> неговорящие названия переменных\n",
    "</div>"
   ]
  },
  {
   "cell_type": "code",
   "execution_count": null,
   "id": "be1cb13e",
   "metadata": {},
   "outputs": [],
   "source": [
    "a = 2\n",
    "b = 10\n",
    "c = b / a\n",
    "c"
   ]
  },
  {
   "cell_type": "markdown",
   "id": "68bd67e9",
   "metadata": {
    "slideshow": {
     "slide_type": "slide"
    }
   },
   "source": [
    "### int, float, арифметические операции"
   ]
  },
  {
   "cell_type": "code",
   "execution_count": 7,
   "id": "593d590d",
   "metadata": {},
   "outputs": [
    {
     "data": {
      "text/plain": [
       "17.0"
      ]
     },
     "execution_count": 7,
     "metadata": {},
     "output_type": "execute_result"
    }
   ],
   "source": [
    "5 + 6 * (7 - 1) / 3"
   ]
  },
  {
   "cell_type": "code",
   "execution_count": 6,
   "id": "95ca2544",
   "metadata": {},
   "outputs": [
    {
     "data": {
      "text/plain": [
       "1024"
      ]
     },
     "execution_count": 6,
     "metadata": {},
     "output_type": "execute_result"
    }
   ],
   "source": [
    "2**10"
   ]
  },
  {
   "cell_type": "code",
   "execution_count": 8,
   "id": "2aa1fd80",
   "metadata": {
    "scrolled": true,
    "slideshow": {
     "slide_type": "slide"
    }
   },
   "outputs": [
    {
     "data": {
      "text/plain": [
       "(float, 1.2)"
      ]
     },
     "execution_count": 8,
     "metadata": {},
     "output_type": "execute_result"
    }
   ],
   "source": [
    "# int / int = float\n",
    "\n",
    "clicks = 12\n",
    "shows = 10\n",
    "ctr = clicks / shows\n",
    "\n",
    "type(ctr), ctr"
   ]
  },
  {
   "cell_type": "markdown",
   "id": "5d9876fd",
   "metadata": {},
   "source": [
    "<div class=\"alert alert-warning\">\n",
    "<b>Частая ошибка:</b> Деление / и // приводит к разным результатам\n",
    "</div>"
   ]
  },
  {
   "cell_type": "code",
   "execution_count": 9,
   "id": "3cd41e29",
   "metadata": {},
   "outputs": [
    {
     "data": {
      "text/plain": [
       "1"
      ]
     },
     "execution_count": 9,
     "metadata": {},
     "output_type": "execute_result"
    }
   ],
   "source": [
    "clicks // shows  # целочисленное деление"
   ]
  },
  {
   "cell_type": "code",
   "execution_count": 10,
   "id": "25fc684c",
   "metadata": {},
   "outputs": [
    {
     "data": {
      "text/plain": [
       "2"
      ]
     },
     "execution_count": 10,
     "metadata": {},
     "output_type": "execute_result"
    }
   ],
   "source": [
    "clicks % shows  # остаток от деления"
   ]
  },
  {
   "cell_type": "code",
   "execution_count": 11,
   "id": "29a4aceb",
   "metadata": {
    "slideshow": {
     "slide_type": "slide"
    }
   },
   "outputs": [
    {
     "data": {
      "text/plain": [
       "8.0"
      ]
     },
     "execution_count": 11,
     "metadata": {},
     "output_type": "execute_result"
    }
   ],
   "source": [
    "value = 1\n",
    "value += 1\n",
    "value *= 2\n",
    "value /= 2\n",
    "value **= 3\n",
    "\n",
    "value"
   ]
  },
  {
   "cell_type": "markdown",
   "id": "cc3ffc90",
   "metadata": {
    "slideshow": {
     "slide_type": "slide"
    }
   },
   "source": [
    "### Битовые операции"
   ]
  },
  {
   "cell_type": "code",
   "execution_count": 12,
   "id": "07f0b58b",
   "metadata": {},
   "outputs": [
    {
     "data": {
      "text/plain": [
       "(1024, 1)"
      ]
     },
     "execution_count": 12,
     "metadata": {},
     "output_type": "execute_result"
    }
   ],
   "source": [
    "1 << 10, 8 >> 3"
   ]
  },
  {
   "cell_type": "code",
   "execution_count": 13,
   "id": "2e6ad472",
   "metadata": {},
   "outputs": [
    {
     "data": {
      "text/plain": [
       "(6, 3, 2)"
      ]
     },
     "execution_count": 13,
     "metadata": {},
     "output_type": "execute_result"
    }
   ],
   "source": [
    "0b100 ^ 0b010, 0b011 | 0b010, 0b011 & 0b010"
   ]
  },
  {
   "cell_type": "code",
   "execution_count": 14,
   "id": "e884e717",
   "metadata": {},
   "outputs": [
    {
     "data": {
      "text/plain": [
       "'0b1111111111'"
      ]
     },
     "execution_count": 14,
     "metadata": {},
     "output_type": "execute_result"
    }
   ],
   "source": [
    "bin(1023)"
   ]
  },
  {
   "cell_type": "markdown",
   "id": "0ce83072",
   "metadata": {},
   "source": [
    "<div class=\"alert alert-info\">\n",
    "<b>Рекомендация:</b> Битовые операции тяжело читать, лучше обходиться без них\n",
    "</div>"
   ]
  },
  {
   "cell_type": "markdown",
   "id": "f1448c1e",
   "metadata": {
    "slideshow": {
     "slide_type": "slide"
    }
   },
   "source": [
    "### Логический тип: bool"
   ]
  },
  {
   "cell_type": "code",
   "execution_count": 15,
   "id": "4f962939",
   "metadata": {},
   "outputs": [
    {
     "data": {
      "text/plain": [
       "(True, False)"
      ]
     },
     "execution_count": 15,
     "metadata": {},
     "output_type": "execute_result"
    }
   ],
   "source": [
    "True, False"
   ]
  },
  {
   "cell_type": "code",
   "execution_count": 16,
   "id": "9a2e6e59",
   "metadata": {},
   "outputs": [
    {
     "data": {
      "text/plain": [
       "(bool, bool)"
      ]
     },
     "execution_count": 16,
     "metadata": {},
     "output_type": "execute_result"
    }
   ],
   "source": [
    "type(True), type(False)"
   ]
  },
  {
   "cell_type": "code",
   "execution_count": 17,
   "id": "e6ec613a",
   "metadata": {},
   "outputs": [
    {
     "data": {
      "text/plain": [
       "(False, True)"
      ]
     },
     "execution_count": 17,
     "metadata": {},
     "output_type": "execute_result"
    }
   ],
   "source": [
    "not True, not False"
   ]
  },
  {
   "cell_type": "code",
   "execution_count": 19,
   "id": "2d2605e2",
   "metadata": {},
   "outputs": [
    {
     "data": {
      "text/plain": [
       "(False, True, True)"
      ]
     },
     "execution_count": 19,
     "metadata": {},
     "output_type": "execute_result"
    }
   ],
   "source": [
    " True and False, True or False, (2 < 3)"
   ]
  },
  {
   "cell_type": "markdown",
   "id": "0b494761",
   "metadata": {
    "slideshow": {
     "slide_type": "slide"
    }
   },
   "source": [
    "<div class=\"alert alert-danger\">\n",
    "<b>Антипаттерн:</b> не ставить скобки в вычислениях, где неочевидно, что будет\n",
    "</div>"
   ]
  },
  {
   "cell_type": "code",
   "execution_count": null,
   "id": "4deda308",
   "metadata": {
    "slideshow": {
     "slide_type": "-"
    }
   },
   "outputs": [],
   "source": [
    "# Q: Какой ответ?\n",
    "False == False != True"
   ]
  },
  {
   "cell_type": "code",
   "execution_count": 20,
   "id": "0b71c5c8",
   "metadata": {
    "slideshow": {
     "slide_type": "slide"
    }
   },
   "outputs": [
    {
     "data": {
      "text/plain": [
       "True"
      ]
     },
     "execution_count": 20,
     "metadata": {},
     "output_type": "execute_result"
    }
   ],
   "source": [
    "# Как это работает:\n",
    "(False == False) and (False != True)"
   ]
  },
  {
   "cell_type": "code",
   "execution_count": 21,
   "id": "b01616c4",
   "metadata": {},
   "outputs": [
    {
     "data": {
      "text/plain": [
       "True"
      ]
     },
     "execution_count": 21,
     "metadata": {},
     "output_type": "execute_result"
    }
   ],
   "source": [
    "# Можно сравнить с более очевидной конструкцией\n",
    "2 < 3 < 5 < 7 < 11"
   ]
  },
  {
   "cell_type": "code",
   "execution_count": 22,
   "id": "91c657f8",
   "metadata": {},
   "outputs": [
    {
     "data": {
      "text/plain": [
       "True"
      ]
     },
     "execution_count": 22,
     "metadata": {},
     "output_type": "execute_result"
    }
   ],
   "source": [
    "(2 < 3) and (3 < 5) and (5 < 7) and (7 < 11)"
   ]
  },
  {
   "cell_type": "markdown",
   "id": "31b5ad8b",
   "metadata": {
    "slideshow": {
     "slide_type": "slide"
    }
   },
   "source": [
    "### Строковый тип: str"
   ]
  },
  {
   "cell_type": "code",
   "execution_count": 23,
   "id": "3f9c1b90",
   "metadata": {},
   "outputs": [
    {
     "data": {
      "text/plain": [
       "(str, str)"
      ]
     },
     "execution_count": 23,
     "metadata": {},
     "output_type": "execute_result"
    }
   ],
   "source": [
    "greeting = \"Hello\"\n",
    "\n",
    "poem = \"\"\"\n",
    "В сто сорок солнц закат пылал, \n",
    "    в июль катилось лето, \n",
    "        была жара, \n",
    "            жара плыла - \n",
    "                на даче было это. \n",
    "Пригорок Пушкино горбил \n",
    "   Акуловой горою, \n",
    "       а низ горы - \n",
    "           деревней был, \n",
    "       кривился крыш корою. \n",
    "\"\"\"\n",
    "\n",
    "type(greeting), type(poem)   "
   ]
  },
  {
   "cell_type": "markdown",
   "id": "eab74083",
   "metadata": {
    "slideshow": {
     "slide_type": "slide"
    }
   },
   "source": [
    "### Функция print"
   ]
  },
  {
   "cell_type": "code",
   "execution_count": 24,
   "id": "255db530",
   "metadata": {
    "slideshow": {
     "slide_type": "-"
    }
   },
   "outputs": [
    {
     "name": "stdout",
     "output_type": "stream",
     "text": [
      "\n",
      "В сто сорок солнц закат пылал, \n",
      "    в июль катилось лето, \n",
      "        была жара, \n",
      "            жара плыла - \n",
      "                на даче было это. \n",
      "Пригорок Пушкино горбил \n",
      "   Акуловой горою, \n",
      "       а низ горы - \n",
      "           деревней был, \n",
      "       кривился крыш корою. \n",
      "\n"
     ]
    }
   ],
   "source": [
    "print(poem)"
   ]
  },
  {
   "cell_type": "code",
   "execution_count": 25,
   "id": "570e7546",
   "metadata": {},
   "outputs": [
    {
     "name": "stdout",
     "output_type": "stream",
     "text": [
      "65536\n",
      "10 20 123 True False\n"
     ]
    }
   ],
   "source": [
    "print(65536)\n",
    "print(10, 20, '123', True, False)"
   ]
  },
  {
   "cell_type": "code",
   "execution_count": 26,
   "id": "0c1b068e",
   "metadata": {},
   "outputs": [
    {
     "name": "stdout",
     "output_type": "stream",
     "text": [
      "2 + 2\n",
      "2    +    2!"
     ]
    }
   ],
   "source": [
    "print('2', '+', 2)\n",
    "print('2', '+', 2, sep='    ', end='!')"
   ]
  },
  {
   "cell_type": "code",
   "execution_count": null,
   "id": "a73b0550",
   "metadata": {
    "slideshow": {
     "slide_type": "slide"
    }
   },
   "outputs": [],
   "source": [
    "# Q: Что получается?\n",
    "print(\"Hello\" + \", world!\")\n",
    "print('Два' * 2)\n",
    "print(\"Two\" + 2)"
   ]
  },
  {
   "cell_type": "markdown",
   "id": "ae8815c1",
   "metadata": {
    "slideshow": {
     "slide_type": "slide"
    }
   },
   "source": [
    "### str, срезы, подстроки"
   ]
  },
  {
   "cell_type": "code",
   "execution_count": 27,
   "id": "54e224e6",
   "metadata": {
    "slideshow": {
     "slide_type": "-"
    }
   },
   "outputs": [
    {
     "data": {
      "text/plain": [
       "(str, str, str)"
      ]
     },
     "execution_count": 27,
     "metadata": {},
     "output_type": "execute_result"
    }
   ],
   "source": [
    "string = \"Hello, world!\"\n",
    "character = string[10]  # нумерация начиная с 0\n",
    "sub_string = string[7:10]\n",
    "\n",
    "type(string), type(character), type(sub_string)"
   ]
  },
  {
   "cell_type": "code",
   "execution_count": 28,
   "id": "105c9546",
   "metadata": {},
   "outputs": [
    {
     "data": {
      "text/plain": [
       "('l', 'wor')"
      ]
     },
     "execution_count": 28,
     "metadata": {},
     "output_type": "execute_result"
    }
   ],
   "source": [
    "character, sub_string"
   ]
  },
  {
   "cell_type": "code",
   "execution_count": 29,
   "id": "03288024",
   "metadata": {},
   "outputs": [
    {
     "data": {
      "text/plain": [
       "True"
      ]
     },
     "execution_count": 29,
     "metadata": {},
     "output_type": "execute_result"
    }
   ],
   "source": [
    "'закат' in poem"
   ]
  },
  {
   "cell_type": "code",
   "execution_count": 30,
   "id": "1e1a42d5",
   "metadata": {
    "slideshow": {
     "slide_type": "slide"
    }
   },
   "outputs": [
    {
     "name": "stdout",
     "output_type": "stream",
     "text": [
      "!\n",
      "H\n"
     ]
    }
   ],
   "source": [
    "string = \"Hello, world!\"\n",
    "print(string[-1])\n",
    "print(string[0])"
   ]
  },
  {
   "cell_type": "code",
   "execution_count": 31,
   "id": "86218059",
   "metadata": {
    "slideshow": {
     "slide_type": "-"
    }
   },
   "outputs": [
    {
     "name": "stdout",
     "output_type": "stream",
     "text": [
      "Hello\n",
      "world!\n",
      "o, w\n",
      "orld\n"
     ]
    }
   ],
   "source": [
    "print(string[:5])\n",
    "print(string[7:])\n",
    "print(string[4:8])\n",
    "print(string[-5:-1])"
   ]
  },
  {
   "cell_type": "code",
   "execution_count": 32,
   "id": "1c63173c",
   "metadata": {},
   "outputs": [
    {
     "name": "stdout",
     "output_type": "stream",
     "text": [
      "Hlo ol!\n",
      "!dlrow ,olleH\n"
     ]
    }
   ],
   "source": [
    "print(string[::2])  # каждый второй символ\n",
    "print(string[::-1])  # строчка в обратном порядке"
   ]
  },
  {
   "cell_type": "markdown",
   "id": "98373ffd",
   "metadata": {
    "slideshow": {
     "slide_type": "slide"
    }
   },
   "source": [
    "### Строки, типы кавчек"
   ]
  },
  {
   "cell_type": "code",
   "execution_count": 33,
   "id": "65a5f45b",
   "metadata": {
    "slideshow": {
     "slide_type": "-"
    }
   },
   "outputs": [],
   "source": [
    "os = \"Linux\"\n",
    "\n",
    "browser = 'Firefox'\n",
    "\n",
    "program = \"\"\"\n",
    "    function foo() {\n",
    "        echo 123\n",
    "    }\n",
    "\"\"\"\n",
    "\n",
    "zen = '''\n",
    "    ...\n",
    "    Beautiful is better than ugly.\n",
    "    Explicit is better than implicit.\n",
    "    ...\n",
    "'''"
   ]
  },
  {
   "cell_type": "markdown",
   "id": "5fd02b0b",
   "metadata": {
    "slideshow": {
     "slide_type": "-"
    }
   },
   "source": [
    "<div class=\"alert alert-info\">\n",
    "    <b>Рекомендация:</b> стоит договариваться в своей команде о стиле – многим не нравится большое разнообразие кавычек\n",
    "</div>"
   ]
  },
  {
   "cell_type": "markdown",
   "id": "b80c9bb7",
   "metadata": {
    "slideshow": {
     "slide_type": "slide"
    }
   },
   "source": [
    "### Перенос строковых литералов"
   ]
  },
  {
   "cell_type": "code",
   "execution_count": 34,
   "id": "d34ae328",
   "metadata": {},
   "outputs": [
    {
     "data": {
      "text/plain": [
       "'Hello, world!'"
      ]
     },
     "execution_count": 34,
     "metadata": {},
     "output_type": "execute_result"
    }
   ],
   "source": [
    "(\n",
    "    'Hello'\n",
    "    ', world'\n",
    "    '!'\n",
    ")"
   ]
  },
  {
   "cell_type": "code",
   "execution_count": 35,
   "id": "455ccc41",
   "metadata": {},
   "outputs": [
    {
     "data": {
      "text/plain": [
       "'123456789'"
      ]
     },
     "execution_count": 35,
     "metadata": {},
     "output_type": "execute_result"
    }
   ],
   "source": [
    "'123' + \\\n",
    "'456' + \\\n",
    "'789'"
   ]
  },
  {
   "cell_type": "code",
   "execution_count": 36,
   "id": "d8335df2",
   "metadata": {},
   "outputs": [
    {
     "data": {
      "text/plain": [
       "'123456789'"
      ]
     },
     "execution_count": 36,
     "metadata": {},
     "output_type": "execute_result"
    }
   ],
   "source": [
    "'123' \\\n",
    "'456' \\\n",
    "'789'"
   ]
  },
  {
   "cell_type": "markdown",
   "id": "545ab888",
   "metadata": {
    "slideshow": {
     "slide_type": "slide"
    }
   },
   "source": [
    "### Список: list"
   ]
  },
  {
   "cell_type": "code",
   "execution_count": 37,
   "id": "e86dd194",
   "metadata": {},
   "outputs": [
    {
     "data": {
      "text/plain": [
       "list"
      ]
     },
     "execution_count": 37,
     "metadata": {},
     "output_type": "execute_result"
    }
   ],
   "source": [
    "math_names = ['sin', 'cos', 'rot', 'div']\n",
    "type(math_names)"
   ]
  },
  {
   "cell_type": "code",
   "execution_count": 38,
   "id": "71268dec",
   "metadata": {},
   "outputs": [
    {
     "data": {
      "text/plain": [
       "4"
      ]
     },
     "execution_count": 38,
     "metadata": {},
     "output_type": "execute_result"
    }
   ],
   "source": [
    "len(math_names)"
   ]
  },
  {
   "cell_type": "code",
   "execution_count": 39,
   "id": "90815735",
   "metadata": {},
   "outputs": [
    {
     "data": {
      "text/plain": [
       "(True, False)"
      ]
     },
     "execution_count": 39,
     "metadata": {},
     "output_type": "execute_result"
    }
   ],
   "source": [
    "'cos' in  math_names, 'sos' in math_names"
   ]
  },
  {
   "cell_type": "code",
   "execution_count": 40,
   "id": "68cc3ed7",
   "metadata": {},
   "outputs": [
    {
     "data": {
      "text/plain": [
       "('sin', 'cos', 'div')"
      ]
     },
     "execution_count": 40,
     "metadata": {},
     "output_type": "execute_result"
    }
   ],
   "source": [
    "math_names[0], math_names[1], math_names[-1]"
   ]
  },
  {
   "cell_type": "code",
   "execution_count": 41,
   "id": "a191ba4f",
   "metadata": {},
   "outputs": [
    {
     "data": {
      "text/plain": [
       "['cos', 'rot']"
      ]
     },
     "execution_count": 41,
     "metadata": {},
     "output_type": "execute_result"
    }
   ],
   "source": [
    "math_names[1:3]"
   ]
  },
  {
   "cell_type": "code",
   "execution_count": 42,
   "id": "3c9862a7",
   "metadata": {},
   "outputs": [
    {
     "data": {
      "text/plain": [
       "['div', 'rot', 'cos', 'sin']"
      ]
     },
     "execution_count": 42,
     "metadata": {},
     "output_type": "execute_result"
    }
   ],
   "source": [
    "math_names[::-1]"
   ]
  },
  {
   "cell_type": "code",
   "execution_count": null,
   "id": "60f0fac5",
   "metadata": {
    "slideshow": {
     "slide_type": "slide"
    }
   },
   "outputs": [],
   "source": [
    "# Q: Что получается?\n",
    "print([1, 2] + [3, 4])\n",
    "print([2, 3] * 4)\n",
    "print([2, 3] + 4)"
   ]
  },
  {
   "cell_type": "code",
   "execution_count": 43,
   "id": "77698b39",
   "metadata": {
    "slideshow": {
     "slide_type": "slide"
    }
   },
   "outputs": [
    {
     "data": {
      "text/plain": [
       "['alpha', 'beta', 'gamma', 'delta']"
      ]
     },
     "execution_count": 43,
     "metadata": {},
     "output_type": "execute_result"
    }
   ],
   "source": [
    "letters = ['alpha', 'beta', 'gamma']\n",
    "letters.append('delta')\n",
    "\n",
    "letters"
   ]
  },
  {
   "cell_type": "code",
   "execution_count": 44,
   "id": "fffe2afd",
   "metadata": {
    "slideshow": {
     "slide_type": "-"
    }
   },
   "outputs": [
    {
     "data": {
      "text/plain": [
       "['Философский камень', 'Тайная комната', 'Узник Азкабана']"
      ]
     },
     "execution_count": 44,
     "metadata": {},
     "output_type": "execute_result"
    }
   ],
   "source": [
    "books = ['Философский камень', 'Тайная комната']\n",
    "books += ['Узник Азкабана']\n",
    "books"
   ]
  },
  {
   "cell_type": "code",
   "execution_count": 45,
   "id": "811c4ded",
   "metadata": {},
   "outputs": [
    {
     "data": {
      "text/plain": [
       "('delta', ['alpha', 'beta', 'gamma'])"
      ]
     },
     "execution_count": 45,
     "metadata": {},
     "output_type": "execute_result"
    }
   ],
   "source": [
    "letters.pop(), letters  # метод pop удаляет последний элемент из списка и возвращает его"
   ]
  },
  {
   "cell_type": "code",
   "execution_count": 46,
   "id": "2d8226e2",
   "metadata": {},
   "outputs": [
    {
     "data": {
      "text/plain": [
       "('beta', ['alpha', 'gamma'])"
      ]
     },
     "execution_count": 46,
     "metadata": {},
     "output_type": "execute_result"
    }
   ],
   "source": [
    "letters.pop(1), letters  # удаляет элемент номер 1"
   ]
  },
  {
   "cell_type": "markdown",
   "id": "a3709646",
   "metadata": {
    "slideshow": {
     "slide_type": "slide"
    }
   },
   "source": [
    "<div class=\"alert alert-info\">\n",
    "    <b>Рекомендация:</b> использовать list как изменяемый набор значений похожих типов \n",
    "</div>"
   ]
  },
  {
   "cell_type": "markdown",
   "id": "8b3615ce",
   "metadata": {
    "slideshow": {
     "slide_type": "-"
    }
   },
   "source": [
    "<div class=\"alert alert-danger\">\n",
    "<b>Антипаттерн:</b> смешивание разных типов в списках\n",
    "</div>"
   ]
  },
  {
   "cell_type": "code",
   "execution_count": 47,
   "id": "c0df36c2",
   "metadata": {},
   "outputs": [],
   "source": [
    "yyyyy = [555, \"World\", [1,2,3], True, 10.5]"
   ]
  },
  {
   "cell_type": "markdown",
   "id": "d620da3f",
   "metadata": {},
   "source": [
    "<div class=\"alert alert-danger\">\n",
    "<b>Антипаттерн:</b> самозацикливание\n",
    "</div>"
   ]
  },
  {
   "cell_type": "code",
   "execution_count": 48,
   "id": "53cc7692",
   "metadata": {},
   "outputs": [],
   "source": [
    "inception = ['dream']\n",
    "inception.append(inception)"
   ]
  },
  {
   "cell_type": "code",
   "execution_count": 49,
   "id": "1cf26b7f",
   "metadata": {},
   "outputs": [
    {
     "data": {
      "text/plain": [
       "['dream', [...]]"
      ]
     },
     "execution_count": 49,
     "metadata": {},
     "output_type": "execute_result"
    }
   ],
   "source": [
    "inception"
   ]
  },
  {
   "cell_type": "code",
   "execution_count": 50,
   "id": "e258447a",
   "metadata": {},
   "outputs": [
    {
     "data": {
      "text/plain": [
       "['dream', [...]]"
      ]
     },
     "execution_count": 50,
     "metadata": {},
     "output_type": "execute_result"
    }
   ],
   "source": [
    "inception[1][1][1][1][1][1][1][1][1][1][1][1]"
   ]
  },
  {
   "cell_type": "markdown",
   "id": "7b3f09c4",
   "metadata": {
    "slideshow": {
     "slide_type": "slide"
    }
   },
   "source": [
    "### Кортеж: tuple"
   ]
  },
  {
   "cell_type": "code",
   "execution_count": 51,
   "id": "b3d556c7",
   "metadata": {},
   "outputs": [
    {
     "data": {
      "text/plain": [
       "(1, 2, 3)"
      ]
     },
     "execution_count": 51,
     "metadata": {},
     "output_type": "execute_result"
    }
   ],
   "source": [
    "(1, 2, 3)"
   ]
  },
  {
   "cell_type": "code",
   "execution_count": 52,
   "id": "ea440670",
   "metadata": {},
   "outputs": [
    {
     "data": {
      "text/plain": [
       "(True, 100)"
      ]
     },
     "execution_count": 52,
     "metadata": {},
     "output_type": "execute_result"
    }
   ],
   "source": [
    "(True, 100)"
   ]
  },
  {
   "cell_type": "code",
   "execution_count": 53,
   "id": "0720ae40",
   "metadata": {},
   "outputs": [
    {
     "data": {
      "text/plain": [
       "(complex, 21, False)"
      ]
     },
     "execution_count": 53,
     "metadata": {},
     "output_type": "execute_result"
    }
   ],
   "source": [
    "(complex, 21, False)"
   ]
  },
  {
   "cell_type": "code",
   "execution_count": 54,
   "id": "3aae3e9a",
   "metadata": {},
   "outputs": [
    {
     "data": {
      "text/plain": [
       "True"
      ]
     },
     "execution_count": 54,
     "metadata": {},
     "output_type": "execute_result"
    }
   ],
   "source": [
    "21 in (complex, 21, False)"
   ]
  },
  {
   "cell_type": "code",
   "execution_count": 55,
   "id": "8f0d9adc",
   "metadata": {
    "slideshow": {
     "slide_type": "slide"
    }
   },
   "outputs": [
    {
     "name": "stdout",
     "output_type": "stream",
     "text": [
      "(1, 2, 3, 4)\n",
      "(True, False, True, False, True, False, True, False, True, False, True, False, True, False, True, False, True, False, True, False)\n"
     ]
    }
   ],
   "source": [
    "print((1, 2) + (3, 4))\n",
    "print((True, False) * 10)"
   ]
  },
  {
   "cell_type": "code",
   "execution_count": 56,
   "id": "e3fa145e",
   "metadata": {
    "slideshow": {
     "slide_type": "-"
    }
   },
   "outputs": [
    {
     "ename": "TypeError",
     "evalue": "can only concatenate tuple (not \"int\") to tuple",
     "output_type": "error",
     "traceback": [
      "\u001b[0;31m---------------------------------------------------------------------------\u001b[0m",
      "\u001b[0;31mTypeError\u001b[0m                                 Traceback (most recent call last)",
      "\u001b[0;32m/tmp/ipykernel_6632/207393767.py\u001b[0m in \u001b[0;36m<module>\u001b[0;34m\u001b[0m\n\u001b[0;32m----> 1\u001b[0;31m \u001b[0mprint\u001b[0m\u001b[0;34m(\u001b[0m\u001b[0;34m(\u001b[0m\u001b[0;36m20\u001b[0m\u001b[0;34m,\u001b[0m \u001b[0;36m30\u001b[0m\u001b[0;34m)\u001b[0m \u001b[0;34m+\u001b[0m \u001b[0;36m40\u001b[0m\u001b[0;34m)\u001b[0m\u001b[0;34m\u001b[0m\u001b[0;34m\u001b[0m\u001b[0m\n\u001b[0m",
      "\u001b[0;31mTypeError\u001b[0m: can only concatenate tuple (not \"int\") to tuple"
     ]
    }
   ],
   "source": [
    "print((20, 30) + 40)"
   ]
  },
  {
   "cell_type": "markdown",
   "id": "4a6b75e7",
   "metadata": {
    "slideshow": {
     "slide_type": "slide"
    }
   },
   "source": [
    "### packing, unpacking"
   ]
  },
  {
   "cell_type": "code",
   "execution_count": 57,
   "id": "fed894f8",
   "metadata": {},
   "outputs": [
    {
     "data": {
      "text/plain": [
       "(int, 21, False)"
      ]
     },
     "execution_count": 57,
     "metadata": {},
     "output_type": "execute_result"
    }
   ],
   "source": [
    "int, 21, False"
   ]
  },
  {
   "cell_type": "code",
   "execution_count": 58,
   "id": "3b860ffb",
   "metadata": {},
   "outputs": [
    {
     "data": {
      "text/plain": [
       "tuple"
      ]
     },
     "execution_count": 58,
     "metadata": {},
     "output_type": "execute_result"
    }
   ],
   "source": [
    "type(_)  # в переменную _ в интерактивном режиме\n",
    "         # записывается результат последнего выражения"
   ]
  },
  {
   "cell_type": "code",
   "execution_count": 59,
   "id": "c34764e6",
   "metadata": {
    "slideshow": {
     "slide_type": "slide"
    }
   },
   "outputs": [],
   "source": [
    "numbers = [4, 8, 15, 16, 23, 42]\n",
    "a, b, c, d, e, f = numbers"
   ]
  },
  {
   "cell_type": "code",
   "execution_count": 60,
   "id": "8a494a8d",
   "metadata": {},
   "outputs": [
    {
     "data": {
      "text/plain": [
       "4"
      ]
     },
     "execution_count": 60,
     "metadata": {},
     "output_type": "execute_result"
    }
   ],
   "source": [
    "a"
   ]
  },
  {
   "cell_type": "code",
   "execution_count": 61,
   "id": "3cd935e4",
   "metadata": {},
   "outputs": [
    {
     "data": {
      "text/plain": [
       "23"
      ]
     },
     "execution_count": 61,
     "metadata": {},
     "output_type": "execute_result"
    }
   ],
   "source": [
    "e"
   ]
  },
  {
   "cell_type": "code",
   "execution_count": 62,
   "id": "71104a98",
   "metadata": {
    "slideshow": {
     "slide_type": "slide"
    }
   },
   "outputs": [],
   "source": [
    "colors = ('red', 'green', 'blue')\n",
    "red_variable, *other_colors = colors"
   ]
  },
  {
   "cell_type": "code",
   "execution_count": 63,
   "id": "1121ed3e",
   "metadata": {},
   "outputs": [
    {
     "data": {
      "text/plain": [
       "'red'"
      ]
     },
     "execution_count": 63,
     "metadata": {},
     "output_type": "execute_result"
    }
   ],
   "source": [
    "red_variable"
   ]
  },
  {
   "cell_type": "code",
   "execution_count": 64,
   "id": "9041e6a2",
   "metadata": {},
   "outputs": [
    {
     "data": {
      "text/plain": [
       "['green', 'blue']"
      ]
     },
     "execution_count": 64,
     "metadata": {},
     "output_type": "execute_result"
    }
   ],
   "source": [
    "other_colors"
   ]
  },
  {
   "cell_type": "code",
   "execution_count": 65,
   "id": "a4fb545d",
   "metadata": {},
   "outputs": [],
   "source": [
    "letters = 'abcdefgh'\n",
    "*other, prev, last = letters"
   ]
  },
  {
   "cell_type": "code",
   "execution_count": 66,
   "id": "7f3f0e35",
   "metadata": {},
   "outputs": [
    {
     "name": "stdout",
     "output_type": "stream",
     "text": [
      "['a', 'b', 'c', 'd', 'e', 'f'] g h\n"
     ]
    }
   ],
   "source": [
    "print(other, prev, last)"
   ]
  },
  {
   "cell_type": "markdown",
   "id": "2c08e2b4",
   "metadata": {
    "slideshow": {
     "slide_type": "slide"
    }
   },
   "source": [
    "#### Примеры packing, unpacking"
   ]
  },
  {
   "cell_type": "code",
   "execution_count": 67,
   "id": "a781557b",
   "metadata": {},
   "outputs": [],
   "source": [
    "# упаковать несколько объектов в один кортеж,\n",
    "# передать его дальше\n",
    "# и распаковать потом\n",
    "\n",
    "type_of_object = float\n",
    "text = '-273.15'\n",
    "\n",
    "pack = (type_of_object, text)\n",
    "# ..."
   ]
  },
  {
   "cell_type": "code",
   "execution_count": 68,
   "id": "3a29a28d",
   "metadata": {},
   "outputs": [
    {
     "data": {
      "text/plain": [
       "-273.15"
      ]
     },
     "execution_count": 68,
     "metadata": {},
     "output_type": "execute_result"
    }
   ],
   "source": [
    "call, value = pack\n",
    "call(value)"
   ]
  },
  {
   "cell_type": "code",
   "execution_count": 69,
   "id": "cac6ec53",
   "metadata": {},
   "outputs": [
    {
     "name": "stdout",
     "output_type": "stream",
     "text": [
      "10 20\n",
      "20 10\n"
     ]
    }
   ],
   "source": [
    "# поменять значения a и b местами\n",
    "a = 10\n",
    "b = 20\n",
    "print(a, b)\n",
    "\n",
    "a, b = b, a\n",
    "print(a, b)"
   ]
  },
  {
   "cell_type": "markdown",
   "id": "4dc417c9",
   "metadata": {
    "slideshow": {
     "slide_type": "slide"
    }
   },
   "source": [
    "### Конвертация типов – неявная"
   ]
  },
  {
   "cell_type": "code",
   "execution_count": null,
   "id": "5450b401",
   "metadata": {},
   "outputs": [],
   "source": [
    "# Q: Что получится?"
   ]
  },
  {
   "cell_type": "code",
   "execution_count": null,
   "id": "6f1f01b2",
   "metadata": {},
   "outputs": [],
   "source": [
    "True + 1"
   ]
  },
  {
   "cell_type": "code",
   "execution_count": null,
   "id": "3ab20166",
   "metadata": {},
   "outputs": [],
   "source": [
    "1 + 1.0"
   ]
  },
  {
   "cell_type": "code",
   "execution_count": null,
   "id": "fec29220",
   "metadata": {},
   "outputs": [],
   "source": [
    "True + 1.0"
   ]
  },
  {
   "cell_type": "code",
   "execution_count": null,
   "id": "6e9e7fa5",
   "metadata": {},
   "outputs": [],
   "source": [
    "True == 1, \\\n",
    "1.0 == 1, \\\n",
    "\"1\" == 1"
   ]
  },
  {
   "cell_type": "markdown",
   "id": "500a6f75",
   "metadata": {
    "slideshow": {
     "slide_type": "slide"
    }
   },
   "source": [
    "### Конвертация типов – явная"
   ]
  },
  {
   "cell_type": "code",
   "execution_count": null,
   "id": "61557d05",
   "metadata": {},
   "outputs": [],
   "source": [
    "# Q: Что получится?"
   ]
  },
  {
   "cell_type": "code",
   "execution_count": null,
   "id": "10dec09e",
   "metadata": {},
   "outputs": [],
   "source": [
    "int(4.3), int(\"345\"), float(-7), float(\"1.4\")"
   ]
  },
  {
   "cell_type": "code",
   "execution_count": null,
   "id": "1cd796fd",
   "metadata": {},
   "outputs": [],
   "source": [
    "float(\"-inf\"), float(\"inf\")"
   ]
  },
  {
   "cell_type": "code",
   "execution_count": null,
   "id": "a5189016",
   "metadata": {},
   "outputs": [],
   "source": [
    "list(\"abc\")"
   ]
  },
  {
   "cell_type": "code",
   "execution_count": null,
   "id": "c012524b",
   "metadata": {},
   "outputs": [],
   "source": [
    "str([1,2,3])"
   ]
  },
  {
   "cell_type": "code",
   "execution_count": null,
   "id": "1860085e",
   "metadata": {},
   "outputs": [],
   "source": [
    "tuple([\"Obi\", \"Wan\", \"Kenobi\"])"
   ]
  },
  {
   "cell_type": "code",
   "execution_count": 70,
   "id": "97cbfacb",
   "metadata": {
    "slideshow": {
     "slide_type": "slide"
    }
   },
   "outputs": [
    {
     "data": {
      "text/plain": [
       "(True, True, False, True, True)"
      ]
     },
     "execution_count": 70,
     "metadata": {},
     "output_type": "execute_result"
    }
   ],
   "source": [
    "bool(-2), bool(-1), bool(0), bool(1), bool(2)"
   ]
  },
  {
   "cell_type": "code",
   "execution_count": null,
   "id": "7b05e7d0",
   "metadata": {},
   "outputs": [],
   "source": [
    "# Q: что будет?"
   ]
  },
  {
   "cell_type": "code",
   "execution_count": null,
   "id": "99ef8420",
   "metadata": {},
   "outputs": [],
   "source": [
    "bool(-100.0), bool(0.0), bool(1000.0)"
   ]
  },
  {
   "cell_type": "code",
   "execution_count": null,
   "id": "66a057fc",
   "metadata": {},
   "outputs": [],
   "source": [
    "bool(-1j), bool(0j+0), bool(3j)"
   ]
  },
  {
   "cell_type": "code",
   "execution_count": null,
   "id": "4886376f",
   "metadata": {},
   "outputs": [],
   "source": [
    "# Q: что будет?"
   ]
  },
  {
   "cell_type": "code",
   "execution_count": null,
   "id": "61b37ed8",
   "metadata": {
    "slideshow": {
     "slide_type": "slide"
    }
   },
   "outputs": [],
   "source": [
    "bool(\"\"), bool(\"True\"), bool(\"False\"), bool(\"[]\")"
   ]
  },
  {
   "cell_type": "code",
   "execution_count": null,
   "id": "e95cace6",
   "metadata": {
    "slideshow": {
     "slide_type": "-"
    }
   },
   "outputs": [],
   "source": [
    "bool([]), bool([10, 20, 30]), bool([True]), bool([False])"
   ]
  },
  {
   "cell_type": "code",
   "execution_count": null,
   "id": "c98b3f14",
   "metadata": {},
   "outputs": [],
   "source": [
    "bool(()), bool((False)), bool((False,))"
   ]
  },
  {
   "cell_type": "markdown",
   "id": "79eb3c77",
   "metadata": {
    "slideshow": {
     "slide_type": "slide"
    }
   },
   "source": [
    "<center><h1>Управляющие конструкции</h1></center>"
   ]
  },
  {
   "cell_type": "markdown",
   "id": "af5dbf94",
   "metadata": {
    "slideshow": {
     "slide_type": "slide"
    }
   },
   "source": [
    "### Условный оператор, if, elif, else"
   ]
  },
  {
   "cell_type": "code",
   "execution_count": 71,
   "id": "22d42181",
   "metadata": {
    "slideshow": {
     "slide_type": "-"
    }
   },
   "outputs": [
    {
     "name": "stdout",
     "output_type": "stream",
     "text": [
      "20 Делится на 10\n",
      "25 Делится на 5\n",
      "13 Не делится на 5\n"
     ]
    }
   ],
   "source": [
    "print(20, \"Делится на 10\")\n",
    "print(25, \"Делится на 5\")\n",
    "print(13, \"Не делится на 5\")"
   ]
  },
  {
   "cell_type": "code",
   "execution_count": 72,
   "id": "3b775f2e",
   "metadata": {},
   "outputs": [],
   "source": [
    "x = 30"
   ]
  },
  {
   "cell_type": "code",
   "execution_count": 73,
   "id": "b0734349",
   "metadata": {
    "slideshow": {
     "slide_type": "slide"
    }
   },
   "outputs": [],
   "source": [
    "x = 30"
   ]
  },
  {
   "cell_type": "code",
   "execution_count": 74,
   "id": "e7e53f98",
   "metadata": {
    "slideshow": {
     "slide_type": "-"
    }
   },
   "outputs": [
    {
     "name": "stdout",
     "output_type": "stream",
     "text": [
      "30 Делится на 10\n"
     ]
    }
   ],
   "source": [
    "if x % 10 == 0:  # двоеточие означает, что далее будет выделенный блок кода\n",
    "    \n",
    "    # отступ выделяет блок кода. В данном случае -\n",
    "    # одну или несколько комманд, выполняющихся,\n",
    "    # когда условие верно.\n",
    "    \n",
    "    # Выделение блока выполняется только отступами, т.е.,\n",
    "    # например, фигурные скобки как в C++ – не требуются\n",
    "\n",
    "    print(x, \"Делится на 10\")\n",
    "elif x % 5 == 0:\n",
    "    print(x, \"Делится на 5\")\n",
    "else:\n",
    "    print(x, \"Не делится на 5\")"
   ]
  },
  {
   "cell_type": "code",
   "execution_count": 75,
   "id": "b7b7d901",
   "metadata": {
    "slideshow": {
     "slide_type": "slide"
    }
   },
   "outputs": [
    {
     "name": "stdout",
     "output_type": "stream",
     "text": [
      "5\n"
     ]
    }
   ],
   "source": [
    "value = 5\n",
    "\n",
    "if value > 5:\n",
    "    print('> 5')\n",
    "elif value == 5:\n",
    "    print('5')\n",
    "elif value < 5:\n",
    "    print('< 5')\n",
    "else:\n",
    "    print('HOW?!')  # Q: на что можно заменить value чтоб напечаталось \"HOW?!\" ?"
   ]
  },
  {
   "cell_type": "markdown",
   "id": "6c2384b6",
   "metadata": {
    "slideshow": {
     "slide_type": "slide"
    }
   },
   "source": [
    "<div class=\"alert alert-danger\">\n",
    "<b>Антипаттерн:</b> ставить лишние скобки\n",
    "</div>"
   ]
  },
  {
   "cell_type": "code",
   "execution_count": null,
   "id": "451ce466",
   "metadata": {},
   "outputs": [],
   "source": [
    "if (x % 10 == 0):  # не требуется и усложняет чтение\n",
    "    print(x, \"Делится на 10\")\n",
    "elif (x % 5 == 0):\n",
    "    print(x, \"Делится на 5\")\n",
    "else:\n",
    "    print(x, \"Не делится на 5\")"
   ]
  },
  {
   "cell_type": "markdown",
   "id": "acfcee5e",
   "metadata": {
    "slideshow": {
     "slide_type": "slide"
    }
   },
   "source": [
    "### Тренарный оператор"
   ]
  },
  {
   "cell_type": "code",
   "execution_count": null,
   "id": "6285879c",
   "metadata": {},
   "outputs": [],
   "source": [
    "if x % 10 == 0:\n",
    "    answer = \"Делится на 10\"\n",
    "else:\n",
    "    answer = \"Не делится на 10\""
   ]
  },
  {
   "cell_type": "code",
   "execution_count": null,
   "id": "9cc6c327",
   "metadata": {},
   "outputs": [],
   "source": [
    "answer = \"Делится на 10\" if x % 10 == 0 else \"Не делится на 10\""
   ]
  },
  {
   "cell_type": "markdown",
   "id": "661e2ffb",
   "metadata": {
    "slideshow": {
     "slide_type": "slide"
    }
   },
   "source": [
    "<div class=\"alert alert-danger\">\n",
    "<b>Антипаттерн:</b> использовать тренарный оператор для длинных выражений\n",
    "</div>"
   ]
  },
  {
   "cell_type": "markdown",
   "id": "45884346",
   "metadata": {},
   "source": [
    "<img src=\"./images/big_ternary.png\" />"
   ]
  },
  {
   "cell_type": "markdown",
   "id": "51dcbc6c",
   "metadata": {
    "slideshow": {
     "slide_type": "slide"
    }
   },
   "source": [
    "<div class=\"alert alert-danger\">\n",
    "<b>Антипаттерн:</b> возвращать разные типы в зависимости от условия\n",
    "</div>"
   ]
  },
  {
   "cell_type": "code",
   "execution_count": null,
   "id": "a496830c",
   "metadata": {},
   "outputs": [],
   "source": [
    "x = 13\n",
    "\n",
    "answer = x % 10 if x > 0 else \"Wrong value!\""
   ]
  },
  {
   "cell_type": "markdown",
   "id": "85f8d3f2",
   "metadata": {
    "slideshow": {
     "slide_type": "slide"
    }
   },
   "source": [
    "### or и and"
   ]
  },
  {
   "cell_type": "code",
   "execution_count": 76,
   "id": "ae44a14e",
   "metadata": {},
   "outputs": [
    {
     "data": {
      "text/plain": [
       "(True, False)"
      ]
     },
     "execution_count": 76,
     "metadata": {},
     "output_type": "execute_result"
    }
   ],
   "source": [
    "bool(20), bool(0)"
   ]
  },
  {
   "cell_type": "code",
   "execution_count": 77,
   "id": "a7a2a1cf",
   "metadata": {},
   "outputs": [
    {
     "data": {
      "text/plain": [
       "(True, False)"
      ]
     },
     "execution_count": 77,
     "metadata": {},
     "output_type": "execute_result"
    }
   ],
   "source": [
    "bool(20 or 0), bool(20 and 0)"
   ]
  },
  {
   "cell_type": "code",
   "execution_count": 78,
   "id": "921257d9",
   "metadata": {},
   "outputs": [
    {
     "data": {
      "text/plain": [
       "(int, int)"
      ]
     },
     "execution_count": 78,
     "metadata": {},
     "output_type": "execute_result"
    }
   ],
   "source": [
    "type(20 or 0), type(20 and 0)"
   ]
  },
  {
   "cell_type": "code",
   "execution_count": 79,
   "id": "c6d5fef0",
   "metadata": {
    "slideshow": {
     "slide_type": "slide"
    }
   },
   "outputs": [
    {
     "data": {
      "text/plain": [
       "'default'"
      ]
     },
     "execution_count": 79,
     "metadata": {},
     "output_type": "execute_result"
    }
   ],
   "source": [
    "x = \"\"\n",
    "if x:\n",
    "    pass  # pass это оператор, который просто не делает ничего.\n",
    "else:\n",
    "    x = \"default\"\n",
    "    \n",
    "x"
   ]
  },
  {
   "cell_type": "code",
   "execution_count": 80,
   "id": "d4b7838b",
   "metadata": {},
   "outputs": [
    {
     "data": {
      "text/plain": [
       "'default'"
      ]
     },
     "execution_count": 80,
     "metadata": {},
     "output_type": "execute_result"
    }
   ],
   "source": [
    "x = \"\"\n",
    "x = x or \"default\"  # частый способ заменить пустое значение на другое\n",
    "\n",
    "x"
   ]
  },
  {
   "cell_type": "code",
   "execution_count": 84,
   "id": "2c5b7f89",
   "metadata": {},
   "outputs": [
    {
     "name": "stdout",
     "output_type": "stream",
     "text": [
      "[1, 2, 0]\n",
      "[1, 2, 0]\n"
     ]
    }
   ],
   "source": [
    "x = [1, 2,]\n",
    "\n",
    "print(x + [0] if x else x)\n",
    "\n",
    "print(x and (x + [0]))  # непонятно; обычно так не делают"
   ]
  },
  {
   "cell_type": "markdown",
   "id": "2010077a",
   "metadata": {
    "slideshow": {
     "slide_type": "slide"
    }
   },
   "source": [
    "### Ленивое вычисление or и and"
   ]
  },
  {
   "cell_type": "code",
   "execution_count": null,
   "id": "cc9f50a7",
   "metadata": {},
   "outputs": [],
   "source": [
    "#Q: что произойдёт?\n",
    "print(0 and NEVER_EXISTED_VARIABLE)\n",
    "print([10] or NEVER_EXISTED_VARIABLE)"
   ]
  },
  {
   "cell_type": "code",
   "execution_count": null,
   "id": "75b7547c",
   "metadata": {},
   "outputs": [],
   "source": [
    "print(10 and NEVER_EXISTED_VARIABLE)"
   ]
  },
  {
   "cell_type": "code",
   "execution_count": null,
   "id": "e8fdda50",
   "metadata": {},
   "outputs": [],
   "source": [
    "10 or print(\"lazy\")"
   ]
  },
  {
   "cell_type": "code",
   "execution_count": null,
   "id": "92ffd304",
   "metadata": {},
   "outputs": [],
   "source": [
    "print(\"start\") or print(\"end\")"
   ]
  },
  {
   "cell_type": "markdown",
   "id": "39dbec55",
   "metadata": {
    "slideshow": {
     "slide_type": "slide"
    }
   },
   "source": [
    "### Базовый тип None"
   ]
  },
  {
   "cell_type": "code",
   "execution_count": 85,
   "id": "4d569c71",
   "metadata": {},
   "outputs": [],
   "source": [
    "# None обозначает отсутствие значения\n",
    "None"
   ]
  },
  {
   "cell_type": "code",
   "execution_count": 86,
   "id": "e56cd60b",
   "metadata": {},
   "outputs": [
    {
     "data": {
      "text/plain": [
       "str"
      ]
     },
     "execution_count": 86,
     "metadata": {},
     "output_type": "execute_result"
    }
   ],
   "source": [
    "type(_)  # sic! None не записывается в _ (ведь означает \"значение отсувует\")\n",
    "         # поэтому в _ осталось одно из прошлых значений"
   ]
  },
  {
   "cell_type": "code",
   "execution_count": 87,
   "id": "89bdaf3a",
   "metadata": {},
   "outputs": [
    {
     "data": {
      "text/plain": [
       "NoneType"
      ]
     },
     "execution_count": 87,
     "metadata": {},
     "output_type": "execute_result"
    }
   ],
   "source": [
    "type(None)"
   ]
  },
  {
   "cell_type": "code",
   "execution_count": 88,
   "id": "8b9f8abe",
   "metadata": {},
   "outputs": [
    {
     "data": {
      "text/plain": [
       "(False, 'None')"
      ]
     },
     "execution_count": 88,
     "metadata": {},
     "output_type": "execute_result"
    }
   ],
   "source": [
    "bool(None), str(None)"
   ]
  },
  {
   "cell_type": "markdown",
   "id": "2f4031aa",
   "metadata": {
    "slideshow": {
     "slide_type": "slide"
    }
   },
   "source": [
    "### Примеры использования None"
   ]
  },
  {
   "cell_type": "code",
   "execution_count": 89,
   "id": "8dba4159",
   "metadata": {},
   "outputs": [],
   "source": [
    "# Включаем видео на ноутбуке\n",
    "# ...\n",
    "is_working = False  # ноутбук сломался\n",
    "\n",
    "if is_working:\n",
    "    channel = 'Megasuper Channel'\n",
    "else:\n",
    "    channel = None "
   ]
  },
  {
   "cell_type": "code",
   "execution_count": 90,
   "id": "eaf7a4b2",
   "metadata": {},
   "outputs": [
    {
     "name": "stdout",
     "output_type": "stream",
     "text": [
      "I am print!\n",
      "value = None\n"
     ]
    }
   ],
   "source": [
    "value = print(\"I am print!\")  # print просто печатает объекты,\n",
    "                              # поэтому не возвращает ничего\n",
    "\n",
    "    \n",
    "print(\"value\", \"=\", value)"
   ]
  },
  {
   "cell_type": "markdown",
   "id": "a83a793a",
   "metadata": {
    "slideshow": {
     "slide_type": "slide"
    }
   },
   "source": [
    "<div class=\"alert alert-danger\">\n",
    "<b>Антипаттерн:</b> проверка на `== None` вместо `is None`\n",
    "</div>"
   ]
  },
  {
   "cell_type": "code",
   "execution_count": 91,
   "id": "8fbadab9",
   "metadata": {},
   "outputs": [],
   "source": [
    "# Напечатай размер value, если value не None\n",
    "\n",
    "value = None\n",
    "# value = \"Football\"\n",
    "# value = \"\"\n",
    "\n",
    "# Новичок\n",
    "if value != None:  # работает для базовых типов, но \n",
    "                   # нестандартные объекты могут быть равны None,\n",
    "                   # не являясь None\n",
    "    print(len(value))\n",
    "\n",
    "# Новичок 2\n",
    "if value:  # пустой список тоже приводится к False \n",
    "    print(len(value))\n",
    "    \n",
    "# Опытный\n",
    "if value is not None:  # is - проверка на то, что в value лежит\n",
    "                       # тот же самый объект (а не просто равный)\n",
    "    print(len(value))"
   ]
  },
  {
   "cell_type": "markdown",
   "id": "0768ea06",
   "metadata": {
    "slideshow": {
     "slide_type": "slide"
    }
   },
   "source": [
    "### Циклы: for"
   ]
  },
  {
   "cell_type": "code",
   "execution_count": 92,
   "id": "e86f2806",
   "metadata": {},
   "outputs": [
    {
     "name": "stdout",
     "output_type": "stream",
     "text": [
      "1\n",
      "2\n",
      "3\n",
      "4\n",
      "5\n",
      "6\n",
      "7\n",
      "8\n",
      "9\n",
      "10\n"
     ]
    }
   ],
   "source": [
    "# Напечатать числа от 1 до 10\n",
    "print(1)\n",
    "print(2)\n",
    "print(3)\n",
    "print(4)\n",
    "print(5)\n",
    "print(6)\n",
    "print(7)\n",
    "print(8)\n",
    "print(9)\n",
    "print(10)"
   ]
  },
  {
   "cell_type": "code",
   "execution_count": 93,
   "id": "34ba49df",
   "metadata": {
    "slideshow": {
     "slide_type": "slide"
    }
   },
   "outputs": [
    {
     "name": "stdout",
     "output_type": "stream",
     "text": [
      "1\n",
      "2\n",
      "3\n",
      "4\n",
      "5\n",
      "6\n",
      "7\n",
      "8\n",
      "9\n",
      "10\n"
     ]
    }
   ],
   "source": [
    "for n in [1, 2, 3, 4, 5, 6, 7, 8, 9, 10]:\n",
    "    print(n)"
   ]
  },
  {
   "cell_type": "code",
   "execution_count": 94,
   "id": "627ca93e",
   "metadata": {
    "slideshow": {
     "slide_type": "slide"
    }
   },
   "outputs": [
    {
     "name": "stdout",
     "output_type": "stream",
     "text": [
      "Letter A\n",
      "Letter B\n",
      "Letter C\n",
      "Letter D\n",
      "Letter E\n"
     ]
    }
   ],
   "source": [
    "for letter in \"ABCDE\":\n",
    "    print(\"Letter\", letter)"
   ]
  },
  {
   "cell_type": "code",
   "execution_count": 95,
   "id": "90fc8723",
   "metadata": {},
   "outputs": [
    {
     "name": "stdout",
     "output_type": "stream",
     "text": [
      "<class 'int'>\n",
      "10.1\n",
      "True\n",
      "None\n"
     ]
    }
   ],
   "source": [
    "for obj in (int, 10.1, True, None):\n",
    "    print(obj)"
   ]
  },
  {
   "cell_type": "code",
   "execution_count": null,
   "id": "f409bdc5",
   "metadata": {
    "slideshow": {
     "slide_type": "slide"
    }
   },
   "outputs": [],
   "source": [
    "# Напечатать числа от 1 до 1000000\n",
    "\n",
    "for n in [1, 2, 3, ]:  # очень долго писать...\n",
    "    print(n)"
   ]
  },
  {
   "cell_type": "markdown",
   "id": "87fc6fbc",
   "metadata": {
    "slideshow": {
     "slide_type": "slide"
    }
   },
   "source": [
    "### Базовый тип range"
   ]
  },
  {
   "cell_type": "code",
   "execution_count": 96,
   "id": "d55531c4",
   "metadata": {},
   "outputs": [],
   "source": [
    "numbers = range(10)"
   ]
  },
  {
   "cell_type": "code",
   "execution_count": 97,
   "id": "c9c63412",
   "metadata": {},
   "outputs": [
    {
     "data": {
      "text/plain": [
       "range"
      ]
     },
     "execution_count": 97,
     "metadata": {},
     "output_type": "execute_result"
    }
   ],
   "source": [
    "type(numbers)"
   ]
  },
  {
   "cell_type": "code",
   "execution_count": 98,
   "id": "197bb6d6",
   "metadata": {},
   "outputs": [
    {
     "data": {
      "text/plain": [
       "(0, 9)"
      ]
     },
     "execution_count": 98,
     "metadata": {},
     "output_type": "execute_result"
    }
   ],
   "source": [
    "numbers[0], numbers[-1]"
   ]
  },
  {
   "cell_type": "code",
   "execution_count": 99,
   "id": "6c3a67da",
   "metadata": {},
   "outputs": [
    {
     "data": {
      "text/plain": [
       "range(9, -1, -1)"
      ]
     },
     "execution_count": 99,
     "metadata": {},
     "output_type": "execute_result"
    }
   ],
   "source": [
    "reversed_numbers = numbers[::-1]\n",
    "reversed_numbers"
   ]
  },
  {
   "cell_type": "code",
   "execution_count": 100,
   "id": "e790b365",
   "metadata": {
    "slideshow": {
     "slide_type": "slide"
    }
   },
   "outputs": [
    {
     "data": {
      "text/plain": [
       "[0, 1, 2, 3, 4, 5, 6, 7, 8, 9]"
      ]
     },
     "execution_count": 100,
     "metadata": {},
     "output_type": "execute_result"
    }
   ],
   "source": [
    "list(range(10))"
   ]
  },
  {
   "cell_type": "code",
   "execution_count": 101,
   "id": "7b2c2c8b",
   "metadata": {},
   "outputs": [
    {
     "data": {
      "text/plain": [
       "[4, 5, 6, 7, 8, 9, 10, 11, 12, 13]"
      ]
     },
     "execution_count": 101,
     "metadata": {},
     "output_type": "execute_result"
    }
   ],
   "source": [
    "list(range(4, 14))  # полуинтервал – включается первый аргумент, но исключается последний"
   ]
  },
  {
   "cell_type": "code",
   "execution_count": 102,
   "id": "1614641d",
   "metadata": {},
   "outputs": [
    {
     "data": {
      "text/plain": [
       "[4, 7, 10, 13]"
      ]
     },
     "execution_count": 102,
     "metadata": {},
     "output_type": "execute_result"
    }
   ],
   "source": [
    "list(range(4, 14, 3))"
   ]
  },
  {
   "cell_type": "code",
   "execution_count": 103,
   "id": "f22a6ce2",
   "metadata": {},
   "outputs": [
    {
     "data": {
      "text/plain": [
       "[14, 12, 10, 8, 6]"
      ]
     },
     "execution_count": 103,
     "metadata": {},
     "output_type": "execute_result"
    }
   ],
   "source": [
    "list(range(14, 4, -2))"
   ]
  },
  {
   "cell_type": "code",
   "execution_count": 104,
   "id": "a498800d",
   "metadata": {},
   "outputs": [
    {
     "data": {
      "text/plain": [
       "range(0, 10000000000000000000000000000000000000000000000000000000000000000000000000000000000000000000000000000)"
      ]
     },
     "execution_count": 104,
     "metadata": {},
     "output_type": "execute_result"
    }
   ],
   "source": [
    "range(10**100)  # в память не поместилось бы, но range и не хранится в памяти"
   ]
  },
  {
   "cell_type": "code",
   "execution_count": null,
   "id": "3f522cb4",
   "metadata": {
    "slideshow": {
     "slide_type": "-"
    }
   },
   "outputs": [],
   "source": [
    "range('a', 'f', 2)  # Q: что будет?"
   ]
  },
  {
   "cell_type": "markdown",
   "id": "0e7f730b",
   "metadata": {
    "slideshow": {
     "slide_type": "slide"
    }
   },
   "source": [
    "### Циклы: for"
   ]
  },
  {
   "cell_type": "code",
   "execution_count": 105,
   "id": "ea394d46",
   "metadata": {
    "slideshow": {
     "slide_type": "-"
    }
   },
   "outputs": [],
   "source": [
    "# Напечатать числа от 1 до 1000000\n",
    "\n",
    "for n in range(1000000):\n",
    "    # print(n)  # закомментировано, чтоб случайно не напечатать и не подвесить jupyter ;]\n",
    "    pass"
   ]
  },
  {
   "cell_type": "code",
   "execution_count": 106,
   "id": "a045dfd3",
   "metadata": {
    "slideshow": {
     "slide_type": "slide"
    }
   },
   "outputs": [
    {
     "name": "stdout",
     "output_type": "stream",
     "text": [
      "a b c d e f g h i j k l m n o p q r s t u v w x y z \n",
      "z y x w v u t s r q p o n m l k j i h g f e d c b a "
     ]
    }
   ],
   "source": [
    "# напечатать алфавит сначала в прямом, потом в обратном порядке\n",
    "alphabet = 'abcdefghijklmnopqrstuvwxyz'\n",
    "for letter in alphabet:\n",
    "    print(letter, end=' ')\n",
    "    \n",
    "print()\n",
    "    \n",
    "for letter in alphabet[::-1]:\n",
    "    print(letter, end=' ')"
   ]
  },
  {
   "cell_type": "markdown",
   "id": "f3121500",
   "metadata": {
    "slideshow": {
     "slide_type": "slide"
    }
   },
   "source": [
    "<div class=\"alert alert-danger\">\n",
    "<b>Антипаттерн:</b> [::-1] плохо читается. Лучше использовать reversed\n",
    "</div>"
   ]
  },
  {
   "cell_type": "code",
   "execution_count": 107,
   "id": "9a0e3ad8",
   "metadata": {},
   "outputs": [
    {
     "data": {
      "text/plain": [
       "<reversed at 0x7f44182eb250>"
      ]
     },
     "execution_count": 107,
     "metadata": {},
     "output_type": "execute_result"
    }
   ],
   "source": [
    "reversed(alphabet)"
   ]
  },
  {
   "cell_type": "code",
   "execution_count": 108,
   "id": "75223b0c",
   "metadata": {},
   "outputs": [
    {
     "name": "stdout",
     "output_type": "stream",
     "text": [
      "z y x w v u t s r q p o n m l k j i h g f e d c b a "
     ]
    }
   ],
   "source": [
    "for letter in reversed(alphabet):\n",
    "    print(letter, end=' ')"
   ]
  },
  {
   "cell_type": "code",
   "execution_count": 109,
   "id": "a017c6c4",
   "metadata": {},
   "outputs": [
    {
     "name": "stdout",
     "output_type": "stream",
     "text": [
      "9 8 7 6 5 4 3 2 1 0 \n",
      "9 8 7 6 5 4 3 2 1 0 "
     ]
    }
   ],
   "source": [
    "for value in range(9, -1, -1):\n",
    "    print(value, end=' ')\n",
    "\n",
    "print()\n",
    "\n",
    "for value in reversed(range(10)):\n",
    "    print(value, end=' ')"
   ]
  },
  {
   "cell_type": "markdown",
   "id": "1b856149",
   "metadata": {
    "slideshow": {
     "slide_type": "slide"
    }
   },
   "source": [
    "### Циклы: while"
   ]
  },
  {
   "cell_type": "code",
   "execution_count": 110,
   "id": "10bb3597",
   "metadata": {
    "scrolled": true
   },
   "outputs": [
    {
     "name": "stdout",
     "output_type": "stream",
     "text": [
      "52\n",
      "26\n",
      "13\n",
      "40\n",
      "20\n",
      "10\n",
      "5\n",
      "16\n",
      "8\n",
      "4\n",
      "2\n",
      "1\n"
     ]
    }
   ],
   "source": [
    "x = 17\n",
    "\n",
    "while x != 1:  # выполняется любое число раз, пока верно условие\n",
    "    \n",
    "    if x % 2 == 0:\n",
    "        x //= 2\n",
    "    else:\n",
    "        x = 3 * x + 1\n",
    "    \n",
    "    print(x)"
   ]
  },
  {
   "cell_type": "code",
   "execution_count": 111,
   "id": "e0d21df0",
   "metadata": {
    "slideshow": {
     "slide_type": "slide"
    }
   },
   "outputs": [
    {
     "name": "stdout",
     "output_type": "stream",
     "text": [
      "[0.0, 0.0, 0.0, 1.2, 1.44]\n",
      "[0.0, 0.0, 0.0, 1.2, 1.44, 2.0736]\n",
      "[0.0, 0.0, 0.0, 1.2, 1.44, 2.0736, 4.299816959999999]\n",
      "[0.0, 0.0, 0.0, 1.2, 1.44, 2.0736, 4.299816959999999, 18.488425889503635]\n"
     ]
    }
   ],
   "source": [
    "data = [.0, .0, .0, 1.2]\n",
    "\n",
    "while len(data) > data[-1]:\n",
    "    last = data[-1]\n",
    "    data.append(last * last)\n",
    "    \n",
    "    print(data)"
   ]
  },
  {
   "cell_type": "markdown",
   "id": "82866a75",
   "metadata": {
    "slideshow": {
     "slide_type": "slide"
    }
   },
   "source": [
    "<div class=\"alert alert-info\">\n",
    "    <b>Рекомендация:</b> использовать <b>for</b>, когда нужно работать с элементами последовательно и независимо друг от друга\n",
    "</div>"
   ]
  },
  {
   "cell_type": "code",
   "execution_count": 112,
   "id": "b0aa3219",
   "metadata": {},
   "outputs": [
    {
     "name": "stdout",
     "output_type": "stream",
     "text": [
      "Для каждого элемента из списка напечатай его\n",
      "10, 20, 30, 40, \n",
      "Для каждого элемента из списка напечатай пару: (порядковый номер, элемент)\n",
      "0 10, 1 20, 2 30, 3 40, \n",
      "Для каждого элемента из списка напечатай его индекс\n",
      "0, 1, 2, 3, "
     ]
    }
   ],
   "source": [
    "data = [10, 20, 30, 40]\n",
    "\n",
    "print(\"Для каждого элемента из списка напечатай его\")\n",
    "\n",
    "for value in data:\n",
    "    print(value, end=', ')\n",
    "\n",
    "print()\n",
    "print(\"Для каждого элемента из списка напечатай пару: (порядковый номер, элемент)\")\n",
    "\n",
    "for i, value in enumerate(data):\n",
    "    # enumerate отображает объекты data в кортежи (индекс, объект)\n",
    "    print(i, value, end=', ')\n",
    "\n",
    "print()\n",
    "print(\"Для каждого элемента из списка напечатай его индекс\")\n",
    "\n",
    "for i in range(len(data)):\n",
    "    print(i, end=', ')"
   ]
  },
  {
   "cell_type": "markdown",
   "id": "69348eb1",
   "metadata": {
    "slideshow": {
     "slide_type": "slide"
    }
   },
   "source": [
    "<div class=\"alert alert-danger\">\n",
    "<b>Антипаттерн:</b> изменять объект, по которому сейчас запущен цикл for\n",
    "</div>"
   ]
  },
  {
   "cell_type": "code",
   "execution_count": null,
   "id": "f6341c2d",
   "metadata": {},
   "outputs": [],
   "source": [
    "data = [0,1,2,3,4,5,6,7,8,9,10]\n",
    "\n",
    "for value in data:\n",
    "    print(value, end=', ')\n",
    "    data.pop(0)  # удаление начального элемента"
   ]
  },
  {
   "cell_type": "markdown",
   "id": "3efd1703",
   "metadata": {
    "slideshow": {
     "slide_type": "slide"
    }
   },
   "source": [
    "<div class=\"alert alert-info\">\n",
    "    <b>Рекомендация:</b> использовать <b>while</b> если список изменяется на каждой итерации, если заранее сложно предсказать количество итераций\n",
    "</div>"
   ]
  },
  {
   "cell_type": "code",
   "execution_count": 113,
   "id": "2ca51c85",
   "metadata": {},
   "outputs": [
    {
     "name": "stdout",
     "output_type": "stream",
     "text": [
      "0, 1, 2, 3, 4, 5, 6, 7, 8, 9, 10, "
     ]
    }
   ],
   "source": [
    "data = [0,1,2,3,4,5,6,7,8,9,10]\n",
    "\n",
    "while data:\n",
    "    value = data.pop(0)\n",
    "    print(value, end=', ')"
   ]
  },
  {
   "cell_type": "code",
   "execution_count": 114,
   "id": "9bb4f8f2",
   "metadata": {},
   "outputs": [
    {
     "name": "stdout",
     "output_type": "stream",
     "text": [
      "257, 772, 386, 193, 580, 290, 145, 436, 218, 109, 328, 164, 82, 41, 124, 62, 31, 94, 47, 142, 71, 214, 107, 322, 161, 484, 242, 121, 364, 182, 91, 274, 137, 412, 206, 103, 310, 155, 466, 233, 700, 350, 175, 526, 263, 790, 395, 1186, 593, 1780, 890, 445, 1336, 668, 334, 167, 502, 251, 754, 377, 1132, 566, 283, 850, 425, 1276, 638, 319, 958, 479, 1438, 719, 2158, 1079, 3238, 1619, 4858, 2429, 7288, 3644, 1822, 911, 2734, 1367, 4102, 2051, 6154, 3077, 9232, 4616, 2308, 1154, 577, 1732, 866, 433, 1300, 650, 325, 976, 488, 244, 122, 61, 184, 92, 46, 23, 70, 35, 106, 53, 160, 80, 40, 20, 10, 5, 16, 8, 4, 2, "
     ]
    }
   ],
   "source": [
    "n = 257\n",
    "while n > 1:\n",
    "    print(n, end=', ')\n",
    "    if n % 2 == 0:\n",
    "        n //= 2\n",
    "    else:\n",
    "        n *= 3\n",
    "        n += 1"
   ]
  },
  {
   "cell_type": "markdown",
   "id": "8455860e",
   "metadata": {
    "slideshow": {
     "slide_type": "slide"
    }
   },
   "source": [
    "### Циклы: break, continue, else"
   ]
  },
  {
   "cell_type": "markdown",
   "id": "3de4c070",
   "metadata": {},
   "source": [
    "#### contnue"
   ]
  },
  {
   "cell_type": "code",
   "execution_count": null,
   "id": "9e99e5a8",
   "metadata": {},
   "outputs": [],
   "source": [
    "# continue заканчивает исполнение текущей итерации\n",
    "# и сразу же переходит к следущей"
   ]
  },
  {
   "cell_type": "code",
   "execution_count": 116,
   "id": "7b3ddab5",
   "metadata": {},
   "outputs": [
    {
     "name": "stdout",
     "output_type": "stream",
     "text": [
      "0, 1, 2, 3, 4, 5, 6, *, 8, 9, "
     ]
    }
   ],
   "source": [
    "skip = 7\n",
    "\n",
    "for n in range(10):\n",
    "    if n == skip:\n",
    "        print('*', end=', ')\n",
    "        continue\n",
    "    print(n, end=', ')"
   ]
  },
  {
   "cell_type": "code",
   "execution_count": 117,
   "id": "d6f82cd0",
   "metadata": {},
   "outputs": [
    {
     "name": "stdout",
     "output_type": "stream",
     "text": [
      "7, 6, 2, 1, "
     ]
    }
   ],
   "source": [
    "data = [1, 2, 3, 4, 5, 6, 7]\n",
    "\n",
    "while data:\n",
    "    value = data.pop()  # удаляем последний элемент\n",
    "    if 2 <= len(data) <= 4:\n",
    "        continue\n",
    "    print(value, end=', ')"
   ]
  },
  {
   "cell_type": "markdown",
   "id": "b1975132",
   "metadata": {
    "slideshow": {
     "slide_type": "slide"
    }
   },
   "source": [
    "#### break"
   ]
  },
  {
   "cell_type": "code",
   "execution_count": 118,
   "id": "a105c4da",
   "metadata": {},
   "outputs": [],
   "source": [
    "# break полностью прерывает исполнение цикла"
   ]
  },
  {
   "cell_type": "code",
   "execution_count": 119,
   "id": "ea600005",
   "metadata": {},
   "outputs": [
    {
     "name": "stdout",
     "output_type": "stream",
     "text": [
      "ERROR\n"
     ]
    }
   ],
   "source": [
    "for natural in [1, 2, 3, 4, -1, 20]:\n",
    "    if natural < 0:\n",
    "        print(\"ERROR\")\n",
    "        break"
   ]
  },
  {
   "cell_type": "code",
   "execution_count": 120,
   "id": "c9a8d42d",
   "metadata": {},
   "outputs": [
    {
     "name": "stdout",
     "output_type": "stream",
     "text": [
      "17, 52, 26, ERROR! 13, 40, 20, ERROR! 10, ERROR! FATAL ERROR - BREAK\n"
     ]
    }
   ],
   "source": [
    "bad = [13, 5, 10]\n",
    "errors = 0\n",
    "\n",
    "n = 17\n",
    "while n > 1:\n",
    "    print(n, end=', ')\n",
    "    n = n // 2 if n % 2 == 0 else n * 3 + 1\n",
    "        \n",
    "    if n in bad:\n",
    "        print('ERROR', end='! ')\n",
    "        errors += 1\n",
    "        if errors == len(bad):\n",
    "            print(\"FATAL ERROR - BREAK\")\n",
    "            break"
   ]
  },
  {
   "cell_type": "markdown",
   "id": "adeeab3e",
   "metadata": {
    "slideshow": {
     "slide_type": "slide"
    }
   },
   "source": [
    "#### else"
   ]
  },
  {
   "cell_type": "code",
   "execution_count": null,
   "id": "2fdc2764",
   "metadata": {},
   "outputs": [],
   "source": [
    "# Если цикл не прерывался на break то выполняется блок else"
   ]
  },
  {
   "cell_type": "code",
   "execution_count": 121,
   "id": "446ea51d",
   "metadata": {},
   "outputs": [
    {
     "name": "stdout",
     "output_type": "stream",
     "text": [
      "All lines are short\n"
     ]
    }
   ],
   "source": [
    "for line in ['Hello', 'World', 'Library']:\n",
    "    if len(line) > 7:\n",
    "        print(\"Found long line!\")\n",
    "        break\n",
    "else:\n",
    "    print(\"All lines are short\")"
   ]
  },
  {
   "cell_type": "code",
   "execution_count": 122,
   "id": "78759789",
   "metadata": {},
   "outputs": [
    {
     "name": "stdout",
     "output_type": "stream",
     "text": [
      "Vault 13 not found!\n"
     ]
    }
   ],
   "source": [
    "vault = 257\n",
    "while vault > 1:\n",
    "    vault = vault // 2 if vault % 2 == 0 else vault * 3 + 1\n",
    "    if vault == 13:\n",
    "        break\n",
    "else:\n",
    "    print(\"Vault 13 not found!\")"
   ]
  },
  {
   "cell_type": "markdown",
   "id": "3d9f8ffb",
   "metadata": {
    "slideshow": {
     "slide_type": "slide"
    }
   },
   "source": [
    "<center><h1>Встроенные функции и типы</h1></center>"
   ]
  },
  {
   "cell_type": "code",
   "execution_count": 123,
   "id": "0c388fcc",
   "metadata": {
    "scrolled": true,
    "slideshow": {
     "slide_type": "slide"
    }
   },
   "outputs": [
    {
     "data": {
      "text/plain": [
       "['ArithmeticError',\n",
       " 'AssertionError',\n",
       " 'AttributeError',\n",
       " 'BaseException',\n",
       " 'BlockingIOError',\n",
       " 'BrokenPipeError',\n",
       " 'BufferError',\n",
       " 'BytesWarning',\n",
       " 'ChildProcessError',\n",
       " 'ConnectionAbortedError',\n",
       " 'ConnectionError',\n",
       " 'ConnectionRefusedError',\n",
       " 'ConnectionResetError',\n",
       " 'DeprecationWarning',\n",
       " 'EOFError',\n",
       " 'Ellipsis',\n",
       " 'EnvironmentError',\n",
       " 'Exception',\n",
       " 'False',\n",
       " 'FileExistsError',\n",
       " 'FileNotFoundError',\n",
       " 'FloatingPointError',\n",
       " 'FutureWarning',\n",
       " 'GeneratorExit',\n",
       " 'IOError',\n",
       " 'ImportError',\n",
       " 'ImportWarning',\n",
       " 'IndentationError',\n",
       " 'IndexError',\n",
       " 'InterruptedError',\n",
       " 'IsADirectoryError',\n",
       " 'KeyError',\n",
       " 'KeyboardInterrupt',\n",
       " 'LookupError',\n",
       " 'MemoryError',\n",
       " 'ModuleNotFoundError',\n",
       " 'NameError',\n",
       " 'None',\n",
       " 'NotADirectoryError',\n",
       " 'NotImplemented',\n",
       " 'NotImplementedError',\n",
       " 'OSError',\n",
       " 'OverflowError',\n",
       " 'PendingDeprecationWarning',\n",
       " 'PermissionError',\n",
       " 'ProcessLookupError',\n",
       " 'RecursionError',\n",
       " 'ReferenceError',\n",
       " 'ResourceWarning',\n",
       " 'RuntimeError',\n",
       " 'RuntimeWarning',\n",
       " 'StopAsyncIteration',\n",
       " 'StopIteration',\n",
       " 'SyntaxError',\n",
       " 'SyntaxWarning',\n",
       " 'SystemError',\n",
       " 'SystemExit',\n",
       " 'TabError',\n",
       " 'TimeoutError',\n",
       " 'True',\n",
       " 'TypeError',\n",
       " 'UnboundLocalError',\n",
       " 'UnicodeDecodeError',\n",
       " 'UnicodeEncodeError',\n",
       " 'UnicodeError',\n",
       " 'UnicodeTranslateError',\n",
       " 'UnicodeWarning',\n",
       " 'UserWarning',\n",
       " 'ValueError',\n",
       " 'Warning',\n",
       " 'ZeroDivisionError',\n",
       " '__IPYTHON__',\n",
       " '__build_class__',\n",
       " '__debug__',\n",
       " '__doc__',\n",
       " '__import__',\n",
       " '__loader__',\n",
       " '__name__',\n",
       " '__package__',\n",
       " '__spec__',\n",
       " 'abs',\n",
       " 'all',\n",
       " 'any',\n",
       " 'ascii',\n",
       " 'bin',\n",
       " 'bool',\n",
       " 'breakpoint',\n",
       " 'bytearray',\n",
       " 'bytes',\n",
       " 'callable',\n",
       " 'chr',\n",
       " 'classmethod',\n",
       " 'compile',\n",
       " 'complex',\n",
       " 'copyright',\n",
       " 'credits',\n",
       " 'delattr',\n",
       " 'dict',\n",
       " 'dir',\n",
       " 'display',\n",
       " 'divmod',\n",
       " 'enumerate',\n",
       " 'eval',\n",
       " 'exec',\n",
       " 'execfile',\n",
       " 'filter',\n",
       " 'float',\n",
       " 'format',\n",
       " 'frozenset',\n",
       " 'get_ipython',\n",
       " 'getattr',\n",
       " 'globals',\n",
       " 'hasattr',\n",
       " 'hash',\n",
       " 'help',\n",
       " 'hex',\n",
       " 'id',\n",
       " 'input',\n",
       " 'int',\n",
       " 'isinstance',\n",
       " 'issubclass',\n",
       " 'iter',\n",
       " 'len',\n",
       " 'license',\n",
       " 'list',\n",
       " 'locals',\n",
       " 'map',\n",
       " 'max',\n",
       " 'memoryview',\n",
       " 'min',\n",
       " 'next',\n",
       " 'object',\n",
       " 'oct',\n",
       " 'open',\n",
       " 'ord',\n",
       " 'pow',\n",
       " 'print',\n",
       " 'property',\n",
       " 'range',\n",
       " 'repr',\n",
       " 'reversed',\n",
       " 'round',\n",
       " 'runfile',\n",
       " 'set',\n",
       " 'setattr',\n",
       " 'slice',\n",
       " 'sorted',\n",
       " 'staticmethod',\n",
       " 'str',\n",
       " 'sum',\n",
       " 'super',\n",
       " 'tuple',\n",
       " 'type',\n",
       " 'vars',\n",
       " 'zip']"
      ]
     },
     "execution_count": 123,
     "metadata": {},
     "output_type": "execute_result"
    }
   ],
   "source": [
    "dir(__builtins__)"
   ]
  },
  {
   "cell_type": "markdown",
   "id": "c77381a1",
   "metadata": {
    "slideshow": {
     "slide_type": "slide"
    }
   },
   "source": [
    "<div class=\"alert alert-danger\">\n",
    "<b>Антипаттерн:</b> использовать объекты из builtins в качестве имен переменных\n",
    "</div>"
   ]
  },
  {
   "cell_type": "code",
   "execution_count": null,
   "id": "a1405f6f",
   "metadata": {
    "slideshow": {
     "slide_type": "-"
    }
   },
   "outputs": [],
   "source": [
    "# Q: Что тут получится?\n",
    "str = 'hello'\n",
    "str(1)"
   ]
  },
  {
   "cell_type": "code",
   "execution_count": null,
   "id": "81e0ba06",
   "metadata": {},
   "outputs": [],
   "source": [
    "str = __builtins__.str  # Восстанавливаем"
   ]
  },
  {
   "cell_type": "code",
   "execution_count": null,
   "id": "29ad217e",
   "metadata": {
    "slideshow": {
     "slide_type": "slide"
    }
   },
   "outputs": [],
   "source": [
    "# типы, которые уже были выше\n",
    "print, reversed, enumerate"
   ]
  },
  {
   "cell_type": "code",
   "execution_count": null,
   "id": "71311282",
   "metadata": {},
   "outputs": [],
   "source": [
    "# другие функции и типы\n",
    "min, max, sum, ..."
   ]
  },
  {
   "cell_type": "markdown",
   "id": "12ab2ad1",
   "metadata": {
    "slideshow": {
     "slide_type": "slide"
    }
   },
   "source": [
    "<div class=\"alert alert-danger\">\n",
    "<b>Антипаттерн:</b> не использовать встроенные функции для простых операций\n",
    "</div>"
   ]
  },
  {
   "cell_type": "code",
   "execution_count": 124,
   "id": "2cef30bd",
   "metadata": {},
   "outputs": [
    {
     "data": {
      "text/plain": [
       "15"
      ]
     },
     "execution_count": 124,
     "metadata": {},
     "output_type": "execute_result"
    }
   ],
   "source": [
    "data = [1, 2, 3, 4, 5]\n",
    "\n",
    "# Новичок\n",
    "total = 0\n",
    "for el in data:\n",
    "    total += el\n",
    "    \n",
    "# Опытный\n",
    "total = sum(data)\n",
    "\n",
    "total"
   ]
  },
  {
   "cell_type": "code",
   "execution_count": null,
   "id": "1d9467d5",
   "metadata": {
    "slideshow": {
     "slide_type": "slide"
    }
   },
   "outputs": [],
   "source": [
    "data = [1, 2, 3, 4, 5]\n",
    "\n",
    "# Новичок\n",
    "\n",
    "min_value = None\n",
    "\n",
    "for el in data:\n",
    "    if min_value is None:\n",
    "        min_value = el\n",
    "    else:\n",
    "        if el < min_value:\n",
    "            min_value = el\n",
    "    \n",
    "# Опытный\n",
    "min_value = min(data)"
   ]
  },
  {
   "cell_type": "code",
   "execution_count": null,
   "id": "fbbbaa1d",
   "metadata": {
    "slideshow": {
     "slide_type": "-"
    }
   },
   "outputs": [],
   "source": [
    "# Q: чему равно?\n",
    "max([])"
   ]
  },
  {
   "cell_type": "code",
   "execution_count": null,
   "id": "5a384c6e",
   "metadata": {
    "slideshow": {
     "slide_type": "slide"
    }
   },
   "outputs": [],
   "source": [
    "# Новичок\n",
    "for value in [1, 2, 3, 4, 5]:\n",
    "    print(value, end=', ')\n",
    "\n",
    "print()\n",
    "\n",
    "# Опытный\n",
    "for value in range(1, 6):\n",
    "    print(value, end=', ')"
   ]
  },
  {
   "cell_type": "code",
   "execution_count": null,
   "id": "2da13193",
   "metadata": {},
   "outputs": [],
   "source": [
    "data = [1, 2, 3, 4, 5]\n",
    "\n",
    "# Новичок\n",
    "for i in range(len(data)):\n",
    "    print(i, data[i], end=', ')\n",
    "\n",
    "print()\n",
    "    \n",
    "# Опытный\n",
    "for i, value in enumerate(data):\n",
    "    print(i, value, end=', ')"
   ]
  },
  {
   "cell_type": "code",
   "execution_count": null,
   "id": "175af065",
   "metadata": {
    "slideshow": {
     "slide_type": "slide"
    }
   },
   "outputs": [],
   "source": [
    "data = [1, 2, 3, 4, 5]\n",
    "\n",
    "# Новичок\n",
    "for value in data[::-1]:\n",
    "    print(value, end=', ')\n",
    "\n",
    "print()\n",
    "\n",
    "# Опытный\n",
    "for value in reversed(data):\n",
    "    print(value, end=', ')"
   ]
  },
  {
   "cell_type": "code",
   "execution_count": null,
   "id": "311068ca",
   "metadata": {},
   "outputs": [],
   "source": [
    "data = [1, 2, 3, 4, 5]\n",
    "letters = ['a', 'b', 'c', 'd', 'e']\n",
    "\n",
    "# Новичок\n",
    "for i in range(len(data)):\n",
    "    print(i, (data[i], letters[i]), end=', ')\n",
    "\n",
    "print()\n",
    "    \n",
    "# Опытный\n",
    "for value in zip(data, letters):\n",
    "    print(i, value, end=', ')"
   ]
  },
  {
   "cell_type": "code",
   "execution_count": 3,
   "id": "d50c65e5",
   "metadata": {
    "slideshow": {
     "slide_type": "slide"
    }
   },
   "outputs": [
    {
     "data": {
      "text/plain": [
       "[8.0, -4.6, 2.6999999999999997]"
      ]
     },
     "execution_count": 3,
     "metadata": {},
     "output_type": "execute_result"
    }
   ],
   "source": [
    "math_vector_first = [1.0, -3.5, 4.1]\n",
    "math_vector_second = [7.0, -1.1, -1.4]\n",
    "#math_vector_sum - ?\n",
    "\n",
    "math_vector_sum = []\n",
    "for element_first, element_second in zip(math_vector_first, math_vector_second):\n",
    "    # теперь на каждой итерации мы видим пару элементов и можем их сложить\n",
    "    math_vector_sum.append(\n",
    "        element_first + element_second\n",
    "    )\n",
    "    \n",
    "math_vector_sum"
   ]
  },
  {
   "cell_type": "markdown",
   "id": "f24eed0c",
   "metadata": {
    "slideshow": {
     "slide_type": "slide"
    }
   },
   "source": [
    "<center><h1>Другие полезные элементы Python</h1></center>"
   ]
  },
  {
   "cell_type": "markdown",
   "id": "d0b6e78b",
   "metadata": {
    "slideshow": {
     "slide_type": "slide"
    }
   },
   "source": [
    "### Assignment expression (Моржовый оператор)"
   ]
  },
  {
   "cell_type": "code",
   "execution_count": 125,
   "id": "8fb15472",
   "metadata": {},
   "outputs": [
    {
     "data": {
      "text/plain": [
       "(20, 30, 50)"
      ]
     },
     "execution_count": 125,
     "metadata": {},
     "output_type": "execute_result"
    }
   ],
   "source": [
    "z = (x := 20) + (y := 30)\n",
    "x, y, z"
   ]
  },
  {
   "cell_type": "code",
   "execution_count": 126,
   "id": "45dbc1dc",
   "metadata": {},
   "outputs": [
    {
     "name": "stdout",
     "output_type": "stream",
     "text": [
      "Catched 4\n",
      "Catched 4\n"
     ]
    }
   ],
   "source": [
    "lst = [1, 2, 3, 4]\n",
    "\n",
    "# На строчку больше\n",
    "n = len(lst)\n",
    "if n >= 3:\n",
    "    print(\"Catched\", n)\n",
    "\n",
    "# Запутанно\n",
    "if (n := len(lst)) >= 3:\n",
    "    print(\"Catched\", n)"
   ]
  },
  {
   "cell_type": "markdown",
   "id": "2c9938e1",
   "metadata": {
    "slideshow": {
     "slide_type": "slide"
    }
   },
   "source": [
    "### Создание функций"
   ]
  },
  {
   "cell_type": "code",
   "execution_count": null,
   "id": "a3bc8684",
   "metadata": {},
   "outputs": [],
   "source": [
    "print(\"Welcome to Moscow!\")\n",
    "print(\"Welcome to Samara!\")\n",
    "print(\"Welcome to Novosibirsk!\")\n",
    "print(\"Welcome to Sochi!\")\n",
    "print(\"Welcome to Khabarovsk!\")"
   ]
  },
  {
   "cell_type": "code",
   "execution_count": null,
   "id": "b14f18a9",
   "metadata": {},
   "outputs": [],
   "source": [
    "# можем вынести в цикл\n",
    "for city in ['Moscow', 'Samara', 'Novosibirsk', 'Sochi', 'Khabarovsk']:\n",
    "    print(\"Welcome to \", city, '!', sep='')"
   ]
  },
  {
   "cell_type": "code",
   "execution_count": 130,
   "id": "e2eba316",
   "metadata": {},
   "outputs": [
    {
     "name": "stdout",
     "output_type": "stream",
     "text": [
      "Welcome to Moscow!\n",
      "Welcome to Samara!\n",
      "Welcome to Novosibirsk!\n",
      "Welcome to Sochi!\n",
      "Welcome to Khabarovsk!\n"
     ]
    }
   ],
   "source": [
    "# и вынести общие действия в функцию\n",
    "def print_wellcome(location):\n",
    "    print(\"Welcome to \", city, '!', sep='')\n",
    "\n",
    "for city in ['Moscow', 'Samara', 'Novosibirsk', 'Sochi', 'Khabarovsk']:\n",
    "    print_wellcome(city)"
   ]
  },
  {
   "cell_type": "markdown",
   "id": "d581391c",
   "metadata": {
    "slideshow": {
     "slide_type": "slide"
    }
   },
   "source": [
    "### Типизация кода"
   ]
  },
  {
   "cell_type": "code",
   "execution_count": 134,
   "id": "c62b4887",
   "metadata": {},
   "outputs": [],
   "source": [
    "import typing as tp\n",
    "\n",
    "\n",
    "def f(\n",
    "    int_value: int,\n",
    "    float_value: float,\n",
    "    str_value: str,\n",
    "    list_value: tp.List[str],\n",
    "    tuple_value: tp.Tuple[str, str],\n",
    "    optional_str_value: tp.Optional[str],\n",
    "    str_or_int_value: tp.Union[str, int],\n",
    "    type_value: type,\n",
    "    any_value: tp.Any\n",
    ") -> None:\n",
    "    pass\n",
    "\n",
    "f(\n",
    "    int_value=10, \n",
    "    float_value=10.1, \n",
    "    str_value=str, \n",
    "    list_value=[\"a\", \"b\"],\n",
    "    tuple_value=(\"a\", \"b\"),\n",
    "    optional_str_value=\"hello\",  # or None\n",
    "    str_or_int_value=\"world\",  # or 1\n",
    "    type_value=int,\n",
    "    any_value=12345  # or any other type\n",
    ")\n"
   ]
  },
  {
   "cell_type": "markdown",
   "id": "f185b11b",
   "metadata": {
    "slideshow": {
     "slide_type": "slide"
    }
   },
   "source": [
    "<div class=\"alert alert-danger\">\n",
    "<b>Антипаттерн:</b> не писать типы\n",
    "</div>"
   ]
  },
  {
   "cell_type": "code",
   "execution_count": null,
   "id": "8a6ba216",
   "metadata": {
    "slideshow": {
     "slide_type": "-"
    }
   },
   "outputs": [],
   "source": [
    "# Новичок\n",
    "def ctr(clicks, shows):\n",
    "    return clicks / shows\n",
    "    \n",
    "# Опытный\n",
    "def ctr(clicks: int, shows: int) -> float:\n",
    "    return clicks / shows"
   ]
  },
  {
   "cell_type": "markdown",
   "id": "415bf6fc",
   "metadata": {
    "slideshow": {
     "slide_type": "slide"
    }
   },
   "source": [
    "<div class=\"alert alert-danger\">\n",
    "<b>Антипаттерн:</b> писать функции, которые принимают ад на вход\n",
    "</div>"
   ]
  },
  {
   "cell_type": "code",
   "execution_count": null,
   "id": "76033538",
   "metadata": {},
   "outputs": [],
   "source": [
    "# Была функция, в которой пытались разобраться\n",
    "\n",
    "def _update_input_fields(input_fields, output_fields):\n",
    "    \n",
    "    for output_field_name, output_field_type in dict(output_fields).iteritems():\n",
    "        if output_field_name not in input_fields:\n",
    "            input_fields[output_field_name] = output_field_type\n",
    "        elif init_to_string(input_fields[output_field_name]) != init_to_string(output_field_type):\n",
    "            input_fields[output_field_name] = _merge_field_type(input_fields[output_field_name], output_field_type)\n"
   ]
  },
  {
   "cell_type": "code",
   "execution_count": null,
   "id": "51d37299",
   "metadata": {},
   "outputs": [],
   "source": [
    "# Разобрались -_-\n",
    "# Не надо так делать -_-\n",
    "\n",
    "import typing as tp\n",
    "\n",
    "def _update_input_fields(\n",
    "        input_fields: tp.Mapping[str, tp.Union[tp.Tuple[tp.Union[tp.Callable[tp.Any, tp.Any], str], tp.Union[tp.Callable[tp.Any, tp.Any], str]], tp.Union[tp.Callable[tp.Any, tp.Any], str]]], \n",
    "        output_fields: tp.Union[tp.Mapping[str, tp.Union[tp.Tuple[tp.Union[tp.Callable[tp.Any, tp.Any], str], tp.Union[tp.Callable[tp.Any, tp.Any], str]], tp.Union[tp.Callable[tp.Any, tp.Any], str]]], tp.Sequence[tp.Tuple[str,  tp.Union[tp.Tuple[ tp.Union[tp.Callable[tp.Any, tp.Any], str],  tp.Union[tp.Callable[tp.Any, tp.Any], str]],  tp.Union[tp.Callable[tp.Any, tp.Any], str]]]]]\n",
    "        ) -> None:\n",
    "    \n",
    "    for output_field_name, output_field_type in dict(output_fields).iteritems():\n",
    "        if output_field_name not in input_fields:\n",
    "            input_fields[output_field_name] = output_field_type\n",
    "        elif init_to_string(input_fields[output_field_name]) != init_to_string(output_field_type):\n",
    "            input_fields[output_field_name] = _merge_field_type(input_fields[output_field_name], output_field_type)\n"
   ]
  },
  {
   "cell_type": "markdown",
   "id": "6a2208a3",
   "metadata": {
    "slideshow": {
     "slide_type": "slide"
    }
   },
   "source": [
    "<div class=\"alert alert-danger\">\n",
    "<b>Антипаттерн:</b> возвращать значение не из всех веток выполнения\n",
    "</div>"
   ]
  },
  {
   "cell_type": "code",
   "execution_count": null,
   "id": "e9f40ffe",
   "metadata": {},
   "outputs": [],
   "source": [
    "# Новичок\n",
    "def ctr(clicks: int, shows: int) -> float:\n",
    "    if shows != 0:\n",
    "        return clicks / shows\n",
    "    \n",
    "# Опытный\n",
    "def ctr(clicks: int, shows: int) -> float:\n",
    "    if shows != 0:\n",
    "        return clicks / shows\n",
    "    return 0.0"
   ]
  },
  {
   "cell_type": "markdown",
   "id": "0186a83b",
   "metadata": {
    "slideshow": {
     "slide_type": "slide"
    }
   },
   "source": [
    "### Комментарии"
   ]
  },
  {
   "cell_type": "code",
   "execution_count": null,
   "id": "ba8fcf64",
   "metadata": {},
   "outputs": [],
   "source": [
    "# комментарии отмечаются символом #\n",
    "\n",
    "# многострочных комментариев нет,\n",
    "# необходимо ставить # перед каждой строчкой комментария\n",
    "\n",
    "def function():  # можно писать комментарии после строчки с кодом\n",
    "    pass"
   ]
  },
  {
   "cell_type": "markdown",
   "id": "1b459ec2",
   "metadata": {
    "slideshow": {
     "slide_type": "slide"
    }
   },
   "source": [
    "<div class=\"alert alert-danger\">\n",
    "<b>Антипаттерн:</b> дублировать в комментарии очевидное поведение в коде\n",
    "</div>"
   ]
  },
  {
   "cell_type": "code",
   "execution_count": 131,
   "id": "50a6127f",
   "metadata": {},
   "outputs": [],
   "source": [
    "def product_three(a, b, c):\n",
    "    return a * b * c  # перемножаем три числа что бы вернуть из функции"
   ]
  },
  {
   "cell_type": "markdown",
   "id": "668f5e64",
   "metadata": {
    "slideshow": {
     "slide_type": "slide"
    }
   },
   "source": [
    "<div class=\"alert alert-danger\">\n",
    "<b>Антипаттерн:</b> писать комментарии вместо того что бы написать понятный код\n",
    "</div>"
   ]
  },
  {
   "cell_type": "code",
   "execution_count": 132,
   "id": "9f49aa9c",
   "metadata": {},
   "outputs": [],
   "source": [
    "def f(u, b):\n",
    "    return u * b\n",
    "\n",
    "def g(ub, c):\n",
    "    return ub * c\n",
    "\n",
    "def h(c, b, u):  # переменные стоят называются так потому что клавиша a была сломана на клавиатуре,\n",
    "                 # а порядок мне просто нравится\n",
    "    # эта функция перемножает три числа\n",
    "    return g(f(c, b), u)  # сначала пермножаем первые два числа c и b;\n",
    "                          # далее результат передаём в функцию g,\n",
    "                          # которая перемножает этот результат с третим числом "
   ]
  },
  {
   "cell_type": "markdown",
   "id": "c701bcf7",
   "metadata": {
    "slideshow": {
     "slide_type": "slide"
    }
   },
   "source": [
    "<div class=\"alert alert-info\">\n",
    "<b>Рекомендация:</b> Хороший комментарий:<br/>\n",
    "1. отсутствует, т.к. код сам по себе понятен<br/>\n",
    "2. отвечает на вопрос \"почему?\" или \"зачем?\"\n",
    "</div>\n"
   ]
  },
  {
   "cell_type": "markdown",
   "id": "97b00d31",
   "metadata": {
    "slideshow": {
     "slide_type": "slide"
    }
   },
   "source": [
    "### Документация"
   ]
  },
  {
   "cell_type": "code",
   "execution_count": 135,
   "id": "81b7308e",
   "metadata": {},
   "outputs": [],
   "source": [
    "def print_message(message: tp.Optional[str]):\n",
    "    # Печатает переданное сообщение.\n",
    "    # Отдельно обрабатываются случаи пустого и None сообщений\n",
    "    if message is None:\n",
    "        print(\"No message!\")\n",
    "    elif not message:\n",
    "        print(\"Empty message!\")\n",
    "    else:\n",
    "        print(message)"
   ]
  },
  {
   "cell_type": "code",
   "execution_count": 136,
   "id": "e403c4b8",
   "metadata": {},
   "outputs": [
    {
     "name": "stdout",
     "output_type": "stream",
     "text": [
      "Help on function print_message in module __main__:\n",
      "\n",
      "print_message(message: Optional[str])\n",
      "\n"
     ]
    }
   ],
   "source": [
    "help(print_message)  # help – ещё одна встроенная функция"
   ]
  },
  {
   "cell_type": "code",
   "execution_count": 137,
   "id": "c837c82a",
   "metadata": {
    "slideshow": {
     "slide_type": "slide"
    }
   },
   "outputs": [],
   "source": [
    "def print_message(message: tp.Optional[str]):\n",
    "    \"\"\"\n",
    "    Печатает переданное сообщение.\n",
    "    Отдельно обрабатываются случаи пустого и None сообщений\n",
    "    \"\"\"\n",
    "    if message is None:\n",
    "        print(\"No message!\")\n",
    "    elif not message:\n",
    "        print(\"Empty message!\")\n",
    "    else:\n",
    "        print(message)"
   ]
  },
  {
   "cell_type": "code",
   "execution_count": 138,
   "id": "97a93f57",
   "metadata": {},
   "outputs": [
    {
     "name": "stdout",
     "output_type": "stream",
     "text": [
      "Help on function print_message in module __main__:\n",
      "\n",
      "print_message(message: Optional[str])\n",
      "    Печатает переданное сообщение.\n",
      "    Отдельно обрабатываются случаи пустого и None сообщений\n",
      "\n"
     ]
    }
   ],
   "source": [
    "help(print_message)"
   ]
  },
  {
   "cell_type": "code",
   "execution_count": null,
   "id": "c8a81bd0",
   "metadata": {
    "slideshow": {
     "slide_type": "-"
    }
   },
   "outputs": [],
   "source": [
    "print_message  # в Jupyter документацию можно увидеть нажав shift + tab"
   ]
  },
  {
   "cell_type": "markdown",
   "id": "bca1562f",
   "metadata": {
    "slideshow": {
     "slide_type": "slide"
    }
   },
   "source": [
    "<div class=\"alert alert-danger\">\n",
    "<b>Антипаттерн:</b> не писать документацию\n",
    "</div>"
   ]
  },
  {
   "cell_type": "code",
   "execution_count": null,
   "id": "4ac83f98",
   "metadata": {},
   "outputs": [],
   "source": [
    "# Новичок\n",
    "def ctr1(clicks: int, shows: int) -> float:\n",
    "    if shows != 0:\n",
    "        return clicks / shows\n",
    "    return 0.0\n",
    "    \n",
    "# Опытный\n",
    "def ctr2(clicks: int, shows: int) -> float:\n",
    "    \"\"\"\n",
    "    Calculate ctr. If there are no shows, return 0.\n",
    "    :param clicks: number of clicks on banner\n",
    "    :param shows: number of banners shows\n",
    "    :return: clicks-through rate\n",
    "    \"\"\"\n",
    "    if shows != 0:\n",
    "        return clicks / shows\n",
    "    return 0.0"
   ]
  },
  {
   "cell_type": "markdown",
   "id": "501906c4",
   "metadata": {
    "slideshow": {
     "slide_type": "slide"
    }
   },
   "source": [
    "<div class=\"alert alert-success\">\n",
    "<b>Рекомендация:</b> документировать нетривиальную логику\n",
    "</div>\n",
    "<img src=\"./images/untrivial_logic_doc.png\">"
   ]
  },
  {
   "cell_type": "markdown",
   "id": "ab9bce10",
   "metadata": {
    "slideshow": {
     "slide_type": "slide"
    }
   },
   "source": [
    "<div class=\"alert alert-success\">\n",
    "<b>Рекомендация:</b> документировать предостережения\n",
    "</div>\n",
    "<img src=\"./images/careful_logic_doc.png\">"
   ]
  },
  {
   "cell_type": "markdown",
   "id": "6e4fca57",
   "metadata": {
    "slideshow": {
     "slide_type": "slide"
    }
   },
   "source": [
    "### assert в коде"
   ]
  },
  {
   "cell_type": "code",
   "execution_count": 139,
   "id": "d727a274",
   "metadata": {},
   "outputs": [],
   "source": [
    "assert True  # assert выражает ожидания разработчика о состоянии программы"
   ]
  },
  {
   "cell_type": "code",
   "execution_count": 140,
   "id": "c27cd8f0",
   "metadata": {},
   "outputs": [
    {
     "ename": "AssertionError",
     "evalue": "",
     "output_type": "error",
     "traceback": [
      "\u001b[0;31m---------------------------------------------------------------------------\u001b[0m",
      "\u001b[0;31mAssertionError\u001b[0m                            Traceback (most recent call last)",
      "\u001b[0;32m/tmp/ipykernel_6632/2103537015.py\u001b[0m in \u001b[0;36m<module>\u001b[0;34m\u001b[0m\n\u001b[0;32m----> 1\u001b[0;31m \u001b[0;32massert\u001b[0m \u001b[0;32mFalse\u001b[0m\u001b[0;34m\u001b[0m\u001b[0;34m\u001b[0m\u001b[0m\n\u001b[0m",
      "\u001b[0;31mAssertionError\u001b[0m: "
     ]
    }
   ],
   "source": [
    "assert False  "
   ]
  },
  {
   "cell_type": "code",
   "execution_count": 141,
   "id": "52c7a7a4",
   "metadata": {},
   "outputs": [],
   "source": [
    "assert 2 + 2 == 4  # assert выражает уверенность, что при корректной работе программы\n",
    "                   # утвержение верно абсолютно всегда. Использовать его стоит только для\n",
    "                   # отладки, но не для управления исполнением программы"
   ]
  },
  {
   "cell_type": "code",
   "execution_count": 142,
   "id": "a04750b4",
   "metadata": {},
   "outputs": [
    {
     "ename": "AssertionError",
     "evalue": "List must not be empty!",
     "output_type": "error",
     "traceback": [
      "\u001b[0;31m---------------------------------------------------------------------------\u001b[0m",
      "\u001b[0;31mAssertionError\u001b[0m                            Traceback (most recent call last)",
      "\u001b[0;32m/tmp/ipykernel_6632/3954370202.py\u001b[0m in \u001b[0;36m<module>\u001b[0;34m\u001b[0m\n\u001b[1;32m      1\u001b[0m \u001b[0mallways_filled_list\u001b[0m \u001b[0;34m=\u001b[0m \u001b[0;34m[\u001b[0m\u001b[0;34m]\u001b[0m\u001b[0;34m\u001b[0m\u001b[0;34m\u001b[0m\u001b[0m\n\u001b[0;32m----> 2\u001b[0;31m \u001b[0;32massert\u001b[0m \u001b[0mallways_filled_list\u001b[0m\u001b[0;34m,\u001b[0m \u001b[0;34m\"List must not be empty!\"\u001b[0m\u001b[0;34m\u001b[0m\u001b[0;34m\u001b[0m\u001b[0m\n\u001b[0m",
      "\u001b[0;31mAssertionError\u001b[0m: List must not be empty!"
     ]
    }
   ],
   "source": [
    "allways_filled_list = []\n",
    "assert allways_filled_list, \"List must not be empty!\""
   ]
  },
  {
   "cell_type": "code",
   "execution_count": 144,
   "id": "84242f75",
   "metadata": {
    "slideshow": {
     "slide_type": "slide"
    }
   },
   "outputs": [
    {
     "data": {
      "text/plain": [
       "7.416198487095663"
      ]
     },
     "execution_count": 144,
     "metadata": {},
     "output_type": "execute_result"
    }
   ],
   "source": [
    "import typing as tp\n",
    "\n",
    "def _dot_product(first: tp.Sequence[float], second: tp.Sequence[float]) -> float:  \n",
    "    \n",
    "    result = 0\n",
    "    for i in range(len(first)):\n",
    "        result += first[i] * second[i]\n",
    "        \n",
    "    return result\n",
    "\n",
    "\n",
    "def length(vector: tp.List[float]) -> float:\n",
    "    return _dot_product(vector, vector) ** 0.5\n",
    "\n",
    "\n",
    "length([1, 2, 3, 4, 5])"
   ]
  },
  {
   "cell_type": "code",
   "execution_count": 145,
   "id": "0c48dff0",
   "metadata": {
    "slideshow": {
     "slide_type": "slide"
    }
   },
   "outputs": [
    {
     "data": {
      "text/plain": [
       "7.416198487095663"
      ]
     },
     "execution_count": 145,
     "metadata": {},
     "output_type": "execute_result"
    }
   ],
   "source": [
    "import typing as tp\n",
    "\n",
    "def _dot_product(first: tp.List[float], second: tp.List[float]) -> float:    \n",
    "    assert len(first) == len(second), \"First and second should be equal length\"\n",
    "    \n",
    "    result = 0\n",
    "    for el_first, el_second in zip(first, second):\n",
    "        result += el_first * el_second\n",
    "        \n",
    "    return result\n",
    "\n",
    "\n",
    "def length(vector: tp.List[float]) -> float:\n",
    "    return _dot_product(vector, vector) ** 0.5\n",
    "\n",
    "\n",
    "length([1, 2, 3, 4, 5])"
   ]
  },
  {
   "cell_type": "markdown",
   "id": "8540df58",
   "metadata": {
    "slideshow": {
     "slide_type": "slide"
    }
   },
   "source": [
    "### assert в тестах"
   ]
  },
  {
   "cell_type": "code",
   "execution_count": 146,
   "id": "84da0677",
   "metadata": {},
   "outputs": [],
   "source": [
    "def dummy_function(a) -> str:\n",
    "    return \"hello\"\n",
    "\n",
    "def test_dummy_function(value) -> None:\n",
    "    assert dummy_function(value) == value, \"Function doesn't return the same value as passed\""
   ]
  },
  {
   "cell_type": "code",
   "execution_count": 147,
   "id": "e3702fbf",
   "metadata": {},
   "outputs": [
    {
     "ename": "AssertionError",
     "evalue": "Function doesn't return the same value as passed",
     "output_type": "error",
     "traceback": [
      "\u001b[0;31m---------------------------------------------------------------------------\u001b[0m",
      "\u001b[0;31mAssertionError\u001b[0m                            Traceback (most recent call last)",
      "\u001b[0;32m/tmp/ipykernel_6632/2141668646.py\u001b[0m in \u001b[0;36m<module>\u001b[0;34m\u001b[0m\n\u001b[1;32m      1\u001b[0m \u001b[0mtest_dummy_function\u001b[0m\u001b[0;34m(\u001b[0m\u001b[0;34m\"hello\"\u001b[0m\u001b[0;34m)\u001b[0m\u001b[0;34m\u001b[0m\u001b[0;34m\u001b[0m\u001b[0m\n\u001b[0;32m----> 2\u001b[0;31m \u001b[0mtest_dummy_function\u001b[0m\u001b[0;34m(\u001b[0m\u001b[0;34m\"hi\"\u001b[0m\u001b[0;34m)\u001b[0m\u001b[0;34m\u001b[0m\u001b[0;34m\u001b[0m\u001b[0m\n\u001b[0m",
      "\u001b[0;32m/tmp/ipykernel_6632/2561860933.py\u001b[0m in \u001b[0;36mtest_dummy_function\u001b[0;34m(value)\u001b[0m\n\u001b[1;32m      3\u001b[0m \u001b[0;34m\u001b[0m\u001b[0m\n\u001b[1;32m      4\u001b[0m \u001b[0;32mdef\u001b[0m \u001b[0mtest_dummy_function\u001b[0m\u001b[0;34m(\u001b[0m\u001b[0mvalue\u001b[0m\u001b[0;34m)\u001b[0m \u001b[0;34m->\u001b[0m \u001b[0;32mNone\u001b[0m\u001b[0;34m:\u001b[0m\u001b[0;34m\u001b[0m\u001b[0;34m\u001b[0m\u001b[0m\n\u001b[0;32m----> 5\u001b[0;31m     \u001b[0;32massert\u001b[0m \u001b[0mdummy_function\u001b[0m\u001b[0;34m(\u001b[0m\u001b[0mvalue\u001b[0m\u001b[0;34m)\u001b[0m \u001b[0;34m==\u001b[0m \u001b[0mvalue\u001b[0m\u001b[0;34m,\u001b[0m \u001b[0;34m\"Function doesn't return the same value as passed\"\u001b[0m\u001b[0;34m\u001b[0m\u001b[0;34m\u001b[0m\u001b[0m\n\u001b[0m",
      "\u001b[0;31mAssertionError\u001b[0m: Function doesn't return the same value as passed"
     ]
    }
   ],
   "source": [
    "test_dummy_function(\"hello\")\n",
    "test_dummy_function(\"hi\")"
   ]
  },
  {
   "cell_type": "markdown",
   "id": "404162cf",
   "metadata": {
    "slideshow": {
     "slide_type": "slide"
    }
   },
   "source": [
    "### Zen of Python"
   ]
  },
  {
   "cell_type": "code",
   "execution_count": 148,
   "id": "c9101948",
   "metadata": {},
   "outputs": [
    {
     "name": "stdout",
     "output_type": "stream",
     "text": [
      "The Zen of Python, by Tim Peters\n",
      "\n",
      "Beautiful is better than ugly.\n",
      "Explicit is better than implicit.\n",
      "Simple is better than complex.\n",
      "Complex is better than complicated.\n",
      "Flat is better than nested.\n",
      "Sparse is better than dense.\n",
      "Readability counts.\n",
      "Special cases aren't special enough to break the rules.\n",
      "Although practicality beats purity.\n",
      "Errors should never pass silently.\n",
      "Unless explicitly silenced.\n",
      "In the face of ambiguity, refuse the temptation to guess.\n",
      "There should be one-- and preferably only one --obvious way to do it.\n",
      "Although that way may not be obvious at first unless you're Dutch.\n",
      "Now is better than never.\n",
      "Although never is often better than *right* now.\n",
      "If the implementation is hard to explain, it's a bad idea.\n",
      "If the implementation is easy to explain, it may be a good idea.\n",
      "Namespaces are one honking great idea -- let's do more of those!\n"
     ]
    }
   ],
   "source": [
    "import this"
   ]
  }
 ],
 "metadata": {
  "celltoolbar": "Slideshow",
  "kernelspec": {
   "display_name": "Python 3 (ipykernel)",
   "language": "python",
   "name": "python3"
  },
  "language_info": {
   "codemirror_mode": {
    "name": "ipython",
    "version": 3
   },
   "file_extension": ".py",
   "mimetype": "text/x-python",
   "name": "python",
   "nbconvert_exporter": "python",
   "pygments_lexer": "ipython3",
   "version": "3.9.6"
  },
  "rise": {
   "transition": "none"
  }
 },
 "nbformat": 4,
 "nbformat_minor": 5
}
