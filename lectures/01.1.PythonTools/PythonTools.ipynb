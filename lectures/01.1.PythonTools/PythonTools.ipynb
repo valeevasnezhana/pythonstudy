{
 "cells": [
  {
   "cell_type": "markdown",
   "metadata": {
    "slideshow": {
     "slide_type": "slide"
    },
    "pycharm": {
     "name": "#%% md\n"
    }
   },
   "source": [
    "<div align=\"center\" style=\"margin-top: 50px\">\n",
    "<b><font size=7 face=\"Arial\">Scan me!</font></b>\n",
    "</div>\n",
    "<div align=\"center\"><img src=\"images/qr_tg.png\"/></div>"
   ]
  },
  {
   "cell_type": "markdown",
   "metadata": {
    "slideshow": {
     "slide_type": "slide"
    },
    "pycharm": {
     "name": "#%% md\n"
    }
   },
   "source": [
    "<div align=\"center\">\n",
    "<img src=\"https://upload.wikimedia.org/wikipedia/commons/a/a8/%D0%9B%D0%9E%D0%93%D0%9E_%D0%A8%D0%90%D0%94.png\" width=400px/>\n",
    "<br /><br />\n",
    "<b><font size=7 face=\"Arial\">Python & инструменты</font></b>\n",
    "<br />\n",
    "<h4>2021</h4>\n",
    "</div>"
   ]
  },
  {
   "cell_type": "markdown",
   "metadata": {
    "slideshow": {
     "slide_type": "slide"
    },
    "pycharm": {
     "name": "#%% md\n"
    }
   },
   "source": [
    "<div align=\"center\"><b><font size=7>Основные ОС</font></b></div>\n",
    "<div align=\"center\">\n",
    "    <div style=\"color: red; position:relative; top: 60px; left: 80px;\"><font size=\"10\">*</font></div>\n",
    "    <img src=\"https://www.manageengine.com/patch-management/images/pmp-os.png\" width=\"400px\"/>\n",
    "</div>"
   ]
  },
  {
   "cell_type": "markdown",
   "metadata": {
    "slideshow": {
     "slide_type": "slide"
    },
    "pycharm": {
     "name": "#%% md\n"
    }
   },
   "source": [
    "<div align=\"center\" style=\"position: absolute; top:50%; left: 30px;\"><b><font size=6>py.manytask.org</font></b></div>\n",
    "<br/>\n",
    "<div align=\"center\"><img src=\"images/signup.png\" style=\"margin-left:100px;height:850px; margin-top: -100px\"/></div>\n",
    "<!-- <div align=\"center\"><img src=\"images/qr.png\" style=\"position: absolute; top:40%; right: 50px;\"/></div> -->"
   ]
  },
  {
   "cell_type": "markdown",
   "metadata": {
    "slideshow": {
     "slide_type": "slide"
    },
    "pycharm": {
     "name": "#%% md\n"
    }
   },
   "source": [
    "<div align=\"center\"><img src=\"images/lms1.png\"/></div>"
   ]
  },
  {
   "cell_type": "markdown",
   "metadata": {
    "slideshow": {
     "slide_type": "-"
    },
    "pycharm": {
     "name": "#%% md\n"
    }
   },
   "source": [
    "<div align=\"center\"><img src=\"images/lms2.png\"/></div>"
   ]
  },
  {
   "cell_type": "markdown",
   "metadata": {
    "slideshow": {
     "slide_type": "slide"
    },
    "pycharm": {
     "name": "#%% md\n"
    }
   },
   "source": [
    "<div align=\"center\"><img src=\"images/basic_manytask.png\"/></div>"
   ]
  },
  {
   "cell_type": "markdown",
   "metadata": {
    "slideshow": {
     "slide_type": "slide"
    },
    "pycharm": {
     "name": "#%% md\n"
    }
   },
   "source": [
    "<div align=\"center\"><img src=\"images/gitlab_manytask.png?1=1\"/></div>"
   ]
  },
  {
   "cell_type": "code",
   "execution_count": null,
   "metadata": {
    "slideshow": {
     "slide_type": "slide"
    },
    "pycharm": {
     "name": "#%%\n"
    }
   },
   "outputs": [],
   "source": [
    "git clone <то, что вы скопировали в интерфейсе гитлаба>"
   ]
  },
  {
   "cell_type": "markdown",
   "metadata": {
    "slideshow": {
     "slide_type": "slide"
    },
    "pycharm": {
     "name": "#%% md\n"
    }
   },
   "source": [
    "<div align=\"center\"><b><font size=7>Учимся сдавать домашку</font></b></div>\n",
    "\n",
    "<div align=\"center\"><img src=\"images/instrument_versions.png\"/></div>"
   ]
  },
  {
   "cell_type": "markdown",
   "metadata": {
    "slideshow": {
     "slide_type": "slide"
    },
    "pycharm": {
     "name": "#%% md\n"
    }
   },
   "source": [
    "<div align=\"center\"><img src=\"images/pytest_output.png?1=1\"/></div>"
   ]
  },
  {
   "cell_type": "markdown",
   "metadata": {
    "slideshow": {
     "slide_type": "slide"
    },
    "pycharm": {
     "name": "#%% md\n"
    }
   },
   "source": [
    "<div align=\"center\"><img src=\"images/prepare_tests.png\"/></div>"
   ]
  },
  {
   "cell_type": "markdown",
   "metadata": {
    "slideshow": {
     "slide_type": "slide"
    },
    "pycharm": {
     "name": "#%% md\n"
    }
   },
   "source": [
    "<div align=\"center\"><img src=\"images/the_debug.png\"/></div>"
   ]
  },
  {
   "cell_type": "markdown",
   "metadata": {
    "slideshow": {
     "slide_type": "slide"
    },
    "pycharm": {
     "name": "#%% md\n"
    }
   },
   "source": [
    "<div align=\"center\"><img src=\"images/upload_solution.png\"/></div>"
   ]
  },
  {
   "cell_type": "markdown",
   "metadata": {
    "slideshow": {
     "slide_type": "slide"
    },
    "pycharm": {
     "name": "#%% md\n"
    }
   },
   "source": [
    "<div align=\"center\"><img src=\"images/pipelines_link.png\"/></div>"
   ]
  },
  {
   "cell_type": "markdown",
   "metadata": {
    "slideshow": {
     "slide_type": "slide"
    },
    "pycharm": {
     "name": "#%% md\n"
    }
   },
   "source": [
    "<!-- <div align=\"center\"><img src=\"https://i.imgur.com/FYDgaWj.png\"/></div> -->\n",
    "<div align=\"center\"><img src=\"images/pipelines_list.png\"/></div>"
   ]
  },
  {
   "cell_type": "markdown",
   "metadata": {
    "slideshow": {
     "slide_type": "slide"
    },
    "pycharm": {
     "name": "#%% md\n"
    }
   },
   "source": [
    "<div align=\"center\"><img src=\"images/gitlab_logs.png?1=1\"/></div>"
   ]
  },
  {
   "cell_type": "markdown",
   "metadata": {
    "slideshow": {
     "slide_type": "slide"
    },
    "pycharm": {
     "name": "#%% md\n"
    }
   },
   "source": [
    "<div align=\"center\"><b><font size=7>Работа с git</font></b></div>\n",
    "<div align=\"center\"><img src=\"https://pacificsky.ru/uploads/posts/2018-11/1543138597_git.png\" width=\"600px\"/></div>"
   ]
  },
  {
   "cell_type": "markdown",
   "metadata": {
    "slideshow": {
     "slide_type": "slide"
    },
    "pycharm": {
     "name": "#%% md\n"
    }
   },
   "source": [
    "<div align=\"center\"><img src=\"http://high.tealeaf.su/assets/images/about_version_control/001.jpg\" width=\"600px\"/></div>"
   ]
  },
  {
   "cell_type": "markdown",
   "metadata": {
    "slideshow": {
     "slide_type": "slide"
    },
    "pycharm": {
     "name": "#%% md\n"
    }
   },
   "source": [
    "<div align=\"center\"><b><font size=7>Не модифицируемая</font></b></div>"
   ]
  },
  {
   "cell_type": "markdown",
   "metadata": {
    "slideshow": {
     "slide_type": "-"
    },
    "pycharm": {
     "name": "#%% md\n"
    }
   },
   "source": [
    "<div align=\"center\"><b><font size=6>(почти) никогда не удаляет данные</font></b></div>"
   ]
  },
  {
   "cell_type": "markdown",
   "metadata": {
    "slideshow": {
     "slide_type": "slide"
    },
    "pycharm": {
     "name": "#%% md\n"
    }
   },
   "source": [
    "<div><font size=6>Git — <b>распределённая</b> система контроля версий, разработанная с прицелом на скорость и эффективность взаимодействия.</font></div>\n",
    "<br />\n",
    "<div align=\"center\"><img src=\"https://git-scm.com/figures/18333fig0103-tn.png\" width=\"400px\" /></div>"
   ]
  },
  {
   "cell_type": "markdown",
   "metadata": {
    "slideshow": {
     "slide_type": "slide"
    },
    "pycharm": {
     "name": "#%% md\n"
    }
   },
   "source": [
    "<div align=\"center\"><b><font size=7>(Почти) все хранится локально</font></b></div>"
   ]
  },
  {
   "cell_type": "markdown",
   "metadata": {
    "slideshow": {
     "slide_type": "-"
    },
    "pycharm": {
     "name": "#%% md\n"
    }
   },
   "source": [
    "<li align=\"center\"><b><font size=6>все работает очень быстро</font></b></li>"
   ]
  },
  {
   "cell_type": "markdown",
   "metadata": {
    "slideshow": {
     "slide_type": "-"
    },
    "pycharm": {
     "name": "#%% md\n"
    }
   },
   "source": [
    "<li align=\"center\"><b><font size=6>каждая копия — бэкап</font></b></li>"
   ]
  },
  {
   "cell_type": "markdown",
   "metadata": {
    "slideshow": {
     "slide_type": "-"
    },
    "pycharm": {
     "name": "#%% md\n"
    }
   },
   "source": [
    "<li align=\"center\"><b><font size=6>можно работать без сети</font></b></li>"
   ]
  },
  {
   "cell_type": "markdown",
   "metadata": {
    "slideshow": {
     "slide_type": "slide"
    },
    "pycharm": {
     "name": "#%% md\n"
    }
   },
   "source": [
    "<div align=\"center\"><b><font size=7>Первые шаги</font></b></div>"
   ]
  },
  {
   "cell_type": "code",
   "execution_count": 1,
   "metadata": {
    "slideshow": {
     "slide_type": "-"
    },
    "pycharm": {
     "name": "#%%\n"
    }
   },
   "outputs": [],
   "source": [
    "git config --global user.name \"Nikita Bondartsev\"\n",
    "git config --global user.email \"bondartsev.nikita@gmail.com\""
   ]
  },
  {
   "cell_type": "markdown",
   "metadata": {
    "slideshow": {
     "slide_type": "slide"
    },
    "pycharm": {
     "name": "#%% md\n"
    }
   },
   "source": [
    "<div align=\"center\"><b><font size=7>Репозиторий и где его достать</font></b></div>"
   ]
  },
  {
   "cell_type": "markdown",
   "metadata": {
    "slideshow": {
     "slide_type": "fragment"
    },
    "pycharm": {
     "name": "#%% md\n"
    }
   },
   "source": [
    "<div align=\"center\"><b><font size=6>Создать новый</font></b></div>"
   ]
  },
  {
   "cell_type": "code",
   "execution_count": null,
   "metadata": {
    "slideshow": {
     "slide_type": "-"
    },
    "pycharm": {
     "name": "#%%\n"
    }
   },
   "outputs": [],
   "source": [
    "mkdir ~/shad/repo\n",
    "cd ~/shad/repo"
   ]
  },
  {
   "cell_type": "code",
   "execution_count": 29,
   "metadata": {
    "pycharm": {
     "name": "#%%\n"
    }
   },
   "outputs": [
    {
     "name": "stdout",
     "output_type": "stream",
     "text": [
      "Initialized empty Git repository in /home/nsbondartsev/shad/repo/.git/\r\n"
     ]
    }
   ],
   "source": [
    "git init"
   ]
  },
  {
   "cell_type": "code",
   "execution_count": 7,
   "metadata": {
    "slideshow": {
     "slide_type": "-"
    },
    "pycharm": {
     "name": "#%%\n"
    }
   },
   "outputs": [
    {
     "name": "stdout",
     "output_type": "stream",
     "text": [
      ".  ..  .git\r\n"
     ]
    }
   ],
   "source": [
    "ls -a"
   ]
  },
  {
   "cell_type": "markdown",
   "metadata": {
    "slideshow": {
     "slide_type": "slide"
    },
    "pycharm": {
     "name": "#%% md\n"
    }
   },
   "source": [
    "<div align=\"center\"><b><font size=6>Склонировать существующий</font></b></div>"
   ]
  },
  {
   "cell_type": "code",
   "execution_count": null,
   "metadata": {
    "slideshow": {
     "slide_type": "-"
    },
    "pycharm": {
     "name": "#%%\n"
    }
   },
   "outputs": [],
   "source": [
    "cd ~/shad\n",
    "git clone <link from copy to clipboard in gitlab GUI> repo\n",
    "# Example: \n",
    "# git clone git@gitlab.manytask.org:py-tasks/public-2021-fall.git repo"
   ]
  },
  {
   "cell_type": "code",
   "execution_count": 9,
   "metadata": {
    "slideshow": {
     "slide_type": "-"
    },
    "pycharm": {
     "name": "#%%\n"
    }
   },
   "outputs": [
    {
     "name": "stdout",
     "output_type": "stream",
     "text": [
      ".\t     .git\t     .gitmodules  .releaser-ci.yml  testenv.docker\r\n",
      "..\t     .gitignore      hello_world  requirements.txt  tests\r\n",
      "base.docker  .gitlab-ci.yml  README.md\t  setup.cfg\r\n"
     ]
    }
   ],
   "source": [
    "cd ~/shad/repo\n",
    "ls -a"
   ]
  },
  {
   "cell_type": "markdown",
   "metadata": {
    "slideshow": {
     "slide_type": "slide"
    },
    "pycharm": {
     "name": "#%% md\n"
    }
   },
   "source": [
    "<div align=\"center\"><b><font size=7>Где могут храниться изменения файлов</font></b></div>\n",
    "<div align=\"center\"><img src=\"images/git_places.png\" width=\"800px\"/></div>"
   ]
  },
  {
   "cell_type": "markdown",
   "metadata": {
    "slideshow": {
     "slide_type": "slide"
    },
    "pycharm": {
     "name": "#%% md\n"
    }
   },
   "source": [
    "<div align=\"center\"><b><font size=7>Состояния файла и переходы между ними</font></b></div>\n",
    "</br></br>\n",
    "<div align=\"center\"><img src=\"https://git-scm.com/book/en/v2/images/lifecycle.png\" width=\"800px\" /></div>"
   ]
  },
  {
   "cell_type": "markdown",
   "metadata": {
    "slideshow": {
     "slide_type": "slide"
    },
    "pycharm": {
     "name": "#%% md\n"
    }
   },
   "source": [
    "<div align=\"center\"><b><font size=6>Базовый рабочий процесс</font></b></div>"
   ]
  },
  {
   "cell_type": "markdown",
   "metadata": {
    "slideshow": {
     "slide_type": "slide"
    },
    "pycharm": {
     "name": "#%% md\n"
    }
   },
   "source": [
    "<b><font size=6>Изменяем</font></b>\n",
    "<div><font color=\"#0000FF\">vim / Sublime /VsCode / PyCharm</font></div>\n",
    "\n",
    "</br></br>\n",
    "<div align=\"center\">\n",
    "    <div style=\"border: 3px solid red; width: 280px; height:100px;position:relative;left:-30px;top:220px;\"></div>\n",
    "    <img src=\"https://git-scm.com/book/en/v2/images/lifecycle.png?1=1\" width=\"800px\" />\n",
    "</div>"
   ]
  },
  {
   "cell_type": "markdown",
   "metadata": {
    "slideshow": {
     "slide_type": "slide"
    },
    "pycharm": {
     "name": "#%% md\n"
    }
   },
   "source": [
    "<b><font size=6>Сохраняем в Stage</font></b>\n",
    "<div><font color=\"#0000FF\">git add (file)</font></div>\n",
    "<div align=\"center\">\n",
    "    <div style=\"border: 3px solid red; width: 680px; height:80px;position:relative;left:-10px;top:240px;\"></div>\n",
    "    <div style=\"border: 3px solid red; width: 280px; height:80px;position:relative;left:200px;top:260px;\"></div><img src=\"https://git-scm.com/book/en/v2/images/lifecycle.png?1=1\" width=\"800px\" /></div>"
   ]
  },
  {
   "cell_type": "markdown",
   "metadata": {
    "slideshow": {
     "slide_type": "slide"
    },
    "pycharm": {
     "name": "#%% md\n"
    }
   },
   "source": [
    "<b><font size=6>Смотрим что ничего не забыли добавить в Stage</font></b>\n",
    "<div><font color=\"#0000FF\">git status</font></div>\n",
    "\n",
    "<div align=\"center\"><img src=\"https://i.stack.imgur.com/j7sZ2.png\" width=\"800px\" /></div>"
   ]
  },
  {
   "cell_type": "markdown",
   "metadata": {
    "slideshow": {
     "slide_type": "slide"
    },
    "pycharm": {
     "name": "#%% md\n"
    }
   },
   "source": [
    "<b><font size=6>Коммитим (высекаем в камне)</font></b>\n",
    "<div><font color=\"#0000FF\">git commit -m</font></div>\n",
    "\n",
    "<div align=\"center\">\n",
    "    <div style=\"border: 3px solid red; width: 450px; height:100px;position:relative;left: 100px;top:350px;\"></div>\n",
    "    <img src=\"https://git-scm.com/book/en/v2/images/lifecycle.png?1=1\" width=\"800px\" />\n",
    "</div>"
   ]
  },
  {
   "cell_type": "markdown",
   "metadata": {
    "slideshow": {
     "slide_type": "slide"
    },
    "pycharm": {
     "name": "#%% md\n"
    }
   },
   "source": [
    "<div align=\"center\"><b><font size=7>Состояния файла и переходы между ними</font></b></div>\n",
    "</br></br>\n",
    "<div align=\"center\"><img src=\"images/git_cheatsheet.png\" width=\"800px\" /></div>"
   ]
  },
  {
   "cell_type": "markdown",
   "metadata": {
    "slideshow": {
     "slide_type": "slide"
    },
    "pycharm": {
     "name": "#%% md\n"
    }
   },
   "source": [
    "<div align=\"center\"><b><font size=6>git status</font></b></div>"
   ]
  },
  {
   "cell_type": "code",
   "execution_count": 14,
   "metadata": {
    "slideshow": {
     "slide_type": "-"
    },
    "pycharm": {
     "name": "#%%\n"
    }
   },
   "outputs": [
    {
     "name": "stdout",
     "output_type": "stream",
     "text": [
      "On branch master\r\n",
      "Your branch is up to date with 'origin/master'.\r\n",
      "\r\n",
      "nothing to commit, working tree clean\r\n"
     ]
    }
   ],
   "source": [
    "cd ~/shad/repo\n",
    "git status"
   ]
  },
  {
   "cell_type": "code",
   "execution_count": 44,
   "metadata": {
    "slideshow": {
     "slide_type": "-"
    },
    "pycharm": {
     "name": "#%%\n"
    }
   },
   "outputs": [
    {
     "name": "stdout",
     "output_type": "stream",
     "text": [
      "On branch master\r\n",
      "\r\n",
      "No commits yet\r\n",
      "\r\n",
      "Untracked files:\r\n",
      "  (use \"git add <file>...\" to include in what will be committed)\r\n",
      "\r\n",
      "\t\u001B[31mhello_world.py\u001B[m\r\n",
      "\r\n",
      "nothing added to commit but untracked files present (use \"git add\" to track)\r\n"
     ]
    }
   ],
   "source": [
    "touch hello_world.py\n",
    "git status"
   ]
  },
  {
   "cell_type": "code",
   "execution_count": 45,
   "metadata": {
    "slideshow": {
     "slide_type": "slide"
    },
    "pycharm": {
     "name": "#%%\n"
    }
   },
   "outputs": [
    {
     "name": "stdout",
     "output_type": "stream",
     "text": [
      "On branch master\r\n",
      "\r\n",
      "No commits yet\r\n",
      "\r\n",
      "Untracked files:\r\n",
      "  (use \"git add <file>...\" to include in what will be committed)\r\n",
      "\r\n",
      "\t\u001B[31mREADME.md\u001B[m\r\n",
      "\t\u001B[31mhello_world.py\u001B[m\r\n",
      "\r\n",
      "nothing added to commit but untracked files present (use \"git add\" to track)\r\n"
     ]
    }
   ],
   "source": [
    "echo \"# Hello!\" > README.md\n",
    "git status"
   ]
  },
  {
   "cell_type": "code",
   "execution_count": 46,
   "metadata": {
    "slideshow": {
     "slide_type": "-"
    },
    "pycharm": {
     "name": "#%%\n"
    }
   },
   "outputs": [
    {
     "name": "stdout",
     "output_type": "stream",
     "text": [
      "On branch master\r\n",
      "\r\n",
      "No commits yet\r\n",
      "\r\n",
      "Changes to be committed:\r\n",
      "  (use \"git rm --cached <file>...\" to unstage)\r\n",
      "\r\n",
      "\t\u001B[32mnew file:   README.md\u001B[m\r\n",
      "\r\n",
      "Untracked files:\r\n",
      "  (use \"git add <file>...\" to include in what will be committed)\r\n",
      "\r\n",
      "\t\u001B[31mhello_world.py\u001B[m\r\n",
      "\r\n"
     ]
    }
   ],
   "source": [
    "git add README.md\n",
    "git status"
   ]
  },
  {
   "cell_type": "code",
   "execution_count": 47,
   "metadata": {
    "slideshow": {
     "slide_type": "slide"
    },
    "pycharm": {
     "name": "#%%\n"
    }
   },
   "outputs": [
    {
     "name": "stdout",
     "output_type": "stream",
     "text": [
      "[master (root-commit) 4ee5127] Add header to readme\r\n",
      " 1 file changed, 1 insertion(+)\r\n",
      " create mode 100644 README.md\r\n"
     ]
    }
   ],
   "source": [
    "git commit -m \"Add header to readme\""
   ]
  },
  {
   "cell_type": "markdown",
   "metadata": {
    "slideshow": {
     "slide_type": "fragment"
    },
    "pycharm": {
     "name": "#%% md\n"
    }
   },
   "source": [
    "<div align=\"center\"><img src=\"http://xkcd.chtoes.li/comics/1296.png?1=1\" width=\"600px\" /></div>"
   ]
  },
  {
   "cell_type": "code",
   "execution_count": 48,
   "metadata": {
    "slideshow": {
     "slide_type": "slide"
    },
    "pycharm": {
     "name": "#%%\n"
    }
   },
   "outputs": [
    {
     "name": "stdout",
     "output_type": "stream",
     "text": [
      "On branch master\r\n",
      "Untracked files:\r\n",
      "  (use \"git add <file>...\" to include in what will be committed)\r\n",
      "\r\n",
      "\t\u001B[31mhello_world.py\u001B[m\r\n",
      "\r\n",
      "nothing added to commit but untracked files present (use \"git add\" to track)\r\n"
     ]
    }
   ],
   "source": [
    "git status"
   ]
  },
  {
   "cell_type": "markdown",
   "metadata": {
    "slideshow": {
     "slide_type": "slide"
    },
    "pycharm": {
     "name": "#%% md\n"
    }
   },
   "source": [
    "<div align=\"center\"><b><font size=6>.gitignore</font></b></div>"
   ]
  },
  {
   "cell_type": "markdown",
   "metadata": {
    "slideshow": {
     "slide_type": "fragment"
    },
    "pycharm": {
     "name": "#%% md\n"
    }
   },
   "source": [
    "```\n",
    "# .gitignore\n",
    "venv\n",
    ".DS_Store\n",
    ".idea\n",
    "__pycache__\n",
    "*.py[cod]\n",
    ".ipynb_checkpoints\n",
    ".pytest_cache\n",
    ".mypy_cache\n",
    ".cache\n",
    "```"
   ]
  },
  {
   "cell_type": "markdown",
   "metadata": {
    "slideshow": {
     "slide_type": "slide"
    },
    "pycharm": {
     "name": "#%% md\n"
    }
   },
   "source": [
    "<div align=\"center\"><img src=\"https://i.imgur.com/E4bK5j7.png\" width=\"800px\"/></div>"
   ]
  },
  {
   "cell_type": "code",
   "execution_count": 50,
   "metadata": {
    "scrolled": true,
    "slideshow": {
     "slide_type": "fragment"
    },
    "pycharm": {
     "name": "#%%\n"
    }
   },
   "outputs": [
    {
     "name": "stdout",
     "output_type": "stream",
     "text": [
      "On branch master\r\n",
      "Untracked files:\r\n",
      "  (use \"git add <file>...\" to include in what will be committed)\r\n",
      "\r\n",
      "\t\u001B[31mhello_world.py\u001B[m\r\n",
      "\t\u001B[31mtest.ipynb\u001B[m\r\n",
      "\r\n",
      "nothing added to commit but untracked files present (use \"git add\" to track)\r\n"
     ]
    }
   ],
   "source": [
    "touch test.ipynb\n",
    "git status"
   ]
  },
  {
   "cell_type": "code",
   "execution_count": 51,
   "metadata": {
    "slideshow": {
     "slide_type": "fragment"
    },
    "pycharm": {
     "name": "#%%\n"
    }
   },
   "outputs": [
    {
     "name": "stdout",
     "output_type": "stream",
     "text": [
      "On branch master\r\n",
      "Untracked files:\r\n",
      "  (use \"git add <file>...\" to include in what will be committed)\r\n",
      "\r\n",
      "\t\u001B[31m.gitignore\u001B[m\r\n",
      "\t\u001B[31mhello_world.py\u001B[m\r\n",
      "\r\n",
      "nothing added to commit but untracked files present (use \"git add\" to track)\r\n"
     ]
    }
   ],
   "source": [
    "echo \"*.ipynb\" > .gitignore\n",
    "git status"
   ]
  },
  {
   "cell_type": "markdown",
   "metadata": {
    "slideshow": {
     "slide_type": "slide"
    },
    "pycharm": {
     "name": "#%% md\n"
    }
   },
   "source": [
    "<div align=\"center\"><b><font size=6>git log</font></b></div>"
   ]
  },
  {
   "cell_type": "code",
   "execution_count": 52,
   "metadata": {
    "slideshow": {
     "slide_type": "fragment"
    },
    "pycharm": {
     "name": "#%%\n"
    }
   },
   "outputs": [
    {
     "name": "stdout",
     "output_type": "stream",
     "text": [
      "\u001B[33mcommit 4ee51277da20f531426246df1e4e73ba3864755f\u001B[m\u001B[33m (\u001B[m\u001B[1;36mHEAD -> \u001B[m\u001B[1;32mmaster\u001B[m\u001B[33m)\u001B[m\r\n",
      "Author: Nikita Bondartsev <bondartsev.nikita@gmail.com>\r\n",
      "Date:   Mon Sep 7 23:48:45 2020 +0300\r\n",
      "\r\n",
      "    Add header to readme\r\n"
     ]
    }
   ],
   "source": [
    "git log"
   ]
  },
  {
   "cell_type": "code",
   "execution_count": 69,
   "metadata": {
    "slideshow": {
     "slide_type": "fragment"
    },
    "pycharm": {
     "name": "#%%\n"
    }
   },
   "outputs": [
    {
     "name": "stdout",
     "output_type": "stream",
     "text": [
      "[master 9fa510e] Added hello_world.py\r\n",
      " 1 file changed, 1 insertion(+)\r\n",
      " create mode 100644 hello_world.py\r\n"
     ]
    }
   ],
   "source": [
    "echo 'print(\"Hello, world!\")' > hello_world.py\n",
    "git add hello_world.py\n",
    "git commit -m \"Added hello_world.py\""
   ]
  },
  {
   "cell_type": "code",
   "execution_count": 71,
   "metadata": {
    "slideshow": {
     "slide_type": "fragment"
    },
    "pycharm": {
     "name": "#%%\n"
    }
   },
   "outputs": [
    {
     "name": "stdout",
     "output_type": "stream",
     "text": [
      "\u001B[33mcommit 9fa510ea1537e84a2e90bad89c8a8d07386a6a87\u001B[m\u001B[33m (\u001B[m\u001B[1;36mHEAD -> \u001B[m\u001B[1;32mmaster\u001B[m\u001B[33m)\u001B[m\r\n",
      "Author: Nikita Bondartsev <bondartsev.nikita@gmail.com>\r\n",
      "Date:   Tue Sep 8 00:31:29 2020 +0300\r\n",
      "\r\n",
      "    Added hello_world.py\r\n",
      "\r\n",
      "\u001B[33mcommit 4ee51277da20f531426246df1e4e73ba3864755f\u001B[m\r\n",
      "Author: Nikita Bondartsev <bondartsev.nikita@gmail.com>\r\n",
      "Date:   Mon Sep 7 23:48:45 2020 +0300\r\n",
      "\r\n",
      "    Add header to readme\r\n"
     ]
    }
   ],
   "source": [
    "git log"
   ]
  },
  {
   "cell_type": "markdown",
   "metadata": {
    "slideshow": {
     "slide_type": "slide"
    },
    "pycharm": {
     "name": "#%% md\n"
    }
   },
   "source": [
    "<div align=\"center\"><b><font size=6>git checkout</font></b></div>"
   ]
  },
  {
   "cell_type": "code",
   "execution_count": 72,
   "metadata": {
    "slideshow": {
     "slide_type": "-"
    },
    "pycharm": {
     "name": "#%%\n"
    }
   },
   "outputs": [
    {
     "name": "stdout",
     "output_type": "stream",
     "text": [
      "On branch master\r\n",
      "Changes not staged for commit:\r\n",
      "  (use \"git add <file>...\" to update what will be committed)\r\n",
      "  (use \"git checkout -- <file>...\" to discard changes in working directory)\r\n",
      "\r\n",
      "\t\u001B[31mmodified:   hello_world.py\u001B[m\r\n",
      "\r\n",
      "Untracked files:\r\n",
      "  (use \"git add <file>...\" to include in what will be committed)\r\n",
      "\r\n",
      "\t\u001B[31m.gitignore\u001B[m\r\n",
      "\r\n",
      "no changes added to commit (use \"git add\" and/or \"git commit -a\")\r\n"
     ]
    }
   ],
   "source": [
    "echo \"another line\" >> hello_world.py\n",
    "git status"
   ]
  },
  {
   "cell_type": "code",
   "execution_count": 74,
   "metadata": {
    "slideshow": {
     "slide_type": "fragment"
    },
    "pycharm": {
     "name": "#%%\n"
    }
   },
   "outputs": [
    {
     "name": "stdout",
     "output_type": "stream",
     "text": [
      "On branch master\n",
      "Untracked files:\n",
      "  (use \"git add <file>...\" to include in what will be committed)\n",
      "\n",
      "\t\u001B[31m.gitignore\u001B[m\n",
      "\n",
      "nothing added to commit but untracked files present (use \"git add\" to track)\n",
      "print(\"Hello, world!\")\n"
     ]
    }
   ],
   "source": [
    "git checkout -- hello_world.py\n",
    "git status\n",
    "cat hello_world.py"
   ]
  },
  {
   "cell_type": "code",
   "execution_count": 75,
   "metadata": {
    "slideshow": {
     "slide_type": "slide"
    },
    "pycharm": {
     "name": "#%%\n"
    }
   },
   "outputs": [
    {
     "name": "stdout",
     "output_type": "stream",
     "text": [
      "\u001B[33mcommit 9fa510ea1537e84a2e90bad89c8a8d07386a6a87\u001B[m\u001B[33m (\u001B[m\u001B[1;36mHEAD -> \u001B[m\u001B[1;32mmaster\u001B[m\u001B[33m)\u001B[m\r\n",
      "Author: Nikita Bondartsev <bondartsev.nikita@gmail.com>\r\n",
      "Date:   Tue Sep 8 00:31:29 2020 +0300\r\n",
      "\r\n",
      "    Added hello_world.py\r\n",
      "\r\n",
      "\u001B[33mcommit 4ee51277da20f531426246df1e4e73ba3864755f\u001B[m\r\n",
      "Author: Nikita Bondartsev <bondartsev.nikita@gmail.com>\r\n",
      "Date:   Mon Sep 7 23:48:45 2020 +0300\r\n",
      "\r\n",
      "    Add header to readme\r\n"
     ]
    }
   ],
   "source": [
    "git log"
   ]
  },
  {
   "cell_type": "code",
   "execution_count": 76,
   "metadata": {
    "slideshow": {
     "slide_type": "skip"
    },
    "pycharm": {
     "name": "#%%\n"
    }
   },
   "outputs": [
    {
     "name": "stdout",
     "output_type": "stream",
     "text": [
      "Note: checking out '4ee5127'.\r\n",
      "\r\n",
      "You are in 'detached HEAD' state. You can look around, make experimental\r\n",
      "changes and commit them, and you can discard any commits you make in this\r\n",
      "state without impacting any branches by performing another checkout.\r\n",
      "\r\n",
      "If you want to create a new branch to retain commits you create, you may\r\n",
      "do so (now or later) by using -b with the checkout command again. Example:\r\n",
      "\r\n",
      "  git checkout -b <new-branch-name>\r\n",
      "\r\n",
      "HEAD is now at 4ee5127 Add header to readme\r\n"
     ]
    }
   ],
   "source": [
    "!git checkout 4ee5127"
   ]
  },
  {
   "cell_type": "code",
   "execution_count": 78,
   "metadata": {
    "slideshow": {
     "slide_type": "skip"
    },
    "pycharm": {
     "name": "#%%\n"
    }
   },
   "outputs": [
    {
     "name": "stdout",
     "output_type": "stream",
     "text": [
      "\u001B[31mHEAD detached at \u001B[m4ee5127\n",
      "Untracked files:\n",
      "  (use \"git add <file>...\" to include in what will be committed)\n",
      "\n",
      "\t\u001B[31m.gitignore\u001B[m\n",
      "\n",
      "nothing added to commit but untracked files present (use \"git add\" to track)\n",
      ".  ..  .git  .gitignore  README.md  test.ipynb\n"
     ]
    }
   ],
   "source": [
    "git status\n",
    "ls -a"
   ]
  },
  {
   "cell_type": "code",
   "execution_count": 79,
   "metadata": {
    "slideshow": {
     "slide_type": "skip"
    },
    "pycharm": {
     "name": "#%%\n"
    }
   },
   "outputs": [
    {
     "name": "stdout",
     "output_type": "stream",
     "text": [
      "\u001B[33mcommit 9fa510ea1537e84a2e90bad89c8a8d07386a6a87\u001B[m\u001B[33m (\u001B[m\u001B[1;32mmaster\u001B[m\u001B[33m)\u001B[m\r\n",
      "Author: Nikita Bondartsev <bondartsev.nikita@gmail.com>\r\n",
      "Date:   Tue Sep 8 00:31:29 2020 +0300\r\n",
      "\r\n",
      "    Added hello_world.py\r\n",
      "\r\n",
      "\u001B[33mcommit 4ee51277da20f531426246df1e4e73ba3864755f\u001B[m\u001B[33m (\u001B[m\u001B[1;36mHEAD\u001B[m\u001B[33m)\u001B[m\r\n",
      "Author: Nikita Bondartsev <bondartsev.nikita@gmail.com>\r\n",
      "Date:   Mon Sep 7 23:48:45 2020 +0300\r\n",
      "\r\n",
      "    Add header to readme\r\n"
     ]
    }
   ],
   "source": [
    "git log --all"
   ]
  },
  {
   "cell_type": "markdown",
   "metadata": {
    "slideshow": {
     "slide_type": "slide"
    },
    "pycharm": {
     "name": "#%% md\n"
    }
   },
   "source": [
    "<div align=\"center\"><b><font size=7>Удаленный репозиторий</font></b></div>\n",
    "\n",
    "<div align=\"center\"><img src=\"images/remote_repo.png\" width=\"600px\"/></div>"
   ]
  },
  {
   "cell_type": "markdown",
   "metadata": {
    "slideshow": {
     "slide_type": "slide"
    },
    "pycharm": {
     "name": "#%% md\n"
    }
   },
   "source": [
    "<div align=\"center\"><b><font size=6>Где хранится удаленный репозиторий</font></b></div>\n",
    "\n",
    "<div align=\"center\"><img src=\"https://miro.medium.com/max/850/1*-pu6YnszgzFzAWjhO3C5NQ.jpeg\" width=\"600px\"/></div>"
   ]
  },
  {
   "cell_type": "markdown",
   "metadata": {
    "slideshow": {
     "slide_type": "slide"
    },
    "pycharm": {
     "name": "#%% md\n"
    }
   },
   "source": [
    "<div align=\"center\"><b><font size=5>Изучаем удаленный репозиторий</font></b></div>"
   ]
  },
  {
   "cell_type": "markdown",
   "metadata": {
    "slideshow": {
     "slide_type": "-"
    },
    "pycharm": {
     "name": "#%% md\n"
    }
   },
   "source": [
    "<div align=\"center\"><img src=\"images/before_push.png\"/></div>"
   ]
  },
  {
   "cell_type": "code",
   "execution_count": 92,
   "metadata": {
    "slideshow": {
     "slide_type": "skip"
    },
    "pycharm": {
     "name": "#%%\n"
    }
   },
   "outputs": [],
   "source": [
    "os.chdir('../sample-remote-repo')"
   ]
  },
  {
   "cell_type": "code",
   "execution_count": 91,
   "metadata": {
    "scrolled": true,
    "slideshow": {
     "slide_type": "slide"
    },
    "pycharm": {
     "name": "#%%\n"
    }
   },
   "outputs": [
    {
     "name": "stdout",
     "output_type": "stream",
     "text": [
      "Cloning into 'sample-remote-repo'...\n",
      "remote: Enumerating objects: 6, done.\u001B[K\n",
      "remote: Counting objects: 100% (6/6), done.\u001B[K\n",
      "remote: Compressing objects: 100% (3/3), done.\u001B[K\n",
      "remote: Total 6 (delta 0), reused 0 (delta 0), pack-reused 0\u001B[K\n",
      "Receiving objects: 100% (6/6), done.\n"
     ]
    }
   ],
   "source": [
    "git clone git@gitlab.manytask.org:py-tasks/sample-remote-repo.git\n",
    "cd sample-remote-repo"
   ]
  },
  {
   "cell_type": "code",
   "execution_count": 93,
   "metadata": {
    "slideshow": {
     "slide_type": "fragment"
    },
    "pycharm": {
     "name": "#%%\n"
    }
   },
   "outputs": [
    {
     "name": "stdout",
     "output_type": "stream",
     "text": [
      "origin\tgit@gitlab.manytask.org:py-tasks/sample-remote-repo.git (fetch)\r\n",
      "origin\tgit@gitlab.manytask.org:py-tasks/sample-remote-repo.git (push)\r\n"
     ]
    }
   ],
   "source": [
    "git remote -v"
   ]
  },
  {
   "cell_type": "markdown",
   "metadata": {
    "slideshow": {
     "slide_type": "slide"
    },
    "pycharm": {
     "name": "#%% md\n"
    }
   },
   "source": [
    "<div align=\"center\"><b><font size=5>Отправка изменений на сервер</font></b></div>\n",
    "<div align=\"center\"><b><font size=4>(когда все ок)</font></b></div>"
   ]
  },
  {
   "cell_type": "code",
   "execution_count": 97,
   "metadata": {
    "scrolled": true,
    "slideshow": {
     "slide_type": "-"
    },
    "pycharm": {
     "name": "#%%\n"
    }
   },
   "outputs": [
    {
     "name": "stdout",
     "output_type": "stream",
     "text": [
      "[master fb513c7] Added farewell submodule\r\n",
      " 1 file changed, 1 insertion(+)\r\n",
      " create mode 100644 bye/bye.py\r\n"
     ]
    }
   ],
   "source": [
    "mkdir bye\n",
    "echo 'print(\"Goodbye, world!\")' > bye/bye.py\n",
    "git add bye\n",
    "git commit -m \"Added farewell submodule\""
   ]
  },
  {
   "cell_type": "code",
   "execution_count": 98,
   "metadata": {
    "slideshow": {
     "slide_type": "fragment"
    },
    "pycharm": {
     "name": "#%%\n"
    }
   },
   "outputs": [
    {
     "name": "stdout",
     "output_type": "stream",
     "text": [
      "Counting objects: 4, done.\n",
      "Delta compression using up to 8 threads.\n",
      "Compressing objects: 100% (2/2), done.\n",
      "Writing objects: 100% (4/4), 402 bytes | 402.00 KiB/s, done.\n",
      "Total 4 (delta 0), reused 0 (delta 0)\n",
      "To gitlab.manytask.org:py-tasks/sample-remote-repo.git\n",
      "   9fa510e..fb513c7  master -> master\n"
     ]
    }
   ],
   "source": [
    "git push origin"
   ]
  },
  {
   "cell_type": "markdown",
   "metadata": {
    "slideshow": {
     "slide_type": "slide"
    },
    "pycharm": {
     "name": "#%% md\n"
    }
   },
   "source": [
    "<div align=\"center\"><img src=\"images/after_push.png\"/></div>"
   ]
  },
  {
   "cell_type": "markdown",
   "metadata": {
    "slideshow": {
     "slide_type": "slide"
    },
    "pycharm": {
     "name": "#%% md\n"
    }
   },
   "source": [
    "<div align=\"center\"><b><font size=5>Отправка изменений на сервер</font></b></div>\n",
    "<div align=\"center\"><b><font size=4>(когда что-то пошло не так)</font></b></div>"
   ]
  },
  {
   "cell_type": "code",
   "execution_count": 101,
   "metadata": {
    "slideshow": {
     "slide_type": "fragment"
    },
    "pycharm": {
     "name": "#%%\n"
    }
   },
   "outputs": [
    {
     "name": "stdout",
     "output_type": "stream",
     "text": [
      "[master 6cfc8d6] Fixed README to contain relevant docs\r\n",
      " 1 file changed, 1 insertion(+), 1 deletion(-)\r\n"
     ]
    }
   ],
   "source": [
    "echo \"# Hello and bye functionality\" > README.md\n",
    "git add .\n",
    "git commit -m \"Fixed README to contain relevant docs\""
   ]
  },
  {
   "cell_type": "code",
   "execution_count": 102,
   "metadata": {
    "slideshow": {
     "slide_type": "fragment"
    },
    "pycharm": {
     "name": "#%%\n"
    }
   },
   "outputs": [
    {
     "name": "stdout",
     "output_type": "stream",
     "text": [
      "To gitlab.manytask.org:py-tasks/sample-remote-repo.git\r\n",
      " ! [rejected]        master -> master (fetch first)\r\n",
      "error: failed to push some refs to 'git@gitlab.manytask.org:py-tasks/sample-remote-repo.git'\r\n",
      "hint: Updates were rejected because the remote contains work that you do\r\n",
      "hint: not have locally. This is usually caused by another repository pushing\r\n",
      "hint: to the same ref. You may want to first integrate the remote changes\r\n",
      "hint: (e.g., 'git pull ...') before pushing again.\r\n",
      "hint: See the 'Note about fast-forwards' in 'git push --help' for details.\r\n"
     ]
    }
   ],
   "source": [
    "git push origin"
   ]
  },
  {
   "cell_type": "code",
   "execution_count": 117,
   "metadata": {
    "slideshow": {
     "slide_type": "fragment"
    },
    "pycharm": {
     "name": "#%%\n"
    }
   },
   "outputs": [
    {
     "name": "stdout",
     "output_type": "stream",
     "text": [
      "On branch master\r\n",
      "Your branch is up to date with 'origin/master'.\r\n",
      "\r\n",
      "nothing to commit, working tree clean\r\n"
     ]
    }
   ],
   "source": [
    "git status"
   ]
  },
  {
   "cell_type": "markdown",
   "metadata": {
    "slideshow": {
     "slide_type": "slide"
    },
    "pycharm": {
     "name": "#%% md\n"
    }
   },
   "source": [
    "<div align=\"center\"><b><font size=5>Получение изменений с сервера</font></b></div>\n",
    "<div align=\"center\"><b><font size=4>(когда что-то пошло не так)</font></b></div>"
   ]
  },
  {
   "cell_type": "code",
   "execution_count": 104,
   "metadata": {
    "slideshow": {
     "slide_type": "fragment"
    },
    "pycharm": {
     "name": "#%%\n"
    }
   },
   "outputs": [
    {
     "name": "stdout",
     "output_type": "stream",
     "text": [
      "remote: Enumerating objects: 5, done.\u001B[K\r\n",
      "remote: Counting objects:  20% (1/5)\u001B[K\r",
      "remote: Counting objects:  40% (2/5)\u001B[K\r",
      "remote: Counting objects:  60% (3/5)\u001B[K\r",
      "remote: Counting objects:  80% (4/5)\u001B[K\r",
      "remote: Counting objects: 100% (5/5)\u001B[K\r",
      "remote: Counting objects: 100% (5/5), done.\u001B[K\r\n",
      "remote: Compressing objects:  50% (1/2)\u001B[K\r",
      "remote: Compressing objects: 100% (2/2)\u001B[K\r",
      "remote: Compressing objects: 100% (2/2), done.\u001B[K\r\n",
      "remote: Total 3 (delta 0), reused 0 (delta 0), pack-reused 0\u001B[K\r\n",
      "Unpacking objects:  33% (1/3)   \r",
      "Unpacking objects:  66% (2/3)   \r",
      "Unpacking objects: 100% (3/3)   \r",
      "Unpacking objects: 100% (3/3), done.\r\n",
      "From gitlab.manytask.org:py-tasks/sample-remote-repo\r\n",
      "   fb513c7..6f0f300  master     -> origin/master\r\n",
      "Auto-merging README.md\r\n",
      "CONFLICT (content): Merge conflict in README.md\r\n",
      "Automatic merge failed; fix conflicts and then commit the result.\r\n"
     ]
    }
   ],
   "source": [
    "git pull origin"
   ]
  },
  {
   "cell_type": "code",
   "execution_count": 105,
   "metadata": {
    "slideshow": {
     "slide_type": "fragment"
    },
    "pycharm": {
     "name": "#%%\n"
    }
   },
   "outputs": [
    {
     "name": "stdout",
     "output_type": "stream",
     "text": [
      "On branch master\r\n",
      "Your branch and 'origin/master' have diverged,\r\n",
      "and have 1 and 1 different commits each, respectively.\r\n",
      "  (use \"git pull\" to merge the remote branch into yours)\r\n",
      "\r\n",
      "You have unmerged paths.\r\n",
      "  (fix conflicts and run \"git commit\")\r\n",
      "  (use \"git merge --abort\" to abort the merge)\r\n",
      "\r\n",
      "Unmerged paths:\r\n",
      "  (use \"git add <file>...\" to mark resolution)\r\n",
      "\r\n",
      "\t\u001B[31mboth modified:   README.md\u001B[m\r\n",
      "\r\n",
      "no changes added to commit (use \"git add\" and/or \"git commit -a\")\r\n"
     ]
    }
   ],
   "source": [
    "git status"
   ]
  },
  {
   "cell_type": "code",
   "execution_count": 106,
   "metadata": {
    "slideshow": {
     "slide_type": "slide"
    },
    "pycharm": {
     "name": "#%%\n"
    }
   },
   "outputs": [
    {
     "name": "stdout",
     "output_type": "stream",
     "text": [
      "<<<<<<< HEAD\r\n",
      "# Hello and bye functionality\r\n",
      "=======\r\n",
      "# Hello!\r\n",
      "## And also bye!\r\n",
      ">>>>>>> 6f0f3007ae96180f5d6ccc2b847da1b3ff60bfa4\r\n"
     ]
    }
   ],
   "source": [
    "cat README.md"
   ]
  },
  {
   "cell_type": "code",
   "execution_count": 109,
   "metadata": {
    "slideshow": {
     "slide_type": "fragment"
    },
    "pycharm": {
     "name": "#%%\n"
    }
   },
   "outputs": [],
   "source": [
    "echo \"# Handler for person's presence state\" > README.md\n",
    "git add README.md"
   ]
  },
  {
   "cell_type": "code",
   "execution_count": 110,
   "metadata": {
    "slideshow": {
     "slide_type": "fragment"
    },
    "pycharm": {
     "name": "#%%\n"
    }
   },
   "outputs": [
    {
     "name": "stdout",
     "output_type": "stream",
     "text": [
      "On branch master\r\n",
      "Your branch and 'origin/master' have diverged,\r\n",
      "and have 1 and 1 different commits each, respectively.\r\n",
      "  (use \"git pull\" to merge the remote branch into yours)\r\n",
      "\r\n",
      "All conflicts fixed but you are still merging.\r\n",
      "  (use \"git commit\" to conclude merge)\r\n",
      "\r\n",
      "Changes to be committed:\r\n",
      "\r\n",
      "\t\u001B[32mmodified:   README.md\u001B[m\r\n",
      "\r\n"
     ]
    }
   ],
   "source": [
    "git status"
   ]
  },
  {
   "cell_type": "code",
   "execution_count": 113,
   "metadata": {
    "slideshow": {
     "slide_type": "slide"
    },
    "pycharm": {
     "name": "#%%\n"
    }
   },
   "outputs": [
    {
     "name": "stdout",
     "output_type": "stream",
     "text": [
      "[master 7ed527c] Fixed naming conflict in README\r\n",
      " Date: Tue Sep 8 01:34:56 2020 +0300\r\n"
     ]
    }
   ],
   "source": [
    "git commit -m \"Fixed naming conflict in README\""
   ]
  },
  {
   "cell_type": "code",
   "execution_count": 114,
   "metadata": {
    "slideshow": {
     "slide_type": "fragment"
    },
    "pycharm": {
     "name": "#%%\n"
    }
   },
   "outputs": [
    {
     "name": "stdout",
     "output_type": "stream",
     "text": [
      "Counting objects: 6, done.\n",
      "Delta compression using up to 8 threads.\n",
      "Compressing objects: 100% (4/4), done.\n",
      "Writing objects: 100% (6/6), 748 bytes | 374.00 KiB/s, done.\n",
      "Total 6 (delta 0), reused 0 (delta 0)\n",
      "To gitlab.manytask.org:py-tasks/sample-remote-repo.git\n",
      "   6f0f300..7ed527c  master -> master\n"
     ]
    }
   ],
   "source": [
    "git push origin"
   ]
  },
  {
   "cell_type": "markdown",
   "metadata": {
    "slideshow": {
     "slide_type": "slide"
    },
    "pycharm": {
     "name": "#%% md\n"
    }
   },
   "source": [
    "<div align=\"center\"><b><font size=5>Получение изменений с сервера</font></b></div>\n",
    "<div align=\"center\"><b><font size=4>(когда все ок)</font></b></div>"
   ]
  },
  {
   "cell_type": "code",
   "execution_count": 116,
   "metadata": {
    "slideshow": {
     "slide_type": "fragment"
    },
    "pycharm": {
     "name": "#%%\n"
    }
   },
   "outputs": [
    {
     "name": "stdout",
     "output_type": "stream",
     "text": [
      "remote: Enumerating objects: 5, done.\u001B[K\n",
      "remote: Counting objects: 100% (5/5), done.\u001B[K\n",
      "remote: Compressing objects: 100% (3/3), done.\u001B[K\n",
      "remote: Total 3 (delta 1), reused 0 (delta 0), pack-reused 0\u001B[K\n",
      "Unpacking objects: 100% (3/3), done.\n",
      "From gitlab.manytask.org:py-tasks/sample-remote-repo\n",
      "   7ed527c..95075ea  master     -> origin/master\n",
      "Updating 7ed527c..95075ea\n",
      "Fast-forward\n",
      " hello_world.py | 6 \u001B[32m+++++\u001B[m\u001B[31m-\u001B[m\n",
      " 1 file changed, 5 insertions(+), 1 deletion(-)\n"
     ]
    }
   ],
   "source": [
    "git pull origin"
   ]
  },
  {
   "cell_type": "markdown",
   "metadata": {
    "slideshow": {
     "slide_type": "slide"
    },
    "pycharm": {
     "name": "#%% md\n"
    }
   },
   "source": [
    "<div align=\"center\"><img src=\"https://luckytruedev.com/learning/wp-content/uploads/2018/12/Commits.png?1=1\" width=\"600px\"/></div>"
   ]
  },
  {
   "cell_type": "markdown",
   "metadata": {
    "slideshow": {
     "slide_type": "slide"
    },
    "pycharm": {
     "name": "#%% md\n"
    }
   },
   "source": [
    "<div align=\"center\"><b><font size=5>Но не все так просто</font></b></div>\n",
    "\n",
    "<div align=\"center\"><img src=\"images/testing_scheme.png?1=1\"/></div>"
   ]
  },
  {
   "cell_type": "markdown",
   "metadata": {
    "slideshow": {
     "slide_type": "slide"
    },
    "pycharm": {
     "name": "#%% md\n"
    }
   },
   "source": [
    "<div align=\"center\"><b><font size=5>Добавляем адрес для загрузки свежих условий заданий</font></b></div>"
   ]
  },
  {
   "cell_type": "code",
   "execution_count": 119,
   "metadata": {
    "slideshow": {
     "slide_type": "fragment"
    },
    "pycharm": {
     "name": "#%%\n"
    }
   },
   "outputs": [
    {
     "name": "stdout",
     "output_type": "stream",
     "text": [
      "origin\tgit@gitlab.manytask.org:py-tasks/sample-remote-repo.git (fetch)\r\n",
      "origin\tgit@gitlab.manytask.org:py-tasks/sample-remote-repo.git (push)\r\n"
     ]
    }
   ],
   "source": [
    "git remote -v\n",
    "git remote add upstream git@gitlab.manytask.org:py-tasks/public-2021-fall.git"
   ]
  },
  {
   "cell_type": "code",
   "execution_count": 120,
   "metadata": {
    "slideshow": {
     "slide_type": "fragment"
    },
    "pycharm": {
     "name": "#%%\n"
    }
   },
   "outputs": [
    {
     "name": "stdout",
     "output_type": "stream",
     "text": [
      "origin\tgit@gitlab.manytask.org:py-tasks/sample-remote-repo.git (fetch)\r\n",
      "origin\tgit@gitlab.manytask.org:py-tasks/sample-remote-repo.git (push)\r\n",
      "upstream\tgit@gitlab.manytask.org:py-tasks/tasks-2020-fall.git (fetch)\r\n",
      "upstream\tgit@gitlab.manytask.org:py-tasks/tasks-2020-fall.git (push)\r\n"
     ]
    }
   ],
   "source": [
    "git remote -v"
   ]
  },
  {
   "cell_type": "code",
   "execution_count": null,
   "metadata": {
    "slideshow": {
     "slide_type": "fragment"
    },
    "pycharm": {
     "name": "#%%\n"
    }
   },
   "outputs": [],
   "source": [
    "# получить задания:\n",
    "git pull upstream master\n",
    "# сдать задания:\n",
    "git push origin master"
   ]
  },
  {
   "cell_type": "markdown",
   "metadata": {
    "slideshow": {
     "slide_type": "slide"
    },
    "pycharm": {
     "name": "#%% md\n"
    }
   },
   "source": [
    "<div align=\"center\"><b><font size=7>Итог</font></b></div>"
   ]
  },
  {
   "cell_type": "markdown",
   "metadata": {
    "slideshow": {
     "slide_type": "fragment"
    },
    "pycharm": {
     "name": "#%% md\n"
    }
   },
   "source": [
    "<!-- <table border=0 style=\"font-size: 50px\">\n",
    "    <tr><td>git init</td><td>git clone</td></tr>\n",
    "    <tr><td>git add</td><td>git commit</td></tr>\n",
    "</table> -->\n",
    "<b><font size=6>git init</font></b><br/>\n",
    "<b><font size=6>git clone</font></b><br/>\n",
    "<b><font size=6>git add</font></b><br/>\n",
    "<b><font size=6>git commit</font></b><br/>\n",
    "<b><font size=6>git status</font></b><br/>\n",
    "<b><font size=6>git log</font></b><br/>\n",
    "<b><font size=6>git checkout</font></b><br/>\n",
    "<b><font size=6>git branch</font></b><br/>\n",
    "<b><font size=6>git revert</font></b><br/>\n",
    "<b><font size=6>git merge</font></b><br/>\n",
    "<b><font size=6>git pull</font></b><br/>\n",
    "<b><font size=6>git push</font></b><br/>"
   ]
  },
  {
   "cell_type": "markdown",
   "metadata": {
    "slideshow": {
     "slide_type": "fragment"
    },
    "pycharm": {
     "name": "#%% md\n"
    }
   },
   "source": [
    "<div align=\"center\"><b><font size=5><font color=\"#FF0000\">12 комманд</font> для повседневной работы с гитом</font></b></div>\n",
    "<div align=\"center\">(часть рассмотрим через полтора месяца перед большой домашкой)</div>"
   ]
  },
  {
   "cell_type": "markdown",
   "metadata": {
    "slideshow": {
     "slide_type": "slide"
    },
    "pycharm": {
     "name": "#%% md\n"
    }
   },
   "source": [
    "<div align=\"center\"><b><font size=7>Источники</font></b></div>"
   ]
  },
  {
   "cell_type": "markdown",
   "metadata": {
    "slideshow": {
     "slide_type": "fragment"
    },
    "pycharm": {
     "name": "#%% md\n"
    }
   },
   "source": [
    "<div align=\"center\">\n",
    "    <b><font size=6>\n",
    "        <a href=\"https://githowto.com/\">githowto.com</a>\n",
    "        <br/><br/>\n",
    "        <a href=\"https://git-scm.com/book/en/v2\">git-scm.com/book/en/v2</a>\n",
    "        <br/><br/>\n",
    "        <a href=\"https://git-tower.com/learn/git/ebook\">git-tower.com/learn/git/ebook</a>\n",
    "        <br/><br/>\n",
    "        <a href=\"https://speakerdeck.com/schacon/introduction-to-git\">speakerdeck.com/schacon/introduction-to-git</a>\n",
    "        <!--<br/><br/>\n",
    "        <a>patrickzahnd.ch/blog.html#gitflow</a>-->\n",
    "    </font></b>\n",
    "</div>"
   ]
  },
  {
   "cell_type": "markdown",
   "metadata": {
    "slideshow": {
     "slide_type": "slide"
    },
    "pycharm": {
     "name": "#%% md\n"
    }
   },
   "source": [
    "<div align=\"center\"><img src=\"images/qr_tg.png\"/></div>"
   ]
  },
  {
   "cell_type": "code",
   "execution_count": null,
   "metadata": {
    "pycharm": {
     "name": "#%%\n"
    }
   },
   "outputs": [],
   "source": []
  }
 ],
 "metadata": {
  "celltoolbar": "Slideshow",
  "kernelspec": {
   "display_name": "Python 3 (ipykernel)",
   "language": "python",
   "name": "python3"
  },
  "language_info": {
   "codemirror_mode": {
    "name": "ipython",
    "version": 3
   },
   "file_extension": ".py",
   "mimetype": "text/x-python",
   "name": "python",
   "nbconvert_exporter": "python",
   "pygments_lexer": "ipython3",
   "version": "3.9.7"
  }
 },
 "nbformat": 4,
 "nbformat_minor": 2
}