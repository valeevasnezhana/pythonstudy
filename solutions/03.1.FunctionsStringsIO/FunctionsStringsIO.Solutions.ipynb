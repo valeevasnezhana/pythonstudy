{
 "cells": [
  {
   "cell_type": "markdown",
   "metadata": {
    "slideshow": {
     "slide_type": "slide"
    },
    "pycharm": {
     "name": "#%% md\n"
    }
   },
   "source": [
    "# git_log"
   ]
  },
  {
   "cell_type": "markdown",
   "metadata": {
    "slideshow": {
     "slide_type": "slide"
    },
    "pycharm": {
     "name": "#%% md\n"
    }
   },
   "source": [
    "## Переусложненный код"
   ]
  },
  {
   "cell_type": "code",
   "execution_count": null,
   "metadata": {
    "slideshow": {
     "slide_type": "slide"
    },
    "pycharm": {
     "name": "#%%\n"
    }
   },
   "outputs": [],
   "source": [
    "line = inp.readline()\n",
    "while line != \"\":\n",
    "    if line[-1] == \"\\n\":\n",
    "        line_list = line.split('\\t')\n",
    "        new_line = line_list[0][:7] + ('.' * (74 - len(line_list[-1]))) + line_list[-1]\n",
    "        out.write(new_line)\n",
    "        line = inp.readline()\n",
    "    else:\n",
    "        line_list = line.split('\\t')\n",
    "        new_line = line_list[0][:7] + ('.' * (73 - len(line_list[-1]))) + line_list[-1]\n",
    "        out.write(new_line)\n",
    "        line = inp.readline()"
   ]
  },
  {
   "cell_type": "markdown",
   "metadata": {
    "slideshow": {
     "slide_type": "fragment"
    },
    "pycharm": {
     "name": "#%% md\n"
    }
   },
   "source": [
    "<div align=\"center\"><img width=\"500\" alt=\"wat\" src=\"http://img.playground.ru/images/1/3/WAT.jpg\" /></div>"
   ]
  },
  {
   "cell_type": "markdown",
   "metadata": {
    "slideshow": {
     "slide_type": "slide"
    },
    "pycharm": {
     "name": "#%% md\n"
    }
   },
   "source": [
    "## Как читают строки?"
   ]
  },
  {
   "cell_type": "code",
   "execution_count": null,
   "metadata": {
    "slideshow": {
     "slide_type": "slide"
    },
    "pycharm": {
     "name": "#%%\n"
    }
   },
   "outputs": [],
   "source": [
    "log_list = inp.getvalue().split('\\n')\n",
    "lines = []\n",
    "for log in log_list[:-1]:\n",
    "    ..."
   ]
  },
  {
   "cell_type": "code",
   "execution_count": null,
   "metadata": {
    "slideshow": {
     "slide_type": "fragment"
    },
    "pycharm": {
     "name": "#%%\n"
    }
   },
   "outputs": [],
   "source": [
    "for line in inp.read().rstrip().split('\\n'):\n",
    "    ..."
   ]
  },
  {
   "cell_type": "code",
   "execution_count": null,
   "metadata": {
    "slideshow": {
     "slide_type": "fragment"
    },
    "pycharm": {
     "name": "#%%\n"
    }
   },
   "outputs": [],
   "source": [
    "stroka = inp.read().split('\\n')\n",
    "del stroka[-1]\n",
    "res = ''\n",
    "for val in stroka:\n",
    "    ..."
   ]
  },
  {
   "cell_type": "code",
   "execution_count": null,
   "metadata": {
    "slideshow": {
     "slide_type": "slide"
    },
    "pycharm": {
     "name": "#%%\n"
    }
   },
   "outputs": [],
   "source": [
    "input = inp.read()\n",
    "list = input.split('\\n')\n",
    "for x in list:\n",
    "    if x:\n",
    "        ..."
   ]
  },
  {
   "cell_type": "markdown",
   "metadata": {
    "slideshow": {
     "slide_type": "fragment"
    },
    "pycharm": {
     "name": "#%% md\n"
    }
   },
   "source": [
    "<div align=\"center\"><img width=\"500\" alt=\"tomas\" src=\"https://sntch.com/uploads/2019/03/download-38.jpg\" /></div>"
   ]
  },
  {
   "cell_type": "code",
   "execution_count": null,
   "metadata": {
    "slideshow": {
     "slide_type": "slide"
    },
    "pycharm": {
     "name": "#%%\n"
    }
   },
   "outputs": [],
   "source": [
    "logs = inp.readlines()\n",
    "for line in logs:\n",
    "    if len(str(line)) < 5: # ???\n",
    "        continue\n",
    "    ..."
   ]
  },
  {
   "cell_type": "code",
   "execution_count": null,
   "metadata": {
    "slideshow": {
     "slide_type": "fragment"
    },
    "pycharm": {
     "name": "#%%\n"
    }
   },
   "outputs": [],
   "source": [
    "str_log = inp.readlines()\n",
    "for i in range(len(str_log)):\n",
    "    logs = [s for s in str_log[i].split('\\t')]\n",
    "    ..."
   ]
  },
  {
   "cell_type": "code",
   "execution_count": null,
   "metadata": {
    "slideshow": {
     "slide_type": "fragment"
    },
    "pycharm": {
     "name": "#%%\n"
    }
   },
   "outputs": [],
   "source": [
    "my_list = inp.readlines()\n",
    "for el in my_list:\n",
    "    ..."
   ]
  },
  {
   "cell_type": "code",
   "execution_count": null,
   "metadata": {
    "slideshow": {
     "slide_type": "fragment"
    },
    "pycharm": {
     "name": "#%%\n"
    }
   },
   "outputs": [],
   "source": [
    "lines = inp.readlines()\n",
    "for line in lines:\n",
    "    ..."
   ]
  },
  {
   "cell_type": "code",
   "execution_count": null,
   "metadata": {
    "slideshow": {
     "slide_type": "slide"
    },
    "pycharm": {
     "name": "#%%\n"
    }
   },
   "outputs": [],
   "source": [
    "my_input = \"a\"\n",
    "while my_input:\n",
    "    my_input = inp.readline()\n",
    "    if my_input != '':\n",
    "        ..."
   ]
  },
  {
   "cell_type": "markdown",
   "metadata": {
    "slideshow": {
     "slide_type": "fragment"
    },
    "pycharm": {
     "name": "#%% md\n"
    }
   },
   "source": [
    "<div align=\"center\"><img width=\"500\" alt=\"pika\" src=\"https://avatanplus.com/files/resources/mid/5c5472c912edc168a9e06176.png\" /></div>"
   ]
  },
  {
   "cell_type": "code",
   "execution_count": null,
   "metadata": {
    "slideshow": {
     "slide_type": "slide"
    },
    "pycharm": {
     "name": "#%%\n"
    }
   },
   "outputs": [],
   "source": [
    "while True:\n",
    "    s = inp.readline()\n",
    "    if not s:\n",
    "        break\n",
    "    if s[-1] == '\\n':\n",
    "        s = s[:-1]\n",
    "    ..."
   ]
  },
  {
   "cell_type": "code",
   "execution_count": null,
   "metadata": {
    "slideshow": {
     "slide_type": "fragment"
    },
    "pycharm": {
     "name": "#%%\n"
    }
   },
   "outputs": [],
   "source": [
    "while inp:\n",
    "    line = inp.readline()\n",
    "    if line == '':\n",
    "        break\n",
    "    ..."
   ]
  },
  {
   "cell_type": "code",
   "execution_count": null,
   "metadata": {
    "slideshow": {
     "slide_type": "fragment"
    },
    "pycharm": {
     "name": "#%%\n"
    }
   },
   "outputs": [],
   "source": [
    "input_ = inp.readline()\n",
    "while input_ != '':\n",
    "    ...\n",
    "    input_ = inp.readline()"
   ]
  },
  {
   "cell_type": "code",
   "execution_count": null,
   "metadata": {
    "slideshow": {
     "slide_type": "fragment"
    },
    "pycharm": {
     "name": "#%%\n"
    }
   },
   "outputs": [],
   "source": [
    "line = inp.readline()\n",
    "\n",
    "while line:\n",
    "    ...\n",
    "    line = inp.readline()"
   ]
  },
  {
   "cell_type": "code",
   "execution_count": null,
   "metadata": {
    "slideshow": {
     "slide_type": "slide"
    },
    "pycharm": {
     "name": "#%%\n"
    }
   },
   "outputs": [],
   "source": [
    "for line in inp:\n",
    "    ..."
   ]
  },
  {
   "cell_type": "markdown",
   "metadata": {
    "pycharm": {
     "name": "#%% md\n"
    }
   },
   "source": [
    "<div align=\"center\"><img width=\"500\" alt=\"smart\" src=\"https://yt3.ggpht.com/a/AGF-l78ah7hfAS4mzCyyU0R-szLjT7G8BuHM9FcmZw=s900-c-k-c0xffffffff-no-rj-mo\" /></div>"
   ]
  },
  {
   "cell_type": "markdown",
   "metadata": {
    "slideshow": {
     "slide_type": "slide"
    },
    "pycharm": {
     "name": "#%% md\n"
    }
   },
   "source": [
    "## Как форматируют лог?"
   ]
  },
  {
   "cell_type": "code",
   "execution_count": null,
   "metadata": {
    "slideshow": {
     "slide_type": "fragment"
    },
    "pycharm": {
     "name": "#%%\n"
    }
   },
   "outputs": [],
   "source": [
    "inputs = [input_line.split(\"\\t\") for input_line in inp.readlines()]\n",
    "messages = [input_line[-1] for input_line in inputs]\n",
    "\n",
    "num_dots = [74 - len(message) for message in messages]\n",
    "res = [inputs[inp_num][0][:7] + '.' * num_dots[inp_num] + messages[inp_num] for inp_num in range(len(inputs))]"
   ]
  },
  {
   "cell_type": "markdown",
   "metadata": {
    "slideshow": {
     "slide_type": "fragment"
    },
    "pycharm": {
     "name": "#%% md\n"
    }
   },
   "source": [
    "<div align=\"center\"><img width=\"400\" alt=\"why\" src=\"http://memesmix.net/media/created/4hqfij.jpg\" /></div>"
   ]
  },
  {
   "cell_type": "code",
   "execution_count": null,
   "metadata": {
    "slideshow": {
     "slide_type": "slide"
    },
    "pycharm": {
     "name": "#%%\n"
    }
   },
   "outputs": [],
   "source": [
    "pre = my_input.split('@')\n",
    "message = pre[1].split('\\t')[1]\n",
    "ssh = my_input.split()[0].strip()\n",
    "out.write('{0:<.7}{1:.>74}'.format(ssh, message))"
   ]
  },
  {
   "cell_type": "code",
   "execution_count": null,
   "metadata": {
    "slideshow": {
     "slide_type": "fragment"
    },
    "pycharm": {
     "name": "#%%\n"
    }
   },
   "outputs": [],
   "source": [
    "line_list = line.strip().split('\\t')\n",
    "size = 80 - 7 - len(line_list[-1])\n",
    "output_line = '{}{:.^{size}}{}\\n'.format(line_list[0][:7], '',\n",
    "                                         line_list[-1], size=size)"
   ]
  },
  {
   "cell_type": "code",
   "execution_count": null,
   "metadata": {
    "slideshow": {
     "slide_type": "fragment"
    },
    "pycharm": {
     "name": "#%%\n"
    }
   },
   "outputs": [],
   "source": [
    "tokens = line.split('\\t')\n",
    "tokens[0] = tokens[0][:7]\n",
    "\n",
    "out.write(tokens[0] +\n",
    "          \"\".join(\n",
    "            ['.' for i in range(0, (81-len(tokens[0] + tokens[4])))]\n",
    "                ) +\n",
    "          tokens[4])"
   ]
  },
  {
   "cell_type": "code",
   "execution_count": null,
   "metadata": {
    "slideshow": {
     "slide_type": "slide"
    },
    "pycharm": {
     "name": "#%%\n"
    }
   },
   "outputs": [],
   "source": [
    "result = \"\"\n",
    "counter = 0\n",
    "for s in el.split(\"\\t\"):\n",
    "    if counter == 0:\n",
    "        result += s[:7]\n",
    "    if counter == 4:\n",
    "        result += s.rjust(80-7+1, \".\")\n",
    "    counter += 1\n",
    "out.write(result)"
   ]
  },
  {
   "cell_type": "code",
   "execution_count": null,
   "metadata": {
    "slideshow": {
     "slide_type": "fragment"
    },
    "pycharm": {
     "name": "#%%\n"
    }
   },
   "outputs": [],
   "source": [
    "entries = content.split(\"\\t\")\n",
    "output += entries[0][:7]\n",
    "output += \".\" * (length + 1 - part - len(entries[4]))\n",
    "output += entries[4]\n",
    "out.write(output)"
   ]
  },
  {
   "cell_type": "code",
   "execution_count": null,
   "metadata": {
    "slideshow": {
     "slide_type": "slide"
    },
    "pycharm": {
     "name": "#%%\n"
    }
   },
   "outputs": [],
   "source": [
    "attributes = line.split('\\t')\n",
    "sha, message = attributes[0][:7], attributes[-1]\n",
    "out.write(f'{sha.ljust(81-len(message), \".\")}{message}')"
   ]
  },
  {
   "cell_type": "code",
   "execution_count": null,
   "metadata": {
    "slideshow": {
     "slide_type": "fragment"
    },
    "pycharm": {
     "name": "#%%\n"
    }
   },
   "outputs": [],
   "source": [
    "sha, date, author, email, message = line.split(\"\\t\", 5)\n",
    "crop_size = 7\n",
    "line_length = 80\n",
    "message_justify_length = line_length - crop_size + 1  # 1 for \\n\n",
    "out.write(sha[:crop_size] + message.rjust(message_justify_length, \".\"))"
   ]
  },
  {
   "cell_type": "code",
   "execution_count": null,
   "metadata": {
    "slideshow": {
     "slide_type": "fragment"
    },
    "pycharm": {
     "name": "#%%\n"
    }
   },
   "outputs": [],
   "source": [
    "words = line.split('\\t')\n",
    "sha_1 = words[0][:7]\n",
    "msg = words[-1].rjust(74, '.')  # \\n included?\n",
    "out.write(f\"{sha_1}{msg}\")"
   ]
  },
  {
   "cell_type": "code",
   "execution_count": null,
   "metadata": {
    "slideshow": {
     "slide_type": "slide"
    },
    "pycharm": {
     "name": "#%%\n"
    }
   },
   "outputs": [],
   "source": [
    "sha_1, date, author, email, message = line.split('\\t')\n",
    "out.write(sha_1[:7] + message.rjust(73, '.') + '\\n')"
   ]
  },
  {
   "cell_type": "code",
   "execution_count": null,
   "metadata": {
    "slideshow": {
     "slide_type": "fragment"
    },
    "pycharm": {
     "name": "#%%\n"
    }
   },
   "outputs": [],
   "source": [
    "sha_1, _, _, _, message = line.strip().split('\\t')\n",
    "out.write(sha_1[:7] + message.rjust(73, '.') + '\\n')"
   ]
  },
  {
   "cell_type": "code",
   "execution_count": null,
   "metadata": {
    "slideshow": {
     "slide_type": "fragment"
    },
    "pycharm": {
     "name": "#%%\n"
    }
   },
   "outputs": [],
   "source": [
    "sha1, *_, message = line[:-1].split('\\t')\n",
    "out.write(sha1[:7] + message.rjust(73, '.') + '\\n')"
   ]
  },
  {
   "cell_type": "markdown",
   "metadata": {
    "slideshow": {
     "slide_type": "fragment"
    },
    "pycharm": {
     "name": "#%% md\n"
    }
   },
   "source": [
    "<div align=\"center\"><img width=\"500\" src=\"https://a.d-cd.net/q6AAAgBLAeA-1920.jpg\" /></div>"
   ]
  },
  {
   "cell_type": "code",
   "execution_count": null,
   "metadata": {
    "slideshow": {
     "slide_type": "slide"
    },
    "pycharm": {
     "name": "#%%\n"
    }
   },
   "outputs": [],
   "source": [
    "sha, _, _, _, message = line.split('\\t')\n",
    "out.write(f'{sha[:7]}{message:.>74}') "
   ]
  },
  {
   "cell_type": "code",
   "execution_count": null,
   "metadata": {
    "slideshow": {
     "slide_type": "fragment"
    },
    "pycharm": {
     "name": "#%%\n"
    }
   },
   "outputs": [],
   "source": [
    "sha, *_, message = line.split('\\t')\n",
    "out.write(f'{sha[:7]}{message:.>74}') "
   ]
  },
  {
   "cell_type": "markdown",
   "metadata": {
    "slideshow": {
     "slide_type": "slide"
    },
    "pycharm": {
     "name": "#%% md\n"
    }
   },
   "source": [
    "# caesar_cipher"
   ]
  },
  {
   "cell_type": "markdown",
   "metadata": {
    "slideshow": {
     "slide_type": "slide"
    },
    "pycharm": {
     "name": "#%% md\n"
    }
   },
   "source": [
    "## Криптография"
   ]
  },
  {
   "cell_type": "code",
   "execution_count": null,
   "metadata": {
    "slideshow": {
     "slide_type": "fragment"
    },
    "pycharm": {
     "name": "#%%\n"
    }
   },
   "outputs": [],
   "source": [
    "result = ''\n",
    "for symb in list(message):\n",
    "    ord_s = int(ord(symb))\n",
    "    if 97 <= ord_s <= 122:\n",
    "        y = ord_s - 96\n",
    "        y += n\n",
    "        y = y % 26 + 96\n",
    "        if y == 96:\n",
    "            y = 122\n",
    "        result = result + chr(y)\n",
    "    elif 65 <= ord_s <= 90:\n",
    "        y = ord_s - 64\n",
    "        y += n\n",
    "        y = y % 26 + 64\n",
    "        if y == 64:\n",
    "            y = 90\n",
    "        result = result + chr(y)\n",
    "    else:\n",
    "        result = result + symb\n",
    "return result"
   ]
  },
  {
   "cell_type": "code",
   "execution_count": null,
   "metadata": {
    "slideshow": {
     "slide_type": "slide"
    },
    "pycharm": {
     "name": "#%%\n"
    }
   },
   "outputs": [],
   "source": [
    "a_big_code = 65\n",
    "z_big_code = 90\n",
    "a_small_code = 97\n",
    "z_small_code = 122\n",
    "alphabet_length = z_big_code - a_big_code\n",
    "assert alphabet_length == z_small_code - a_small_code\n",
    "translations = {i: ((i-a_big_code) + n) % (alphabet_length + 1) + a_big_code\n",
    "                for i in range(a_big_code, z_big_code + 1)}\n",
    "translations.update({i: ((i-a_small_code) + n) % (alphabet_length + 1) + a_small_code\n",
    "                     for i in range(a_small_code, z_small_code + 1)})\n",
    "return ''.join(chr(translations.get(ord(symbol), ord(symbol))) for symbol in message)"
   ]
  },
  {
   "cell_type": "code",
   "execution_count": null,
   "metadata": {
    "slideshow": {
     "slide_type": "slide"
    },
    "pycharm": {
     "name": "#%%\n"
    }
   },
   "outputs": [],
   "source": [
    "for symbol in message:\n",
    "    symbol_old_code = ord(symbol)\n",
    "    if not (z_code >= symbol_old_code >= a_code or z_upper_code >= symbol_old_code >= a_upper_code):\n",
    "        result += symbol\n",
    "    if is_positivie:\n",
    "        new_code = symbol_old_code + offset\n",
    "        if symbol_old_code >= a_code and new_code <= z_code:\n",
    "            result += chr(new_code)\n",
    "        elif symbol_old_code >= a_code and new_code > z_code:\n",
    "            gap = z_code - symbol_old_code\n",
    "            result += chr(a_code + offset - gap - 1)\n",
    "        elif symbol_old_code >= a_upper_code and new_code <= z_upper_code:\n",
    "            result += chr(new_code)\n",
    "        elif symbol_old_code >= a_upper_code and new_code > z_upper_code:\n",
    "            gap = z_upper_code - symbol_old_code\n",
    "            result += chr(a_upper_code + offset - gap - 1)\n",
    "    else:\n",
    "        new_code = symbol_old_code - offset\n",
    "        if a_upper_code <= symbol_old_code <= z_upper_code and new_code >= a_upper_code:\n",
    "            result += chr(new_code)\n",
    "        elif z_upper_code >= symbol_old_code >= a_upper_code > new_code:\n",
    "            gap = symbol_old_code - a_upper_code\n",
    "            result += chr(z_upper_code - (offset - gap) + 1)\n",
    "        elif symbol_old_code >= a_code and new_code >= a_code:\n",
    "            result += chr(new_code)\n",
    "        elif z_code >= symbol_old_code >= a_code > new_code:\n",
    "            gap = symbol_old_code - a_code\n",
    "            result += chr(z_code - (offset - gap) + 1)\n",
    "return result"
   ]
  },
  {
   "cell_type": "markdown",
   "metadata": {
    "slideshow": {
     "slide_type": "slide"
    },
    "pycharm": {
     "name": "#%% md\n"
    }
   },
   "source": [
    "## Неленивые"
   ]
  },
  {
   "cell_type": "code",
   "execution_count": null,
   "metadata": {
    "slideshow": {
     "slide_type": "fragment"
    },
    "pycharm": {
     "name": "#%%\n"
    }
   },
   "outputs": [],
   "source": [
    "Кол-во констант с символами:\n",
    "    - алфавит в нижнем регистре - 8\n",
    "    - алфавит в верхнем регистре - 3\n",
    "    - неалфавитный порядок - 1\n",
    "    - пунктуация - >2"
   ]
  },
  {
   "cell_type": "markdown",
   "metadata": {
    "slideshow": {
     "slide_type": "slide"
    },
    "pycharm": {
     "name": "#%% md\n"
    }
   },
   "source": [
    "## Неплохие варианты"
   ]
  },
  {
   "cell_type": "code",
   "execution_count": null,
   "metadata": {
    "slideshow": {
     "slide_type": "fragment"
    },
    "pycharm": {
     "name": "#%%\n"
    }
   },
   "outputs": [],
   "source": [
    "symbols = []\n",
    "\n",
    "for symb in message:\n",
    "    if ord('A') <= ord(symb) <= ord('Z'):\n",
    "        symbols.append(chr(ord(\"A\") + (ord(symb) - ord(\"A\") + n) % 26))\n",
    "    elif ord('a') <= ord(symb) <= ord('z'):\n",
    "        symbols.append(chr(ord(\"a\") + (ord(symb) - ord('a') + n) % 26))\n",
    "    else:\n",
    "        symbols.append(symb)\n",
    "return \"\".join(symbols)"
   ]
  },
  {
   "cell_type": "code",
   "execution_count": null,
   "metadata": {
    "slideshow": {
     "slide_type": "fragment"
    },
    "pycharm": {
     "name": "#%%\n"
    }
   },
   "outputs": [],
   "source": [
    "n %= len(string.ascii_lowercase)\n",
    "intab = string.ascii_lowercase + string.ascii_uppercase\n",
    "outtab = (string.ascii_lowercase[n:] + string.ascii_lowercase[:n] +\n",
    "          string.ascii_uppercase[n:] + string.ascii_uppercase[:n])\n",
    "trans = message.maketrans(intab, outtab)\n",
    "return message.translate(trans)"
   ]
  },
  {
   "cell_type": "code",
   "execution_count": null,
   "metadata": {
    "slideshow": {
     "slide_type": "slide"
    },
    "pycharm": {
     "name": "#%%\n"
    }
   },
   "outputs": [],
   "source": [
    "from string import ascii_lowercase, ascii_uppercase, ascii_letters\n",
    "\n",
    "\n",
    "def make_shift(shift: int) -> str:\n",
    "    return ascii_lowercase[shift:] + ascii_lowercase[:shift] + ascii_uppercase[shift:] + ascii_uppercase[:shift]\n",
    "\n",
    "\n",
    "def caesar_encrypt(message: str, n: int) -> str:\n",
    "    \"\"\"Encrypt message using caesar cipher\n",
    "\n",
    "    :param message: message to encrypt\n",
    "    :param n: shift\n",
    "    :return: encrypted message\n",
    "    \"\"\"\n",
    "    table = message.maketrans(ascii_letters, make_shift(n))\n",
    "    return message.translate(table)"
   ]
  },
  {
   "cell_type": "markdown",
   "metadata": {
    "slideshow": {
     "slide_type": "slide"
    },
    "pycharm": {
     "name": "#%% md\n"
    }
   },
   "source": [
    "# normalize_path"
   ]
  },
  {
   "cell_type": "markdown",
   "metadata": {
    "slideshow": {
     "slide_type": "slide"
    },
    "pycharm": {
     "name": "#%% md\n"
    }
   },
   "source": [
    "## Основные косяки"
   ]
  },
  {
   "cell_type": "code",
   "execution_count": null,
   "metadata": {
    "slideshow": {
     "slide_type": "slide"
    },
    "pycharm": {
     "name": "#%%\n"
    }
   },
   "outputs": [],
   "source": [
    "my_path = path\n",
    "my_path = my_path.replace('//', '/')\n",
    "while my_path != my_path.replace('//', '/'):\n",
    "    my_path = my_path.replace('//', '/')\n",
    "\n",
    "my_path = my_path.replace('//', '/')\n",
    "my_path = my_path.replace('/./', '/')\n",
    "my_path = my_path.replace('//', '/')\n",
    "if my_path.startswith('./'):\n",
    "    my_path = my_path[2:]\n",
    "\n",
    "if my_path.endswith('/.'):\n",
    "    my_path = my_path[:-2]\n",
    "..."
   ]
  },
  {
   "cell_type": "code",
   "execution_count": null,
   "metadata": {
    "slideshow": {
     "slide_type": "fragment"
    },
    "pycharm": {
     "name": "#%%\n"
    }
   },
   "outputs": [],
   "source": [
    "if path and path[0] == '/':\n",
    "    absolute_path = True\n",
    "else:\n",
    "    absolute_path = False"
   ]
  },
  {
   "cell_type": "code",
   "execution_count": null,
   "metadata": {
    "slideshow": {
     "slide_type": "slide"
    },
    "pycharm": {
     "name": "#%%\n"
    }
   },
   "outputs": [],
   "source": [
    "for token in tokens:\n",
    "    if token:\n",
    "        if token != '.':\n",
    "            if token == '..':\n",
    "                if stack:\n",
    "                    if (stack[-1] == token):\n",
    "                        if not is_root:\n",
    "                            stack.append(token)\n",
    "                    else:\n",
    "                        stack.pop()\n",
    "                else:\n",
    "                    if not is_root:\n",
    "                        stack.append(token)\n",
    "            else:\n",
    "                stack.append(token)"
   ]
  },
  {
   "cell_type": "markdown",
   "metadata": {
    "slideshow": {
     "slide_type": "fragment"
    },
    "pycharm": {
     "name": "#%% md\n"
    }
   },
   "source": [
    "<div align=\"center\"><img width=\"500\" src=\"https://miro.medium.com/max/721/1*Co0gr64Uo5kSg89ukFD2dw.jpeg\" /></div>"
   ]
  },
  {
   "cell_type": "markdown",
   "metadata": {
    "slideshow": {
     "slide_type": "slide"
    },
    "pycharm": {
     "name": "#%% md\n"
    }
   },
   "source": [
    "## Неплохие варианты"
   ]
  },
  {
   "cell_type": "code",
   "execution_count": null,
   "metadata": {
    "slideshow": {
     "slide_type": "slide"
    },
    "pycharm": {
     "name": "#%%\n"
    }
   },
   "outputs": [],
   "source": [
    "def normalize_path(path: str) -> str:\n",
    "    \"\"\"\n",
    "    :param path: unix path to normalize\n",
    "    :return: normalized path\n",
    "    \"\"\"\n",
    "    elements = path.split('/')\n",
    "    result = []\n",
    "    if path and path[0] == '/':\n",
    "        result.append('/')\n",
    "\n",
    "    for el in elements:\n",
    "        if el in ['.', '']:\n",
    "            continue\n",
    "        if el == '..' and result:\n",
    "            if result[-1] == '/':  # root\n",
    "                continue\n",
    "\n",
    "            if result[-1] != '..':\n",
    "                result.pop()\n",
    "                continue\n",
    "        result.append(el)\n",
    "\n",
    "    if result and result[0] == '/':\n",
    "        result[0] = ''\n",
    "    return '/'.join(result) if result else '.' "
   ]
  },
  {
   "cell_type": "code",
   "execution_count": null,
   "metadata": {
    "slideshow": {
     "slide_type": "slide"
    },
    "pycharm": {
     "name": "#%%\n"
    }
   },
   "outputs": [],
   "source": [
    "resulting_path: tp.Deque[str] = deque()\n",
    "root = '/' if path and path[0] == '/' else ''\n",
    "\n",
    "for pwd in path.split('/'):\n",
    "    if pwd == '.' or pwd == '':\n",
    "        continue\n",
    "    if not pwd == '..':\n",
    "        resulting_path.append(pwd)\n",
    "        continue\n",
    "\n",
    "    # the only case left is pwd == '..'\n",
    "    # we append it to the path if and only if\n",
    "    # the path is relative and starts with ../../\n",
    "    if not root and (not resulting_path or resulting_path[-1] == '..'):\n",
    "        resulting_path.append(pwd)\n",
    "    elif resulting_path:\n",
    "        resulting_path.pop()\n",
    "\n",
    "a = root + '/'.join(x for x in resulting_path if x)\n",
    "return a if a else '.'"
   ]
  },
  {
   "cell_type": "markdown",
   "metadata": {
    "slideshow": {
     "slide_type": "slide"
    },
    "pycharm": {
     "name": "#%% md\n"
    }
   },
   "source": [
    "# count_util"
   ]
  },
  {
   "cell_type": "markdown",
   "metadata": {
    "slideshow": {
     "slide_type": "slide"
    },
    "pycharm": {
     "name": "#%% md\n"
    }
   },
   "source": [
    "## Argparse vs handmade"
   ]
  },
  {
   "cell_type": "code",
   "execution_count": null,
   "metadata": {
    "slideshow": {
     "slide_type": "slide"
    },
    "pycharm": {
     "name": "#%%\n"
    }
   },
   "outputs": [],
   "source": [
    "flag_m = 0\n",
    "flag_l = 0\n",
    "flag_L = 0\n",
    "flag_w = 0\n",
    "if (flags is not None):\n",
    "    if (flags == \"\"):\n",
    "        flag_m = 1\n",
    "        flag_l = 1\n",
    "        flag_L = 1\n",
    "        flag_w = 1\n",
    "    else:\n",
    "        list_flags = list(flags)\n",
    "        if 'm' in list_flags:\n",
    "            flag_m = 1\n",
    "        if 'l' in list_flags:\n",
    "            flag_l = 1\n",
    "        if 'L' in list_flags:\n",
    "            flag_L = 1\n",
    "        if 'w' in list_flags:\n",
    "            flag_w = 1\n",
    "else:\n",
    "    flag_m = 1\n",
    "    flag_l = 1\n",
    "    flag_L = 1\n",
    "    flag_w = 1"
   ]
  },
  {
   "cell_type": "code",
   "execution_count": null,
   "metadata": {
    "slideshow": {
     "slide_type": "slide"
    },
    "pycharm": {
     "name": "#%%\n"
    }
   },
   "outputs": [],
   "source": [
    "if (flags is None) or (flags == '') or ('l' in flags):\n",
    "    ...\n",
    "\n",
    "if (flags is None) or (flags == '') or ('w' in flags):\n",
    "    ...\n",
    "\n",
    "if (flags is None) or (flags == '') or ('m' in flags):\n",
    "    ...\n",
    "\n",
    "if (flags is None) or (flags == '') or ('L' in flags):\n",
    "    ..."
   ]
  },
  {
   "cell_type": "code",
   "execution_count": null,
   "metadata": {
    "slideshow": {
     "slide_type": "slide"
    },
    "pycharm": {
     "name": "#%%\n"
    }
   },
   "outputs": [],
   "source": [
    "if flags is None or flags == '':\n",
    "    keys = {\"m\", \"l\", \"L\", \"w\"}\n",
    "else:\n",
    "    keys = set(flags) - set(' ') - set(\"-\")\n",
    "if 'm' in keys:\n",
    "    ...\n",
    "if 'l' in keys:\n",
    "    ...\n",
    "if 'L' in keys:\n",
    "    ...\n",
    "if 'w' in keys:\n",
    "    ..."
   ]
  },
  {
   "cell_type": "code",
   "execution_count": null,
   "metadata": {
    "slideshow": {
     "slide_type": "slide"
    },
    "pycharm": {
     "name": "#%%\n"
    }
   },
   "outputs": [],
   "source": [
    "if flags is None or flags == \"\":\n",
    "    flags = \"-mlLw\"\n",
    "\n",
    "parser = argparse.ArgumentParser(description='WC')\n",
    "parser.add_argument('-m', dest='chars', action='store_true',\n",
    "                    default=False, help='Number of characters')\n",
    "parser.add_argument('-l', dest='lines', action='store_true',\n",
    "                    default=False, help='Number of lines')\n",
    "parser.add_argument('-L', dest='longest_line', action='store_true',\n",
    "                    default=False, help='Longest line length')\n",
    "parser.add_argument('-w', dest='words', action='store_true',\n",
    "                    default=False, help='Number of words')\n",
    "\n",
    "args = parser.parse_args(flags.split())\n",
    "\n",
    "result = dict()\n",
    "if args.chars:\n",
    "    ...\n",
    "if args.lines:\n",
    "    ...\n",
    "if args.longest_line:\n",
    "    ...\n",
    "if args.words:\n",
    "    ..."
   ]
  },
  {
   "cell_type": "markdown",
   "metadata": {
    "slideshow": {
     "slide_type": "slide"
    },
    "pycharm": {
     "name": "#%% md\n"
    }
   },
   "source": [
    "# input_"
   ]
  },
  {
   "cell_type": "markdown",
   "metadata": {
    "slideshow": {
     "slide_type": "fragment"
    },
    "pycharm": {
     "name": "#%% md\n"
    }
   },
   "source": [
    "Кратко:\n",
    "    - не пытаться вычитать из потока EOT (EOF), их там не будет\n",
    "    - не забывать про flush()"
   ]
  }
 ],
 "metadata": {
  "celltoolbar": "Slideshow",
  "kernelspec": {
   "display_name": "Python 3",
   "language": "python",
   "name": "python3"
  },
  "language_info": {
   "codemirror_mode": {
    "name": "ipython",
    "version": 3
   },
   "file_extension": ".py",
   "mimetype": "text/x-python",
   "name": "python",
   "nbconvert_exporter": "python",
   "pygments_lexer": "ipython3",
   "version": "3.7.3"
  }
 },
 "nbformat": 4,
 "nbformat_minor": 2
}