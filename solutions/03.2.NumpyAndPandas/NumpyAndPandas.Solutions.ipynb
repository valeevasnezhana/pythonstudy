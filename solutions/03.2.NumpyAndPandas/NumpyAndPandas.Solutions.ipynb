{
 "cells": [
  {
   "cell_type": "code",
   "execution_count": 42,
   "metadata": {
    "pycharm": {
     "name": "#%%\n"
    }
   },
   "outputs": [],
   "source": [
    "import numpy as np\n",
    "import pandas as pd\n",
    "import typing as tp"
   ]
  },
  {
   "cell_type": "markdown",
   "metadata": {
    "pycharm": {
     "name": "#%% md\n"
    }
   },
   "source": [
    "Общие ошибки:\n",
    "1. Использование циклов и list comprehension, map и Collections там, где это не нужно (а это нигде не нужно)\n",
    "2. Ненужные apply (везде, кроме dead_lucky, можно найти встроенные функции)\n",
    "3. Ненужные присваивания\n",
    "4. Модификация датафрейма"
   ]
  },
  {
   "cell_type": "markdown",
   "metadata": {
    "pycharm": {
     "name": "#%% md\n"
    }
   },
   "source": [
    "#### numpy basic"
   ]
  },
  {
   "cell_type": "code",
   "execution_count": 116,
   "metadata": {
    "pycharm": {
     "name": "#%%\n"
    }
   },
   "outputs": [],
   "source": [
    "def construct_array(\n",
    "        matrix: tp.Any,\n",
    "        row_indices: tp.List[int],\n",
    "        col_indices: tp.List[int]) -> tp.Any:\n",
    "    return matrix[np.array(row_indices), np.array(col_indices)]\n",
    "\n",
    "def mean_channel(X: tp.Any) -> tp.Any:\n",
    "    return np.mean(np.array(X), axis=(1, 0))\n",
    "\n",
    "def get_unique_rows(X: tp.Any) -> tp.Any:\n",
    "    return np.unique(np.array(X), axis=0)\n",
    "\n",
    "def detect_identic(\n",
    "        lhs_array: tp.Any,\n",
    "        rhs_array: tp.Any) -> bool:\n",
    "    return np.array_equal(lhs_array, rhs_array)\n",
    "\n",
    "def construct_matrix(first_array: tp.Any, second_array: tp.Any) -> tp.Any:\n",
    "    return np.column_stack((first_array, second_array))"
   ]
  },
  {
   "cell_type": "markdown",
   "metadata": {
    "pycharm": {
     "name": "#%% md\n"
    }
   },
   "source": [
    "#### nearest_value"
   ]
  },
  {
   "cell_type": "code",
   "execution_count": 91,
   "metadata": {
    "pycharm": {
     "name": "#%%\n"
    }
   },
   "outputs": [],
   "source": [
    "def nearest_value(matrix: tp.Any, value: float) -> tp.Optional[float]:\n",
    "    result = np.argmin(np.abs(matrix - value))\n",
    "    return matrix.ravel()[result]\n"
   ]
  },
  {
   "cell_type": "markdown",
   "metadata": {
    "pycharm": {
     "name": "#%% md\n"
    }
   },
   "source": [
    "**flatten** -  создает копию, **ravel** - нет"
   ]
  },
  {
   "cell_type": "markdown",
   "metadata": {
    "pycharm": {
     "name": "#%% md\n"
    }
   },
   "source": [
    "#### vander"
   ]
  },
  {
   "cell_type": "code",
   "execution_count": 100,
   "metadata": {
    "pycharm": {
     "name": "#%%\n"
    }
   },
   "outputs": [],
   "source": [
    "def vander(array: tp.Any) -> tp.Any:\n",
    "    degrees = np.arange(array.shape[0])\n",
    "    return np.power(array[:, np.newaxis], degrees)"
   ]
  },
  {
   "cell_type": "markdown",
   "metadata": {
    "pycharm": {
     "name": "#%% md\n"
    }
   },
   "source": [
    "Так нормально:"
   ]
  },
  {
   "cell_type": "code",
   "execution_count": 97,
   "metadata": {
    "pycharm": {
     "name": "#%%\n"
    }
   },
   "outputs": [],
   "source": [
    "def vander(array: tp.Any) -> tp.Any:\n",
    "    n = array.shape[0]\n",
    "    res = np.logspace(np.zeros_like(array), (n-1), base=array, num=n)\n",
    "    return res.T"
   ]
  },
  {
   "cell_type": "markdown",
   "metadata": {
    "pycharm": {
     "name": "#%% md\n"
    }
   },
   "source": [
    "Так плохо:"
   ]
  },
  {
   "cell_type": "code",
   "execution_count": 95,
   "metadata": {
    "pycharm": {
     "name": "#%%\n"
    }
   },
   "outputs": [],
   "source": [
    "def vander(array: tp.Any) -> tp.Any:\n",
    "    return np.array([[pow(elem, i) for i in range(array.shape[0])] for elem in array])"
   ]
  },
  {
   "cell_type": "markdown",
   "metadata": {
    "pycharm": {
     "name": "#%% md\n"
    }
   },
   "source": [
    "#### add_zeros"
   ]
  },
  {
   "cell_type": "code",
   "execution_count": 106,
   "metadata": {
    "pycharm": {
     "name": "#%%\n"
    }
   },
   "outputs": [],
   "source": [
    "def add_zeros(x: tp.Any) -> tp.Any:\n",
    "    return np.insert(x, range(1, len(x)), 0)"
   ]
  },
  {
   "cell_type": "markdown",
   "metadata": {
    "pycharm": {
     "name": "#%% md\n"
    }
   },
   "source": [
    "### Titanic"
   ]
  },
  {
   "cell_type": "code",
   "execution_count": 127,
   "metadata": {
    "pycharm": {
     "name": "#%%\n"
    }
   },
   "outputs": [],
   "source": [
    "df = pd.read_csv(\"titanic.csv\", sep=\"\\t\")"
   ]
  },
  {
   "cell_type": "markdown",
   "metadata": {
    "pycharm": {
     "name": "#%% md\n"
    }
   },
   "source": [
    "#### male_age"
   ]
  },
  {
   "cell_type": "code",
   "execution_count": 4,
   "metadata": {
    "pycharm": {
     "name": "#%%\n"
    }
   },
   "outputs": [],
   "source": [
    "def male_age(df):\n",
    "    return df[(df[\"Survived\"] == 1) &\n",
    "              (df[\"Sex\"] == \"male\") &\n",
    "              (df[\"Embarked\"] == \"S\") &\n",
    "              (df[\"Fare\"] > 30)][\"Age\"].mean()"
   ]
  },
  {
   "cell_type": "markdown",
   "metadata": {
    "pycharm": {
     "name": "#%% md\n"
    }
   },
   "source": [
    "#### nan_columns"
   ]
  },
  {
   "cell_type": "code",
   "execution_count": null,
   "metadata": {
    "pycharm": {
     "name": "#%%\n"
    }
   },
   "outputs": [],
   "source": [
    "def nan_columns(df):\n",
    "    return df.columns[df.isna().any()]"
   ]
  },
  {
   "cell_type": "markdown",
   "metadata": {
    "pycharm": {
     "name": "#%% md\n"
    }
   },
   "source": [
    "Так плохо:"
   ]
  },
  {
   "cell_type": "code",
   "execution_count": null,
   "metadata": {
    "pycharm": {
     "name": "#%%\n"
    }
   },
   "outputs": [],
   "source": [
    "def nan_columns(df):\n",
    "    return set(df.columns) - set(df.dropna(axis=1).columns)"
   ]
  },
  {
   "cell_type": "code",
   "execution_count": null,
   "metadata": {
    "pycharm": {
     "name": "#%%\n"
    }
   },
   "outputs": [],
   "source": [
    "def nan_columns(df):\n",
    "    return list(df.apply(lambda col: col.isnull().value_counts()).T[True].dropna().index)"
   ]
  },
  {
   "cell_type": "markdown",
   "metadata": {
    "pycharm": {
     "name": "#%% md\n"
    }
   },
   "source": [
    "Возмутительно:"
   ]
  },
  {
   "cell_type": "code",
   "execution_count": 6,
   "metadata": {
    "pycharm": {
     "name": "#%%\n"
    }
   },
   "outputs": [],
   "source": [
    "def nan_columns(df):\n",
    "    return [x for x in df.columns if np.any(pd.isna(df[x]).values)]"
   ]
  },
  {
   "cell_type": "markdown",
   "metadata": {
    "pycharm": {
     "name": "#%% md\n"
    }
   },
   "source": [
    "#### class_distribution"
   ]
  },
  {
   "cell_type": "markdown",
   "metadata": {
    "pycharm": {
     "name": "#%% md\n"
    }
   },
   "source": [
    "value_counts -> для одной колонки\n",
    "\n",
    "groupby + size -> для нескольких"
   ]
  },
  {
   "cell_type": "code",
   "execution_count": 7,
   "metadata": {
    "pycharm": {
     "name": "#%%\n"
    }
   },
   "outputs": [],
   "source": [
    "def class_distribution(df):\n",
    "    return df['Pclass'].value_counts(normalize=True).sort_index()"
   ]
  },
  {
   "cell_type": "markdown",
   "metadata": {
    "pycharm": {
     "name": "#%% md\n"
    }
   },
   "source": [
    "Нормально:"
   ]
  },
  {
   "cell_type": "code",
   "execution_count": null,
   "metadata": {
    "pycharm": {
     "name": "#%%\n"
    }
   },
   "outputs": [],
   "source": [
    "def class_distribution(df: tp.Any) -> tp.Any:\n",
    "    return df['Pclass'].value_counts(ascending=True) / df['Pclass'].count()"
   ]
  },
  {
   "cell_type": "markdown",
   "metadata": {
    "pycharm": {
     "name": "#%% md\n"
    }
   },
   "source": [
    "Плохо:"
   ]
  },
  {
   "cell_type": "code",
   "execution_count": null,
   "metadata": {
    "pycharm": {
     "name": "#%%\n"
    }
   },
   "outputs": [],
   "source": [
    "def class_distribution(df: tp.Any) -> tp.Any:\n",
    "    A = df[\"Pclass\"].value_counts() / 156\n",
    "    return A.sort_index()"
   ]
  },
  {
   "cell_type": "markdown",
   "metadata": {
    "pycharm": {
     "name": "#%% md\n"
    }
   },
   "source": [
    "#### families_count"
   ]
  },
  {
   "cell_type": "markdown",
   "metadata": {
    "pycharm": {
     "name": "#%% md\n"
    }
   },
   "source": [
    "split можно делать методами pandas\n",
    "\n",
    "Хорошо:"
   ]
  },
  {
   "cell_type": "code",
   "execution_count": 134,
   "metadata": {
    "pycharm": {
     "name": "#%%\n"
    }
   },
   "outputs": [],
   "source": [
    "def families_count(df, k):\n",
    "    members = df[\"Name\"].str.split(\",\").str[0].value_counts()\n",
    "    return members[members > k].shape[0]"
   ]
  },
  {
   "cell_type": "code",
   "execution_count": 130,
   "metadata": {
    "pycharm": {
     "name": "#%%\n"
    }
   },
   "outputs": [],
   "source": [
    "def families_count(df: tp.Any, k: int) -> float:\n",
    "    return (df.groupby(df[\"Name\"].str.split(',', 1).str[0])['Name'].count() > k).sum()"
   ]
  },
  {
   "cell_type": "markdown",
   "metadata": {
    "pycharm": {
     "name": "#%% md\n"
    }
   },
   "source": [
    "Плохо:"
   ]
  },
  {
   "cell_type": "code",
   "execution_count": null,
   "metadata": {
    "pycharm": {
     "name": "#%%\n"
    }
   },
   "outputs": [],
   "source": [
    "def families_count(df, k):\n",
    "    df.Name = df.Name.apply(lambda x: x.split(',')[0])\n",
    "    return len([i for i in df.groupby(df.Name).size().values if i > k])"
   ]
  },
  {
   "cell_type": "markdown",
   "metadata": {
    "pycharm": {
     "name": "#%% md\n"
    }
   },
   "source": [
    "#### max_size_group"
   ]
  },
  {
   "cell_type": "code",
   "execution_count": 138,
   "metadata": {
    "pycharm": {
     "name": "#%%\n"
    }
   },
   "outputs": [],
   "source": [
    "def max_size_group(df: tp.Any, columns: tp.Any) -> tp.Any:\n",
    "    return df.groupby(columns).size().idxmax()"
   ]
  },
  {
   "cell_type": "code",
   "execution_count": 145,
   "metadata": {
    "pycharm": {
     "name": "#%%\n"
    }
   },
   "outputs": [],
   "source": [
    "def max_size_group(df, columns):\n",
    "    return df.groupby(columns)['PassengerId'].count().idxmax()"
   ]
  },
  {
   "cell_type": "markdown",
   "source": [],
   "metadata": {
    "collapsed": false,
    "pycharm": {
     "name": "#%% md\n"
    }
   }
  },
  {
   "cell_type": "markdown",
   "metadata": {
    "pycharm": {
     "name": "#%% md\n"
    }
   },
   "source": [
    "#### lucky_dead"
   ]
  },
  {
   "cell_type": "markdown",
   "metadata": {
    "pycharm": {
     "name": "#%% md\n"
    }
   },
   "source": [
    "Нормально:"
   ]
  },
  {
   "cell_type": "code",
   "execution_count": 159,
   "metadata": {
    "pycharm": {
     "name": "#%%\n"
    }
   },
   "outputs": [],
   "source": [
    "def sum_of_digits(number: str) -> int:\n",
    "    return sum(map(int, number))\n",
    "               \n",
    "def is_lucky(ticket: str) -> bool:\n",
    "    if ticket.isdecimal() and (len(ticket) % 2 == 0) and \\\n",
    "            sum_of_digits(ticket[:len(ticket) // 2]) == \\\n",
    "            sum_of_digits(ticket[len(ticket) // 2:]):\n",
    "        return True\n",
    "    return False\n",
    "\n",
    "def dead_lucky(df: tp.Any) -> float:\n",
    "    lucky = df[df[\"Ticket\"].apply(is_lucky)][\"Survived\"]\n",
    "    return lucky.value_counts(normalize=True)[0]"
   ]
  },
  {
   "cell_type": "markdown",
   "metadata": {
    "pycharm": {
     "name": "#%% md\n"
    }
   },
   "source": [
    "Плохо:"
   ]
  },
  {
   "cell_type": "code",
   "execution_count": 160,
   "metadata": {
    "pycharm": {
     "name": "#%%\n"
    }
   },
   "outputs": [],
   "source": [
    "def dead_lucky(df: tp.Any) -> float:\n",
    "    def is_lucky(t: tp.Any) -> int:\n",
    "        try:\n",
    "            t = int(t)\n",
    "        except Exception:\n",
    "            return 0\n",
    "        t = str(t)\n",
    "        if len(t) % 2 != 0:\n",
    "            return 0\n",
    "        ans = 0\n",
    "        for i, c in enumerate(t):\n",
    "            if i < len(t) / 2:\n",
    "                ans += int(c)\n",
    "            else:\n",
    "                ans -= int(c)\n",
    "        return int(ans == 0)\n",
    "    df['Ticket'] = df['Ticket'].apply(is_lucky)\n",
    "    df = df[df['Ticket'] == 1]\n",
    "    df = df.groupby('Survived').size()\n",
    "    df = df / df.sum()\n",
    "    return df[0]"
   ]
  },
  {
   "cell_type": "markdown",
   "metadata": {
    "pycharm": {
     "name": "#%% md\n"
    }
   },
   "source": [
    "Не нужно делать копию и модифицировать датафрейм без необходимости:"
   ]
  },
  {
   "cell_type": "code",
   "execution_count": null,
   "metadata": {
    "pycharm": {
     "name": "#%%\n"
    }
   },
   "outputs": [],
   "source": [
    "def dead_lucky(df: tp.Any) -> float:\n",
    "    df[\"is_lucky\"] = df[\"Ticket\"].apply(is_lucky)\n",
    "    return 1 - df[df[\"is_lucky\"]][\"Survived\"].mean()"
   ]
  },
  {
   "cell_type": "code",
   "execution_count": null,
   "metadata": {
    "pycharm": {
     "name": "#%%\n"
    }
   },
   "outputs": [],
   "source": [
    "def dead_lucky(df: tp.Any) -> float:\n",
    "    df_new = df.copy()\n",
    "    df_new[\"is_lucky\"] = df[\"Ticket\"].apply(is_lucky)\n",
    "    return 1 - df_new[df_new[\"is_lucky\"]][\"Survived\"].mean()"
   ]
  },
  {
   "cell_type": "markdown",
   "metadata": {
    "pycharm": {
     "name": "#%% md\n"
    }
   },
   "source": [
    "Лучше создать локальную переменную"
   ]
  },
  {
   "cell_type": "code",
   "execution_count": null,
   "metadata": {
    "pycharm": {
     "name": "#%%\n"
    }
   },
   "outputs": [],
   "source": [
    "def dead_lucky(df: tp.Any) -> float:\n",
    "    is_lucky = df[\"Ticket\"].apply(is_lucky)\n",
    "    return 1 - df[is_lucky][\"Survived\"].mean()"
   ]
  },
  {
   "cell_type": "markdown",
   "metadata": {
    "pycharm": {
     "name": "#%% md\n"
    }
   },
   "source": [
    "Если датафрейм маленький, лучше в начале сделать копию (df.copy()) и спокойно работать, не изменяя исходного датафрейма"
   ]
  },
  {
   "cell_type": "code",
   "execution_count": 161,
   "metadata": {
    "pycharm": {
     "name": "#%%\n"
    }
   },
   "outputs": [
    {
     "data": {
      "text/html": [
       "<div>\n",
       "<style scoped>\n",
       "    .dataframe tbody tr th:only-of-type {\n",
       "        vertical-align: middle;\n",
       "    }\n",
       "\n",
       "    .dataframe tbody tr th {\n",
       "        vertical-align: top;\n",
       "    }\n",
       "\n",
       "    .dataframe thead th {\n",
       "        text-align: right;\n",
       "    }\n",
       "</style>\n",
       "<table border=\"1\" class=\"dataframe\">\n",
       "  <thead>\n",
       "    <tr style=\"text-align: right;\">\n",
       "      <th></th>\n",
       "      <th>A</th>\n",
       "      <th>B</th>\n",
       "      <th>C</th>\n",
       "    </tr>\n",
       "  </thead>\n",
       "  <tbody>\n",
       "    <tr>\n",
       "      <th>0</th>\n",
       "      <td>1</td>\n",
       "      <td>2</td>\n",
       "      <td>3</td>\n",
       "    </tr>\n",
       "    <tr>\n",
       "      <th>1</th>\n",
       "      <td>4</td>\n",
       "      <td>5</td>\n",
       "      <td>6</td>\n",
       "    </tr>\n",
       "  </tbody>\n",
       "</table>\n",
       "</div>"
      ],
      "text/plain": [
       "   A  B  C\n",
       "0  1  2  3\n",
       "1  4  5  6"
      ]
     },
     "metadata": {},
     "output_type": "display_data"
    },
    {
     "data": {
      "text/html": [
       "<div>\n",
       "<style scoped>\n",
       "    .dataframe tbody tr th:only-of-type {\n",
       "        vertical-align: middle;\n",
       "    }\n",
       "\n",
       "    .dataframe tbody tr th {\n",
       "        vertical-align: top;\n",
       "    }\n",
       "\n",
       "    .dataframe thead th {\n",
       "        text-align: right;\n",
       "    }\n",
       "</style>\n",
       "<table border=\"1\" class=\"dataframe\">\n",
       "  <thead>\n",
       "    <tr style=\"text-align: right;\">\n",
       "      <th></th>\n",
       "      <th>A</th>\n",
       "      <th>B</th>\n",
       "      <th>C</th>\n",
       "    </tr>\n",
       "  </thead>\n",
       "  <tbody>\n",
       "    <tr>\n",
       "      <th>0</th>\n",
       "      <td>123</td>\n",
       "      <td>2</td>\n",
       "      <td>3</td>\n",
       "    </tr>\n",
       "    <tr>\n",
       "      <th>1</th>\n",
       "      <td>123</td>\n",
       "      <td>5</td>\n",
       "      <td>6</td>\n",
       "    </tr>\n",
       "  </tbody>\n",
       "</table>\n",
       "</div>"
      ],
      "text/plain": [
       "     A  B  C\n",
       "0  123  2  3\n",
       "1  123  5  6"
      ]
     },
     "metadata": {},
     "output_type": "display_data"
    }
   ],
   "source": [
    "df = pd.DataFrame([[1,2,3], [4,5,6]], columns=[\"A\", \"B\", \"C\"])\n",
    "\n",
    "def func_copy(df):\n",
    "    df = df.copy()\n",
    "    df[\"A\"] = 123\n",
    "\n",
    "func_copy(df)\n",
    "display(df)\n",
    "\n",
    "def func(df):\n",
    "    df = pd.DataFrame(df)\n",
    "    df[\"A\"] = 123\n",
    "\n",
    "func(df)\n",
    "display(df)"
   ]
  },
  {
   "cell_type": "code",
   "execution_count": null,
   "metadata": {
    "pycharm": {
     "name": "#%%\n"
    }
   },
   "outputs": [],
   "source": []
  }
 ],
 "metadata": {
  "kernelspec": {
   "display_name": "Python 3",
   "language": "python",
   "name": "python3"
  },
  "language_info": {
   "codemirror_mode": {
    "name": "ipython",
    "version": 3
   },
   "file_extension": ".py",
   "mimetype": "text/x-python",
   "name": "python",
   "nbconvert_exporter": "python",
   "pygments_lexer": "ipython3",
   "version": "3.7.3"
  }
 },
 "nbformat": 4,
 "nbformat_minor": 2
}