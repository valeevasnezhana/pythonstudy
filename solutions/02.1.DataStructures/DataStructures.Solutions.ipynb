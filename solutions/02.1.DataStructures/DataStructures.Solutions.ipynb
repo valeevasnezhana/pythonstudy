{
 "cells": [
  {
   "cell_type": "markdown",
   "id": "47e5c221",
   "metadata": {
    "slideshow": {
     "slide_type": "slide"
    },
    "pycharm": {
     "name": "#%% md\n"
    }
   },
   "source": [
    "<center>\n",
    "<img src=\"https://upload.wikimedia.org/wikipedia/commons/a/a8/%D0%9B%D0%9E%D0%93%D0%9E_%D0%A8%D0%90%D0%94.png\" width=400/>\n",
    "        <br/>\n",
    "    <b style=\"font-size: 30px\">Разбор задач. 02.1.DataStructures</b>\n",
    "    <br/>\n",
    "    <br/>\n",
    "    <br/>\n",
    "<b style=\"font-size: 20px\">Илария Белова</b>\n",
    "</center>"
   ]
  },
  {
   "cell_type": "markdown",
   "id": "29021ffd",
   "metadata": {
    "slideshow": {
     "slide_type": "slide"
    },
    "pycharm": {
     "name": "#%% md\n"
    }
   },
   "source": [
    "### 1. reverse_dict  → etalon (1/7)"
   ]
  },
  {
   "cell_type": "code",
   "execution_count": 5,
   "id": "1dca1f7b",
   "metadata": {
    "pycharm": {
     "name": "#%%\n"
    }
   },
   "outputs": [],
   "source": [
    "import typing as tp\n",
    "\n",
    "from collections import defaultdict\n",
    "\n",
    "\n",
    "def revert(dct: tp.Mapping[str, str]) -> dict[str, list[str]]:\n",
    "    \"\"\"\n",
    "    :param dct: dictionary to revert in format {key: value}\n",
    "    :return: reverted dictionary {value: [key1, key2, key3]}\n",
    "    \"\"\"\n",
    "\n",
    "    new_dct: dict[str, list[str]] = defaultdict(list)\n",
    "\n",
    "    for key, value in dct.items():\n",
    "        new_dct[value].append(key)\n",
    "\n",
    "    return new_dct"
   ]
  },
  {
   "cell_type": "markdown",
   "id": "24b91212",
   "metadata": {
    "slideshow": {
     "font": "monospace",
     "slide_type": "slide"
    },
    "pycharm": {
     "name": "#%% md\n"
    }
   },
   "source": [
    "### 1. reverse_dict  → Сложение списков (2/7)"
   ]
  },
  {
   "cell_type": "code",
   "execution_count": 28,
   "id": "0a9151a7",
   "metadata": {
    "cell_style": "split",
    "collapsed": true,
    "pycharm": {
     "name": "#%%\n"
    }
   },
   "outputs": [
    {
     "name": "stdout",
     "output_type": "stream",
     "text": [
      "158 ms ± 960 µs per loop (mean ± std. dev. of 7 runs, 10 loops each)\n"
     ]
    }
   ],
   "source": [
    "def revert(dct: tp.Mapping[str, str]) -> dict[str, list[str]]:\n",
    "    res: dict[str, list[str]] = {}\n",
    "    for k, v in dct.items():\n",
    "        if v in res:\n",
    "            res[v] += [k]\n",
    "        else:\n",
    "            res[v] = [k]\n",
    "    return res\n",
    "\n",
    "a = {str(i): \"1\" for i in range(1005000)}\n",
    "%timeit revert(a)"
   ]
  },
  {
   "cell_type": "code",
   "execution_count": 29,
   "id": "201d736d",
   "metadata": {
    "cell_style": "split",
    "collapsed": true,
    "pycharm": {
     "name": "#%%\n"
    }
   },
   "outputs": [
    {
     "name": "stdout",
     "output_type": "stream",
     "text": [
      "111 ms ± 578 µs per loop (mean ± std. dev. of 7 runs, 10 loops each)\n"
     ]
    }
   ],
   "source": [
    "def revert(dct: tp.Mapping[str, str]) -> dict[str, list[str]]:\n",
    "    res: dict[str, list[str]] = {}\n",
    "    for k, v in dct.items():\n",
    "        if v in res:\n",
    "            res[v].append(k)\n",
    "        else:\n",
    "            res[v] = [k]\n",
    "    return res\n",
    "\n",
    "a = {str(i): \"1\" for i in range(1005000)}\n",
    "%timeit revert(a)"
   ]
  },
  {
   "cell_type": "markdown",
   "id": "81334fb0",
   "metadata": {
    "slideshow": {
     "slide_type": "slide"
    },
    "pycharm": {
     "name": "#%% md\n"
    }
   },
   "source": [
    "### 1. reverse_dict  → Каст к дикту? (3/7)"
   ]
  },
  {
   "cell_type": "code",
   "execution_count": 32,
   "id": "a31c82fa",
   "metadata": {
    "cell_style": "split",
    "collapsed": true,
    "pycharm": {
     "name": "#%%\n"
    }
   },
   "outputs": [
    {
     "name": "stdout",
     "output_type": "stream",
     "text": [
      "94.5 ms ± 920 µs per loop (mean ± std. dev. of 7 runs, 10 loops each)\n"
     ]
    }
   ],
   "source": [
    "def revert(dct: tp.Mapping[str, str]) -> dict[str, list[str]]:\n",
    "    result: dict[str, list[str]] = defaultdict(list[str])\n",
    "    for key, value in dct.items():\n",
    "        result[value].append(key)\n",
    "    return dict(result)\n",
    "\n",
    "a = {str(i): \"1\" for i in range(1005000)}\n",
    "%timeit revert(a)"
   ]
  },
  {
   "cell_type": "code",
   "execution_count": 33,
   "id": "6ae44a43",
   "metadata": {
    "cell_style": "split",
    "collapsed": true,
    "pycharm": {
     "name": "#%%\n"
    }
   },
   "outputs": [
    {
     "name": "stdout",
     "output_type": "stream",
     "text": [
      "95.5 ms ± 2.83 ms per loop (mean ± std. dev. of 7 runs, 10 loops each)\n"
     ]
    }
   ],
   "source": [
    "def revert(dct: tp.Mapping[str, str]) -> dict[str, list[str]]:\n",
    "    result: dict[str, list[str]] = defaultdict(list[str])\n",
    "    for key, value in dct.items():\n",
    "        result[value].append(key)\n",
    "    return result\n",
    "\n",
    "a = {str(i): \"1\" for i in range(1005000)}\n",
    "%timeit revert(a)"
   ]
  },
  {
   "cell_type": "markdown",
   "id": "5342bc78",
   "metadata": {
    "slideshow": {
     "slide_type": "slide"
    },
    "pycharm": {
     "name": "#%% md\n"
    }
   },
   "source": [
    "### 1. reverse_dict  → Найдите ошибку? (4/7)"
   ]
  },
  {
   "cell_type": "code",
   "execution_count": null,
   "id": "127fab31",
   "metadata": {
    "cell_style": "center",
    "pycharm": {
     "name": "#%%\n"
    }
   },
   "outputs": [],
   "source": [
    "def revert(dct: tp.Mapping[str, str]) -> dict[str, list[str]]:\n",
    "    result: dict[str, list[str]] = {}\n",
    "    for key, value in dct.items():\n",
    "        if value in result.keys():\n",
    "            result[value].append(key)\n",
    "        else:\n",
    "            result.update({value: list(key)})\n",
    "    return result"
   ]
  },
  {
   "cell_type": "markdown",
   "id": "0cb82e73",
   "metadata": {
    "slideshow": {
     "slide_type": "slide"
    },
    "pycharm": {
     "name": "#%% md\n"
    }
   },
   "source": [
    "### 1. reverse_dict  → Альтернативный setdefault (5/7)"
   ]
  },
  {
   "cell_type": "code",
   "execution_count": 55,
   "id": "18949f7b",
   "metadata": {
    "cell_style": "split",
    "pycharm": {
     "name": "#%%\n"
    }
   },
   "outputs": [
    {
     "name": "stdout",
     "output_type": "stream",
     "text": [
      "161 ms ± 1.88 ms per loop (mean ± std. dev. of 7 runs, 10 loops each)\n"
     ]
    }
   ],
   "source": [
    "def revert(dct: tp.Mapping[str, str]) -> tp.Dict[str, tp.List[str]]:\n",
    "    res: tp.Dict[str, tp.List[str]] = dict()\n",
    "    for key, value in dct.items():\n",
    "        res.setdefault(value, [])\n",
    "        res[value].append(key)\n",
    "\n",
    "    return res\n",
    "\n",
    "a = {str(i): \"1\" for i in range(1005000)}\n",
    "%timeit revert(a)"
   ]
  },
  {
   "cell_type": "code",
   "execution_count": 54,
   "id": "13ecc3f6",
   "metadata": {
    "cell_style": "split",
    "pycharm": {
     "name": "#%%\n"
    }
   },
   "outputs": [
    {
     "name": "stdout",
     "output_type": "stream",
     "text": [
      "140 ms ± 3.06 ms per loop (mean ± std. dev. of 7 runs, 10 loops each)\n"
     ]
    }
   ],
   "source": [
    "def revert(dct: tp.Mapping[str, str]) -> dict[str, list[str]]:\n",
    "    reverse_dict: dict[str, list[str]] = {}\n",
    "        \n",
    "    for key, value in dct.items():\n",
    "        reverse_dict.setdefault(value, []).append(key)\n",
    "\n",
    "    return reverse_dict\n",
    "\n",
    "a = {str(i): \"1\" for i in range(1005000)}\n",
    "%timeit revert(a)"
   ]
  },
  {
   "cell_type": "markdown",
   "id": "96a0f632",
   "metadata": {
    "slideshow": {
     "slide_type": "slide"
    },
    "pycharm": {
     "name": "#%% md\n"
    }
   },
   "source": [
    "### 1. reverse_dict  → Что замедляет? (6/7)"
   ]
  },
  {
   "cell_type": "code",
   "execution_count": 56,
   "id": "e7f8a6a9",
   "metadata": {
    "cell_style": "split",
    "pycharm": {
     "name": "#%%\n"
    }
   },
   "outputs": [
    {
     "name": "stdout",
     "output_type": "stream",
     "text": [
      "274 ms ± 8.01 ms per loop (mean ± std. dev. of 7 runs, 1 loop each)\n"
     ]
    }
   ],
   "source": [
    "def revert(dct: tp.Mapping[str, str]) -> dict[str, list[str]]:\n",
    "    res_dict = defaultdict(lambda: [])\n",
    "    for key, value in dct.items():\n",
    "        if type(value) in [list, tuple]:\n",
    "            for elem in value:\n",
    "                res_dict[elem].append(key)\n",
    "        else:\n",
    "            res_dict[value].append(key)\n",
    "    return dict(res_dict)\n",
    "\n",
    "\n",
    "a = {str(i): \"1\" for i in range(1005000)}\n",
    "%timeit revert(a)\n"
   ]
  },
  {
   "cell_type": "code",
   "execution_count": 57,
   "id": "963d2ba3",
   "metadata": {
    "cell_style": "split",
    "pycharm": {
     "name": "#%%\n"
    }
   },
   "outputs": [
    {
     "name": "stdout",
     "output_type": "stream",
     "text": [
      "94 ms ± 2.07 ms per loop (mean ± std. dev. of 7 runs, 10 loops each)\n"
     ]
    }
   ],
   "source": [
    "def revert(dct: tp.Mapping[str, str]) -> dict[str, list[str]]:\n",
    "    res_dict = defaultdict(lambda: [])\n",
    "    for key, value in dct.items():\n",
    "        res_dict[value].append(key)\n",
    "    return dict(res_dict)\n",
    "\n",
    "\n",
    "a = {str(i): \"1\" for i in range(1005000)}\n",
    "%timeit revert(a)"
   ]
  },
  {
   "cell_type": "markdown",
   "id": "2ea03db4",
   "metadata": {
    "slideshow": {
     "slide_type": "slide"
    },
    "pycharm": {
     "name": "#%% md\n"
    }
   },
   "source": [
    "### 1. reverse_dict  → Усложненный код (7/7)"
   ]
  },
  {
   "cell_type": "code",
   "execution_count": null,
   "id": "339927f0",
   "metadata": {
    "cell_style": "split",
    "pycharm": {
     "name": "#%%\n"
    }
   },
   "outputs": [],
   "source": [
    "def revert(dct: tp.Mapping[str, str]) -> dict[str, list[str]]:\n",
    "    d: dict[tp.Any, list[tp.Any]] = cll.defaultdict(list)\n",
    "    for k, v in dct.items():\n",
    "        temp: list[tp.Any] = d[v]\n",
    "        temp.append(k)\n",
    "        d[v] = temp\n",
    "    return dict(d)"
   ]
  },
  {
   "cell_type": "code",
   "execution_count": null,
   "id": "c681b738",
   "metadata": {
    "cell_style": "split",
    "pycharm": {
     "name": "#%%\n"
    }
   },
   "outputs": [],
   "source": [
    "def revert(dct: tp.Mapping[str, str]) -> dict[str, list[str]]:\n",
    "    if not dct:\n",
    "        return {}\n",
    "    dct_items = list(dct.items())\n",
    "    result: tp.Dict[tp.Any, list[tp.Any]] = {}\n",
    "    for el in dct_items:\n",
    "        if el[1] in result:\n",
    "            result[el[1]].append(el[0])\n",
    "        else:\n",
    "            result[el[1]] = [el[0]]\n",
    "    return result\n"
   ]
  },
  {
   "cell_type": "markdown",
   "id": "676c8b9b",
   "metadata": {
    "slideshow": {
     "slide_type": "slide"
    },
    "pycharm": {
     "name": "#%% md\n"
    }
   },
   "source": [
    "### 2. min_to_drop  → etalon (1/4)"
   ]
  },
  {
   "cell_type": "code",
   "execution_count": 71,
   "id": "309078ab",
   "metadata": {
    "pycharm": {
     "name": "#%%\n"
    }
   },
   "outputs": [],
   "source": [
    "import typing as tp\n",
    "\n",
    "from collections import Counter\n",
    "\n",
    "\n",
    "def get_min_to_drop(seq: tp.Sequence[tp.Any]) -> int:\n",
    "    \"\"\"\n",
    "    :param seq: sequence of elements\n",
    "    :return: number of elements need to drop to leave equal elements\n",
    "    \"\"\"\n",
    "    return len(seq) - max(Counter(seq).values(), default=0)"
   ]
  },
  {
   "cell_type": "markdown",
   "id": "a1d82168",
   "metadata": {
    "slideshow": {
     "slide_type": "slide"
    },
    "pycharm": {
     "name": "#%% md\n"
    }
   },
   "source": [
    "### 2. min_to_drop  → Поищем ошибки (2/4)"
   ]
  },
  {
   "cell_type": "code",
   "execution_count": 77,
   "id": "f048c9a3",
   "metadata": {
    "cell_style": "split",
    "pycharm": {
     "name": "#%%\n"
    }
   },
   "outputs": [],
   "source": [
    "def get_min_to_drop(seq: tp.Sequence[tp.Any]) -> int:\n",
    "    if len(seq) == 0:\n",
    "        return 0\n",
    "    cnt = dict(Counter(seq))\n",
    "    return len(seq) - list(cnt.values())[0]"
   ]
  },
  {
   "cell_type": "code",
   "execution_count": null,
   "id": "b7304961",
   "metadata": {
    "cell_style": "split",
    "pycharm": {
     "name": "#%%\n"
    }
   },
   "outputs": [],
   "source": [
    "get_min_to_drop([1, 1, 1, 2, 2, 2, 2])"
   ]
  },
  {
   "cell_type": "code",
   "execution_count": 76,
   "id": "166084fb",
   "metadata": {
    "cell_style": "split",
    "collapsed": true,
    "pycharm": {
     "name": "#%%\n"
    }
   },
   "outputs": [
    {
     "data": {
      "text/plain": [
       "True"
      ]
     },
     "execution_count": 76,
     "metadata": {},
     "output_type": "execute_result"
    }
   ],
   "source": [
    "issubclass(Counter, dict)"
   ]
  },
  {
   "cell_type": "markdown",
   "id": "e6b77fc3",
   "metadata": {
    "slideshow": {
     "slide_type": "slide"
    },
    "pycharm": {
     "name": "#%% md\n"
    }
   },
   "source": [
    "### 2. min_to_drop  → Counter как словарь (3/4)"
   ]
  },
  {
   "cell_type": "code",
   "execution_count": null,
   "id": "e7194d7d",
   "metadata": {
    "pycharm": {
     "name": "#%%\n"
    }
   },
   "outputs": [],
   "source": [
    "def get_min_to_drop(seq: tp.Sequence[tp.Any]) -> int:\n",
    "    if len(seq) == 0:\n",
    "        return 0\n",
    "    cnt: dict[tp.Any, int] = Counter()\n",
    "    for el in seq:\n",
    "        cnt[el] += 1\n",
    "    return len(seq) - max(cnt.values())"
   ]
  },
  {
   "cell_type": "markdown",
   "id": "c37cfcd1",
   "metadata": {
    "slideshow": {
     "slide_type": "slide"
    },
    "pycharm": {
     "name": "#%% md\n"
    }
   },
   "source": [
    "### 2. min_to_drop  → <a href=\"https://github.com/python/cpython/blob/3.9/Lib/collections/__init__.py#L600\">most_common</a> (4/4)\n"
   ]
  },
  {
   "cell_type": "code",
   "execution_count": 92,
   "id": "4dedfe7c",
   "metadata": {
    "pycharm": {
     "name": "#%%\n"
    }
   },
   "outputs": [
    {
     "data": {
      "text/plain": [
       "[('c', 5), ('a', 4), ('b', 4)]"
      ]
     },
     "execution_count": 92,
     "metadata": {},
     "output_type": "execute_result"
    }
   ],
   "source": [
    "Counter(\"aaaabbbbccccc\").most_common()"
   ]
  },
  {
   "cell_type": "code",
   "execution_count": 85,
   "id": "f69a7b5c",
   "metadata": {
    "cell_style": "split",
    "pycharm": {
     "name": "#%%\n"
    }
   },
   "outputs": [
    {
     "name": "stdout",
     "output_type": "stream",
     "text": [
      "147 ms ± 2.51 ms per loop (mean ± std. dev. of 7 runs, 10 loops each)\n"
     ]
    }
   ],
   "source": [
    "def get_min_to_drop(seq: tp.Sequence[tp.Any]) -> int:\n",
    "    if len(seq) == 0:\n",
    "        return 0\n",
    "\n",
    "    return len(seq) - Counter(seq).most_common(1)[0][1]\n",
    "\n",
    "%timeit get_min_to_drop(range(1005000))"
   ]
  },
  {
   "cell_type": "code",
   "execution_count": 87,
   "id": "5ac5fc89",
   "metadata": {
    "cell_style": "split",
    "pycharm": {
     "name": "#%%\n"
    }
   },
   "outputs": [
    {
     "name": "stdout",
     "output_type": "stream",
     "text": [
      "220 ms ± 3.94 ms per loop (mean ± std. dev. of 7 runs, 1 loop each)\n"
     ]
    }
   ],
   "source": [
    "def get_min_to_drop(seq: tp.Sequence[tp.Any]) -> int:\n",
    "    if not seq:\n",
    "        return 0\n",
    "\n",
    "    return len(seq) - Counter(seq).most_common()[0][1]\n",
    "\n",
    "%timeit get_min_to_drop(range(1005000))"
   ]
  },
  {
   "cell_type": "markdown",
   "id": "6c6529b2",
   "metadata": {
    "slideshow": {
     "slide_type": "slide"
    },
    "pycharm": {
     "name": "#%% md\n"
    }
   },
   "source": [
    "### 3. comprehensions  → Лишний конструктор (1/3)"
   ]
  },
  {
   "cell_type": "code",
   "execution_count": null,
   "id": "d3d533d0",
   "metadata": {
    "cell_style": "split",
    "pycharm": {
     "name": "#%%\n"
    }
   },
   "outputs": [],
   "source": [
    "def get_unique_page_ids(records):\n",
    "    return set({event['PageID'] for event in records})"
   ]
  },
  {
   "cell_type": "code",
   "execution_count": null,
   "id": "0cd1665f",
   "metadata": {
    "cell_style": "split",
    "pycharm": {
     "name": "#%%\n"
    }
   },
   "outputs": [],
   "source": [
    "def get_unique_page_ids(records):\n",
    "    return {event['PageID'] for event in records}"
   ]
  },
  {
   "cell_type": "markdown",
   "id": "eb0bf488",
   "metadata": {
    "slideshow": {
     "slide_type": "slide"
    },
    "pycharm": {
     "name": "#%% md\n"
    }
   },
   "source": [
    "### 3. comprehensions  → Лишняя индексация (2/3)"
   ]
  },
  {
   "cell_type": "code",
   "execution_count": null,
   "id": "a51e6c1d",
   "metadata": {
    "cell_style": "split",
    "pycharm": {
     "name": "#%%\n"
    }
   },
   "outputs": [],
   "source": [
    "def get_unique_page_ids(records):\n",
    "    ans = {records[i][\"PageID\"] for i in range(len(records))}\n",
    "    return ans"
   ]
  },
  {
   "cell_type": "code",
   "execution_count": null,
   "id": "758f61e8",
   "metadata": {
    "cell_style": "split",
    "pycharm": {
     "name": "#%%\n"
    }
   },
   "outputs": [],
   "source": [
    "def get_unique_page_ids(records):\n",
    "    return {event['PageID'] for event in records}"
   ]
  },
  {
   "cell_type": "markdown",
   "id": "1f969a8f",
   "metadata": {
    "slideshow": {
     "slide_type": "slide"
    },
    "pycharm": {
     "name": "#%% md\n"
    }
   },
   "source": [
    "### 3. comprehensions  → Есть не только items (3/3)"
   ]
  },
  {
   "cell_type": "code",
   "execution_count": null,
   "id": "51f51ebb",
   "metadata": {
    "cell_style": "split",
    "pycharm": {
     "name": "#%%\n"
    }
   },
   "outputs": [],
   "source": [
    "def get_keys_if_key_in_keys(r, keys):\n",
    "    return {k for k, _ in r.items() if k in keys}"
   ]
  },
  {
   "cell_type": "code",
   "execution_count": null,
   "id": "ed787642",
   "metadata": {
    "cell_style": "split",
    "pycharm": {
     "name": "#%%\n"
    }
   },
   "outputs": [],
   "source": [
    "def get_keys_if_key_in_keys(r, keys):\n",
    "    return {k for k in r if k in keys}"
   ]
  },
  {
   "cell_type": "markdown",
   "id": "c83ec8e5",
   "metadata": {
    "slideshow": {
     "slide_type": "slide"
    },
    "pycharm": {
     "name": "#%% md\n"
    }
   },
   "source": [
    "### 4. traverse_dictionary →  etalon 1 (1/5)"
   ]
  },
  {
   "cell_type": "code",
   "execution_count": null,
   "id": "fd3f6f6a",
   "metadata": {
    "slideshow": {
     "slide_type": "-"
    },
    "pycharm": {
     "name": "#%%\n"
    }
   },
   "outputs": [],
   "source": [
    "import typing as tp\n",
    "\n",
    "\n",
    "def traverse_dictionary_immutable(\n",
    "        dct: tp.Mapping[str, tp.Any],\n",
    "        prefix: str = \"\") -> list[tuple[str, int]]:\n",
    "    \"\"\"\n",
    "    :param dct: dictionary of undefined depth with integers or other dicts as leaves with same properties\n",
    "    :param prefix: basic prefix for key\n",
    "    :return: list with pairs: (full key from root to leaf joined by \".\", value)\n",
    "    \"\"\"\n",
    "    result: list[tuple[str, int]] = []\n",
    "\n",
    "    for key, value in dct.items():\n",
    "        full_key = f'{prefix}.{key}' if prefix else key\n",
    "        if type(value) == dict:\n",
    "            result += traverse_dictionary_immutable(value, full_key)\n",
    "        else:\n",
    "            result.append((full_key, value))\n",
    "\n",
    "    return result\n"
   ]
  },
  {
   "cell_type": "markdown",
   "id": "448931b1",
   "metadata": {
    "slideshow": {
     "slide_type": "slide"
    },
    "pycharm": {
     "name": "#%% md\n"
    }
   },
   "source": [
    "### 4. traverse_dictionary →  etalon 2 (2/5)"
   ]
  },
  {
   "cell_type": "code",
   "execution_count": null,
   "id": "44a0705d",
   "metadata": {
    "slideshow": {
     "slide_type": "-"
    },
    "pycharm": {
     "name": "#%%\n"
    }
   },
   "outputs": [],
   "source": [
    "def traverse_dictionary_mutable(\n",
    "        dct: tp.Mapping[str, tp.Any],\n",
    "        result: list[tuple[str, int]],\n",
    "        prefix: str = \"\") -> None:\n",
    "    \"\"\"\n",
    "    :param dct: dictionary of undefined depth with integers or other dicts as leaves with same properties\n",
    "    :param result: list with pairs: (full key from root to leaf joined by \".\", value)\n",
    "    :param prefix: basic prefix for key\n",
    "    :return: None\n",
    "    \"\"\"\n",
    "    for key, value in dct.items():\n",
    "        full_key = f'{prefix}.{key}' if prefix else key\n",
    "        if isinstance(value, dict):\n",
    "            traverse_dictionary_mutable(value, result, full_key)\n",
    "        else:\n",
    "            result.append((full_key, value))"
   ]
  },
  {
   "cell_type": "markdown",
   "id": "4d94892f",
   "metadata": {
    "slideshow": {
     "slide_type": "slide"
    },
    "pycharm": {
     "name": "#%% md\n"
    }
   },
   "source": [
    "### 4. traverse_dictionary →  etalon 3 (3/5)"
   ]
  },
  {
   "cell_type": "code",
   "execution_count": null,
   "id": "2a9bc2d0",
   "metadata": {
    "slideshow": {
     "slide_type": "-"
    },
    "pycharm": {
     "name": "#%%\n"
    }
   },
   "outputs": [],
   "source": [
    "# Bfs version\n",
    "def traverse_dictionary_iterative(\n",
    "        dct: tp.Mapping[str, tp.Any]\n",
    "        ) -> list[tuple[str, int]]:\n",
    "    \"\"\"\n",
    "    :param dct: dictionary of undefined depth with integers or other dicts as leaves with same properties\n",
    "    :return: list with pairs: (full key from root to leaf joined by \".\", value)\n",
    "    \"\"\"\n",
    "    stack = [(dct, '')]\n",
    "    result = []\n",
    "\n",
    "    while stack:\n",
    "        dct, prefix = stack.pop()\n",
    "        for key, value in dct.items():\n",
    "            full_key = f'{prefix}.{key}' if prefix else key\n",
    "            if isinstance(value, dict):\n",
    "                stack.append((value, full_key))\n",
    "            else:\n",
    "                result.append((full_key, value))\n",
    "\n",
    "    return result"
   ]
  },
  {
   "cell_type": "markdown",
   "id": "547f09d2",
   "metadata": {
    "slideshow": {
     "slide_type": "slide"
    },
    "pycharm": {
     "name": "#%% md\n"
    }
   },
   "source": [
    "### 4. traverse_dictionary →  Потерянная ветка (4/5)"
   ]
  },
  {
   "cell_type": "code",
   "execution_count": null,
   "id": "7da7e222",
   "metadata": {
    "pycharm": {
     "name": "#%%\n"
    }
   },
   "outputs": [],
   "source": [
    "def traverse_dictionary_mutable(\n",
    "        dct: tp.Mapping[str, tp.Any],\n",
    "        result: list[tuple[str, int]],\n",
    "        prefix: str = \"\") -> None:\n",
    "\n",
    "    for key in dct:\n",
    "        value = dct[key]\n",
    "        if isinstance(value, int):\n",
    "            result.append((prefix + key, value))\n",
    "        elif isinstance(value, dict):\n",
    "            traverse_dictionary_mutable(value, result, prefix + key + '.')\n"
   ]
  },
  {
   "cell_type": "markdown",
   "id": "276b621f",
   "metadata": {
    "slideshow": {
     "slide_type": "slide"
    },
    "pycharm": {
     "name": "#%% md\n"
    }
   },
   "source": [
    "### 4. traverse_dictionary →  А почему бы и нет (5/5)"
   ]
  },
  {
   "cell_type": "code",
   "execution_count": null,
   "id": "8e042606",
   "metadata": {
    "pycharm": {
     "name": "#%%\n"
    }
   },
   "outputs": [],
   "source": [
    "def traverse_dictionary_immutable(\n",
    "        dct: tp.Mapping[str, tp.Any],\n",
    "        prefix: str = \"\") -> list[tuple[str, int]]:\n",
    "\n",
    "    result: tp.List[tp.Tuple[str, int]] = []\n",
    "    traverse_dictionary_mutable(dct, result)\n",
    "\n",
    "    return result"
   ]
  },
  {
   "cell_type": "markdown",
   "id": "aef90eda",
   "metadata": {
    "slideshow": {
     "slide_type": "slide"
    },
    "pycharm": {
     "name": "#%% md\n"
    }
   },
   "source": [
    "### 5. merge_lists_2 → etalon (1/3)"
   ]
  },
  {
   "cell_type": "code",
   "execution_count": null,
   "id": "b833882a",
   "metadata": {
    "pycharm": {
     "name": "#%%\n"
    }
   },
   "outputs": [],
   "source": [
    "import heapq\n",
    "import typing as tp\n",
    "\n",
    "\n",
    "def merge(seq: tp.Sequence[tp.Sequence[int]]) -> list[int]:\n",
    "    \"\"\"\n",
    "    :param seq: sequence of sorted sequences\n",
    "    :return: merged sorted list\n",
    "    \"\"\"\n",
    "    merged_list = []\n",
    "\n",
    "    heap: list[tuple[int, int, int]] = []\n",
    "\n",
    "    for i, subseq in enumerate(seq):\n",
    "        if subseq:\n",
    "            ind = 0\n",
    "            value = subseq[ind]\n",
    "            heapq.heappush(heap, (value, i, ind))\n",
    "\n",
    "    while heap:\n",
    "        value, i, ind = heapq.heappop(heap)\n",
    "        merged_list.append(value)\n",
    "        subseq = seq[i]\n",
    "\n",
    "        if ind != len(subseq) - 1:\n",
    "            ind += 1\n",
    "            new_value = subseq[ind]\n",
    "            heapq.heappush(heap, (new_value, i, ind))\n",
    "\n",
    "    return merged_list\n"
   ]
  },
  {
   "cell_type": "markdown",
   "id": "a3d2f531",
   "metadata": {
    "slideshow": {
     "slide_type": "slide"
    },
    "pycharm": {
     "name": "#%% md\n"
    }
   },
   "source": [
    "### 5. merge_lists_2 → Альтернатива heapq.merge (2/3)"
   ]
  },
  {
   "cell_type": "code",
   "execution_count": null,
   "id": "ad9c5aed",
   "metadata": {
    "pycharm": {
     "name": "#%%\n"
    }
   },
   "outputs": [],
   "source": [
    "import typing as tp\n",
    "import heapq\n",
    "\n",
    "\n",
    "def merge(seq: tp.Sequence[tp.Sequence[int]]) -> tp.List[int]:\n",
    "    \"\"\"\n",
    "    :param seq: sequence of sorted sequences\n",
    "    :return: merged sorted list\n",
    "    \"\"\"\n",
    "    return list(heapq.merge(*seq))"
   ]
  },
  {
   "cell_type": "markdown",
   "id": "e7a6484a",
   "metadata": {
    "slideshow": {
     "slide_type": "slide"
    },
    "pycharm": {
     "name": "#%% md\n"
    }
   },
   "source": [
    "### 5. merge_lists_2 → Потеря преимущества heapq (3/3)"
   ]
  },
  {
   "cell_type": "code",
   "execution_count": null,
   "id": "ef621c35",
   "metadata": {
    "pycharm": {
     "name": "#%%\n"
    }
   },
   "outputs": [],
   "source": [
    "def merge(seq: tp.Sequence[tp.Sequence[int]]) -> list[int]:\n",
    "    \"\"\"\n",
    "    :param seq: sequence of sorted sequences\n",
    "    :return: merged sorted list\n",
    "    \"\"\"\n",
    "    result = []\n",
    "    heap: tp.List[int] = []\n",
    "    for array in seq:\n",
    "        for element in array:\n",
    "            heapq.heappush(heap, element)\n",
    "\n",
    "    while heap:\n",
    "        result.append(heapq.heappop(heap))\n",
    "\n",
    "    return result"
   ]
  }
 ],
 "metadata": {
  "celltoolbar": "Slideshow",
  "kernelspec": {
   "display_name": "Python 3 (ipykernel)",
   "language": "python",
   "name": "python3"
  },
  "language_info": {
   "codemirror_mode": {
    "name": "ipython",
    "version": 3
   },
   "file_extension": ".py",
   "mimetype": "text/x-python",
   "name": "python",
   "nbconvert_exporter": "python",
   "pygments_lexer": "ipython3",
   "version": "3.9.7"
  },
  "livereveal": {
   "theme": "serif",
   "transition": "zoom"
  }
 },
 "nbformat": 4,
 "nbformat_minor": 5
}